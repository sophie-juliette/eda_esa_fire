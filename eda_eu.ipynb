{
 "cells": [
  {
   "cell_type": "code",
   "execution_count": null,
   "metadata": {},
   "outputs": [],
   "source": [
    "# EU \n",
    "# For One Ye"
   ]
  },
  {
   "cell_type": "markdown",
   "metadata": {},
   "source": [
    "Vorgehnsweise: \n",
    "Visualisierung in Pandas Darstellen \n",
    "Probe Dashboard mit plotly Dash erstellen \n",
    "Dashboar in Jupyter Book ein binden \n",
    "-> weiteren Grafiken umsetzen "
   ]
  },
  {
   "cell_type": "markdown",
   "metadata": {},
   "source": [
    "Ziele: \n",
    "Auswertung auf Basis EU \n",
    "\n",
    "Zeitlicher Verlauf gesamt\n",
    "Abfragen:\n",
    "    - Summe burned area pro Monat \n",
    "    - Fläche verbrannter Wälder insgesamt \n",
    "    - Liste besonders betroffener Länder \n",
    "\n",
    "Visualisierungen: \n",
    "    - Balken-Diagram: Summe burned area pro Monat \n",
    "    - Treemap: Verbrannte Fläche pro Vegetationstyp\n",
    "    - Weltkarte mit betroffener Länder (gefüllt): Farbe Burned Area\n",
    "    - DE-Karte: Bubles Größe (Burned area)\n"
   ]
  },
  {
   "cell_type": "code",
   "execution_count": 1,
   "metadata": {},
   "outputs": [],
   "source": [
    "from pymongo import MongoClient\n",
    "import pandas as pd\n",
    "import plotly.express as px"
   ]
  },
  {
   "cell_type": "code",
   "execution_count": null,
   "metadata": {},
   "outputs": [],
   "source": [
    "!\"C:\\Program Files\\MongoDB\\Server\\6.0\\bin\\mongod.exe\" --dbpath \"C:\\mongodb_data\""
   ]
  },
  {
   "cell_type": "code",
   "execution_count": 2,
   "metadata": {},
   "outputs": [
    {
     "name": "stdout",
     "output_type": "stream",
     "text": [
      "esa_fire\n"
     ]
    }
   ],
   "source": [
    "client = MongoClient()\n",
    "client = MongoClient('mongodb://localhost:27017/')\n",
    "mydb = client[\"esa_fire\"]\n",
    "mycol = mydb[\"esa_fire_2001\"]\n",
    "print(mydb.name)"
   ]
  },
  {
   "cell_type": "markdown",
   "metadata": {},
   "source": [
    "### Query 1: Flächen in Deutschland mit einer verbrannten Fläche größer als 1 km2"
   ]
  },
  {
   "cell_type": "code",
   "execution_count": null,
   "metadata": {},
   "outputs": [],
   "source": [
    "# Querys Mongo DB\n",
    "query2={\n",
    "     '$and': [\n",
    "            { 'country' : 'DE' },\n",
    "            { 'burned_area'    : { '$gt': 1000000 }}\n",
    "          ]\n",
    "}\n",
    "points =mycol.find(query2)\n",
    "print(\"Anzahl von Städten mit Bevölkerungsdichte größer als 2000 in BaWü: \",mycol.count_documents(query2))"
   ]
  },
  {
   "cell_type": "code",
   "execution_count": null,
   "metadata": {},
   "outputs": [],
   "source": [
    "import folium"
   ]
  },
  {
   "cell_type": "code",
   "execution_count": null,
   "metadata": {},
   "outputs": [],
   "source": [
    "m = folium.Map(location=[48.74388,9.10014],zoom_start=5)"
   ]
  },
  {
   "cell_type": "code",
   "execution_count": null,
   "metadata": {},
   "outputs": [],
   "source": [
    "for citie in points:\n",
    "    folium.Marker( location=[ citie['lat'], citie['lon'] ], fill_color='#43d9de', radius=8,tooltip=citie['date']).add_to(m)"
   ]
  },
  {
   "cell_type": "code",
   "execution_count": null,
   "metadata": {},
   "outputs": [],
   "source": [
    "#m"
   ]
  },
  {
   "cell_type": "markdown",
   "metadata": {},
   "source": [
    "### Query 2: Gruppierung der Flächen nach Datum"
   ]
  },
  {
   "cell_type": "code",
   "execution_count": null,
   "metadata": {},
   "outputs": [],
   "source": [
    "list_date = list ()\n",
    "agg_result= mycol.aggregate(\n",
    "    [{\n",
    "    \"$group\" : \n",
    "        {\"_id\" : \"$date\", \n",
    "         \"burned_area\" : {\"$sum\" : 1}\n",
    "         }\n",
    "    }])\n",
    "for i in agg_result:\n",
    "    list_date.append(i)\n",
    "list_date"
   ]
  },
  {
   "cell_type": "code",
   "execution_count": null,
   "metadata": {},
   "outputs": [],
   "source": [
    "import pandas as pd\n",
    "df_date = pd.DataFrame(list_date)"
   ]
  },
  {
   "cell_type": "code",
   "execution_count": null,
   "metadata": {},
   "outputs": [],
   "source": [
    "import plotly.express as px\n",
    "\n",
    "fig = px.bar(df_date, x=\"_id\", y=\"burned_area\", title='Life expectancy in Canada')\n",
    "fig.show()"
   ]
  },
  {
   "cell_type": "code",
   "execution_count": null,
   "metadata": {},
   "outputs": [],
   "source": [
    "list_date = list ()\n",
    "agg_result= mycol.aggregate(\n",
    "    [{\n",
    "    \"$group\" : \n",
    "        {\"_id\" : \"$country\", \n",
    "         \"burned_area\" : {\"$sum\" : 1}\n",
    "         }\n",
    "    }])\n",
    "for i in agg_result:\n",
    "    list_date.append(i)\n",
    "list_date"
   ]
  },
  {
   "cell_type": "code",
   "execution_count": null,
   "metadata": {},
   "outputs": [],
   "source": [
    "df_date = pd.DataFrame(list_date).sort_values(by=['burned_area'], ascending= False)\n",
    "df_date"
   ]
  },
  {
   "cell_type": "code",
   "execution_count": null,
   "metadata": {},
   "outputs": [],
   "source": [
    "fig = px.bar(df_date, x=\"_id\", y=\"burned_area\", title='Life expectancy in Canada')\n",
    "fig.show()"
   ]
  },
  {
   "cell_type": "markdown",
   "metadata": {},
   "source": [
    "## Verbrannte Fläche pro Vegetationstyp"
   ]
  },
  {
   "cell_type": "code",
   "execution_count": null,
   "metadata": {},
   "outputs": [],
   "source": [
    "# Summe der Verbranten Fläche ->  pro Vegetatoionstyp\n",
    "# Waterfall Diagramm"
   ]
  },
  {
   "cell_type": "code",
   "execution_count": null,
   "metadata": {},
   "outputs": [],
   "source": [
    "\n",
    "list_veg = list ()\n",
    "agg_result= mycol.aggregate([{ \"$group\":\n",
    "  { \"_id\" : None,  \n",
    "    \"burned_area\"  : { \"$sum\": \"$burned_area\" }, \n",
    "    \"no_data_burned_area\"  : { \"$sum\":\"$no_data_burned_area\" },\n",
    "    \"tree_cover_broadleaved_deciduous_burned_area\"  : { \"$sum\":\"$tree_cover_broadleaved_deciduous_burned_area\" },\n",
    "    \"tree_cover_broadleaved_deciduous_burned_area\"  : { \"$sum\":\"$tree_cover_broadleaved_deciduous_burned_area\" },\n",
    "    \"tree_cover_needleleaved_evergreen_burned_area\"  : { \"$sum\":\"$tree_cover_needleleaved_evergreen_burned_area\" },\n",
    "    \"tree_cover_needleleaved_deciduous_burned_area\"  : { \"$sum\":\"$tree_cover_needleleaved_deciduous_burned_area\" },\n",
    "    \"tree_cover_mixed_leave_burned_area\"  : { \"$sum\":\"$tree_cover_mixed_leave_burned_area\"},\n",
    "    \"cropland_burned_area\"  : { \"$sum\":\"$cropland_burned_area\" },\n",
    "    \"mosaic_tree_grass_burned_area\"  : { \"$sum\":\"$mosaic_tree_grass_burned_area\" },\n",
    "    \"flooded_area_burned_area\"  : { \"$sum\":\"$flooded_area_burned_area\" },\n",
    "    \"other_vegetation_burned_area\"  : { \"$sum\":\"$other_vegetation_burned_area\" },}\n",
    "}])\n",
    "for i in agg_result:\n",
    "    list_veg.append(i)\n",
    "list_veg"
   ]
  },
  {
   "cell_type": "code",
   "execution_count": null,
   "metadata": {},
   "outputs": [],
   "source": [
    "df_veg = pd.DataFrame(list_veg)"
   ]
  },
  {
   "cell_type": "code",
   "execution_count": null,
   "metadata": {},
   "outputs": [],
   "source": [
    "df_veg= df_veg.drop(columns=\"_id\")"
   ]
  },
  {
   "cell_type": "code",
   "execution_count": null,
   "metadata": {},
   "outputs": [],
   "source": [
    "df_veg_trans = df_veg.transpose()"
   ]
  },
  {
   "cell_type": "code",
   "execution_count": null,
   "metadata": {},
   "outputs": [],
   "source": [
    "fig = px.bar(df_veg, title='Life expectancy in Canada')\n",
    "fig.show()"
   ]
  },
  {
   "cell_type": "code",
   "execution_count": null,
   "metadata": {},
   "outputs": [],
   "source": [
    "df_veg"
   ]
  },
  {
   "cell_type": "code",
   "execution_count": null,
   "metadata": {},
   "outputs": [],
   "source": [
    "import plotly.graph_objects as go\n",
    "\n",
    "fig1  = go.Figure()\n",
    "hrz = [\"burned_area\", \"no_data_burned_area\",\"tree_cover_broadleaved_deciduous_burned_area\",\n",
    "       \"tree_cover_needleleaved_evergreen_burned_area\",\"tree_cover_needleleaved_deciduous_burned_area\", \"cropland_burned_area\", \"mosaic_tree_grass_burned_area\", \"flooded_area_burned_area\", \"other_vegetation_burned_area\"\n",
    "       \"Final\"]\n",
    "vrt = [ df_veg[\"burned_area\"][0], \n",
    "       -df_veg[\"no_data_burned_area\"][0],\n",
    "       -df_veg[\"tree_cover_broadleaved_deciduous_burned_area\"][0],\n",
    "       -df_veg[\"tree_cover_needleleaved_evergreen_burned_area\"][0],\n",
    "       -df_veg[\"tree_cover_needleleaved_deciduous_burned_area\"][0],\n",
    "       -df_veg[\"cropland_burned_area\"][0],\n",
    "       -df_veg[\"mosaic_tree_grass_burned_area\"][0],\n",
    "       -df_veg[\"flooded_area_burned_area\"][0],\n",
    "       -df_veg[\"other_vegetation_burned_area\"][0],\n",
    "       None]\n",
    "fig1.add_trace(go.Waterfall(                 \n",
    "                  x = hrz, y = vrt,\n",
    "                  base = 0,\n",
    "                  measure = [ \"absolute\",\"relative\",    \n",
    "                              \"relative\",\"relative\",\n",
    "                              \"relative\",\"total\" ]                        \n",
    "                ))                                 \n",
    "fig1.show()\n",
    "\n"
   ]
  },
  {
   "cell_type": "code",
   "execution_count": null,
   "metadata": {},
   "outputs": [],
   "source": [
    "# Abfrage EU Länder\n",
    "# Umwandlung in Dataframe"
   ]
  },
  {
   "cell_type": "markdown",
   "metadata": {},
   "source": [
    "## Dashboard Europa"
   ]
  },
  {
   "cell_type": "code",
   "execution_count": 3,
   "metadata": {},
   "outputs": [],
   "source": [
    "df_countries = pd.read_csv('C:\\dev\\eda_esa_fire\\doc\\country_codes.csv', on_bad_lines='skip', delimiter=',')"
   ]
  },
  {
   "cell_type": "code",
   "execution_count": 4,
   "metadata": {},
   "outputs": [],
   "source": [
    "europe = df_countries[df_countries['region'] == 'Europe']['alpha-2'].to_list()"
   ]
  },
  {
   "cell_type": "code",
   "execution_count": 5,
   "metadata": {},
   "outputs": [],
   "source": [
    "list_europe = list(mycol.find({\"country\":{\"$in\":europe}}))\n",
    "df_eu = pd.DataFrame(list_europe)"
   ]
  },
  {
   "cell_type": "code",
   "execution_count": null,
   "metadata": {},
   "outputs": [],
   "source": [
    "df_eu"
   ]
  },
  {
   "cell_type": "code",
   "execution_count": 24,
   "metadata": {},
   "outputs": [
    {
     "data": {
      "text/html": [
       "\n",
       "        <iframe\n",
       "            width=\"100%\"\n",
       "            height=\"650\"\n",
       "            src=\"http://127.0.0.1:8050/\"\n",
       "            frameborder=\"0\"\n",
       "            allowfullscreen\n",
       "            \n",
       "        ></iframe>\n",
       "        "
      ],
      "text/plain": [
       "<IPython.lib.display.IFrame at 0x1f21dff49c8>"
      ]
     },
     "metadata": {},
     "output_type": "display_data"
    }
   ],
   "source": [
    "import plotly.express as px\n",
    "from jupyter_dash import JupyterDash\n",
    "import dash_core_components as dcc\n",
    "import dash_html_components as html\n",
    "from dash.dependencies import Input, Output# Load Data\n",
    "\n",
    "app = JupyterDash(__name__)\n",
    "app.layout = html.Div([\n",
    "    html.H1(\"JupyterDash Demo\"),\n",
    "    html.Label([\n",
    "        \"label\",\n",
    "    dcc.Dropdown(id=\"slct_year\",\n",
    "                 options=[\n",
    "                     {\"label\": \"ES\", \"value\": \"ES\"},\n",
    "                     {\"label\": \"GB\", \"value\": \"GB\"},],\n",
    "                 multi=False,\n",
    "                 value=2015,\n",
    "                 style={'width': \"40%\"}\n",
    "                 ),\n",
    "    dcc.Graph(id='graph'),\n",
    "    ]),\n",
    "])# Define callback to update graph\n",
    "@app.callback(\n",
    "    Output('graph', 'figure'),\n",
    "    [Input(\"slct_year\", \"value\")]\n",
    ")\n",
    "def update_figure(slct_year):\n",
    "    dff = df_eu.copy()\n",
    "    dff = dff[dff[\"country\"] == slct_year]\n",
    "    return px.scatter(\n",
    "        dff, x=\"lon\", y=\"lat\",\n",
    "        render_mode=\"webgl\", title=\"Tips\"\n",
    "    )# Run app and display result inline in the notebook\n",
    "app.run_server(mode='inline')"
   ]
  }
 ],
 "metadata": {
  "kernelspec": {
   "display_name": "Python 3.7.11 ('base')",
   "language": "python",
   "name": "python3"
  },
  "language_info": {
   "codemirror_mode": {
    "name": "ipython",
    "version": 3
   },
   "file_extension": ".py",
   "mimetype": "text/x-python",
   "name": "python",
   "nbconvert_exporter": "python",
   "pygments_lexer": "ipython3",
   "version": "3.7.11"
  },
  "orig_nbformat": 4,
  "vscode": {
   "interpreter": {
    "hash": "df5c7b8ffaedf80dec2b70b09605990d7e0e1b6bc745b497330e86cbe58a738e"
   }
  }
 },
 "nbformat": 4,
 "nbformat_minor": 2
}
