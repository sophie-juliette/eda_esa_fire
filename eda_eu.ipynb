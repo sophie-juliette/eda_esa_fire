{
 "cells": [
  {
   "cell_type": "code",
   "execution_count": 1,
   "metadata": {},
   "outputs": [],
   "source": [
    "# EU \n",
    "# For One Ye"
   ]
  },
  {
   "cell_type": "markdown",
   "metadata": {},
   "source": [
    "Vorgehnsweise: \n",
    "Visualisierung in Pandas Darstellen \n",
    "Probe Dashboard mit plotly Dash erstellen \n",
    "Dashboar in Jupyter Book ein binden \n",
    "-> weiteren Grafiken umsetzen "
   ]
  },
  {
   "cell_type": "markdown",
   "metadata": {},
   "source": [
    "Ziele: \n",
    "Auswertung auf Basis EU \n",
    "\n",
    "Zeitlicher Verlauf gesamt\n",
    "Abfragen:\n",
    "    - Summe burned area pro Monat \n",
    "    - Fläche verbrannter Wälder insgesamt \n",
    "    - Liste besonders betroffener Länder \n",
    "\n",
    "Visualisierungen: \n",
    "    - Balken-Diagram: Summe burned area pro Monat \n",
    "    - Treemap: Verbrannte Fläche pro Vegetationstyp\n",
    "    - Weltkarte mit betroffener Länder (gefüllt): Farbe Burned Area\n",
    "    - DE-Karte: Bubles Größe (Burned area)\n"
   ]
  },
  {
   "cell_type": "code",
   "execution_count": 2,
   "metadata": {},
   "outputs": [],
   "source": [
    "from pymongo import MongoClient\n",
    "import pandas as pd\n",
    "import plotly.express as px"
   ]
  },
  {
   "cell_type": "code",
   "execution_count": 3,
   "metadata": {},
   "outputs": [
    {
     "name": "stdout",
     "output_type": "stream",
     "text": [
      "{\"t\":{\"$date\":\"2022-09-10T12:17:00.577+02:00\"},\"s\":\"I\",  \"c\":\"NETWORK\",  \"id\":4915701, \"ctx\":\"-\",\"msg\":\"Initialized wire specification\",\"attr\":{\"spec\":{\"incomingExternalClient\":{\"minWireVersion\":0,\"maxWireVersion\":17},\"incomingInternalClient\":{\"minWireVersion\":0,\"maxWireVersion\":17},\"outgoing\":{\"minWireVersion\":6,\"maxWireVersion\":17},\"isInternalClient\":true}}}\n",
      "{\"t\":{\"$date\":\"2022-09-10T12:17:02.110+02:00\"},\"s\":\"I\",  \"c\":\"CONTROL\",  \"id\":23285,   \"ctx\":\"-\",\"msg\":\"Automatically disabling TLS 1.0, to force-enable TLS 1.0 specify --sslDisabledProtocols 'none'\"}\n",
      "{\"t\":{\"$date\":\"2022-09-10T12:17:02.112+02:00\"},\"s\":\"I\",  \"c\":\"NETWORK\",  \"id\":4648602, \"ctx\":\"main\",\"msg\":\"Implicit TCP FastOpen in use.\"}\n",
      "{\"t\":{\"$date\":\"2022-09-10T12:17:02.115+02:00\"},\"s\":\"I\",  \"c\":\"REPL\",     \"id\":5123008, \"ctx\":\"main\",\"msg\":\"Successfully registered PrimaryOnlyService\",\"attr\":{\"service\":\"TenantMigrationDonorService\",\"namespace\":\"config.tenantMigrationDonors\"}}\n",
      "{\"t\":{\"$date\":\"2022-09-10T12:17:02.115+02:00\"},\"s\":\"I\",  \"c\":\"REPL\",     \"id\":5123008, \"ctx\":\"main\",\"msg\":\"Successfully registered PrimaryOnlyService\",\"attr\":{\"service\":\"TenantMigrationRecipientService\",\"namespace\":\"config.tenantMigrationRecipients\"}}\n",
      "{\"t\":{\"$date\":\"2022-09-10T12:17:02.115+02:00\"},\"s\":\"I\",  \"c\":\"REPL\",     \"id\":5123008, \"ctx\":\"main\",\"msg\":\"Successfully registered PrimaryOnlyService\",\"attr\":{\"service\":\"ShardSplitDonorService\",\"namespace\":\"config.tenantSplitDonors\"}}\n",
      "{\"t\":{\"$date\":\"2022-09-10T12:17:02.115+02:00\"},\"s\":\"I\",  \"c\":\"CONTROL\",  \"id\":5945603, \"ctx\":\"main\",\"msg\":\"Multi threading initialized\"}\n",
      "{\"t\":{\"$date\":\"2022-09-10T12:17:02.117+02:00\"},\"s\":\"I\",  \"c\":\"CONTROL\",  \"id\":4615611, \"ctx\":\"initandlisten\",\"msg\":\"MongoDB starting\",\"attr\":{\"pid\":21800,\"port\":27017,\"dbPath\":\"C:/mongodb_data\",\"architecture\":\"64-bit\",\"host\":\"LAPTOP-6KRTMFHJ\"}}\n",
      "{\"t\":{\"$date\":\"2022-09-10T12:17:02.117+02:00\"},\"s\":\"I\",  \"c\":\"CONTROL\",  \"id\":23398,   \"ctx\":\"initandlisten\",\"msg\":\"Target operating system minimum version\",\"attr\":{\"targetMinOS\":\"Windows 7/Windows Server 2008 R2\"}}\n",
      "{\"t\":{\"$date\":\"2022-09-10T12:17:02.117+02:00\"},\"s\":\"I\",  \"c\":\"CONTROL\",  \"id\":23403,   \"ctx\":\"initandlisten\",\"msg\":\"Build Info\",\"attr\":{\"buildInfo\":{\"version\":\"6.0.0\",\"gitVersion\":\"e61bf27c2f6a83fed36e5a13c008a32d563babe2\",\"modules\":[],\"allocator\":\"tcmalloc\",\"environment\":{\"distmod\":\"windows\",\"distarch\":\"x86_64\",\"target_arch\":\"x86_64\"}}}}\n",
      "{\"t\":{\"$date\":\"2022-09-10T12:17:02.117+02:00\"},\"s\":\"I\",  \"c\":\"CONTROL\",  \"id\":51765,   \"ctx\":\"initandlisten\",\"msg\":\"Operating System\",\"attr\":{\"os\":{\"name\":\"Microsoft Windows 10\",\"version\":\"10.0 (build 22000)\"}}}\n",
      "{\"t\":{\"$date\":\"2022-09-10T12:17:02.117+02:00\"},\"s\":\"I\",  \"c\":\"CONTROL\",  \"id\":21951,   \"ctx\":\"initandlisten\",\"msg\":\"Options set by command line\",\"attr\":{\"options\":{\"storage\":{\"dbPath\":\"C:\\\\mongodb_data\"}}}}\n",
      "{\"t\":{\"$date\":\"2022-09-10T12:17:02.122+02:00\"},\"s\":\"E\",  \"c\":\"CONTROL\",  \"id\":20557,   \"ctx\":\"initandlisten\",\"msg\":\"DBException in initAndListen, terminating\",\"attr\":{\"error\":\"DBPathInUse: Unable to create/open the lock file: C:\\\\mongodb_data\\\\mongod.lock (Der Prozess kann nicht auf die Datei zugreifen, da sie von einem anderen Prozess verwendet wird.). Ensure the user executing mongod is the owner of the lock file and has the appropriate permissions. Also make sure that another mongod instance is not already running on the C:\\\\mongodb_data directory\"}}\n",
      "{\"t\":{\"$date\":\"2022-09-10T12:17:02.123+02:00\"},\"s\":\"I\",  \"c\":\"REPL\",     \"id\":4784900, \"ctx\":\"initandlisten\",\"msg\":\"Stepping down the ReplicationCoordinator for shutdown\",\"attr\":{\"waitTimeMillis\":15000}}\n",
      "{\"t\":{\"$date\":\"2022-09-10T12:17:02.126+02:00\"},\"s\":\"I\",  \"c\":\"REPL\",     \"id\":4794602, \"ctx\":\"initandlisten\",\"msg\":\"Attempting to enter quiesce mode\"}\n",
      "{\"t\":{\"$date\":\"2022-09-10T12:17:02.127+02:00\"},\"s\":\"I\",  \"c\":\"-\",        \"id\":6371601, \"ctx\":\"initandlisten\",\"msg\":\"Shutting down the FLE Crud thread pool\"}\n",
      "{\"t\":{\"$date\":\"2022-09-10T12:17:02.127+02:00\"},\"s\":\"I\",  \"c\":\"COMMAND\",  \"id\":4784901, \"ctx\":\"initandlisten\",\"msg\":\"Shutting down the MirrorMaestro\"}\n",
      "{\"t\":{\"$date\":\"2022-09-10T12:17:02.127+02:00\"},\"s\":\"I\",  \"c\":\"SHARDING\", \"id\":4784902, \"ctx\":\"initandlisten\",\"msg\":\"Shutting down the WaitForMajorityService\"}\n",
      "{\"t\":{\"$date\":\"2022-09-10T12:17:02.127+02:00\"},\"s\":\"I\",  \"c\":\"NETWORK\",  \"id\":20562,   \"ctx\":\"initandlisten\",\"msg\":\"Shutdown: going to close listening sockets\"}\n",
      "{\"t\":{\"$date\":\"2022-09-10T12:17:02.127+02:00\"},\"s\":\"I\",  \"c\":\"NETWORK\",  \"id\":4784905, \"ctx\":\"initandlisten\",\"msg\":\"Shutting down the global connection pool\"}\n",
      "{\"t\":{\"$date\":\"2022-09-10T12:17:02.127+02:00\"},\"s\":\"I\",  \"c\":\"CONTROL\",  \"id\":4784906, \"ctx\":\"initandlisten\",\"msg\":\"Shutting down the FlowControlTicketholder\"}\n",
      "{\"t\":{\"$date\":\"2022-09-10T12:17:02.127+02:00\"},\"s\":\"I\",  \"c\":\"-\",        \"id\":20520,   \"ctx\":\"initandlisten\",\"msg\":\"Stopping further Flow Control ticket acquisitions.\"}\n",
      "{\"t\":{\"$date\":\"2022-09-10T12:17:02.127+02:00\"},\"s\":\"I\",  \"c\":\"NETWORK\",  \"id\":4784918, \"ctx\":\"initandlisten\",\"msg\":\"Shutting down the ReplicaSetMonitor\"}\n",
      "{\"t\":{\"$date\":\"2022-09-10T12:17:02.128+02:00\"},\"s\":\"I\",  \"c\":\"SHARDING\", \"id\":4784921, \"ctx\":\"initandlisten\",\"msg\":\"Shutting down the MigrationUtilExecutor\"}\n",
      "{\"t\":{\"$date\":\"2022-09-10T12:17:02.129+02:00\"},\"s\":\"I\",  \"c\":\"ASIO\",     \"id\":22582,   \"ctx\":\"MigrationUtil-TaskExecutor\",\"msg\":\"Killing all outstanding egress activity.\"}\n",
      "{\"t\":{\"$date\":\"2022-09-10T12:17:02.130+02:00\"},\"s\":\"I\",  \"c\":\"COMMAND\",  \"id\":4784923, \"ctx\":\"initandlisten\",\"msg\":\"Shutting down the ServiceEntryPoint\"}\n",
      "{\"t\":{\"$date\":\"2022-09-10T12:17:02.130+02:00\"},\"s\":\"I\",  \"c\":\"CONTROL\",  \"id\":4784925, \"ctx\":\"initandlisten\",\"msg\":\"Shutting down free monitoring\"}\n",
      "{\"t\":{\"$date\":\"2022-09-10T12:17:02.130+02:00\"},\"s\":\"I\",  \"c\":\"CONTROL\",  \"id\":4784927, \"ctx\":\"initandlisten\",\"msg\":\"Shutting down the HealthLog\"}\n",
      "{\"t\":{\"$date\":\"2022-09-10T12:17:02.130+02:00\"},\"s\":\"I\",  \"c\":\"CONTROL\",  \"id\":4784928, \"ctx\":\"initandlisten\",\"msg\":\"Shutting down the TTL monitor\"}\n",
      "{\"t\":{\"$date\":\"2022-09-10T12:17:02.130+02:00\"},\"s\":\"I\",  \"c\":\"CONTROL\",  \"id\":6278511, \"ctx\":\"initandlisten\",\"msg\":\"Shutting down the Change Stream Expired Pre-images Remover\"}\n",
      "{\"t\":{\"$date\":\"2022-09-10T12:17:02.130+02:00\"},\"s\":\"I\",  \"c\":\"CONTROL\",  \"id\":4784929, \"ctx\":\"initandlisten\",\"msg\":\"Acquiring the global lock for shutdown\"}\n",
      "{\"t\":{\"$date\":\"2022-09-10T12:17:02.130+02:00\"},\"s\":\"I\",  \"c\":\"-\",        \"id\":4784931, \"ctx\":\"initandlisten\",\"msg\":\"Dropping the scope cache for shutdown\"}\n",
      "{\"t\":{\"$date\":\"2022-09-10T12:17:02.131+02:00\"},\"s\":\"I\",  \"c\":\"CONTROL\",  \"id\":20565,   \"ctx\":\"initandlisten\",\"msg\":\"Now exiting\"}\n",
      "{\"t\":{\"$date\":\"2022-09-10T12:17:02.131+02:00\"},\"s\":\"I\",  \"c\":\"CONTROL\",  \"id\":23138,   \"ctx\":\"initandlisten\",\"msg\":\"Shutting down\",\"attr\":{\"exitCode\":100}}\n"
     ]
    }
   ],
   "source": [
    "!\"C:\\Program Files\\MongoDB\\Server\\6.0\\bin\\mongod.exe\" --dbpath \"C:\\mongodb_data\""
   ]
  },
  {
   "cell_type": "code",
   "execution_count": 4,
   "metadata": {},
   "outputs": [
    {
     "name": "stdout",
     "output_type": "stream",
     "text": [
      "esa_fire\n"
     ]
    }
   ],
   "source": [
    "client = MongoClient()\n",
    "client = MongoClient('mongodb://localhost:27017/')\n",
    "mydb = client[\"esa_fire\"]\n",
    "mycol = mydb[\"esa_fire_2001\"]\n",
    "print(mydb.name)"
   ]
  },
  {
   "cell_type": "markdown",
   "metadata": {},
   "source": [
    "### Query 1: Flächen in Deutschland mit einer verbrannten Fläche größer als 1 km2"
   ]
  },
  {
   "cell_type": "code",
   "execution_count": 5,
   "metadata": {},
   "outputs": [
    {
     "name": "stdout",
     "output_type": "stream",
     "text": [
      "Anzahl von Städten mit Bevölkerungsdichte größer als 2000 in BaWü:  43\n"
     ]
    }
   ],
   "source": [
    "# Querys Mongo DB\n",
    "query2={\n",
    "     '$and': [\n",
    "            { 'country' : 'DE' },\n",
    "            { 'burned_area'    : { '$gt': 1000000 }}\n",
    "          ]\n",
    "}\n",
    "points =mycol.find(query2)\n",
    "print(\"Anzahl von Städten mit Bevölkerungsdichte größer als 2000 in BaWü: \",mycol.count_documents(query2))"
   ]
  },
  {
   "cell_type": "code",
   "execution_count": 6,
   "metadata": {},
   "outputs": [],
   "source": [
    "import folium"
   ]
  },
  {
   "cell_type": "code",
   "execution_count": 7,
   "metadata": {},
   "outputs": [],
   "source": [
    "m = folium.Map(location=[48.74388,9.10014],zoom_start=5)"
   ]
  },
  {
   "cell_type": "code",
   "execution_count": 8,
   "metadata": {},
   "outputs": [],
   "source": [
    "for citie in points:\n",
    "    folium.Marker( location=[ citie['lat'], citie['lon'] ], fill_color='#43d9de', radius=8,tooltip=citie['date']).add_to(m)"
   ]
  },
  {
   "cell_type": "code",
   "execution_count": 9,
   "metadata": {},
   "outputs": [],
   "source": [
    "#m"
   ]
  },
  {
   "cell_type": "markdown",
   "metadata": {},
   "source": [
    "### Query 2: Gruppierung der Flächen nach Datum"
   ]
  },
  {
   "cell_type": "code",
   "execution_count": 10,
   "metadata": {},
   "outputs": [
    {
     "data": {
      "text/plain": [
       "[{'_id': '2016-12-01', 'burned_area': 8845},\n",
       " {'_id': '2012-10-01', 'burned_area': 15972},\n",
       " {'_id': '2005-05-01', 'burned_area': 13805},\n",
       " {'_id': '2015-04-01', 'burned_area': 11639},\n",
       " {'_id': '2020-11-01', 'burned_area': 10493},\n",
       " {'_id': '2003-06-01', 'burned_area': 12926},\n",
       " {'_id': '2012-12-01', 'burned_area': 9603},\n",
       " {'_id': '2008-06-01', 'burned_area': 12639},\n",
       " {'_id': '2014-01-01', 'burned_area': 9948},\n",
       " {'_id': '2001-02-01', 'burned_area': 8887},\n",
       " {'_id': '2013-01-01', 'burned_area': 10389},\n",
       " {'_id': '2014-12-01', 'burned_area': 8718},\n",
       " {'_id': '2005-01-01', 'burned_area': 10996},\n",
       " {'_id': '2009-09-01', 'burned_area': 18170},\n",
       " {'_id': '2009-11-01', 'burned_area': 11440},\n",
       " {'_id': '2003-08-01', 'burned_area': 21014},\n",
       " {'_id': '2013-06-01', 'burned_area': 11081},\n",
       " {'_id': '2020-06-01', 'burned_area': 11732},\n",
       " {'_id': '2011-02-01', 'burned_area': 9746},\n",
       " {'_id': '2015-01-01', 'burned_area': 9939},\n",
       " {'_id': '2002-03-01', 'burned_area': 7938},\n",
       " {'_id': '2017-06-01', 'burned_area': 11025},\n",
       " {'_id': '2009-08-01', 'burned_area': 18618},\n",
       " {'_id': '2001-05-01', 'burned_area': 10082},\n",
       " {'_id': '2002-02-01', 'burned_area': 9045},\n",
       " {'_id': '2010-07-01', 'burned_area': 17379},\n",
       " {'_id': '2001-12-01', 'burned_area': 8846},\n",
       " {'_id': '2013-10-01', 'burned_area': 12639},\n",
       " {'_id': '2010-09-01', 'burned_area': 20429},\n",
       " {'_id': '2012-05-01', 'burned_area': 14124},\n",
       " {'_id': '2005-12-01', 'burned_area': 9841},\n",
       " {'_id': '2004-01-01', 'burned_area': 10645},\n",
       " {'_id': '2008-04-01', 'burned_area': 15384},\n",
       " {'_id': '2009-04-01', 'burned_area': 16790},\n",
       " {'_id': '2018-10-01', 'burned_area': 13612},\n",
       " {'_id': '2020-01-01', 'burned_area': 10310},\n",
       " {'_id': '2006-03-01', 'burned_area': 9179},\n",
       " {'_id': '2006-09-01', 'burned_area': 21138},\n",
       " {'_id': '2005-10-01', 'burned_area': 20070},\n",
       " {'_id': '2003-03-01', 'burned_area': 11212},\n",
       " {'_id': '2005-07-01', 'burned_area': 18346},\n",
       " {'_id': '2009-01-01', 'burned_area': 10049},\n",
       " {'_id': '2020-09-01', 'burned_area': 16791},\n",
       " {'_id': '2001-09-01', 'burned_area': 19023},\n",
       " {'_id': '2011-11-01', 'burned_area': 12000},\n",
       " {'_id': '2017-11-01', 'burned_area': 11156},\n",
       " {'_id': '2006-05-01', 'burned_area': 16430},\n",
       " {'_id': '2001-01-01', 'burned_area': 9550},\n",
       " {'_id': '2012-02-01', 'burned_area': 10872},\n",
       " {'_id': '2008-09-01', 'burned_area': 19676},\n",
       " {'_id': '2018-12-01', 'burned_area': 9581},\n",
       " {'_id': '2002-09-01', 'burned_area': 24199},\n",
       " {'_id': '2019-01-01', 'burned_area': 10525},\n",
       " {'_id': '2007-05-01', 'burned_area': 12914},\n",
       " {'_id': '2015-02-01', 'burned_area': 10184},\n",
       " {'_id': '2005-09-01', 'burned_area': 21080},\n",
       " {'_id': '2006-11-01', 'burned_area': 12728},\n",
       " {'_id': '2011-04-01', 'burned_area': 12264},\n",
       " {'_id': '2011-08-01', 'burned_area': 20538},\n",
       " {'_id': '2002-04-01', 'burned_area': 9900},\n",
       " {'_id': '2016-09-01', 'burned_area': 16492},\n",
       " {'_id': '2004-07-01', 'burned_area': 17173},\n",
       " {'_id': '2017-07-01', 'burned_area': 15849},\n",
       " {'_id': '2011-10-01', 'burned_area': 17426},\n",
       " {'_id': '2019-07-01', 'burned_area': 15866},\n",
       " {'_id': '2019-08-01', 'burned_area': 18506},\n",
       " {'_id': '2014-06-01', 'burned_area': 10948},\n",
       " {'_id': '2012-08-01', 'burned_area': 21029},\n",
       " {'_id': '2003-05-01', 'burned_area': 15488},\n",
       " {'_id': '2017-09-01', 'burned_area': 18635},\n",
       " {'_id': '2018-11-01', 'burned_area': 10543},\n",
       " {'_id': '2009-06-01', 'burned_area': 12300},\n",
       " {'_id': '2003-11-01', 'burned_area': 12060},\n",
       " {'_id': '2003-10-01', 'burned_area': 18961},\n",
       " {'_id': '2016-06-01', 'burned_area': 10784},\n",
       " {'_id': '2017-10-01', 'burned_area': 15904},\n",
       " {'_id': '2018-09-01', 'burned_area': 16270},\n",
       " {'_id': '2009-03-01', 'burned_area': 9864},\n",
       " {'_id': '2005-04-01', 'burned_area': 13835},\n",
       " {'_id': '2015-03-01', 'burned_area': 10920},\n",
       " {'_id': '2013-03-01', 'burned_area': 9258},\n",
       " {'_id': '2012-09-01', 'burned_area': 19009},\n",
       " {'_id': '2016-07-01', 'burned_area': 15115},\n",
       " {'_id': '2019-04-01', 'burned_area': 13731},\n",
       " {'_id': '2018-04-01', 'burned_area': 11710},\n",
       " {'_id': '2010-06-01', 'burned_area': 13194},\n",
       " {'_id': '2014-03-01', 'burned_area': 11632},\n",
       " {'_id': '2015-12-01', 'burned_area': 9159},\n",
       " {'_id': '2001-03-01', 'burned_area': 7111},\n",
       " {'_id': '2011-03-01', 'burned_area': 10085},\n",
       " {'_id': '2020-04-01', 'burned_area': 14292},\n",
       " {'_id': '2018-05-01', 'burned_area': 11664},\n",
       " {'_id': '2005-11-01', 'burned_area': 13445},\n",
       " {'_id': '2020-02-01', 'burned_area': 10833},\n",
       " {'_id': '2010-11-01', 'burned_area': 11152},\n",
       " {'_id': '2002-12-01', 'burned_area': 10250},\n",
       " {'_id': '2006-08-01', 'burned_area': 22119},\n",
       " {'_id': '2007-08-01', 'burned_area': 22257},\n",
       " {'_id': '2008-07-01', 'burned_area': 16560},\n",
       " {'_id': '2004-11-01', 'burned_area': 12725},\n",
       " {'_id': '2005-06-01', 'burned_area': 13096},\n",
       " {'_id': '2001-07-01', 'burned_area': 14470},\n",
       " {'_id': '2010-01-01', 'burned_area': 9820},\n",
       " {'_id': '2007-03-01', 'burned_area': 13091},\n",
       " {'_id': '2018-02-01', 'burned_area': 9921},\n",
       " {'_id': '2017-01-01', 'burned_area': 9661},\n",
       " {'_id': '2009-05-01', 'burned_area': 16440},\n",
       " {'_id': '2012-11-01', 'burned_area': 10839},\n",
       " {'_id': '2014-08-01', 'burned_area': 18567},\n",
       " {'_id': '2013-12-01', 'burned_area': 8628},\n",
       " {'_id': '2002-06-01', 'burned_area': 10574},\n",
       " {'_id': '2015-09-01', 'burned_area': 19718},\n",
       " {'_id': '2016-05-01', 'burned_area': 11693},\n",
       " {'_id': '2006-01-01', 'burned_area': 10280},\n",
       " {'_id': '2007-01-01', 'burned_area': 10600},\n",
       " {'_id': '2011-01-01', 'burned_area': 9207},\n",
       " {'_id': '2010-05-01', 'burned_area': 13024},\n",
       " {'_id': '2013-11-01', 'burned_area': 9810},\n",
       " {'_id': '2020-12-01', 'burned_area': 8843},\n",
       " {'_id': '2001-06-01', 'burned_area': 5337},\n",
       " {'_id': '2014-10-01', 'burned_area': 16937},\n",
       " {'_id': '2007-07-01', 'burned_area': 18125},\n",
       " {'_id': '2006-04-01', 'burned_area': 13928},\n",
       " {'_id': '2020-08-01', 'burned_area': 17432},\n",
       " {'_id': '2015-08-01', 'burned_area': 19547},\n",
       " {'_id': '2013-02-01', 'burned_area': 10199},\n",
       " {'_id': '2008-10-01', 'burned_area': 19225},\n",
       " {'_id': '2008-02-01', 'burned_area': 10568},\n",
       " {'_id': '2010-12-01', 'burned_area': 8969},\n",
       " {'_id': '2003-02-01', 'burned_area': 11062},\n",
       " {'_id': '2005-02-01', 'burned_area': 11216},\n",
       " {'_id': '2006-07-01', 'burned_area': 17197},\n",
       " {'_id': '2003-09-01', 'burned_area': 21441},\n",
       " {'_id': '2018-07-01', 'burned_area': 13812},\n",
       " {'_id': '2001-10-01', 'burned_area': 13997},\n",
       " {'_id': '2010-08-01', 'burned_area': 21653},\n",
       " {'_id': '2012-07-01', 'burned_area': 18322},\n",
       " {'_id': '2002-08-01', 'burned_area': 23391},\n",
       " {'_id': '2013-09-01', 'burned_area': 15443},\n",
       " {'_id': '2007-10-01', 'burned_area': 18576},\n",
       " {'_id': '2010-04-01', 'burned_area': 12081},\n",
       " {'_id': '2019-02-01', 'burned_area': 10776},\n",
       " {'_id': '2014-09-01', 'burned_area': 18014},\n",
       " {'_id': '2008-05-01', 'burned_area': 15013},\n",
       " {'_id': '2013-05-01', 'burned_area': 12007},\n",
       " {'_id': '2013-08-01', 'burned_area': 17550},\n",
       " {'_id': '2013-07-01', 'burned_area': 13990},\n",
       " {'_id': '2011-09-01', 'burned_area': 21310},\n",
       " {'_id': '2014-04-01', 'burned_area': 13530},\n",
       " {'_id': '2011-06-01', 'burned_area': 13173},\n",
       " {'_id': '2017-05-01', 'burned_area': 11372},\n",
       " {'_id': '2008-11-01', 'burned_area': 13039},\n",
       " {'_id': '2005-08-01', 'burned_area': 21516},\n",
       " {'_id': '2020-05-01', 'burned_area': 11421},\n",
       " {'_id': '2014-02-01', 'burned_area': 9295},\n",
       " {'_id': '2019-05-01', 'burned_area': 12036},\n",
       " {'_id': '2016-02-01', 'burned_area': 9722},\n",
       " {'_id': '2012-01-01', 'burned_area': 10741},\n",
       " {'_id': '2003-04-01', 'burned_area': 14209},\n",
       " {'_id': '2004-12-01', 'burned_area': 10843},\n",
       " {'_id': '2007-11-01', 'burned_area': 12675},\n",
       " {'_id': '2006-10-01', 'burned_area': 15889},\n",
       " {'_id': '2007-02-01', 'burned_area': 11994},\n",
       " {'_id': '2013-04-01', 'burned_area': 11314},\n",
       " {'_id': '2017-02-01', 'burned_area': 9856},\n",
       " {'_id': '2017-12-01', 'burned_area': 9577},\n",
       " {'_id': '2001-08-01', 'burned_area': 20956},\n",
       " {'_id': '2012-03-01', 'burned_area': 11161},\n",
       " {'_id': '2009-07-01', 'burned_area': 15593},\n",
       " {'_id': '2007-04-01', 'burned_area': 12949},\n",
       " {'_id': '2012-06-01', 'burned_area': 14956},\n",
       " {'_id': '2002-07-01', 'burned_area': 18934},\n",
       " {'_id': '2008-08-01', 'burned_area': 20002},\n",
       " {'_id': '2020-10-01', 'burned_area': 15914},\n",
       " {'_id': '2004-05-01', 'burned_area': 14329},\n",
       " {'_id': '2017-04-01', 'burned_area': 12632},\n",
       " {'_id': '2004-09-01', 'burned_area': 21073},\n",
       " {'_id': '2011-07-01', 'burned_area': 16393},\n",
       " {'_id': '2016-04-01', 'burned_area': 11366},\n",
       " {'_id': '2003-07-01', 'burned_area': 16501},\n",
       " {'_id': '2016-11-01', 'burned_area': 10866},\n",
       " {'_id': '2014-05-01', 'burned_area': 11781},\n",
       " {'_id': '2018-08-01', 'burned_area': 16926},\n",
       " {'_id': '2011-12-01', 'burned_area': 9605},\n",
       " {'_id': '2020-03-01', 'burned_area': 12913},\n",
       " {'_id': '2006-02-01', 'burned_area': 9944},\n",
       " {'_id': '2015-05-01', 'burned_area': 11753},\n",
       " {'_id': '2006-12-01', 'burned_area': 10370},\n",
       " {'_id': '2017-08-01', 'burned_area': 19426},\n",
       " {'_id': '2010-02-01', 'burned_area': 9965},\n",
       " {'_id': '2001-11-01', 'burned_area': 9686},\n",
       " {'_id': '2004-04-01', 'burned_area': 13103},\n",
       " {'_id': '2010-10-01', 'burned_area': 16696},\n",
       " {'_id': '2011-05-01', 'burned_area': 13646},\n",
       " {'_id': '2002-05-01', 'burned_area': 11424},\n",
       " {'_id': '2015-06-01', 'burned_area': 11630},\n",
       " {'_id': '2008-03-01', 'burned_area': 12891},\n",
       " {'_id': '2004-10-01', 'burned_area': 18675},\n",
       " {'_id': '2006-06-01', 'burned_area': 13054},\n",
       " {'_id': '2003-01-01', 'burned_area': 10944},\n",
       " {'_id': '2008-12-01', 'burned_area': 9334},\n",
       " {'_id': '2012-04-01', 'burned_area': 14132},\n",
       " {'_id': '2002-11-01', 'burned_area': 13008},\n",
       " {'_id': '2015-07-01', 'burned_area': 15551},\n",
       " {'_id': '2014-11-01', 'burned_area': 11448},\n",
       " {'_id': '2016-10-01', 'burned_area': 13229},\n",
       " {'_id': '2009-10-01', 'burned_area': 14334},\n",
       " {'_id': '2005-03-01', 'burned_area': 11587},\n",
       " {'_id': '2016-08-01', 'burned_area': 19103},\n",
       " {'_id': '2019-03-01', 'burned_area': 12128},\n",
       " {'_id': '2015-11-01', 'burned_area': 11997},\n",
       " {'_id': '2014-07-01', 'burned_area': 14985},\n",
       " {'_id': '2017-03-01', 'burned_area': 11110},\n",
       " {'_id': '2002-01-01', 'burned_area': 9632},\n",
       " {'_id': '2016-01-01', 'burned_area': 10199},\n",
       " {'_id': '2007-09-01', 'burned_area': 21565},\n",
       " {'_id': '2004-03-01', 'burned_area': 10540},\n",
       " {'_id': '2018-03-01', 'burned_area': 10049},\n",
       " {'_id': '2018-06-01', 'burned_area': 10909},\n",
       " {'_id': '2004-02-01', 'burned_area': 11218},\n",
       " {'_id': '2007-06-01', 'burned_area': 13282},\n",
       " {'_id': '2020-07-01', 'burned_area': 15528},\n",
       " {'_id': '2016-03-01', 'burned_area': 9851},\n",
       " {'_id': '2004-06-01', 'burned_area': 13385},\n",
       " {'_id': '2010-03-01', 'burned_area': 9167},\n",
       " {'_id': '2003-12-01', 'burned_area': 9556},\n",
       " {'_id': '2015-10-01', 'burned_area': 16673},\n",
       " {'_id': '2018-01-01', 'burned_area': 10059},\n",
       " {'_id': '2009-02-01', 'burned_area': 10131},\n",
       " {'_id': '2019-09-01', 'burned_area': 16195},\n",
       " {'_id': '2019-06-01', 'burned_area': 11179},\n",
       " {'_id': '2004-08-01', 'burned_area': 21198},\n",
       " {'_id': '2001-04-01', 'burned_area': 9889},\n",
       " {'_id': '2008-01-01', 'burned_area': 9961},\n",
       " {'_id': '2007-12-01', 'burned_area': 9808},\n",
       " {'_id': '2002-10-01', 'burned_area': 18986},\n",
       " {'_id': '2009-12-01', 'burned_area': 9226}]"
      ]
     },
     "execution_count": 10,
     "metadata": {},
     "output_type": "execute_result"
    }
   ],
   "source": [
    "list_date = list ()\n",
    "agg_result= mycol.aggregate(\n",
    "    [{\n",
    "    \"$group\" : \n",
    "        {\"_id\" : \"$date\", \n",
    "         \"burned_area\" : {\"$sum\" : 1}\n",
    "         }\n",
    "    }])\n",
    "for i in agg_result:\n",
    "    list_date.append(i)\n",
    "list_date"
   ]
  },
  {
   "cell_type": "code",
   "execution_count": 11,
   "metadata": {},
   "outputs": [],
   "source": [
    "import pandas as pd\n",
    "df_date = pd.DataFrame(list_date)"
   ]
  },
  {
   "cell_type": "code",
   "execution_count": 12,
   "metadata": {},
   "outputs": [
    {
     "data": {
      "application/vnd.plotly.v1+json": {
       "config": {
        "plotlyServerURL": "https://plot.ly"
       },
       "data": [
        {
         "alignmentgroup": "True",
         "hovertemplate": "_id=%{x}<br>burned_area=%{y}<extra></extra>",
         "legendgroup": "",
         "marker": {
          "color": "#636efa",
          "pattern": {
           "shape": ""
          }
         },
         "name": "",
         "offsetgroup": "",
         "orientation": "v",
         "showlegend": false,
         "textposition": "auto",
         "type": "bar",
         "x": [
          "2016-12-01",
          "2012-10-01",
          "2005-05-01",
          "2015-04-01",
          "2020-11-01",
          "2003-06-01",
          "2012-12-01",
          "2008-06-01",
          "2014-01-01",
          "2001-02-01",
          "2013-01-01",
          "2014-12-01",
          "2005-01-01",
          "2009-09-01",
          "2009-11-01",
          "2003-08-01",
          "2013-06-01",
          "2020-06-01",
          "2011-02-01",
          "2015-01-01",
          "2002-03-01",
          "2017-06-01",
          "2009-08-01",
          "2001-05-01",
          "2002-02-01",
          "2010-07-01",
          "2001-12-01",
          "2013-10-01",
          "2010-09-01",
          "2012-05-01",
          "2005-12-01",
          "2004-01-01",
          "2008-04-01",
          "2009-04-01",
          "2018-10-01",
          "2020-01-01",
          "2006-03-01",
          "2006-09-01",
          "2005-10-01",
          "2003-03-01",
          "2005-07-01",
          "2009-01-01",
          "2020-09-01",
          "2001-09-01",
          "2011-11-01",
          "2017-11-01",
          "2006-05-01",
          "2001-01-01",
          "2012-02-01",
          "2008-09-01",
          "2018-12-01",
          "2002-09-01",
          "2019-01-01",
          "2007-05-01",
          "2015-02-01",
          "2005-09-01",
          "2006-11-01",
          "2011-04-01",
          "2011-08-01",
          "2002-04-01",
          "2016-09-01",
          "2004-07-01",
          "2017-07-01",
          "2011-10-01",
          "2019-07-01",
          "2019-08-01",
          "2014-06-01",
          "2012-08-01",
          "2003-05-01",
          "2017-09-01",
          "2018-11-01",
          "2009-06-01",
          "2003-11-01",
          "2003-10-01",
          "2016-06-01",
          "2017-10-01",
          "2018-09-01",
          "2009-03-01",
          "2005-04-01",
          "2015-03-01",
          "2013-03-01",
          "2012-09-01",
          "2016-07-01",
          "2019-04-01",
          "2018-04-01",
          "2010-06-01",
          "2014-03-01",
          "2015-12-01",
          "2001-03-01",
          "2011-03-01",
          "2020-04-01",
          "2018-05-01",
          "2005-11-01",
          "2020-02-01",
          "2010-11-01",
          "2002-12-01",
          "2006-08-01",
          "2007-08-01",
          "2008-07-01",
          "2004-11-01",
          "2005-06-01",
          "2001-07-01",
          "2010-01-01",
          "2007-03-01",
          "2018-02-01",
          "2017-01-01",
          "2009-05-01",
          "2012-11-01",
          "2014-08-01",
          "2013-12-01",
          "2002-06-01",
          "2015-09-01",
          "2016-05-01",
          "2006-01-01",
          "2007-01-01",
          "2011-01-01",
          "2010-05-01",
          "2013-11-01",
          "2020-12-01",
          "2001-06-01",
          "2014-10-01",
          "2007-07-01",
          "2006-04-01",
          "2020-08-01",
          "2015-08-01",
          "2013-02-01",
          "2008-10-01",
          "2008-02-01",
          "2010-12-01",
          "2003-02-01",
          "2005-02-01",
          "2006-07-01",
          "2003-09-01",
          "2018-07-01",
          "2001-10-01",
          "2010-08-01",
          "2012-07-01",
          "2002-08-01",
          "2013-09-01",
          "2007-10-01",
          "2010-04-01",
          "2019-02-01",
          "2014-09-01",
          "2008-05-01",
          "2013-05-01",
          "2013-08-01",
          "2013-07-01",
          "2011-09-01",
          "2014-04-01",
          "2011-06-01",
          "2017-05-01",
          "2008-11-01",
          "2005-08-01",
          "2020-05-01",
          "2014-02-01",
          "2019-05-01",
          "2016-02-01",
          "2012-01-01",
          "2003-04-01",
          "2004-12-01",
          "2007-11-01",
          "2006-10-01",
          "2007-02-01",
          "2013-04-01",
          "2017-02-01",
          "2017-12-01",
          "2001-08-01",
          "2012-03-01",
          "2009-07-01",
          "2007-04-01",
          "2012-06-01",
          "2002-07-01",
          "2008-08-01",
          "2020-10-01",
          "2004-05-01",
          "2017-04-01",
          "2004-09-01",
          "2011-07-01",
          "2016-04-01",
          "2003-07-01",
          "2016-11-01",
          "2014-05-01",
          "2018-08-01",
          "2011-12-01",
          "2020-03-01",
          "2006-02-01",
          "2015-05-01",
          "2006-12-01",
          "2017-08-01",
          "2010-02-01",
          "2001-11-01",
          "2004-04-01",
          "2010-10-01",
          "2011-05-01",
          "2002-05-01",
          "2015-06-01",
          "2008-03-01",
          "2004-10-01",
          "2006-06-01",
          "2003-01-01",
          "2008-12-01",
          "2012-04-01",
          "2002-11-01",
          "2015-07-01",
          "2014-11-01",
          "2016-10-01",
          "2009-10-01",
          "2005-03-01",
          "2016-08-01",
          "2019-03-01",
          "2015-11-01",
          "2014-07-01",
          "2017-03-01",
          "2002-01-01",
          "2016-01-01",
          "2007-09-01",
          "2004-03-01",
          "2018-03-01",
          "2018-06-01",
          "2004-02-01",
          "2007-06-01",
          "2020-07-01",
          "2016-03-01",
          "2004-06-01",
          "2010-03-01",
          "2003-12-01",
          "2015-10-01",
          "2018-01-01",
          "2009-02-01",
          "2019-09-01",
          "2019-06-01",
          "2004-08-01",
          "2001-04-01",
          "2008-01-01",
          "2007-12-01",
          "2002-10-01",
          "2009-12-01"
         ],
         "xaxis": "x",
         "y": [
          8845,
          15972,
          13805,
          11639,
          10493,
          12926,
          9603,
          12639,
          9948,
          8887,
          10389,
          8718,
          10996,
          18170,
          11440,
          21014,
          11081,
          11732,
          9746,
          9939,
          7938,
          11025,
          18618,
          10082,
          9045,
          17379,
          8846,
          12639,
          20429,
          14124,
          9841,
          10645,
          15384,
          16790,
          13612,
          10310,
          9179,
          21138,
          20070,
          11212,
          18346,
          10049,
          16791,
          19023,
          12000,
          11156,
          16430,
          9550,
          10872,
          19676,
          9581,
          24199,
          10525,
          12914,
          10184,
          21080,
          12728,
          12264,
          20538,
          9900,
          16492,
          17173,
          15849,
          17426,
          15866,
          18506,
          10948,
          21029,
          15488,
          18635,
          10543,
          12300,
          12060,
          18961,
          10784,
          15904,
          16270,
          9864,
          13835,
          10920,
          9258,
          19009,
          15115,
          13731,
          11710,
          13194,
          11632,
          9159,
          7111,
          10085,
          14292,
          11664,
          13445,
          10833,
          11152,
          10250,
          22119,
          22257,
          16560,
          12725,
          13096,
          14470,
          9820,
          13091,
          9921,
          9661,
          16440,
          10839,
          18567,
          8628,
          10574,
          19718,
          11693,
          10280,
          10600,
          9207,
          13024,
          9810,
          8843,
          5337,
          16937,
          18125,
          13928,
          17432,
          19547,
          10199,
          19225,
          10568,
          8969,
          11062,
          11216,
          17197,
          21441,
          13812,
          13997,
          21653,
          18322,
          23391,
          15443,
          18576,
          12081,
          10776,
          18014,
          15013,
          12007,
          17550,
          13990,
          21310,
          13530,
          13173,
          11372,
          13039,
          21516,
          11421,
          9295,
          12036,
          9722,
          10741,
          14209,
          10843,
          12675,
          15889,
          11994,
          11314,
          9856,
          9577,
          20956,
          11161,
          15593,
          12949,
          14956,
          18934,
          20002,
          15914,
          14329,
          12632,
          21073,
          16393,
          11366,
          16501,
          10866,
          11781,
          16926,
          9605,
          12913,
          9944,
          11753,
          10370,
          19426,
          9965,
          9686,
          13103,
          16696,
          13646,
          11424,
          11630,
          12891,
          18675,
          13054,
          10944,
          9334,
          14132,
          13008,
          15551,
          11448,
          13229,
          14334,
          11587,
          19103,
          12128,
          11997,
          14985,
          11110,
          9632,
          10199,
          21565,
          10540,
          10049,
          10909,
          11218,
          13282,
          15528,
          9851,
          13385,
          9167,
          9556,
          16673,
          10059,
          10131,
          16195,
          11179,
          21198,
          9889,
          9961,
          9808,
          18986,
          9226
         ],
         "yaxis": "y"
        }
       ],
       "layout": {
        "barmode": "relative",
        "legend": {
         "tracegroupgap": 0
        },
        "template": {
         "data": {
          "bar": [
           {
            "error_x": {
             "color": "#2a3f5f"
            },
            "error_y": {
             "color": "#2a3f5f"
            },
            "marker": {
             "line": {
              "color": "#E5ECF6",
              "width": 0.5
             },
             "pattern": {
              "fillmode": "overlay",
              "size": 10,
              "solidity": 0.2
             }
            },
            "type": "bar"
           }
          ],
          "barpolar": [
           {
            "marker": {
             "line": {
              "color": "#E5ECF6",
              "width": 0.5
             },
             "pattern": {
              "fillmode": "overlay",
              "size": 10,
              "solidity": 0.2
             }
            },
            "type": "barpolar"
           }
          ],
          "carpet": [
           {
            "aaxis": {
             "endlinecolor": "#2a3f5f",
             "gridcolor": "white",
             "linecolor": "white",
             "minorgridcolor": "white",
             "startlinecolor": "#2a3f5f"
            },
            "baxis": {
             "endlinecolor": "#2a3f5f",
             "gridcolor": "white",
             "linecolor": "white",
             "minorgridcolor": "white",
             "startlinecolor": "#2a3f5f"
            },
            "type": "carpet"
           }
          ],
          "choropleth": [
           {
            "colorbar": {
             "outlinewidth": 0,
             "ticks": ""
            },
            "type": "choropleth"
           }
          ],
          "contour": [
           {
            "colorbar": {
             "outlinewidth": 0,
             "ticks": ""
            },
            "colorscale": [
             [
              0,
              "#0d0887"
             ],
             [
              0.1111111111111111,
              "#46039f"
             ],
             [
              0.2222222222222222,
              "#7201a8"
             ],
             [
              0.3333333333333333,
              "#9c179e"
             ],
             [
              0.4444444444444444,
              "#bd3786"
             ],
             [
              0.5555555555555556,
              "#d8576b"
             ],
             [
              0.6666666666666666,
              "#ed7953"
             ],
             [
              0.7777777777777778,
              "#fb9f3a"
             ],
             [
              0.8888888888888888,
              "#fdca26"
             ],
             [
              1,
              "#f0f921"
             ]
            ],
            "type": "contour"
           }
          ],
          "contourcarpet": [
           {
            "colorbar": {
             "outlinewidth": 0,
             "ticks": ""
            },
            "type": "contourcarpet"
           }
          ],
          "heatmap": [
           {
            "colorbar": {
             "outlinewidth": 0,
             "ticks": ""
            },
            "colorscale": [
             [
              0,
              "#0d0887"
             ],
             [
              0.1111111111111111,
              "#46039f"
             ],
             [
              0.2222222222222222,
              "#7201a8"
             ],
             [
              0.3333333333333333,
              "#9c179e"
             ],
             [
              0.4444444444444444,
              "#bd3786"
             ],
             [
              0.5555555555555556,
              "#d8576b"
             ],
             [
              0.6666666666666666,
              "#ed7953"
             ],
             [
              0.7777777777777778,
              "#fb9f3a"
             ],
             [
              0.8888888888888888,
              "#fdca26"
             ],
             [
              1,
              "#f0f921"
             ]
            ],
            "type": "heatmap"
           }
          ],
          "heatmapgl": [
           {
            "colorbar": {
             "outlinewidth": 0,
             "ticks": ""
            },
            "colorscale": [
             [
              0,
              "#0d0887"
             ],
             [
              0.1111111111111111,
              "#46039f"
             ],
             [
              0.2222222222222222,
              "#7201a8"
             ],
             [
              0.3333333333333333,
              "#9c179e"
             ],
             [
              0.4444444444444444,
              "#bd3786"
             ],
             [
              0.5555555555555556,
              "#d8576b"
             ],
             [
              0.6666666666666666,
              "#ed7953"
             ],
             [
              0.7777777777777778,
              "#fb9f3a"
             ],
             [
              0.8888888888888888,
              "#fdca26"
             ],
             [
              1,
              "#f0f921"
             ]
            ],
            "type": "heatmapgl"
           }
          ],
          "histogram": [
           {
            "marker": {
             "pattern": {
              "fillmode": "overlay",
              "size": 10,
              "solidity": 0.2
             }
            },
            "type": "histogram"
           }
          ],
          "histogram2d": [
           {
            "colorbar": {
             "outlinewidth": 0,
             "ticks": ""
            },
            "colorscale": [
             [
              0,
              "#0d0887"
             ],
             [
              0.1111111111111111,
              "#46039f"
             ],
             [
              0.2222222222222222,
              "#7201a8"
             ],
             [
              0.3333333333333333,
              "#9c179e"
             ],
             [
              0.4444444444444444,
              "#bd3786"
             ],
             [
              0.5555555555555556,
              "#d8576b"
             ],
             [
              0.6666666666666666,
              "#ed7953"
             ],
             [
              0.7777777777777778,
              "#fb9f3a"
             ],
             [
              0.8888888888888888,
              "#fdca26"
             ],
             [
              1,
              "#f0f921"
             ]
            ],
            "type": "histogram2d"
           }
          ],
          "histogram2dcontour": [
           {
            "colorbar": {
             "outlinewidth": 0,
             "ticks": ""
            },
            "colorscale": [
             [
              0,
              "#0d0887"
             ],
             [
              0.1111111111111111,
              "#46039f"
             ],
             [
              0.2222222222222222,
              "#7201a8"
             ],
             [
              0.3333333333333333,
              "#9c179e"
             ],
             [
              0.4444444444444444,
              "#bd3786"
             ],
             [
              0.5555555555555556,
              "#d8576b"
             ],
             [
              0.6666666666666666,
              "#ed7953"
             ],
             [
              0.7777777777777778,
              "#fb9f3a"
             ],
             [
              0.8888888888888888,
              "#fdca26"
             ],
             [
              1,
              "#f0f921"
             ]
            ],
            "type": "histogram2dcontour"
           }
          ],
          "mesh3d": [
           {
            "colorbar": {
             "outlinewidth": 0,
             "ticks": ""
            },
            "type": "mesh3d"
           }
          ],
          "parcoords": [
           {
            "line": {
             "colorbar": {
              "outlinewidth": 0,
              "ticks": ""
             }
            },
            "type": "parcoords"
           }
          ],
          "pie": [
           {
            "automargin": true,
            "type": "pie"
           }
          ],
          "scatter": [
           {
            "marker": {
             "colorbar": {
              "outlinewidth": 0,
              "ticks": ""
             }
            },
            "type": "scatter"
           }
          ],
          "scatter3d": [
           {
            "line": {
             "colorbar": {
              "outlinewidth": 0,
              "ticks": ""
             }
            },
            "marker": {
             "colorbar": {
              "outlinewidth": 0,
              "ticks": ""
             }
            },
            "type": "scatter3d"
           }
          ],
          "scattercarpet": [
           {
            "marker": {
             "colorbar": {
              "outlinewidth": 0,
              "ticks": ""
             }
            },
            "type": "scattercarpet"
           }
          ],
          "scattergeo": [
           {
            "marker": {
             "colorbar": {
              "outlinewidth": 0,
              "ticks": ""
             }
            },
            "type": "scattergeo"
           }
          ],
          "scattergl": [
           {
            "marker": {
             "colorbar": {
              "outlinewidth": 0,
              "ticks": ""
             }
            },
            "type": "scattergl"
           }
          ],
          "scattermapbox": [
           {
            "marker": {
             "colorbar": {
              "outlinewidth": 0,
              "ticks": ""
             }
            },
            "type": "scattermapbox"
           }
          ],
          "scatterpolar": [
           {
            "marker": {
             "colorbar": {
              "outlinewidth": 0,
              "ticks": ""
             }
            },
            "type": "scatterpolar"
           }
          ],
          "scatterpolargl": [
           {
            "marker": {
             "colorbar": {
              "outlinewidth": 0,
              "ticks": ""
             }
            },
            "type": "scatterpolargl"
           }
          ],
          "scatterternary": [
           {
            "marker": {
             "colorbar": {
              "outlinewidth": 0,
              "ticks": ""
             }
            },
            "type": "scatterternary"
           }
          ],
          "surface": [
           {
            "colorbar": {
             "outlinewidth": 0,
             "ticks": ""
            },
            "colorscale": [
             [
              0,
              "#0d0887"
             ],
             [
              0.1111111111111111,
              "#46039f"
             ],
             [
              0.2222222222222222,
              "#7201a8"
             ],
             [
              0.3333333333333333,
              "#9c179e"
             ],
             [
              0.4444444444444444,
              "#bd3786"
             ],
             [
              0.5555555555555556,
              "#d8576b"
             ],
             [
              0.6666666666666666,
              "#ed7953"
             ],
             [
              0.7777777777777778,
              "#fb9f3a"
             ],
             [
              0.8888888888888888,
              "#fdca26"
             ],
             [
              1,
              "#f0f921"
             ]
            ],
            "type": "surface"
           }
          ],
          "table": [
           {
            "cells": {
             "fill": {
              "color": "#EBF0F8"
             },
             "line": {
              "color": "white"
             }
            },
            "header": {
             "fill": {
              "color": "#C8D4E3"
             },
             "line": {
              "color": "white"
             }
            },
            "type": "table"
           }
          ]
         },
         "layout": {
          "annotationdefaults": {
           "arrowcolor": "#2a3f5f",
           "arrowhead": 0,
           "arrowwidth": 1
          },
          "autotypenumbers": "strict",
          "coloraxis": {
           "colorbar": {
            "outlinewidth": 0,
            "ticks": ""
           }
          },
          "colorscale": {
           "diverging": [
            [
             0,
             "#8e0152"
            ],
            [
             0.1,
             "#c51b7d"
            ],
            [
             0.2,
             "#de77ae"
            ],
            [
             0.3,
             "#f1b6da"
            ],
            [
             0.4,
             "#fde0ef"
            ],
            [
             0.5,
             "#f7f7f7"
            ],
            [
             0.6,
             "#e6f5d0"
            ],
            [
             0.7,
             "#b8e186"
            ],
            [
             0.8,
             "#7fbc41"
            ],
            [
             0.9,
             "#4d9221"
            ],
            [
             1,
             "#276419"
            ]
           ],
           "sequential": [
            [
             0,
             "#0d0887"
            ],
            [
             0.1111111111111111,
             "#46039f"
            ],
            [
             0.2222222222222222,
             "#7201a8"
            ],
            [
             0.3333333333333333,
             "#9c179e"
            ],
            [
             0.4444444444444444,
             "#bd3786"
            ],
            [
             0.5555555555555556,
             "#d8576b"
            ],
            [
             0.6666666666666666,
             "#ed7953"
            ],
            [
             0.7777777777777778,
             "#fb9f3a"
            ],
            [
             0.8888888888888888,
             "#fdca26"
            ],
            [
             1,
             "#f0f921"
            ]
           ],
           "sequentialminus": [
            [
             0,
             "#0d0887"
            ],
            [
             0.1111111111111111,
             "#46039f"
            ],
            [
             0.2222222222222222,
             "#7201a8"
            ],
            [
             0.3333333333333333,
             "#9c179e"
            ],
            [
             0.4444444444444444,
             "#bd3786"
            ],
            [
             0.5555555555555556,
             "#d8576b"
            ],
            [
             0.6666666666666666,
             "#ed7953"
            ],
            [
             0.7777777777777778,
             "#fb9f3a"
            ],
            [
             0.8888888888888888,
             "#fdca26"
            ],
            [
             1,
             "#f0f921"
            ]
           ]
          },
          "colorway": [
           "#636efa",
           "#EF553B",
           "#00cc96",
           "#ab63fa",
           "#FFA15A",
           "#19d3f3",
           "#FF6692",
           "#B6E880",
           "#FF97FF",
           "#FECB52"
          ],
          "font": {
           "color": "#2a3f5f"
          },
          "geo": {
           "bgcolor": "white",
           "lakecolor": "white",
           "landcolor": "#E5ECF6",
           "showlakes": true,
           "showland": true,
           "subunitcolor": "white"
          },
          "hoverlabel": {
           "align": "left"
          },
          "hovermode": "closest",
          "mapbox": {
           "style": "light"
          },
          "paper_bgcolor": "white",
          "plot_bgcolor": "#E5ECF6",
          "polar": {
           "angularaxis": {
            "gridcolor": "white",
            "linecolor": "white",
            "ticks": ""
           },
           "bgcolor": "#E5ECF6",
           "radialaxis": {
            "gridcolor": "white",
            "linecolor": "white",
            "ticks": ""
           }
          },
          "scene": {
           "xaxis": {
            "backgroundcolor": "#E5ECF6",
            "gridcolor": "white",
            "gridwidth": 2,
            "linecolor": "white",
            "showbackground": true,
            "ticks": "",
            "zerolinecolor": "white"
           },
           "yaxis": {
            "backgroundcolor": "#E5ECF6",
            "gridcolor": "white",
            "gridwidth": 2,
            "linecolor": "white",
            "showbackground": true,
            "ticks": "",
            "zerolinecolor": "white"
           },
           "zaxis": {
            "backgroundcolor": "#E5ECF6",
            "gridcolor": "white",
            "gridwidth": 2,
            "linecolor": "white",
            "showbackground": true,
            "ticks": "",
            "zerolinecolor": "white"
           }
          },
          "shapedefaults": {
           "line": {
            "color": "#2a3f5f"
           }
          },
          "ternary": {
           "aaxis": {
            "gridcolor": "white",
            "linecolor": "white",
            "ticks": ""
           },
           "baxis": {
            "gridcolor": "white",
            "linecolor": "white",
            "ticks": ""
           },
           "bgcolor": "#E5ECF6",
           "caxis": {
            "gridcolor": "white",
            "linecolor": "white",
            "ticks": ""
           }
          },
          "title": {
           "x": 0.05
          },
          "xaxis": {
           "automargin": true,
           "gridcolor": "white",
           "linecolor": "white",
           "ticks": "",
           "title": {
            "standoff": 15
           },
           "zerolinecolor": "white",
           "zerolinewidth": 2
          },
          "yaxis": {
           "automargin": true,
           "gridcolor": "white",
           "linecolor": "white",
           "ticks": "",
           "title": {
            "standoff": 15
           },
           "zerolinecolor": "white",
           "zerolinewidth": 2
          }
         }
        },
        "title": {
         "text": "Life expectancy in Canada"
        },
        "xaxis": {
         "anchor": "y",
         "domain": [
          0,
          1
         ],
         "title": {
          "text": "_id"
         }
        },
        "yaxis": {
         "anchor": "x",
         "domain": [
          0,
          1
         ],
         "title": {
          "text": "burned_area"
         }
        }
       }
      }
     },
     "metadata": {},
     "output_type": "display_data"
    }
   ],
   "source": [
    "import plotly.express as px\n",
    "\n",
    "fig = px.bar(df_date, x=\"_id\", y=\"burned_area\", title='Life expectancy in Canada')\n",
    "fig.show()"
   ]
  },
  {
   "cell_type": "code",
   "execution_count": 13,
   "metadata": {},
   "outputs": [
    {
     "data": {
      "text/plain": [
       "[{'_id': 'MY', 'burned_area': 2572},\n",
       " {'_id': 'GY', 'burned_area': 2968},\n",
       " {'_id': 'FJ', 'burned_area': 865},\n",
       " {'_id': 'JP', 'burned_area': 402},\n",
       " {'_id': 'TD', 'burned_area': 42525},\n",
       " {'_id': 'VU', 'burned_area': 229},\n",
       " {'_id': 'LB', 'burned_area': 117},\n",
       " {'_id': 'ET', 'burned_area': 39221},\n",
       " {'_id': 'ML', 'burned_area': 48554},\n",
       " {'_id': 'PH', 'burned_area': 4896},\n",
       " {'_id': 'GN', 'burned_area': 31912},\n",
       " {'_id': 'SO', 'burned_area': 1050},\n",
       " {'_id': 'PR', 'burned_area': 101},\n",
       " {'_id': 'TT', 'burned_area': 127},\n",
       " {'_id': 'BR', 'burned_area': 297973},\n",
       " {'_id': 'SS', 'burned_area': 77883},\n",
       " {'_id': 'LA', 'burned_area': 6541},\n",
       " {'_id': 'KG', 'burned_area': 2207},\n",
       " {'_id': 'RS', 'burned_area': 2960},\n",
       " {'_id': 'NE', 'burned_area': 1702},\n",
       " {'_id': 'EG', 'burned_area': 664},\n",
       " {'_id': 'MK', 'burned_area': 852},\n",
       " {'_id': 'TW', 'burned_area': 122},\n",
       " {'_id': 'NL', 'burned_area': 32},\n",
       " {'_id': 'UA', 'burned_area': 55906},\n",
       " {'_id': 'BZ', 'burned_area': 924},\n",
       " {'_id': 'AT', 'burned_area': 103},\n",
       " {'_id': 'TN', 'burned_area': 671},\n",
       " {'_id': 'VN', 'burned_area': 8160},\n",
       " {'_id': 'AU', 'burned_area': 231628},\n",
       " {'_id': 'FI', 'burned_area': 308},\n",
       " {'_id': 'HK', 'burned_area': 36},\n",
       " {'_id': 'PT', 'burned_area': 3274},\n",
       " {'_id': 'DO', 'burned_area': 758},\n",
       " {'_id': 'CI', 'burned_area': 19516},\n",
       " {'_id': 'GU', 'burned_area': 37},\n",
       " {'_id': 'BW', 'burned_area': 16261},\n",
       " {'_id': 'SN', 'burned_area': 12676},\n",
       " {'_id': 'ES', 'burned_area': 5621},\n",
       " {'_id': 'CO', 'burned_area': 28371},\n",
       " {'_id': 'SR', 'burned_area': 619},\n",
       " {'_id': 'BA', 'burned_area': 1166},\n",
       " {'_id': 'GB', 'burned_area': 923},\n",
       " {'_id': 'LR', 'burned_area': 729},\n",
       " {'_id': 'EC', 'burned_area': 1177},\n",
       " {'_id': 'DK', 'burned_area': 49},\n",
       " {'_id': 'GW', 'burned_area': 4609},\n",
       " {'_id': 'PE', 'burned_area': 5757},\n",
       " {'_id': 'LK', 'burned_area': 1715},\n",
       " {'_id': 'SG', 'burned_area': 7},\n",
       " {'_id': 'MM', 'burned_area': 15814},\n",
       " {'_id': 'GH', 'burned_area': 14868},\n",
       " {'_id': 'GP', 'burned_area': 7},\n",
       " {'_id': 'IR', 'burned_area': 4220},\n",
       " {'_id': 'VI', 'burned_area': 1},\n",
       " {'_id': 'UY', 'burned_area': 2044},\n",
       " {'_id': 'GQ', 'burned_area': 33},\n",
       " {'_id': 'ZM', 'burned_area': 135869},\n",
       " {'_id': 'IN', 'burned_area': 52164},\n",
       " {'_id': 'CL', 'burned_area': 4604},\n",
       " {'_id': 'KP', 'burned_area': 1557},\n",
       " {'_id': 'MW', 'burned_area': 22140},\n",
       " {'_id': 'CH', 'burned_area': 8},\n",
       " {'_id': 'AF', 'burned_area': 768},\n",
       " {'_id': 'IT', 'burned_area': 6936},\n",
       " {'_id': 'KR', 'burned_area': 251},\n",
       " {'_id': 'CF', 'burned_area': 71888},\n",
       " {'_id': 'FR', 'burned_area': 809},\n",
       " {'_id': 'GL', 'burned_area': 35},\n",
       " {'_id': 'NP', 'burned_area': 3239},\n",
       " {'_id': 'BE', 'burned_area': 19},\n",
       " {'_id': 'BB', 'burned_area': 10},\n",
       " {'_id': 'KZ', 'burned_area': 96544},\n",
       " {'_id': 'CW', 'burned_area': 1},\n",
       " {'_id': 'JO', 'burned_area': 58},\n",
       " {'_id': 'ZA', 'burned_area': 64746},\n",
       " {'_id': 'SL', 'burned_area': 6340},\n",
       " {'_id': 'GE', 'burned_area': 1441},\n",
       " {'_id': 'MG', 'burned_area': 65076},\n",
       " {'_id': 'RU', 'burned_area': 379365},\n",
       " {'_id': 'MZ', 'burned_area': 59938},\n",
       " {'_id': 'LC', 'burned_area': 4},\n",
       " {'_id': 'TM', 'burned_area': 816},\n",
       " {'_id': 'LV', 'burned_area': 508},\n",
       " {'_id': 'GA', 'burned_area': 2627},\n",
       " {'_id': 'US', 'burned_area': 100823},\n",
       " {'_id': 'CD', 'burned_area': 144610},\n",
       " {'_id': 'ER', 'burned_area': 1134},\n",
       " {'_id': 'IL', 'burned_area': 142},\n",
       " {'_id': 'FK', 'burned_area': 63},\n",
       " {'_id': 'DM', 'burned_area': 1},\n",
       " {'_id': 'TL', 'burned_area': 1318},\n",
       " {'_id': 'HU', 'burned_area': 2244},\n",
       " {'_id': 'PK', 'burned_area': 2210},\n",
       " {'_id': 'BT', 'burned_area': 260},\n",
       " {'_id': 'GM', 'burned_area': 4860},\n",
       " {'_id': 'PL', 'burned_area': 1247},\n",
       " {'_id': 'GI', 'burned_area': 13},\n",
       " {'_id': 'NA', 'burned_area': 31023},\n",
       " {'_id': 'BD', 'burned_area': 115},\n",
       " {'_id': 'CV', 'burned_area': 1},\n",
       " {'_id': 'MP', 'burned_area': 14},\n",
       " {'_id': 'GF', 'burned_area': 1781},\n",
       " {'_id': 'CM', 'burned_area': 28053},\n",
       " {'_id': 'IQ', 'burned_area': 3522},\n",
       " {'_id': 'CY', 'burned_area': 100},\n",
       " {'_id': 'YE', 'burned_area': 2},\n",
       " {'_id': 'AZ', 'burned_area': 3512},\n",
       " {'_id': 'ST', 'burned_area': 3},\n",
       " {'_id': 'TG', 'burned_area': 5824},\n",
       " {'_id': 'TJ', 'burned_area': 240},\n",
       " {'_id': 'RW', 'burned_area': 623},\n",
       " {'_id': 'KM', 'burned_area': 114},\n",
       " {'_id': 'IE', 'burned_area': 231},\n",
       " {'_id': 'MR', 'burned_area': 1118},\n",
       " {'_id': 'PS', 'burned_area': 45},\n",
       " {'_id': 'NG', 'burned_area': 55898},\n",
       " {'_id': 'UZ', 'burned_area': 2502},\n",
       " {'_id': 'NI', 'burned_area': 3927},\n",
       " {'_id': 'GR', 'burned_area': 2408},\n",
       " {'_id': 'YT', 'burned_area': 1},\n",
       " {'_id': 'MT', 'burned_area': 1},\n",
       " {'_id': 'CA', 'burned_area': 32047},\n",
       " {'_id': 'AM', 'burned_area': 1081},\n",
       " {'_id': 'SY', 'burned_area': 1985},\n",
       " {'_id': 'BY', 'burned_area': 4772},\n",
       " {'_id': 'HR', 'burned_area': 1216},\n",
       " {'_id': 'SB', 'burned_area': 38},\n",
       " {'_id': 'PA', 'burned_area': 1363},\n",
       " {'_id': 'SA', 'burned_area': 118},\n",
       " {'_id': 'MX', 'burned_area': 34124},\n",
       " {'_id': 'UG', 'burned_area': 18780},\n",
       " {'_id': 'EE', 'burned_area': 169},\n",
       " {'_id': 'LY', 'burned_area': 73},\n",
       " {'_id': 'NZ', 'burned_area': 246},\n",
       " {'_id': 'CG', 'burned_area': 14815},\n",
       " {'_id': 'BG', 'burned_area': 5581},\n",
       " {'_id': 'DE', 'burned_area': 96},\n",
       " {'_id': 'ME', 'burned_area': 423},\n",
       " {'_id': 'HN', 'burned_area': 5392},\n",
       " {'_id': 'BJ', 'burned_area': 10202},\n",
       " {'_id': 'MA', 'burned_area': 609},\n",
       " {'_id': 'KN', 'burned_area': 10},\n",
       " {'_id': 'BS', 'burned_area': 498},\n",
       " {'_id': 'BO', 'burned_area': 36339},\n",
       " {'_id': 'AO', 'burned_area': 121719},\n",
       " {'_id': 'BN', 'burned_area': 115},\n",
       " {'_id': 'SI', 'burned_area': 19},\n",
       " {'_id': 'CU', 'burned_area': 6497},\n",
       " {'_id': 'SK', 'burned_area': 285},\n",
       " {'_id': 'MQ', 'burned_area': 3},\n",
       " {'_id': 'AL', 'burned_area': 1077},\n",
       " {'_id': 'GT', 'burned_area': 5056},\n",
       " {'_id': 'KE', 'burned_area': 6390},\n",
       " {'_id': 'BI', 'burned_area': 2829},\n",
       " {'_id': 'CN', 'burned_area': 56139},\n",
       " {'_id': 'SZ', 'burned_area': 4357},\n",
       " {'_id': 'BF', 'burned_area': 21049},\n",
       " {'_id': 'TR', 'burned_area': 12547},\n",
       " {'_id': 'HT', 'burned_area': 388},\n",
       " {'_id': 'DZ', 'burned_area': 5049},\n",
       " {'_id': 'CZ', 'burned_area': 148},\n",
       " {'_id': 'LT', 'burned_area': 624},\n",
       " {'_id': 'NO', 'burned_area': 205},\n",
       " {'_id': 'TH', 'burned_area': 34604},\n",
       " {'_id': 'SV', 'burned_area': 1595},\n",
       " {'_id': 'PY', 'burned_area': 22995},\n",
       " {'_id': 'JM', 'burned_area': 204},\n",
       " {'_id': 'TZ', 'burned_area': 85389},\n",
       " {'_id': 'ZW', 'burned_area': 39956},\n",
       " {'_id': 'VE', 'burned_area': 44191},\n",
       " {'_id': 'KH', 'burned_area': 9585},\n",
       " {'_id': 'RE', 'burned_area': 68},\n",
       " {'_id': 'LS', 'burned_area': 2267},\n",
       " {'_id': 'SE', 'burned_area': 393},\n",
       " {'_id': 'MN', 'burned_area': 5618},\n",
       " {'_id': 'MU', 'burned_area': 47},\n",
       " {'_id': 'NC', 'burned_area': 355},\n",
       " {'_id': 'ID', 'burned_area': 26109},\n",
       " {'_id': 'MD', 'burned_area': 2548},\n",
       " {'_id': 'XK', 'burned_area': 375},\n",
       " {'_id': 'IS', 'burned_area': 27},\n",
       " {'_id': 'CR', 'burned_area': 1368},\n",
       " {'_id': 'MS', 'burned_area': 5},\n",
       " {'_id': 'SD', 'burned_area': 46871},\n",
       " {'_id': 'AG', 'burned_area': 3},\n",
       " {'_id': 'RO', 'burned_area': 10540},\n",
       " {'_id': 'AR', 'burned_area': 65644},\n",
       " {'_id': 'PG', 'burned_area': 6594},\n",
       " {'_id': 'DJ', 'burned_area': 8}]"
      ]
     },
     "execution_count": 13,
     "metadata": {},
     "output_type": "execute_result"
    }
   ],
   "source": [
    "list_date = list ()\n",
    "agg_result= mycol.aggregate(\n",
    "    [{\n",
    "    \"$group\" : \n",
    "        {\"_id\" : \"$country\", \n",
    "         \"burned_area\" : {\"$sum\" : 1}\n",
    "         }\n",
    "    }])\n",
    "for i in agg_result:\n",
    "    list_date.append(i)\n",
    "list_date"
   ]
  },
  {
   "cell_type": "code",
   "execution_count": 14,
   "metadata": {},
   "outputs": [
    {
     "data": {
      "text/html": [
       "<div>\n",
       "<style scoped>\n",
       "    .dataframe tbody tr th:only-of-type {\n",
       "        vertical-align: middle;\n",
       "    }\n",
       "\n",
       "    .dataframe tbody tr th {\n",
       "        vertical-align: top;\n",
       "    }\n",
       "\n",
       "    .dataframe thead th {\n",
       "        text-align: right;\n",
       "    }\n",
       "</style>\n",
       "<table border=\"1\" class=\"dataframe\">\n",
       "  <thead>\n",
       "    <tr style=\"text-align: right;\">\n",
       "      <th></th>\n",
       "      <th>_id</th>\n",
       "      <th>burned_area</th>\n",
       "    </tr>\n",
       "  </thead>\n",
       "  <tbody>\n",
       "    <tr>\n",
       "      <th>79</th>\n",
       "      <td>RU</td>\n",
       "      <td>379365</td>\n",
       "    </tr>\n",
       "    <tr>\n",
       "      <th>14</th>\n",
       "      <td>BR</td>\n",
       "      <td>297973</td>\n",
       "    </tr>\n",
       "    <tr>\n",
       "      <th>29</th>\n",
       "      <td>AU</td>\n",
       "      <td>231628</td>\n",
       "    </tr>\n",
       "    <tr>\n",
       "      <th>86</th>\n",
       "      <td>CD</td>\n",
       "      <td>144610</td>\n",
       "    </tr>\n",
       "    <tr>\n",
       "      <th>57</th>\n",
       "      <td>ZM</td>\n",
       "      <td>135869</td>\n",
       "    </tr>\n",
       "    <tr>\n",
       "      <th>...</th>\n",
       "      <td>...</td>\n",
       "      <td>...</td>\n",
       "    </tr>\n",
       "    <tr>\n",
       "      <th>73</th>\n",
       "      <td>CW</td>\n",
       "      <td>1</td>\n",
       "    </tr>\n",
       "    <tr>\n",
       "      <th>90</th>\n",
       "      <td>DM</td>\n",
       "      <td>1</td>\n",
       "    </tr>\n",
       "    <tr>\n",
       "      <th>121</th>\n",
       "      <td>MT</td>\n",
       "      <td>1</td>\n",
       "    </tr>\n",
       "    <tr>\n",
       "      <th>54</th>\n",
       "      <td>VI</td>\n",
       "      <td>1</td>\n",
       "    </tr>\n",
       "    <tr>\n",
       "      <th>120</th>\n",
       "      <td>YT</td>\n",
       "      <td>1</td>\n",
       "    </tr>\n",
       "  </tbody>\n",
       "</table>\n",
       "<p>190 rows × 2 columns</p>\n",
       "</div>"
      ],
      "text/plain": [
       "    _id  burned_area\n",
       "79   RU       379365\n",
       "14   BR       297973\n",
       "29   AU       231628\n",
       "86   CD       144610\n",
       "57   ZM       135869\n",
       "..   ..          ...\n",
       "73   CW            1\n",
       "90   DM            1\n",
       "121  MT            1\n",
       "54   VI            1\n",
       "120  YT            1\n",
       "\n",
       "[190 rows x 2 columns]"
      ]
     },
     "execution_count": 14,
     "metadata": {},
     "output_type": "execute_result"
    }
   ],
   "source": [
    "df_date = pd.DataFrame(list_date).sort_values(by=['burned_area'], ascending= False)\n",
    "df_date"
   ]
  },
  {
   "cell_type": "code",
   "execution_count": 15,
   "metadata": {},
   "outputs": [
    {
     "data": {
      "application/vnd.plotly.v1+json": {
       "config": {
        "plotlyServerURL": "https://plot.ly"
       },
       "data": [
        {
         "alignmentgroup": "True",
         "hovertemplate": "_id=%{x}<br>burned_area=%{y}<extra></extra>",
         "legendgroup": "",
         "marker": {
          "color": "#636efa",
          "pattern": {
           "shape": ""
          }
         },
         "name": "",
         "offsetgroup": "",
         "orientation": "v",
         "showlegend": false,
         "textposition": "auto",
         "type": "bar",
         "x": [
          "RU",
          "BR",
          "AU",
          "CD",
          "ZM",
          "AO",
          "US",
          "KZ",
          "TZ",
          "SS",
          "CF",
          "AR",
          "MG",
          "ZA",
          "MZ",
          "CN",
          "UA",
          "NG",
          "IN",
          "ML",
          "SD",
          "VE",
          "TD",
          "ZW",
          "ET",
          "BO",
          "TH",
          "MX",
          "CA",
          "GN",
          "NA",
          "CO",
          "CM",
          "ID",
          "PY",
          "MW",
          "BF",
          "CI",
          "UG",
          "BW",
          "MM",
          "GH",
          "CG",
          "SN",
          "TR",
          "RO",
          "BJ",
          "KH",
          "VN",
          "IT",
          "PG",
          "LA",
          "CU",
          "KE",
          "SL",
          "TG",
          "PE",
          "ES",
          "MN",
          "BG",
          "HN",
          "GT",
          "DZ",
          "PH",
          "GM",
          "BY",
          "GW",
          "CL",
          "SZ",
          "IR",
          "NI",
          "IQ",
          "AZ",
          "PT",
          "NP",
          "GY",
          "RS",
          "BI",
          "GA",
          "MY",
          "MD",
          "UZ",
          "GR",
          "LS",
          "HU",
          "PK",
          "KG",
          "UY",
          "SY",
          "GF",
          "LK",
          "NE",
          "SV",
          "KP",
          "GE",
          "CR",
          "PA",
          "TL",
          "PL",
          "HR",
          "EC",
          "BA",
          "ER",
          "MR",
          "AM",
          "AL",
          "SO",
          "BZ",
          "GB",
          "FJ",
          "MK",
          "TM",
          "FR",
          "AF",
          "DO",
          "LR",
          "TN",
          "EG",
          "LT",
          "RW",
          "SR",
          "MA",
          "LV",
          "BS",
          "ME",
          "JP",
          "SE",
          "HT",
          "XK",
          "NC",
          "FI",
          "SK",
          "BT",
          "KR",
          "NZ",
          "TJ",
          "IE",
          "VU",
          "NO",
          "JM",
          "EE",
          "CZ",
          "IL",
          "TT",
          "TW",
          "SA",
          "LB",
          "BD",
          "BN",
          "KM",
          "AT",
          "PR",
          "CY",
          "DE",
          "LY",
          "RE",
          "FK",
          "JO",
          "DK",
          "MU",
          "PS",
          "SB",
          "GU",
          "HK",
          "GL",
          "GQ",
          "NL",
          "IS",
          "SI",
          "BE",
          "MP",
          "GI",
          "KN",
          "BB",
          "DJ",
          "CH",
          "SG",
          "GP",
          "MS",
          "LC",
          "AG",
          "MQ",
          "ST",
          "YE",
          "CV",
          "CW",
          "DM",
          "MT",
          "VI",
          "YT"
         ],
         "xaxis": "x",
         "y": [
          379365,
          297973,
          231628,
          144610,
          135869,
          121719,
          100823,
          96544,
          85389,
          77883,
          71888,
          65644,
          65076,
          64746,
          59938,
          56139,
          55906,
          55898,
          52164,
          48554,
          46871,
          44191,
          42525,
          39956,
          39221,
          36339,
          34604,
          34124,
          32047,
          31912,
          31023,
          28371,
          28053,
          26109,
          22995,
          22140,
          21049,
          19516,
          18780,
          16261,
          15814,
          14868,
          14815,
          12676,
          12547,
          10540,
          10202,
          9585,
          8160,
          6936,
          6594,
          6541,
          6497,
          6390,
          6340,
          5824,
          5757,
          5621,
          5618,
          5581,
          5392,
          5056,
          5049,
          4896,
          4860,
          4772,
          4609,
          4604,
          4357,
          4220,
          3927,
          3522,
          3512,
          3274,
          3239,
          2968,
          2960,
          2829,
          2627,
          2572,
          2548,
          2502,
          2408,
          2267,
          2244,
          2210,
          2207,
          2044,
          1985,
          1781,
          1715,
          1702,
          1595,
          1557,
          1441,
          1368,
          1363,
          1318,
          1247,
          1216,
          1177,
          1166,
          1134,
          1118,
          1081,
          1077,
          1050,
          924,
          923,
          865,
          852,
          816,
          809,
          768,
          758,
          729,
          671,
          664,
          624,
          623,
          619,
          609,
          508,
          498,
          423,
          402,
          393,
          388,
          375,
          355,
          308,
          285,
          260,
          251,
          246,
          240,
          231,
          229,
          205,
          204,
          169,
          148,
          142,
          127,
          122,
          118,
          117,
          115,
          115,
          114,
          103,
          101,
          100,
          96,
          73,
          68,
          63,
          58,
          49,
          47,
          45,
          38,
          37,
          36,
          35,
          33,
          32,
          27,
          19,
          19,
          14,
          13,
          10,
          10,
          8,
          8,
          7,
          7,
          5,
          4,
          3,
          3,
          3,
          2,
          1,
          1,
          1,
          1,
          1,
          1
         ],
         "yaxis": "y"
        }
       ],
       "layout": {
        "barmode": "relative",
        "legend": {
         "tracegroupgap": 0
        },
        "template": {
         "data": {
          "bar": [
           {
            "error_x": {
             "color": "#2a3f5f"
            },
            "error_y": {
             "color": "#2a3f5f"
            },
            "marker": {
             "line": {
              "color": "#E5ECF6",
              "width": 0.5
             },
             "pattern": {
              "fillmode": "overlay",
              "size": 10,
              "solidity": 0.2
             }
            },
            "type": "bar"
           }
          ],
          "barpolar": [
           {
            "marker": {
             "line": {
              "color": "#E5ECF6",
              "width": 0.5
             },
             "pattern": {
              "fillmode": "overlay",
              "size": 10,
              "solidity": 0.2
             }
            },
            "type": "barpolar"
           }
          ],
          "carpet": [
           {
            "aaxis": {
             "endlinecolor": "#2a3f5f",
             "gridcolor": "white",
             "linecolor": "white",
             "minorgridcolor": "white",
             "startlinecolor": "#2a3f5f"
            },
            "baxis": {
             "endlinecolor": "#2a3f5f",
             "gridcolor": "white",
             "linecolor": "white",
             "minorgridcolor": "white",
             "startlinecolor": "#2a3f5f"
            },
            "type": "carpet"
           }
          ],
          "choropleth": [
           {
            "colorbar": {
             "outlinewidth": 0,
             "ticks": ""
            },
            "type": "choropleth"
           }
          ],
          "contour": [
           {
            "colorbar": {
             "outlinewidth": 0,
             "ticks": ""
            },
            "colorscale": [
             [
              0,
              "#0d0887"
             ],
             [
              0.1111111111111111,
              "#46039f"
             ],
             [
              0.2222222222222222,
              "#7201a8"
             ],
             [
              0.3333333333333333,
              "#9c179e"
             ],
             [
              0.4444444444444444,
              "#bd3786"
             ],
             [
              0.5555555555555556,
              "#d8576b"
             ],
             [
              0.6666666666666666,
              "#ed7953"
             ],
             [
              0.7777777777777778,
              "#fb9f3a"
             ],
             [
              0.8888888888888888,
              "#fdca26"
             ],
             [
              1,
              "#f0f921"
             ]
            ],
            "type": "contour"
           }
          ],
          "contourcarpet": [
           {
            "colorbar": {
             "outlinewidth": 0,
             "ticks": ""
            },
            "type": "contourcarpet"
           }
          ],
          "heatmap": [
           {
            "colorbar": {
             "outlinewidth": 0,
             "ticks": ""
            },
            "colorscale": [
             [
              0,
              "#0d0887"
             ],
             [
              0.1111111111111111,
              "#46039f"
             ],
             [
              0.2222222222222222,
              "#7201a8"
             ],
             [
              0.3333333333333333,
              "#9c179e"
             ],
             [
              0.4444444444444444,
              "#bd3786"
             ],
             [
              0.5555555555555556,
              "#d8576b"
             ],
             [
              0.6666666666666666,
              "#ed7953"
             ],
             [
              0.7777777777777778,
              "#fb9f3a"
             ],
             [
              0.8888888888888888,
              "#fdca26"
             ],
             [
              1,
              "#f0f921"
             ]
            ],
            "type": "heatmap"
           }
          ],
          "heatmapgl": [
           {
            "colorbar": {
             "outlinewidth": 0,
             "ticks": ""
            },
            "colorscale": [
             [
              0,
              "#0d0887"
             ],
             [
              0.1111111111111111,
              "#46039f"
             ],
             [
              0.2222222222222222,
              "#7201a8"
             ],
             [
              0.3333333333333333,
              "#9c179e"
             ],
             [
              0.4444444444444444,
              "#bd3786"
             ],
             [
              0.5555555555555556,
              "#d8576b"
             ],
             [
              0.6666666666666666,
              "#ed7953"
             ],
             [
              0.7777777777777778,
              "#fb9f3a"
             ],
             [
              0.8888888888888888,
              "#fdca26"
             ],
             [
              1,
              "#f0f921"
             ]
            ],
            "type": "heatmapgl"
           }
          ],
          "histogram": [
           {
            "marker": {
             "pattern": {
              "fillmode": "overlay",
              "size": 10,
              "solidity": 0.2
             }
            },
            "type": "histogram"
           }
          ],
          "histogram2d": [
           {
            "colorbar": {
             "outlinewidth": 0,
             "ticks": ""
            },
            "colorscale": [
             [
              0,
              "#0d0887"
             ],
             [
              0.1111111111111111,
              "#46039f"
             ],
             [
              0.2222222222222222,
              "#7201a8"
             ],
             [
              0.3333333333333333,
              "#9c179e"
             ],
             [
              0.4444444444444444,
              "#bd3786"
             ],
             [
              0.5555555555555556,
              "#d8576b"
             ],
             [
              0.6666666666666666,
              "#ed7953"
             ],
             [
              0.7777777777777778,
              "#fb9f3a"
             ],
             [
              0.8888888888888888,
              "#fdca26"
             ],
             [
              1,
              "#f0f921"
             ]
            ],
            "type": "histogram2d"
           }
          ],
          "histogram2dcontour": [
           {
            "colorbar": {
             "outlinewidth": 0,
             "ticks": ""
            },
            "colorscale": [
             [
              0,
              "#0d0887"
             ],
             [
              0.1111111111111111,
              "#46039f"
             ],
             [
              0.2222222222222222,
              "#7201a8"
             ],
             [
              0.3333333333333333,
              "#9c179e"
             ],
             [
              0.4444444444444444,
              "#bd3786"
             ],
             [
              0.5555555555555556,
              "#d8576b"
             ],
             [
              0.6666666666666666,
              "#ed7953"
             ],
             [
              0.7777777777777778,
              "#fb9f3a"
             ],
             [
              0.8888888888888888,
              "#fdca26"
             ],
             [
              1,
              "#f0f921"
             ]
            ],
            "type": "histogram2dcontour"
           }
          ],
          "mesh3d": [
           {
            "colorbar": {
             "outlinewidth": 0,
             "ticks": ""
            },
            "type": "mesh3d"
           }
          ],
          "parcoords": [
           {
            "line": {
             "colorbar": {
              "outlinewidth": 0,
              "ticks": ""
             }
            },
            "type": "parcoords"
           }
          ],
          "pie": [
           {
            "automargin": true,
            "type": "pie"
           }
          ],
          "scatter": [
           {
            "marker": {
             "colorbar": {
              "outlinewidth": 0,
              "ticks": ""
             }
            },
            "type": "scatter"
           }
          ],
          "scatter3d": [
           {
            "line": {
             "colorbar": {
              "outlinewidth": 0,
              "ticks": ""
             }
            },
            "marker": {
             "colorbar": {
              "outlinewidth": 0,
              "ticks": ""
             }
            },
            "type": "scatter3d"
           }
          ],
          "scattercarpet": [
           {
            "marker": {
             "colorbar": {
              "outlinewidth": 0,
              "ticks": ""
             }
            },
            "type": "scattercarpet"
           }
          ],
          "scattergeo": [
           {
            "marker": {
             "colorbar": {
              "outlinewidth": 0,
              "ticks": ""
             }
            },
            "type": "scattergeo"
           }
          ],
          "scattergl": [
           {
            "marker": {
             "colorbar": {
              "outlinewidth": 0,
              "ticks": ""
             }
            },
            "type": "scattergl"
           }
          ],
          "scattermapbox": [
           {
            "marker": {
             "colorbar": {
              "outlinewidth": 0,
              "ticks": ""
             }
            },
            "type": "scattermapbox"
           }
          ],
          "scatterpolar": [
           {
            "marker": {
             "colorbar": {
              "outlinewidth": 0,
              "ticks": ""
             }
            },
            "type": "scatterpolar"
           }
          ],
          "scatterpolargl": [
           {
            "marker": {
             "colorbar": {
              "outlinewidth": 0,
              "ticks": ""
             }
            },
            "type": "scatterpolargl"
           }
          ],
          "scatterternary": [
           {
            "marker": {
             "colorbar": {
              "outlinewidth": 0,
              "ticks": ""
             }
            },
            "type": "scatterternary"
           }
          ],
          "surface": [
           {
            "colorbar": {
             "outlinewidth": 0,
             "ticks": ""
            },
            "colorscale": [
             [
              0,
              "#0d0887"
             ],
             [
              0.1111111111111111,
              "#46039f"
             ],
             [
              0.2222222222222222,
              "#7201a8"
             ],
             [
              0.3333333333333333,
              "#9c179e"
             ],
             [
              0.4444444444444444,
              "#bd3786"
             ],
             [
              0.5555555555555556,
              "#d8576b"
             ],
             [
              0.6666666666666666,
              "#ed7953"
             ],
             [
              0.7777777777777778,
              "#fb9f3a"
             ],
             [
              0.8888888888888888,
              "#fdca26"
             ],
             [
              1,
              "#f0f921"
             ]
            ],
            "type": "surface"
           }
          ],
          "table": [
           {
            "cells": {
             "fill": {
              "color": "#EBF0F8"
             },
             "line": {
              "color": "white"
             }
            },
            "header": {
             "fill": {
              "color": "#C8D4E3"
             },
             "line": {
              "color": "white"
             }
            },
            "type": "table"
           }
          ]
         },
         "layout": {
          "annotationdefaults": {
           "arrowcolor": "#2a3f5f",
           "arrowhead": 0,
           "arrowwidth": 1
          },
          "autotypenumbers": "strict",
          "coloraxis": {
           "colorbar": {
            "outlinewidth": 0,
            "ticks": ""
           }
          },
          "colorscale": {
           "diverging": [
            [
             0,
             "#8e0152"
            ],
            [
             0.1,
             "#c51b7d"
            ],
            [
             0.2,
             "#de77ae"
            ],
            [
             0.3,
             "#f1b6da"
            ],
            [
             0.4,
             "#fde0ef"
            ],
            [
             0.5,
             "#f7f7f7"
            ],
            [
             0.6,
             "#e6f5d0"
            ],
            [
             0.7,
             "#b8e186"
            ],
            [
             0.8,
             "#7fbc41"
            ],
            [
             0.9,
             "#4d9221"
            ],
            [
             1,
             "#276419"
            ]
           ],
           "sequential": [
            [
             0,
             "#0d0887"
            ],
            [
             0.1111111111111111,
             "#46039f"
            ],
            [
             0.2222222222222222,
             "#7201a8"
            ],
            [
             0.3333333333333333,
             "#9c179e"
            ],
            [
             0.4444444444444444,
             "#bd3786"
            ],
            [
             0.5555555555555556,
             "#d8576b"
            ],
            [
             0.6666666666666666,
             "#ed7953"
            ],
            [
             0.7777777777777778,
             "#fb9f3a"
            ],
            [
             0.8888888888888888,
             "#fdca26"
            ],
            [
             1,
             "#f0f921"
            ]
           ],
           "sequentialminus": [
            [
             0,
             "#0d0887"
            ],
            [
             0.1111111111111111,
             "#46039f"
            ],
            [
             0.2222222222222222,
             "#7201a8"
            ],
            [
             0.3333333333333333,
             "#9c179e"
            ],
            [
             0.4444444444444444,
             "#bd3786"
            ],
            [
             0.5555555555555556,
             "#d8576b"
            ],
            [
             0.6666666666666666,
             "#ed7953"
            ],
            [
             0.7777777777777778,
             "#fb9f3a"
            ],
            [
             0.8888888888888888,
             "#fdca26"
            ],
            [
             1,
             "#f0f921"
            ]
           ]
          },
          "colorway": [
           "#636efa",
           "#EF553B",
           "#00cc96",
           "#ab63fa",
           "#FFA15A",
           "#19d3f3",
           "#FF6692",
           "#B6E880",
           "#FF97FF",
           "#FECB52"
          ],
          "font": {
           "color": "#2a3f5f"
          },
          "geo": {
           "bgcolor": "white",
           "lakecolor": "white",
           "landcolor": "#E5ECF6",
           "showlakes": true,
           "showland": true,
           "subunitcolor": "white"
          },
          "hoverlabel": {
           "align": "left"
          },
          "hovermode": "closest",
          "mapbox": {
           "style": "light"
          },
          "paper_bgcolor": "white",
          "plot_bgcolor": "#E5ECF6",
          "polar": {
           "angularaxis": {
            "gridcolor": "white",
            "linecolor": "white",
            "ticks": ""
           },
           "bgcolor": "#E5ECF6",
           "radialaxis": {
            "gridcolor": "white",
            "linecolor": "white",
            "ticks": ""
           }
          },
          "scene": {
           "xaxis": {
            "backgroundcolor": "#E5ECF6",
            "gridcolor": "white",
            "gridwidth": 2,
            "linecolor": "white",
            "showbackground": true,
            "ticks": "",
            "zerolinecolor": "white"
           },
           "yaxis": {
            "backgroundcolor": "#E5ECF6",
            "gridcolor": "white",
            "gridwidth": 2,
            "linecolor": "white",
            "showbackground": true,
            "ticks": "",
            "zerolinecolor": "white"
           },
           "zaxis": {
            "backgroundcolor": "#E5ECF6",
            "gridcolor": "white",
            "gridwidth": 2,
            "linecolor": "white",
            "showbackground": true,
            "ticks": "",
            "zerolinecolor": "white"
           }
          },
          "shapedefaults": {
           "line": {
            "color": "#2a3f5f"
           }
          },
          "ternary": {
           "aaxis": {
            "gridcolor": "white",
            "linecolor": "white",
            "ticks": ""
           },
           "baxis": {
            "gridcolor": "white",
            "linecolor": "white",
            "ticks": ""
           },
           "bgcolor": "#E5ECF6",
           "caxis": {
            "gridcolor": "white",
            "linecolor": "white",
            "ticks": ""
           }
          },
          "title": {
           "x": 0.05
          },
          "xaxis": {
           "automargin": true,
           "gridcolor": "white",
           "linecolor": "white",
           "ticks": "",
           "title": {
            "standoff": 15
           },
           "zerolinecolor": "white",
           "zerolinewidth": 2
          },
          "yaxis": {
           "automargin": true,
           "gridcolor": "white",
           "linecolor": "white",
           "ticks": "",
           "title": {
            "standoff": 15
           },
           "zerolinecolor": "white",
           "zerolinewidth": 2
          }
         }
        },
        "title": {
         "text": "Life expectancy in Canada"
        },
        "xaxis": {
         "anchor": "y",
         "domain": [
          0,
          1
         ],
         "title": {
          "text": "_id"
         }
        },
        "yaxis": {
         "anchor": "x",
         "domain": [
          0,
          1
         ],
         "title": {
          "text": "burned_area"
         }
        }
       }
      }
     },
     "metadata": {},
     "output_type": "display_data"
    }
   ],
   "source": [
    "fig = px.bar(df_date, x=\"_id\", y=\"burned_area\", title='Life expectancy in Canada')\n",
    "fig.show()"
   ]
  },
  {
   "cell_type": "markdown",
   "metadata": {},
   "source": [
    "## Verbrannte Fläche pro Vegetationstyp"
   ]
  },
  {
   "cell_type": "code",
   "execution_count": 16,
   "metadata": {},
   "outputs": [],
   "source": [
    "# Summe der Verbranten Fläche ->  pro Vegetatoionstyp\n",
    "# Waterfall Diagramm"
   ]
  },
  {
   "cell_type": "code",
   "execution_count": 17,
   "metadata": {},
   "outputs": [
    {
     "data": {
      "text/plain": [
       "[{'_id': None,\n",
       "  'burned_area': 89940704892432.0,\n",
       "  'no_data_burned_area': 7004942864842.0,\n",
       "  'tree_cover_broadleaved_deciduous_burned_area': 35183926581228.0,\n",
       "  'tree_cover_needleleaved_evergreen_burned_area': 807798707721.0,\n",
       "  'tree_cover_needleleaved_deciduous_burned_area': 988045537799.0,\n",
       "  'tree_cover_mixed_leave_burned_area': 151480670524.0,\n",
       "  'cropland_burned_area': 5687008018231.0,\n",
       "  'mosaic_tree_grass_burned_area': 4188674581006.0,\n",
       "  'flooded_area_burned_area': 2544568553482.0,\n",
       "  'other_vegetation_burned_area': 31979288438507.0}]"
      ]
     },
     "execution_count": 17,
     "metadata": {},
     "output_type": "execute_result"
    }
   ],
   "source": [
    "\n",
    "list_veg = list ()\n",
    "agg_result= mycol.aggregate([{ \"$group\":\n",
    "  { \"_id\" : None,  \n",
    "    \"burned_area\"  : { \"$sum\": \"$burned_area\" }, \n",
    "    \"no_data_burned_area\"  : { \"$sum\":\"$no_data_burned_area\" },\n",
    "    \"tree_cover_broadleaved_deciduous_burned_area\"  : { \"$sum\":\"$tree_cover_broadleaved_deciduous_burned_area\" },\n",
    "    \"tree_cover_broadleaved_deciduous_burned_area\"  : { \"$sum\":\"$tree_cover_broadleaved_deciduous_burned_area\" },\n",
    "    \"tree_cover_needleleaved_evergreen_burned_area\"  : { \"$sum\":\"$tree_cover_needleleaved_evergreen_burned_area\" },\n",
    "    \"tree_cover_needleleaved_deciduous_burned_area\"  : { \"$sum\":\"$tree_cover_needleleaved_deciduous_burned_area\" },\n",
    "    \"tree_cover_mixed_leave_burned_area\"  : { \"$sum\":\"$tree_cover_mixed_leave_burned_area\"},\n",
    "    \"cropland_burned_area\"  : { \"$sum\":\"$cropland_burned_area\" },\n",
    "    \"mosaic_tree_grass_burned_area\"  : { \"$sum\":\"$mosaic_tree_grass_burned_area\" },\n",
    "    \"flooded_area_burned_area\"  : { \"$sum\":\"$flooded_area_burned_area\" },\n",
    "    \"other_vegetation_burned_area\"  : { \"$sum\":\"$other_vegetation_burned_area\" },}\n",
    "}])\n",
    "for i in agg_result:\n",
    "    list_veg.append(i)\n",
    "list_veg"
   ]
  },
  {
   "cell_type": "code",
   "execution_count": 18,
   "metadata": {},
   "outputs": [],
   "source": [
    "df_veg = pd.DataFrame(list_veg)"
   ]
  },
  {
   "cell_type": "code",
   "execution_count": 19,
   "metadata": {},
   "outputs": [],
   "source": [
    "df_veg= df_veg.drop(columns='_id')"
   ]
  },
  {
   "cell_type": "code",
   "execution_count": 20,
   "metadata": {},
   "outputs": [
    {
     "data": {
      "application/vnd.plotly.v1+json": {
       "config": {
        "plotlyServerURL": "https://plot.ly"
       },
       "data": [
        {
         "alignmentgroup": "True",
         "hovertemplate": "variable=burned_area<br>index=%{x}<br>value=%{y}<extra></extra>",
         "legendgroup": "burned_area",
         "marker": {
          "color": "#636efa",
          "pattern": {
           "shape": ""
          }
         },
         "name": "burned_area",
         "offsetgroup": "burned_area",
         "orientation": "v",
         "showlegend": true,
         "textposition": "auto",
         "type": "bar",
         "x": [
          0
         ],
         "xaxis": "x",
         "y": [
          89940704892432
         ],
         "yaxis": "y"
        },
        {
         "alignmentgroup": "True",
         "hovertemplate": "variable=no_data_burned_area<br>index=%{x}<br>value=%{y}<extra></extra>",
         "legendgroup": "no_data_burned_area",
         "marker": {
          "color": "#EF553B",
          "pattern": {
           "shape": ""
          }
         },
         "name": "no_data_burned_area",
         "offsetgroup": "no_data_burned_area",
         "orientation": "v",
         "showlegend": true,
         "textposition": "auto",
         "type": "bar",
         "x": [
          0
         ],
         "xaxis": "x",
         "y": [
          7004942864842
         ],
         "yaxis": "y"
        },
        {
         "alignmentgroup": "True",
         "hovertemplate": "variable=tree_cover_broadleaved_deciduous_burned_area<br>index=%{x}<br>value=%{y}<extra></extra>",
         "legendgroup": "tree_cover_broadleaved_deciduous_burned_area",
         "marker": {
          "color": "#00cc96",
          "pattern": {
           "shape": ""
          }
         },
         "name": "tree_cover_broadleaved_deciduous_burned_area",
         "offsetgroup": "tree_cover_broadleaved_deciduous_burned_area",
         "orientation": "v",
         "showlegend": true,
         "textposition": "auto",
         "type": "bar",
         "x": [
          0
         ],
         "xaxis": "x",
         "y": [
          35183926581228
         ],
         "yaxis": "y"
        },
        {
         "alignmentgroup": "True",
         "hovertemplate": "variable=tree_cover_needleleaved_evergreen_burned_area<br>index=%{x}<br>value=%{y}<extra></extra>",
         "legendgroup": "tree_cover_needleleaved_evergreen_burned_area",
         "marker": {
          "color": "#ab63fa",
          "pattern": {
           "shape": ""
          }
         },
         "name": "tree_cover_needleleaved_evergreen_burned_area",
         "offsetgroup": "tree_cover_needleleaved_evergreen_burned_area",
         "orientation": "v",
         "showlegend": true,
         "textposition": "auto",
         "type": "bar",
         "x": [
          0
         ],
         "xaxis": "x",
         "y": [
          807798707721
         ],
         "yaxis": "y"
        },
        {
         "alignmentgroup": "True",
         "hovertemplate": "variable=tree_cover_needleleaved_deciduous_burned_area<br>index=%{x}<br>value=%{y}<extra></extra>",
         "legendgroup": "tree_cover_needleleaved_deciduous_burned_area",
         "marker": {
          "color": "#FFA15A",
          "pattern": {
           "shape": ""
          }
         },
         "name": "tree_cover_needleleaved_deciduous_burned_area",
         "offsetgroup": "tree_cover_needleleaved_deciduous_burned_area",
         "orientation": "v",
         "showlegend": true,
         "textposition": "auto",
         "type": "bar",
         "x": [
          0
         ],
         "xaxis": "x",
         "y": [
          988045537799
         ],
         "yaxis": "y"
        },
        {
         "alignmentgroup": "True",
         "hovertemplate": "variable=tree_cover_mixed_leave_burned_area<br>index=%{x}<br>value=%{y}<extra></extra>",
         "legendgroup": "tree_cover_mixed_leave_burned_area",
         "marker": {
          "color": "#19d3f3",
          "pattern": {
           "shape": ""
          }
         },
         "name": "tree_cover_mixed_leave_burned_area",
         "offsetgroup": "tree_cover_mixed_leave_burned_area",
         "orientation": "v",
         "showlegend": true,
         "textposition": "auto",
         "type": "bar",
         "x": [
          0
         ],
         "xaxis": "x",
         "y": [
          151480670524
         ],
         "yaxis": "y"
        },
        {
         "alignmentgroup": "True",
         "hovertemplate": "variable=cropland_burned_area<br>index=%{x}<br>value=%{y}<extra></extra>",
         "legendgroup": "cropland_burned_area",
         "marker": {
          "color": "#FF6692",
          "pattern": {
           "shape": ""
          }
         },
         "name": "cropland_burned_area",
         "offsetgroup": "cropland_burned_area",
         "orientation": "v",
         "showlegend": true,
         "textposition": "auto",
         "type": "bar",
         "x": [
          0
         ],
         "xaxis": "x",
         "y": [
          5687008018231
         ],
         "yaxis": "y"
        },
        {
         "alignmentgroup": "True",
         "hovertemplate": "variable=mosaic_tree_grass_burned_area<br>index=%{x}<br>value=%{y}<extra></extra>",
         "legendgroup": "mosaic_tree_grass_burned_area",
         "marker": {
          "color": "#B6E880",
          "pattern": {
           "shape": ""
          }
         },
         "name": "mosaic_tree_grass_burned_area",
         "offsetgroup": "mosaic_tree_grass_burned_area",
         "orientation": "v",
         "showlegend": true,
         "textposition": "auto",
         "type": "bar",
         "x": [
          0
         ],
         "xaxis": "x",
         "y": [
          4188674581006
         ],
         "yaxis": "y"
        },
        {
         "alignmentgroup": "True",
         "hovertemplate": "variable=flooded_area_burned_area<br>index=%{x}<br>value=%{y}<extra></extra>",
         "legendgroup": "flooded_area_burned_area",
         "marker": {
          "color": "#FF97FF",
          "pattern": {
           "shape": ""
          }
         },
         "name": "flooded_area_burned_area",
         "offsetgroup": "flooded_area_burned_area",
         "orientation": "v",
         "showlegend": true,
         "textposition": "auto",
         "type": "bar",
         "x": [
          0
         ],
         "xaxis": "x",
         "y": [
          2544568553482
         ],
         "yaxis": "y"
        },
        {
         "alignmentgroup": "True",
         "hovertemplate": "variable=other_vegetation_burned_area<br>index=%{x}<br>value=%{y}<extra></extra>",
         "legendgroup": "other_vegetation_burned_area",
         "marker": {
          "color": "#FECB52",
          "pattern": {
           "shape": ""
          }
         },
         "name": "other_vegetation_burned_area",
         "offsetgroup": "other_vegetation_burned_area",
         "orientation": "v",
         "showlegend": true,
         "textposition": "auto",
         "type": "bar",
         "x": [
          0
         ],
         "xaxis": "x",
         "y": [
          31979288438507
         ],
         "yaxis": "y"
        }
       ],
       "layout": {
        "barmode": "relative",
        "legend": {
         "title": {
          "text": "variable"
         },
         "tracegroupgap": 0
        },
        "template": {
         "data": {
          "bar": [
           {
            "error_x": {
             "color": "#2a3f5f"
            },
            "error_y": {
             "color": "#2a3f5f"
            },
            "marker": {
             "line": {
              "color": "#E5ECF6",
              "width": 0.5
             },
             "pattern": {
              "fillmode": "overlay",
              "size": 10,
              "solidity": 0.2
             }
            },
            "type": "bar"
           }
          ],
          "barpolar": [
           {
            "marker": {
             "line": {
              "color": "#E5ECF6",
              "width": 0.5
             },
             "pattern": {
              "fillmode": "overlay",
              "size": 10,
              "solidity": 0.2
             }
            },
            "type": "barpolar"
           }
          ],
          "carpet": [
           {
            "aaxis": {
             "endlinecolor": "#2a3f5f",
             "gridcolor": "white",
             "linecolor": "white",
             "minorgridcolor": "white",
             "startlinecolor": "#2a3f5f"
            },
            "baxis": {
             "endlinecolor": "#2a3f5f",
             "gridcolor": "white",
             "linecolor": "white",
             "minorgridcolor": "white",
             "startlinecolor": "#2a3f5f"
            },
            "type": "carpet"
           }
          ],
          "choropleth": [
           {
            "colorbar": {
             "outlinewidth": 0,
             "ticks": ""
            },
            "type": "choropleth"
           }
          ],
          "contour": [
           {
            "colorbar": {
             "outlinewidth": 0,
             "ticks": ""
            },
            "colorscale": [
             [
              0,
              "#0d0887"
             ],
             [
              0.1111111111111111,
              "#46039f"
             ],
             [
              0.2222222222222222,
              "#7201a8"
             ],
             [
              0.3333333333333333,
              "#9c179e"
             ],
             [
              0.4444444444444444,
              "#bd3786"
             ],
             [
              0.5555555555555556,
              "#d8576b"
             ],
             [
              0.6666666666666666,
              "#ed7953"
             ],
             [
              0.7777777777777778,
              "#fb9f3a"
             ],
             [
              0.8888888888888888,
              "#fdca26"
             ],
             [
              1,
              "#f0f921"
             ]
            ],
            "type": "contour"
           }
          ],
          "contourcarpet": [
           {
            "colorbar": {
             "outlinewidth": 0,
             "ticks": ""
            },
            "type": "contourcarpet"
           }
          ],
          "heatmap": [
           {
            "colorbar": {
             "outlinewidth": 0,
             "ticks": ""
            },
            "colorscale": [
             [
              0,
              "#0d0887"
             ],
             [
              0.1111111111111111,
              "#46039f"
             ],
             [
              0.2222222222222222,
              "#7201a8"
             ],
             [
              0.3333333333333333,
              "#9c179e"
             ],
             [
              0.4444444444444444,
              "#bd3786"
             ],
             [
              0.5555555555555556,
              "#d8576b"
             ],
             [
              0.6666666666666666,
              "#ed7953"
             ],
             [
              0.7777777777777778,
              "#fb9f3a"
             ],
             [
              0.8888888888888888,
              "#fdca26"
             ],
             [
              1,
              "#f0f921"
             ]
            ],
            "type": "heatmap"
           }
          ],
          "heatmapgl": [
           {
            "colorbar": {
             "outlinewidth": 0,
             "ticks": ""
            },
            "colorscale": [
             [
              0,
              "#0d0887"
             ],
             [
              0.1111111111111111,
              "#46039f"
             ],
             [
              0.2222222222222222,
              "#7201a8"
             ],
             [
              0.3333333333333333,
              "#9c179e"
             ],
             [
              0.4444444444444444,
              "#bd3786"
             ],
             [
              0.5555555555555556,
              "#d8576b"
             ],
             [
              0.6666666666666666,
              "#ed7953"
             ],
             [
              0.7777777777777778,
              "#fb9f3a"
             ],
             [
              0.8888888888888888,
              "#fdca26"
             ],
             [
              1,
              "#f0f921"
             ]
            ],
            "type": "heatmapgl"
           }
          ],
          "histogram": [
           {
            "marker": {
             "pattern": {
              "fillmode": "overlay",
              "size": 10,
              "solidity": 0.2
             }
            },
            "type": "histogram"
           }
          ],
          "histogram2d": [
           {
            "colorbar": {
             "outlinewidth": 0,
             "ticks": ""
            },
            "colorscale": [
             [
              0,
              "#0d0887"
             ],
             [
              0.1111111111111111,
              "#46039f"
             ],
             [
              0.2222222222222222,
              "#7201a8"
             ],
             [
              0.3333333333333333,
              "#9c179e"
             ],
             [
              0.4444444444444444,
              "#bd3786"
             ],
             [
              0.5555555555555556,
              "#d8576b"
             ],
             [
              0.6666666666666666,
              "#ed7953"
             ],
             [
              0.7777777777777778,
              "#fb9f3a"
             ],
             [
              0.8888888888888888,
              "#fdca26"
             ],
             [
              1,
              "#f0f921"
             ]
            ],
            "type": "histogram2d"
           }
          ],
          "histogram2dcontour": [
           {
            "colorbar": {
             "outlinewidth": 0,
             "ticks": ""
            },
            "colorscale": [
             [
              0,
              "#0d0887"
             ],
             [
              0.1111111111111111,
              "#46039f"
             ],
             [
              0.2222222222222222,
              "#7201a8"
             ],
             [
              0.3333333333333333,
              "#9c179e"
             ],
             [
              0.4444444444444444,
              "#bd3786"
             ],
             [
              0.5555555555555556,
              "#d8576b"
             ],
             [
              0.6666666666666666,
              "#ed7953"
             ],
             [
              0.7777777777777778,
              "#fb9f3a"
             ],
             [
              0.8888888888888888,
              "#fdca26"
             ],
             [
              1,
              "#f0f921"
             ]
            ],
            "type": "histogram2dcontour"
           }
          ],
          "mesh3d": [
           {
            "colorbar": {
             "outlinewidth": 0,
             "ticks": ""
            },
            "type": "mesh3d"
           }
          ],
          "parcoords": [
           {
            "line": {
             "colorbar": {
              "outlinewidth": 0,
              "ticks": ""
             }
            },
            "type": "parcoords"
           }
          ],
          "pie": [
           {
            "automargin": true,
            "type": "pie"
           }
          ],
          "scatter": [
           {
            "marker": {
             "colorbar": {
              "outlinewidth": 0,
              "ticks": ""
             }
            },
            "type": "scatter"
           }
          ],
          "scatter3d": [
           {
            "line": {
             "colorbar": {
              "outlinewidth": 0,
              "ticks": ""
             }
            },
            "marker": {
             "colorbar": {
              "outlinewidth": 0,
              "ticks": ""
             }
            },
            "type": "scatter3d"
           }
          ],
          "scattercarpet": [
           {
            "marker": {
             "colorbar": {
              "outlinewidth": 0,
              "ticks": ""
             }
            },
            "type": "scattercarpet"
           }
          ],
          "scattergeo": [
           {
            "marker": {
             "colorbar": {
              "outlinewidth": 0,
              "ticks": ""
             }
            },
            "type": "scattergeo"
           }
          ],
          "scattergl": [
           {
            "marker": {
             "colorbar": {
              "outlinewidth": 0,
              "ticks": ""
             }
            },
            "type": "scattergl"
           }
          ],
          "scattermapbox": [
           {
            "marker": {
             "colorbar": {
              "outlinewidth": 0,
              "ticks": ""
             }
            },
            "type": "scattermapbox"
           }
          ],
          "scatterpolar": [
           {
            "marker": {
             "colorbar": {
              "outlinewidth": 0,
              "ticks": ""
             }
            },
            "type": "scatterpolar"
           }
          ],
          "scatterpolargl": [
           {
            "marker": {
             "colorbar": {
              "outlinewidth": 0,
              "ticks": ""
             }
            },
            "type": "scatterpolargl"
           }
          ],
          "scatterternary": [
           {
            "marker": {
             "colorbar": {
              "outlinewidth": 0,
              "ticks": ""
             }
            },
            "type": "scatterternary"
           }
          ],
          "surface": [
           {
            "colorbar": {
             "outlinewidth": 0,
             "ticks": ""
            },
            "colorscale": [
             [
              0,
              "#0d0887"
             ],
             [
              0.1111111111111111,
              "#46039f"
             ],
             [
              0.2222222222222222,
              "#7201a8"
             ],
             [
              0.3333333333333333,
              "#9c179e"
             ],
             [
              0.4444444444444444,
              "#bd3786"
             ],
             [
              0.5555555555555556,
              "#d8576b"
             ],
             [
              0.6666666666666666,
              "#ed7953"
             ],
             [
              0.7777777777777778,
              "#fb9f3a"
             ],
             [
              0.8888888888888888,
              "#fdca26"
             ],
             [
              1,
              "#f0f921"
             ]
            ],
            "type": "surface"
           }
          ],
          "table": [
           {
            "cells": {
             "fill": {
              "color": "#EBF0F8"
             },
             "line": {
              "color": "white"
             }
            },
            "header": {
             "fill": {
              "color": "#C8D4E3"
             },
             "line": {
              "color": "white"
             }
            },
            "type": "table"
           }
          ]
         },
         "layout": {
          "annotationdefaults": {
           "arrowcolor": "#2a3f5f",
           "arrowhead": 0,
           "arrowwidth": 1
          },
          "autotypenumbers": "strict",
          "coloraxis": {
           "colorbar": {
            "outlinewidth": 0,
            "ticks": ""
           }
          },
          "colorscale": {
           "diverging": [
            [
             0,
             "#8e0152"
            ],
            [
             0.1,
             "#c51b7d"
            ],
            [
             0.2,
             "#de77ae"
            ],
            [
             0.3,
             "#f1b6da"
            ],
            [
             0.4,
             "#fde0ef"
            ],
            [
             0.5,
             "#f7f7f7"
            ],
            [
             0.6,
             "#e6f5d0"
            ],
            [
             0.7,
             "#b8e186"
            ],
            [
             0.8,
             "#7fbc41"
            ],
            [
             0.9,
             "#4d9221"
            ],
            [
             1,
             "#276419"
            ]
           ],
           "sequential": [
            [
             0,
             "#0d0887"
            ],
            [
             0.1111111111111111,
             "#46039f"
            ],
            [
             0.2222222222222222,
             "#7201a8"
            ],
            [
             0.3333333333333333,
             "#9c179e"
            ],
            [
             0.4444444444444444,
             "#bd3786"
            ],
            [
             0.5555555555555556,
             "#d8576b"
            ],
            [
             0.6666666666666666,
             "#ed7953"
            ],
            [
             0.7777777777777778,
             "#fb9f3a"
            ],
            [
             0.8888888888888888,
             "#fdca26"
            ],
            [
             1,
             "#f0f921"
            ]
           ],
           "sequentialminus": [
            [
             0,
             "#0d0887"
            ],
            [
             0.1111111111111111,
             "#46039f"
            ],
            [
             0.2222222222222222,
             "#7201a8"
            ],
            [
             0.3333333333333333,
             "#9c179e"
            ],
            [
             0.4444444444444444,
             "#bd3786"
            ],
            [
             0.5555555555555556,
             "#d8576b"
            ],
            [
             0.6666666666666666,
             "#ed7953"
            ],
            [
             0.7777777777777778,
             "#fb9f3a"
            ],
            [
             0.8888888888888888,
             "#fdca26"
            ],
            [
             1,
             "#f0f921"
            ]
           ]
          },
          "colorway": [
           "#636efa",
           "#EF553B",
           "#00cc96",
           "#ab63fa",
           "#FFA15A",
           "#19d3f3",
           "#FF6692",
           "#B6E880",
           "#FF97FF",
           "#FECB52"
          ],
          "font": {
           "color": "#2a3f5f"
          },
          "geo": {
           "bgcolor": "white",
           "lakecolor": "white",
           "landcolor": "#E5ECF6",
           "showlakes": true,
           "showland": true,
           "subunitcolor": "white"
          },
          "hoverlabel": {
           "align": "left"
          },
          "hovermode": "closest",
          "mapbox": {
           "style": "light"
          },
          "paper_bgcolor": "white",
          "plot_bgcolor": "#E5ECF6",
          "polar": {
           "angularaxis": {
            "gridcolor": "white",
            "linecolor": "white",
            "ticks": ""
           },
           "bgcolor": "#E5ECF6",
           "radialaxis": {
            "gridcolor": "white",
            "linecolor": "white",
            "ticks": ""
           }
          },
          "scene": {
           "xaxis": {
            "backgroundcolor": "#E5ECF6",
            "gridcolor": "white",
            "gridwidth": 2,
            "linecolor": "white",
            "showbackground": true,
            "ticks": "",
            "zerolinecolor": "white"
           },
           "yaxis": {
            "backgroundcolor": "#E5ECF6",
            "gridcolor": "white",
            "gridwidth": 2,
            "linecolor": "white",
            "showbackground": true,
            "ticks": "",
            "zerolinecolor": "white"
           },
           "zaxis": {
            "backgroundcolor": "#E5ECF6",
            "gridcolor": "white",
            "gridwidth": 2,
            "linecolor": "white",
            "showbackground": true,
            "ticks": "",
            "zerolinecolor": "white"
           }
          },
          "shapedefaults": {
           "line": {
            "color": "#2a3f5f"
           }
          },
          "ternary": {
           "aaxis": {
            "gridcolor": "white",
            "linecolor": "white",
            "ticks": ""
           },
           "baxis": {
            "gridcolor": "white",
            "linecolor": "white",
            "ticks": ""
           },
           "bgcolor": "#E5ECF6",
           "caxis": {
            "gridcolor": "white",
            "linecolor": "white",
            "ticks": ""
           }
          },
          "title": {
           "x": 0.05
          },
          "xaxis": {
           "automargin": true,
           "gridcolor": "white",
           "linecolor": "white",
           "ticks": "",
           "title": {
            "standoff": 15
           },
           "zerolinecolor": "white",
           "zerolinewidth": 2
          },
          "yaxis": {
           "automargin": true,
           "gridcolor": "white",
           "linecolor": "white",
           "ticks": "",
           "title": {
            "standoff": 15
           },
           "zerolinecolor": "white",
           "zerolinewidth": 2
          }
         }
        },
        "title": {
         "text": "Life expectancy in Canada"
        },
        "xaxis": {
         "anchor": "y",
         "domain": [
          0,
          1
         ],
         "title": {
          "text": "index"
         }
        },
        "yaxis": {
         "anchor": "x",
         "domain": [
          0,
          1
         ],
         "title": {
          "text": "value"
         }
        }
       }
      }
     },
     "metadata": {},
     "output_type": "display_data"
    }
   ],
   "source": [
    "fig = px.bar(df_veg, title='Life expectancy in Canada')\n",
    "fig.show()"
   ]
  },
  {
   "cell_type": "code",
   "execution_count": 21,
   "metadata": {},
   "outputs": [
    {
     "data": {
      "application/vnd.plotly.v1+json": {
       "config": {
        "plotlyServerURL": "https://plot.ly"
       },
       "data": [
        {
         "base": 0,
         "measure": [
          "absolute",
          "relative",
          "relative",
          "relative",
          "relative",
          "relative"
         ],
         "type": "waterfall",
         "x": [
          "burned_area",
          "no_data_burned_area",
          "tree_cover_broadleaved_deciduous_burned_area",
          "tree_cover_needleleaved_evergreen_burned_area",
          "tree_cover_needleleaved_deciduous_burned_area",
          "cropland_burned_area",
          "mosaic_tree_grass_burned_area",
          "flooded_area_burned_area",
          "other_vegetation_burned_areaFinal"
         ],
         "y": [
          89940704892432,
          -7004942864842,
          -35183926581228,
          -807798707721,
          -988045537799,
          -5687008018231,
          -4188674581006,
          -2544568553482,
          -31979288438507,
          null
         ]
        }
       ],
       "layout": {
        "template": {
         "data": {
          "bar": [
           {
            "error_x": {
             "color": "#2a3f5f"
            },
            "error_y": {
             "color": "#2a3f5f"
            },
            "marker": {
             "line": {
              "color": "#E5ECF6",
              "width": 0.5
             },
             "pattern": {
              "fillmode": "overlay",
              "size": 10,
              "solidity": 0.2
             }
            },
            "type": "bar"
           }
          ],
          "barpolar": [
           {
            "marker": {
             "line": {
              "color": "#E5ECF6",
              "width": 0.5
             },
             "pattern": {
              "fillmode": "overlay",
              "size": 10,
              "solidity": 0.2
             }
            },
            "type": "barpolar"
           }
          ],
          "carpet": [
           {
            "aaxis": {
             "endlinecolor": "#2a3f5f",
             "gridcolor": "white",
             "linecolor": "white",
             "minorgridcolor": "white",
             "startlinecolor": "#2a3f5f"
            },
            "baxis": {
             "endlinecolor": "#2a3f5f",
             "gridcolor": "white",
             "linecolor": "white",
             "minorgridcolor": "white",
             "startlinecolor": "#2a3f5f"
            },
            "type": "carpet"
           }
          ],
          "choropleth": [
           {
            "colorbar": {
             "outlinewidth": 0,
             "ticks": ""
            },
            "type": "choropleth"
           }
          ],
          "contour": [
           {
            "colorbar": {
             "outlinewidth": 0,
             "ticks": ""
            },
            "colorscale": [
             [
              0,
              "#0d0887"
             ],
             [
              0.1111111111111111,
              "#46039f"
             ],
             [
              0.2222222222222222,
              "#7201a8"
             ],
             [
              0.3333333333333333,
              "#9c179e"
             ],
             [
              0.4444444444444444,
              "#bd3786"
             ],
             [
              0.5555555555555556,
              "#d8576b"
             ],
             [
              0.6666666666666666,
              "#ed7953"
             ],
             [
              0.7777777777777778,
              "#fb9f3a"
             ],
             [
              0.8888888888888888,
              "#fdca26"
             ],
             [
              1,
              "#f0f921"
             ]
            ],
            "type": "contour"
           }
          ],
          "contourcarpet": [
           {
            "colorbar": {
             "outlinewidth": 0,
             "ticks": ""
            },
            "type": "contourcarpet"
           }
          ],
          "heatmap": [
           {
            "colorbar": {
             "outlinewidth": 0,
             "ticks": ""
            },
            "colorscale": [
             [
              0,
              "#0d0887"
             ],
             [
              0.1111111111111111,
              "#46039f"
             ],
             [
              0.2222222222222222,
              "#7201a8"
             ],
             [
              0.3333333333333333,
              "#9c179e"
             ],
             [
              0.4444444444444444,
              "#bd3786"
             ],
             [
              0.5555555555555556,
              "#d8576b"
             ],
             [
              0.6666666666666666,
              "#ed7953"
             ],
             [
              0.7777777777777778,
              "#fb9f3a"
             ],
             [
              0.8888888888888888,
              "#fdca26"
             ],
             [
              1,
              "#f0f921"
             ]
            ],
            "type": "heatmap"
           }
          ],
          "heatmapgl": [
           {
            "colorbar": {
             "outlinewidth": 0,
             "ticks": ""
            },
            "colorscale": [
             [
              0,
              "#0d0887"
             ],
             [
              0.1111111111111111,
              "#46039f"
             ],
             [
              0.2222222222222222,
              "#7201a8"
             ],
             [
              0.3333333333333333,
              "#9c179e"
             ],
             [
              0.4444444444444444,
              "#bd3786"
             ],
             [
              0.5555555555555556,
              "#d8576b"
             ],
             [
              0.6666666666666666,
              "#ed7953"
             ],
             [
              0.7777777777777778,
              "#fb9f3a"
             ],
             [
              0.8888888888888888,
              "#fdca26"
             ],
             [
              1,
              "#f0f921"
             ]
            ],
            "type": "heatmapgl"
           }
          ],
          "histogram": [
           {
            "marker": {
             "pattern": {
              "fillmode": "overlay",
              "size": 10,
              "solidity": 0.2
             }
            },
            "type": "histogram"
           }
          ],
          "histogram2d": [
           {
            "colorbar": {
             "outlinewidth": 0,
             "ticks": ""
            },
            "colorscale": [
             [
              0,
              "#0d0887"
             ],
             [
              0.1111111111111111,
              "#46039f"
             ],
             [
              0.2222222222222222,
              "#7201a8"
             ],
             [
              0.3333333333333333,
              "#9c179e"
             ],
             [
              0.4444444444444444,
              "#bd3786"
             ],
             [
              0.5555555555555556,
              "#d8576b"
             ],
             [
              0.6666666666666666,
              "#ed7953"
             ],
             [
              0.7777777777777778,
              "#fb9f3a"
             ],
             [
              0.8888888888888888,
              "#fdca26"
             ],
             [
              1,
              "#f0f921"
             ]
            ],
            "type": "histogram2d"
           }
          ],
          "histogram2dcontour": [
           {
            "colorbar": {
             "outlinewidth": 0,
             "ticks": ""
            },
            "colorscale": [
             [
              0,
              "#0d0887"
             ],
             [
              0.1111111111111111,
              "#46039f"
             ],
             [
              0.2222222222222222,
              "#7201a8"
             ],
             [
              0.3333333333333333,
              "#9c179e"
             ],
             [
              0.4444444444444444,
              "#bd3786"
             ],
             [
              0.5555555555555556,
              "#d8576b"
             ],
             [
              0.6666666666666666,
              "#ed7953"
             ],
             [
              0.7777777777777778,
              "#fb9f3a"
             ],
             [
              0.8888888888888888,
              "#fdca26"
             ],
             [
              1,
              "#f0f921"
             ]
            ],
            "type": "histogram2dcontour"
           }
          ],
          "mesh3d": [
           {
            "colorbar": {
             "outlinewidth": 0,
             "ticks": ""
            },
            "type": "mesh3d"
           }
          ],
          "parcoords": [
           {
            "line": {
             "colorbar": {
              "outlinewidth": 0,
              "ticks": ""
             }
            },
            "type": "parcoords"
           }
          ],
          "pie": [
           {
            "automargin": true,
            "type": "pie"
           }
          ],
          "scatter": [
           {
            "marker": {
             "colorbar": {
              "outlinewidth": 0,
              "ticks": ""
             }
            },
            "type": "scatter"
           }
          ],
          "scatter3d": [
           {
            "line": {
             "colorbar": {
              "outlinewidth": 0,
              "ticks": ""
             }
            },
            "marker": {
             "colorbar": {
              "outlinewidth": 0,
              "ticks": ""
             }
            },
            "type": "scatter3d"
           }
          ],
          "scattercarpet": [
           {
            "marker": {
             "colorbar": {
              "outlinewidth": 0,
              "ticks": ""
             }
            },
            "type": "scattercarpet"
           }
          ],
          "scattergeo": [
           {
            "marker": {
             "colorbar": {
              "outlinewidth": 0,
              "ticks": ""
             }
            },
            "type": "scattergeo"
           }
          ],
          "scattergl": [
           {
            "marker": {
             "colorbar": {
              "outlinewidth": 0,
              "ticks": ""
             }
            },
            "type": "scattergl"
           }
          ],
          "scattermapbox": [
           {
            "marker": {
             "colorbar": {
              "outlinewidth": 0,
              "ticks": ""
             }
            },
            "type": "scattermapbox"
           }
          ],
          "scatterpolar": [
           {
            "marker": {
             "colorbar": {
              "outlinewidth": 0,
              "ticks": ""
             }
            },
            "type": "scatterpolar"
           }
          ],
          "scatterpolargl": [
           {
            "marker": {
             "colorbar": {
              "outlinewidth": 0,
              "ticks": ""
             }
            },
            "type": "scatterpolargl"
           }
          ],
          "scatterternary": [
           {
            "marker": {
             "colorbar": {
              "outlinewidth": 0,
              "ticks": ""
             }
            },
            "type": "scatterternary"
           }
          ],
          "surface": [
           {
            "colorbar": {
             "outlinewidth": 0,
             "ticks": ""
            },
            "colorscale": [
             [
              0,
              "#0d0887"
             ],
             [
              0.1111111111111111,
              "#46039f"
             ],
             [
              0.2222222222222222,
              "#7201a8"
             ],
             [
              0.3333333333333333,
              "#9c179e"
             ],
             [
              0.4444444444444444,
              "#bd3786"
             ],
             [
              0.5555555555555556,
              "#d8576b"
             ],
             [
              0.6666666666666666,
              "#ed7953"
             ],
             [
              0.7777777777777778,
              "#fb9f3a"
             ],
             [
              0.8888888888888888,
              "#fdca26"
             ],
             [
              1,
              "#f0f921"
             ]
            ],
            "type": "surface"
           }
          ],
          "table": [
           {
            "cells": {
             "fill": {
              "color": "#EBF0F8"
             },
             "line": {
              "color": "white"
             }
            },
            "header": {
             "fill": {
              "color": "#C8D4E3"
             },
             "line": {
              "color": "white"
             }
            },
            "type": "table"
           }
          ]
         },
         "layout": {
          "annotationdefaults": {
           "arrowcolor": "#2a3f5f",
           "arrowhead": 0,
           "arrowwidth": 1
          },
          "autotypenumbers": "strict",
          "coloraxis": {
           "colorbar": {
            "outlinewidth": 0,
            "ticks": ""
           }
          },
          "colorscale": {
           "diverging": [
            [
             0,
             "#8e0152"
            ],
            [
             0.1,
             "#c51b7d"
            ],
            [
             0.2,
             "#de77ae"
            ],
            [
             0.3,
             "#f1b6da"
            ],
            [
             0.4,
             "#fde0ef"
            ],
            [
             0.5,
             "#f7f7f7"
            ],
            [
             0.6,
             "#e6f5d0"
            ],
            [
             0.7,
             "#b8e186"
            ],
            [
             0.8,
             "#7fbc41"
            ],
            [
             0.9,
             "#4d9221"
            ],
            [
             1,
             "#276419"
            ]
           ],
           "sequential": [
            [
             0,
             "#0d0887"
            ],
            [
             0.1111111111111111,
             "#46039f"
            ],
            [
             0.2222222222222222,
             "#7201a8"
            ],
            [
             0.3333333333333333,
             "#9c179e"
            ],
            [
             0.4444444444444444,
             "#bd3786"
            ],
            [
             0.5555555555555556,
             "#d8576b"
            ],
            [
             0.6666666666666666,
             "#ed7953"
            ],
            [
             0.7777777777777778,
             "#fb9f3a"
            ],
            [
             0.8888888888888888,
             "#fdca26"
            ],
            [
             1,
             "#f0f921"
            ]
           ],
           "sequentialminus": [
            [
             0,
             "#0d0887"
            ],
            [
             0.1111111111111111,
             "#46039f"
            ],
            [
             0.2222222222222222,
             "#7201a8"
            ],
            [
             0.3333333333333333,
             "#9c179e"
            ],
            [
             0.4444444444444444,
             "#bd3786"
            ],
            [
             0.5555555555555556,
             "#d8576b"
            ],
            [
             0.6666666666666666,
             "#ed7953"
            ],
            [
             0.7777777777777778,
             "#fb9f3a"
            ],
            [
             0.8888888888888888,
             "#fdca26"
            ],
            [
             1,
             "#f0f921"
            ]
           ]
          },
          "colorway": [
           "#636efa",
           "#EF553B",
           "#00cc96",
           "#ab63fa",
           "#FFA15A",
           "#19d3f3",
           "#FF6692",
           "#B6E880",
           "#FF97FF",
           "#FECB52"
          ],
          "font": {
           "color": "#2a3f5f"
          },
          "geo": {
           "bgcolor": "white",
           "lakecolor": "white",
           "landcolor": "#E5ECF6",
           "showlakes": true,
           "showland": true,
           "subunitcolor": "white"
          },
          "hoverlabel": {
           "align": "left"
          },
          "hovermode": "closest",
          "mapbox": {
           "style": "light"
          },
          "paper_bgcolor": "white",
          "plot_bgcolor": "#E5ECF6",
          "polar": {
           "angularaxis": {
            "gridcolor": "white",
            "linecolor": "white",
            "ticks": ""
           },
           "bgcolor": "#E5ECF6",
           "radialaxis": {
            "gridcolor": "white",
            "linecolor": "white",
            "ticks": ""
           }
          },
          "scene": {
           "xaxis": {
            "backgroundcolor": "#E5ECF6",
            "gridcolor": "white",
            "gridwidth": 2,
            "linecolor": "white",
            "showbackground": true,
            "ticks": "",
            "zerolinecolor": "white"
           },
           "yaxis": {
            "backgroundcolor": "#E5ECF6",
            "gridcolor": "white",
            "gridwidth": 2,
            "linecolor": "white",
            "showbackground": true,
            "ticks": "",
            "zerolinecolor": "white"
           },
           "zaxis": {
            "backgroundcolor": "#E5ECF6",
            "gridcolor": "white",
            "gridwidth": 2,
            "linecolor": "white",
            "showbackground": true,
            "ticks": "",
            "zerolinecolor": "white"
           }
          },
          "shapedefaults": {
           "line": {
            "color": "#2a3f5f"
           }
          },
          "ternary": {
           "aaxis": {
            "gridcolor": "white",
            "linecolor": "white",
            "ticks": ""
           },
           "baxis": {
            "gridcolor": "white",
            "linecolor": "white",
            "ticks": ""
           },
           "bgcolor": "#E5ECF6",
           "caxis": {
            "gridcolor": "white",
            "linecolor": "white",
            "ticks": ""
           }
          },
          "title": {
           "x": 0.05
          },
          "xaxis": {
           "automargin": true,
           "gridcolor": "white",
           "linecolor": "white",
           "ticks": "",
           "title": {
            "standoff": 15
           },
           "zerolinecolor": "white",
           "zerolinewidth": 2
          },
          "yaxis": {
           "automargin": true,
           "gridcolor": "white",
           "linecolor": "white",
           "ticks": "",
           "title": {
            "standoff": 15
           },
           "zerolinecolor": "white",
           "zerolinewidth": 2
          }
         }
        }
       }
      }
     },
     "metadata": {},
     "output_type": "display_data"
    }
   ],
   "source": [
    "import plotly.graph_objects as go\n",
    "\n",
    "fig1  = go.Figure()\n",
    "hrz = [\"burned_area\", \"no_data_burned_area\",\"tree_cover_broadleaved_deciduous_burned_area\",\n",
    "       \"tree_cover_needleleaved_evergreen_burned_area\",\"tree_cover_needleleaved_deciduous_burned_area\", \"cropland_burned_area\", \"mosaic_tree_grass_burned_area\", \"flooded_area_burned_area\", \"other_vegetation_burned_area\"\n",
    "       \"Final\"]\n",
    "vrt = [ df_veg[\"burned_area\"][0], \n",
    "       -df_veg[\"no_data_burned_area\"][0],\n",
    "       -df_veg[\"tree_cover_broadleaved_deciduous_burned_area\"][0],\n",
    "       -df_veg[\"tree_cover_needleleaved_evergreen_burned_area\"][0],\n",
    "       -df_veg[\"tree_cover_needleleaved_deciduous_burned_area\"][0],\n",
    "       -df_veg[\"cropland_burned_area\"][0],\n",
    "       -df_veg[\"mosaic_tree_grass_burned_area\"][0],\n",
    "       -df_veg[\"flooded_area_burned_area\"][0],\n",
    "       -df_veg[\"other_vegetation_burned_area\"][0],\n",
    "       None]\n",
    "fig1.add_trace(go.Waterfall(                 \n",
    "                  x = hrz, y = vrt,\n",
    "                  base = 0,\n",
    "                  measure = [ \"absolute\",\"relative\",    \n",
    "                              \"relative\",\"relative\",\n",
    "                              \"relative\",\"relative\" ]                        \n",
    "                ))                                 \n",
    "fig1.show()\n",
    "\n"
   ]
  },
  {
   "cell_type": "code",
   "execution_count": 22,
   "metadata": {},
   "outputs": [],
   "source": [
    "df_veg= df_veg.drop(columns='burned_area')"
   ]
  },
  {
   "cell_type": "code",
   "execution_count": 23,
   "metadata": {},
   "outputs": [],
   "source": [
    "df_veg_trans = df_veg.transpose()"
   ]
  },
  {
   "cell_type": "code",
   "execution_count": 24,
   "metadata": {},
   "outputs": [
    {
     "data": {
      "text/html": [
       "<div>\n",
       "<style scoped>\n",
       "    .dataframe tbody tr th:only-of-type {\n",
       "        vertical-align: middle;\n",
       "    }\n",
       "\n",
       "    .dataframe tbody tr th {\n",
       "        vertical-align: top;\n",
       "    }\n",
       "\n",
       "    .dataframe thead th {\n",
       "        text-align: right;\n",
       "    }\n",
       "</style>\n",
       "<table border=\"1\" class=\"dataframe\">\n",
       "  <thead>\n",
       "    <tr style=\"text-align: right;\">\n",
       "      <th></th>\n",
       "      <th>index</th>\n",
       "      <th>0</th>\n",
       "    </tr>\n",
       "  </thead>\n",
       "  <tbody>\n",
       "    <tr>\n",
       "      <th>0</th>\n",
       "      <td>no_data_burned_area</td>\n",
       "      <td>7.004943e+12</td>\n",
       "    </tr>\n",
       "    <tr>\n",
       "      <th>1</th>\n",
       "      <td>tree_cover_broadleaved_deciduous_burned_area</td>\n",
       "      <td>3.518393e+13</td>\n",
       "    </tr>\n",
       "    <tr>\n",
       "      <th>2</th>\n",
       "      <td>tree_cover_needleleaved_evergreen_burned_area</td>\n",
       "      <td>8.077987e+11</td>\n",
       "    </tr>\n",
       "    <tr>\n",
       "      <th>3</th>\n",
       "      <td>tree_cover_needleleaved_deciduous_burned_area</td>\n",
       "      <td>9.880455e+11</td>\n",
       "    </tr>\n",
       "    <tr>\n",
       "      <th>4</th>\n",
       "      <td>tree_cover_mixed_leave_burned_area</td>\n",
       "      <td>1.514807e+11</td>\n",
       "    </tr>\n",
       "    <tr>\n",
       "      <th>5</th>\n",
       "      <td>cropland_burned_area</td>\n",
       "      <td>5.687008e+12</td>\n",
       "    </tr>\n",
       "    <tr>\n",
       "      <th>6</th>\n",
       "      <td>mosaic_tree_grass_burned_area</td>\n",
       "      <td>4.188675e+12</td>\n",
       "    </tr>\n",
       "    <tr>\n",
       "      <th>7</th>\n",
       "      <td>flooded_area_burned_area</td>\n",
       "      <td>2.544569e+12</td>\n",
       "    </tr>\n",
       "    <tr>\n",
       "      <th>8</th>\n",
       "      <td>other_vegetation_burned_area</td>\n",
       "      <td>3.197929e+13</td>\n",
       "    </tr>\n",
       "  </tbody>\n",
       "</table>\n",
       "</div>"
      ],
      "text/plain": [
       "                                           index             0\n",
       "0                            no_data_burned_area  7.004943e+12\n",
       "1   tree_cover_broadleaved_deciduous_burned_area  3.518393e+13\n",
       "2  tree_cover_needleleaved_evergreen_burned_area  8.077987e+11\n",
       "3  tree_cover_needleleaved_deciduous_burned_area  9.880455e+11\n",
       "4             tree_cover_mixed_leave_burned_area  1.514807e+11\n",
       "5                           cropland_burned_area  5.687008e+12\n",
       "6                  mosaic_tree_grass_burned_area  4.188675e+12\n",
       "7                       flooded_area_burned_area  2.544569e+12\n",
       "8                   other_vegetation_burned_area  3.197929e+13"
      ]
     },
     "execution_count": 24,
     "metadata": {},
     "output_type": "execute_result"
    }
   ],
   "source": [
    "df_veg_trans.reset_index(inplace = True)\n",
    "df_veg_trans"
   ]
  },
  {
   "cell_type": "code",
   "execution_count": 25,
   "metadata": {},
   "outputs": [
    {
     "data": {
      "application/vnd.plotly.v1+json": {
       "config": {
        "plotlyServerURL": "https://plot.ly"
       },
       "data": [
        {
         "branchvalues": "total",
         "customdata": [
          [
           5687008018231
          ],
          [
           2544568553482
          ],
          [
           4188674581006
          ],
          [
           7004942864842
          ],
          [
           31979288438507
          ],
          [
           35183926581228
          ],
          [
           151480670524
          ],
          [
           988045537799.0001
          ],
          [
           807798707720.9999
          ],
          [
           26742494817887.168
          ]
         ],
         "domain": {
          "x": [
           0,
           1
          ],
          "y": [
           0,
           1
          ]
         },
         "hovertemplate": "labels=%{label}<br>0_sum=%{value}<br>parent=%{parent}<br>id=%{id}<br>0=%{color}<extra></extra>",
         "ids": [
          "All/cropland_burned_area",
          "All/flooded_area_burned_area",
          "All/mosaic_tree_grass_burned_area",
          "All/no_data_burned_area",
          "All/other_vegetation_burned_area",
          "All/tree_cover_broadleaved_deciduous_burned_area",
          "All/tree_cover_mixed_leave_burned_area",
          "All/tree_cover_needleleaved_deciduous_burned_area",
          "All/tree_cover_needleleaved_evergreen_burned_area",
          "All"
         ],
         "labels": [
          "cropland_burned_area",
          "flooded_area_burned_area",
          "mosaic_tree_grass_burned_area",
          "no_data_burned_area",
          "other_vegetation_burned_area",
          "tree_cover_broadleaved_deciduous_burned_area",
          "tree_cover_mixed_leave_burned_area",
          "tree_cover_needleleaved_deciduous_burned_area",
          "tree_cover_needleleaved_evergreen_burned_area",
          "All"
         ],
         "marker": {
          "coloraxis": "coloraxis",
          "colors": [
           5687008018231,
           2544568553482,
           4188674581006,
           7004942864842,
           31979288438507,
           35183926581228,
           151480670524,
           988045537799.0001,
           807798707720.9999,
           26742494817887.168
          ]
         },
         "name": "",
         "parents": [
          "All",
          "All",
          "All",
          "All",
          "All",
          "All",
          "All",
          "All",
          "All",
          ""
         ],
         "type": "treemap",
         "values": [
          5687008018231,
          2544568553482,
          4188674581006,
          7004942864842,
          31979288438507,
          35183926581228,
          151480670524,
          988045537799,
          807798707721,
          88535733953340
         ]
        }
       ],
       "layout": {
        "coloraxis": {
         "colorbar": {
          "title": {
           "text": "0"
          }
         },
         "colorscale": [
          [
           0,
           "rgb(211, 242, 163)"
          ],
          [
           0.16666666666666666,
           "rgb(151, 225, 150)"
          ],
          [
           0.3333333333333333,
           "rgb(108, 192, 139)"
          ],
          [
           0.5,
           "rgb(76, 155, 130)"
          ],
          [
           0.6666666666666666,
           "rgb(33, 122, 121)"
          ],
          [
           0.8333333333333334,
           "rgb(16, 89, 101)"
          ],
          [
           1,
           "rgb(7, 64, 80)"
          ]
         ]
        },
        "height": 600,
        "legend": {
         "tracegroupgap": 0
        },
        "margin": {
         "t": 60
        },
        "template": {
         "data": {
          "bar": [
           {
            "error_x": {
             "color": "#2a3f5f"
            },
            "error_y": {
             "color": "#2a3f5f"
            },
            "marker": {
             "line": {
              "color": "#E5ECF6",
              "width": 0.5
             },
             "pattern": {
              "fillmode": "overlay",
              "size": 10,
              "solidity": 0.2
             }
            },
            "type": "bar"
           }
          ],
          "barpolar": [
           {
            "marker": {
             "line": {
              "color": "#E5ECF6",
              "width": 0.5
             },
             "pattern": {
              "fillmode": "overlay",
              "size": 10,
              "solidity": 0.2
             }
            },
            "type": "barpolar"
           }
          ],
          "carpet": [
           {
            "aaxis": {
             "endlinecolor": "#2a3f5f",
             "gridcolor": "white",
             "linecolor": "white",
             "minorgridcolor": "white",
             "startlinecolor": "#2a3f5f"
            },
            "baxis": {
             "endlinecolor": "#2a3f5f",
             "gridcolor": "white",
             "linecolor": "white",
             "minorgridcolor": "white",
             "startlinecolor": "#2a3f5f"
            },
            "type": "carpet"
           }
          ],
          "choropleth": [
           {
            "colorbar": {
             "outlinewidth": 0,
             "ticks": ""
            },
            "type": "choropleth"
           }
          ],
          "contour": [
           {
            "colorbar": {
             "outlinewidth": 0,
             "ticks": ""
            },
            "colorscale": [
             [
              0,
              "#0d0887"
             ],
             [
              0.1111111111111111,
              "#46039f"
             ],
             [
              0.2222222222222222,
              "#7201a8"
             ],
             [
              0.3333333333333333,
              "#9c179e"
             ],
             [
              0.4444444444444444,
              "#bd3786"
             ],
             [
              0.5555555555555556,
              "#d8576b"
             ],
             [
              0.6666666666666666,
              "#ed7953"
             ],
             [
              0.7777777777777778,
              "#fb9f3a"
             ],
             [
              0.8888888888888888,
              "#fdca26"
             ],
             [
              1,
              "#f0f921"
             ]
            ],
            "type": "contour"
           }
          ],
          "contourcarpet": [
           {
            "colorbar": {
             "outlinewidth": 0,
             "ticks": ""
            },
            "type": "contourcarpet"
           }
          ],
          "heatmap": [
           {
            "colorbar": {
             "outlinewidth": 0,
             "ticks": ""
            },
            "colorscale": [
             [
              0,
              "#0d0887"
             ],
             [
              0.1111111111111111,
              "#46039f"
             ],
             [
              0.2222222222222222,
              "#7201a8"
             ],
             [
              0.3333333333333333,
              "#9c179e"
             ],
             [
              0.4444444444444444,
              "#bd3786"
             ],
             [
              0.5555555555555556,
              "#d8576b"
             ],
             [
              0.6666666666666666,
              "#ed7953"
             ],
             [
              0.7777777777777778,
              "#fb9f3a"
             ],
             [
              0.8888888888888888,
              "#fdca26"
             ],
             [
              1,
              "#f0f921"
             ]
            ],
            "type": "heatmap"
           }
          ],
          "heatmapgl": [
           {
            "colorbar": {
             "outlinewidth": 0,
             "ticks": ""
            },
            "colorscale": [
             [
              0,
              "#0d0887"
             ],
             [
              0.1111111111111111,
              "#46039f"
             ],
             [
              0.2222222222222222,
              "#7201a8"
             ],
             [
              0.3333333333333333,
              "#9c179e"
             ],
             [
              0.4444444444444444,
              "#bd3786"
             ],
             [
              0.5555555555555556,
              "#d8576b"
             ],
             [
              0.6666666666666666,
              "#ed7953"
             ],
             [
              0.7777777777777778,
              "#fb9f3a"
             ],
             [
              0.8888888888888888,
              "#fdca26"
             ],
             [
              1,
              "#f0f921"
             ]
            ],
            "type": "heatmapgl"
           }
          ],
          "histogram": [
           {
            "marker": {
             "pattern": {
              "fillmode": "overlay",
              "size": 10,
              "solidity": 0.2
             }
            },
            "type": "histogram"
           }
          ],
          "histogram2d": [
           {
            "colorbar": {
             "outlinewidth": 0,
             "ticks": ""
            },
            "colorscale": [
             [
              0,
              "#0d0887"
             ],
             [
              0.1111111111111111,
              "#46039f"
             ],
             [
              0.2222222222222222,
              "#7201a8"
             ],
             [
              0.3333333333333333,
              "#9c179e"
             ],
             [
              0.4444444444444444,
              "#bd3786"
             ],
             [
              0.5555555555555556,
              "#d8576b"
             ],
             [
              0.6666666666666666,
              "#ed7953"
             ],
             [
              0.7777777777777778,
              "#fb9f3a"
             ],
             [
              0.8888888888888888,
              "#fdca26"
             ],
             [
              1,
              "#f0f921"
             ]
            ],
            "type": "histogram2d"
           }
          ],
          "histogram2dcontour": [
           {
            "colorbar": {
             "outlinewidth": 0,
             "ticks": ""
            },
            "colorscale": [
             [
              0,
              "#0d0887"
             ],
             [
              0.1111111111111111,
              "#46039f"
             ],
             [
              0.2222222222222222,
              "#7201a8"
             ],
             [
              0.3333333333333333,
              "#9c179e"
             ],
             [
              0.4444444444444444,
              "#bd3786"
             ],
             [
              0.5555555555555556,
              "#d8576b"
             ],
             [
              0.6666666666666666,
              "#ed7953"
             ],
             [
              0.7777777777777778,
              "#fb9f3a"
             ],
             [
              0.8888888888888888,
              "#fdca26"
             ],
             [
              1,
              "#f0f921"
             ]
            ],
            "type": "histogram2dcontour"
           }
          ],
          "mesh3d": [
           {
            "colorbar": {
             "outlinewidth": 0,
             "ticks": ""
            },
            "type": "mesh3d"
           }
          ],
          "parcoords": [
           {
            "line": {
             "colorbar": {
              "outlinewidth": 0,
              "ticks": ""
             }
            },
            "type": "parcoords"
           }
          ],
          "pie": [
           {
            "automargin": true,
            "type": "pie"
           }
          ],
          "scatter": [
           {
            "marker": {
             "colorbar": {
              "outlinewidth": 0,
              "ticks": ""
             }
            },
            "type": "scatter"
           }
          ],
          "scatter3d": [
           {
            "line": {
             "colorbar": {
              "outlinewidth": 0,
              "ticks": ""
             }
            },
            "marker": {
             "colorbar": {
              "outlinewidth": 0,
              "ticks": ""
             }
            },
            "type": "scatter3d"
           }
          ],
          "scattercarpet": [
           {
            "marker": {
             "colorbar": {
              "outlinewidth": 0,
              "ticks": ""
             }
            },
            "type": "scattercarpet"
           }
          ],
          "scattergeo": [
           {
            "marker": {
             "colorbar": {
              "outlinewidth": 0,
              "ticks": ""
             }
            },
            "type": "scattergeo"
           }
          ],
          "scattergl": [
           {
            "marker": {
             "colorbar": {
              "outlinewidth": 0,
              "ticks": ""
             }
            },
            "type": "scattergl"
           }
          ],
          "scattermapbox": [
           {
            "marker": {
             "colorbar": {
              "outlinewidth": 0,
              "ticks": ""
             }
            },
            "type": "scattermapbox"
           }
          ],
          "scatterpolar": [
           {
            "marker": {
             "colorbar": {
              "outlinewidth": 0,
              "ticks": ""
             }
            },
            "type": "scatterpolar"
           }
          ],
          "scatterpolargl": [
           {
            "marker": {
             "colorbar": {
              "outlinewidth": 0,
              "ticks": ""
             }
            },
            "type": "scatterpolargl"
           }
          ],
          "scatterternary": [
           {
            "marker": {
             "colorbar": {
              "outlinewidth": 0,
              "ticks": ""
             }
            },
            "type": "scatterternary"
           }
          ],
          "surface": [
           {
            "colorbar": {
             "outlinewidth": 0,
             "ticks": ""
            },
            "colorscale": [
             [
              0,
              "#0d0887"
             ],
             [
              0.1111111111111111,
              "#46039f"
             ],
             [
              0.2222222222222222,
              "#7201a8"
             ],
             [
              0.3333333333333333,
              "#9c179e"
             ],
             [
              0.4444444444444444,
              "#bd3786"
             ],
             [
              0.5555555555555556,
              "#d8576b"
             ],
             [
              0.6666666666666666,
              "#ed7953"
             ],
             [
              0.7777777777777778,
              "#fb9f3a"
             ],
             [
              0.8888888888888888,
              "#fdca26"
             ],
             [
              1,
              "#f0f921"
             ]
            ],
            "type": "surface"
           }
          ],
          "table": [
           {
            "cells": {
             "fill": {
              "color": "#EBF0F8"
             },
             "line": {
              "color": "white"
             }
            },
            "header": {
             "fill": {
              "color": "#C8D4E3"
             },
             "line": {
              "color": "white"
             }
            },
            "type": "table"
           }
          ]
         },
         "layout": {
          "annotationdefaults": {
           "arrowcolor": "#2a3f5f",
           "arrowhead": 0,
           "arrowwidth": 1
          },
          "autotypenumbers": "strict",
          "coloraxis": {
           "colorbar": {
            "outlinewidth": 0,
            "ticks": ""
           }
          },
          "colorscale": {
           "diverging": [
            [
             0,
             "#8e0152"
            ],
            [
             0.1,
             "#c51b7d"
            ],
            [
             0.2,
             "#de77ae"
            ],
            [
             0.3,
             "#f1b6da"
            ],
            [
             0.4,
             "#fde0ef"
            ],
            [
             0.5,
             "#f7f7f7"
            ],
            [
             0.6,
             "#e6f5d0"
            ],
            [
             0.7,
             "#b8e186"
            ],
            [
             0.8,
             "#7fbc41"
            ],
            [
             0.9,
             "#4d9221"
            ],
            [
             1,
             "#276419"
            ]
           ],
           "sequential": [
            [
             0,
             "#0d0887"
            ],
            [
             0.1111111111111111,
             "#46039f"
            ],
            [
             0.2222222222222222,
             "#7201a8"
            ],
            [
             0.3333333333333333,
             "#9c179e"
            ],
            [
             0.4444444444444444,
             "#bd3786"
            ],
            [
             0.5555555555555556,
             "#d8576b"
            ],
            [
             0.6666666666666666,
             "#ed7953"
            ],
            [
             0.7777777777777778,
             "#fb9f3a"
            ],
            [
             0.8888888888888888,
             "#fdca26"
            ],
            [
             1,
             "#f0f921"
            ]
           ],
           "sequentialminus": [
            [
             0,
             "#0d0887"
            ],
            [
             0.1111111111111111,
             "#46039f"
            ],
            [
             0.2222222222222222,
             "#7201a8"
            ],
            [
             0.3333333333333333,
             "#9c179e"
            ],
            [
             0.4444444444444444,
             "#bd3786"
            ],
            [
             0.5555555555555556,
             "#d8576b"
            ],
            [
             0.6666666666666666,
             "#ed7953"
            ],
            [
             0.7777777777777778,
             "#fb9f3a"
            ],
            [
             0.8888888888888888,
             "#fdca26"
            ],
            [
             1,
             "#f0f921"
            ]
           ]
          },
          "colorway": [
           "#636efa",
           "#EF553B",
           "#00cc96",
           "#ab63fa",
           "#FFA15A",
           "#19d3f3",
           "#FF6692",
           "#B6E880",
           "#FF97FF",
           "#FECB52"
          ],
          "font": {
           "color": "#2a3f5f"
          },
          "geo": {
           "bgcolor": "white",
           "lakecolor": "white",
           "landcolor": "#E5ECF6",
           "showlakes": true,
           "showland": true,
           "subunitcolor": "white"
          },
          "hoverlabel": {
           "align": "left"
          },
          "hovermode": "closest",
          "mapbox": {
           "style": "light"
          },
          "paper_bgcolor": "white",
          "plot_bgcolor": "#E5ECF6",
          "polar": {
           "angularaxis": {
            "gridcolor": "white",
            "linecolor": "white",
            "ticks": ""
           },
           "bgcolor": "#E5ECF6",
           "radialaxis": {
            "gridcolor": "white",
            "linecolor": "white",
            "ticks": ""
           }
          },
          "scene": {
           "xaxis": {
            "backgroundcolor": "#E5ECF6",
            "gridcolor": "white",
            "gridwidth": 2,
            "linecolor": "white",
            "showbackground": true,
            "ticks": "",
            "zerolinecolor": "white"
           },
           "yaxis": {
            "backgroundcolor": "#E5ECF6",
            "gridcolor": "white",
            "gridwidth": 2,
            "linecolor": "white",
            "showbackground": true,
            "ticks": "",
            "zerolinecolor": "white"
           },
           "zaxis": {
            "backgroundcolor": "#E5ECF6",
            "gridcolor": "white",
            "gridwidth": 2,
            "linecolor": "white",
            "showbackground": true,
            "ticks": "",
            "zerolinecolor": "white"
           }
          },
          "shapedefaults": {
           "line": {
            "color": "#2a3f5f"
           }
          },
          "ternary": {
           "aaxis": {
            "gridcolor": "white",
            "linecolor": "white",
            "ticks": ""
           },
           "baxis": {
            "gridcolor": "white",
            "linecolor": "white",
            "ticks": ""
           },
           "bgcolor": "#E5ECF6",
           "caxis": {
            "gridcolor": "white",
            "linecolor": "white",
            "ticks": ""
           }
          },
          "title": {
           "x": 0.05
          },
          "xaxis": {
           "automargin": true,
           "gridcolor": "white",
           "linecolor": "white",
           "ticks": "",
           "title": {
            "standoff": 15
           },
           "zerolinecolor": "white",
           "zerolinewidth": 2
          },
          "yaxis": {
           "automargin": true,
           "gridcolor": "white",
           "linecolor": "white",
           "ticks": "",
           "title": {
            "standoff": 15
           },
           "zerolinecolor": "white",
           "zerolinewidth": 2
          }
         }
        },
        "width": 800
       }
      }
     },
     "metadata": {},
     "output_type": "display_data"
    }
   ],
   "source": [
    "fig = px.treemap(df_veg_trans, \n",
    "    path = [px.Constant('All'), 'index'], \n",
    "    color = 0, \n",
    "    color_continuous_scale='Emrld',\n",
    "    values = 0,\n",
    "    width = 800,\n",
    "    height = 600)\n",
    "fig.show()"
   ]
  },
  {
   "cell_type": "code",
   "execution_count": 26,
   "metadata": {},
   "outputs": [],
   "source": [
    "# Abfrage EU Länder\n",
    "# Umwandlung in Dataframe"
   ]
  },
  {
   "cell_type": "markdown",
   "metadata": {},
   "source": [
    "## Dashboard Europa"
   ]
  },
  {
   "cell_type": "code",
   "execution_count": 27,
   "metadata": {},
   "outputs": [],
   "source": [
    "df_countries = pd.read_csv('C:\\dev\\eda_esa_fire\\doc\\country_codes.csv', on_bad_lines='skip', delimiter=',')"
   ]
  },
  {
   "cell_type": "code",
   "execution_count": 28,
   "metadata": {},
   "outputs": [],
   "source": [
    "europe = df_countries[df_countries['region'] == 'Europe']['alpha-2'].to_list()"
   ]
  },
  {
   "cell_type": "code",
   "execution_count": 29,
   "metadata": {},
   "outputs": [],
   "source": [
    "list_europe = list(mycol.find({\"country\":{\"$in\":europe}}))\n",
    "df_eu = pd.DataFrame(list_europe)"
   ]
  },
  {
   "cell_type": "code",
   "execution_count": 30,
   "metadata": {},
   "outputs": [
    {
     "data": {
      "text/html": [
       "<div>\n",
       "<style scoped>\n",
       "    .dataframe tbody tr th:only-of-type {\n",
       "        vertical-align: middle;\n",
       "    }\n",
       "\n",
       "    .dataframe tbody tr th {\n",
       "        vertical-align: top;\n",
       "    }\n",
       "\n",
       "    .dataframe thead th {\n",
       "        text-align: right;\n",
       "    }\n",
       "</style>\n",
       "<table border=\"1\" class=\"dataframe\">\n",
       "  <thead>\n",
       "    <tr style=\"text-align: right;\">\n",
       "      <th></th>\n",
       "      <th>_id</th>\n",
       "      <th>lon</th>\n",
       "      <th>lat</th>\n",
       "      <th>country</th>\n",
       "      <th>date</th>\n",
       "      <th>burned_area</th>\n",
       "      <th>standard_error</th>\n",
       "      <th>fraction_of_burnable_area</th>\n",
       "      <th>fraction_of_observed_area</th>\n",
       "      <th>number_of_patches</th>\n",
       "      <th>no_data_burned_area</th>\n",
       "      <th>tree_cover_broadleaved_evergreen_burned_area</th>\n",
       "      <th>tree_cover_broadleaved_deciduous_burned_area</th>\n",
       "      <th>tree_cover_needleleaved_evergreen_burned_area</th>\n",
       "      <th>tree_cover_needleleaved_deciduous_burned_area</th>\n",
       "      <th>tree_cover_mixed_leave_burned_area</th>\n",
       "      <th>cropland_burned_area</th>\n",
       "      <th>mosaic_tree_grass_burned_area</th>\n",
       "      <th>other_vegetation_burned_area</th>\n",
       "      <th>flooded_area_burned_area</th>\n",
       "    </tr>\n",
       "  </thead>\n",
       "  <tbody>\n",
       "    <tr>\n",
       "      <th>0</th>\n",
       "      <td>630630b328dd00e55a25462f</td>\n",
       "      <td>-3.625</td>\n",
       "      <td>56.125</td>\n",
       "      <td>GB</td>\n",
       "      <td>2001-01-01</td>\n",
       "      <td>804970.0</td>\n",
       "      <td>545465.0</td>\n",
       "      <td>0.829803</td>\n",
       "      <td>0.959910</td>\n",
       "      <td>3.0</td>\n",
       "      <td>751305.0</td>\n",
       "      <td>0.0</td>\n",
       "      <td>0.0</td>\n",
       "      <td>0.0</td>\n",
       "      <td>0.0</td>\n",
       "      <td>0.0</td>\n",
       "      <td>0.0</td>\n",
       "      <td>0.0</td>\n",
       "      <td>53664.0</td>\n",
       "      <td>0.0</td>\n",
       "    </tr>\n",
       "    <tr>\n",
       "      <th>1</th>\n",
       "      <td>630630b328dd00e55a254630</td>\n",
       "      <td>-3.625</td>\n",
       "      <td>55.875</td>\n",
       "      <td>GB</td>\n",
       "      <td>2001-01-01</td>\n",
       "      <td>2039257.0</td>\n",
       "      <td>707836.0</td>\n",
       "      <td>0.938498</td>\n",
       "      <td>0.977980</td>\n",
       "      <td>1.0</td>\n",
       "      <td>1502610.0</td>\n",
       "      <td>0.0</td>\n",
       "      <td>0.0</td>\n",
       "      <td>0.0</td>\n",
       "      <td>0.0</td>\n",
       "      <td>0.0</td>\n",
       "      <td>375652.0</td>\n",
       "      <td>0.0</td>\n",
       "      <td>160994.0</td>\n",
       "      <td>0.0</td>\n",
       "    </tr>\n",
       "    <tr>\n",
       "      <th>2</th>\n",
       "      <td>630630b328dd00e55a254631</td>\n",
       "      <td>22.875</td>\n",
       "      <td>53.125</td>\n",
       "      <td>PL</td>\n",
       "      <td>2001-01-01</td>\n",
       "      <td>3005221.0</td>\n",
       "      <td>838988.0</td>\n",
       "      <td>0.996411</td>\n",
       "      <td>0.981294</td>\n",
       "      <td>1.0</td>\n",
       "      <td>0.0</td>\n",
       "      <td>0.0</td>\n",
       "      <td>590311.0</td>\n",
       "      <td>0.0</td>\n",
       "      <td>0.0</td>\n",
       "      <td>0.0</td>\n",
       "      <td>0.0</td>\n",
       "      <td>0.0</td>\n",
       "      <td>53664.0</td>\n",
       "      <td>2361245.0</td>\n",
       "    </tr>\n",
       "    <tr>\n",
       "      <th>3</th>\n",
       "      <td>630630b328dd00e55a254632</td>\n",
       "      <td>24.625</td>\n",
       "      <td>51.875</td>\n",
       "      <td>UA</td>\n",
       "      <td>2001-01-01</td>\n",
       "      <td>1609940.0</td>\n",
       "      <td>720975.0</td>\n",
       "      <td>0.974907</td>\n",
       "      <td>0.963874</td>\n",
       "      <td>3.0</td>\n",
       "      <td>965964.0</td>\n",
       "      <td>0.0</td>\n",
       "      <td>429317.0</td>\n",
       "      <td>0.0</td>\n",
       "      <td>0.0</td>\n",
       "      <td>0.0</td>\n",
       "      <td>0.0</td>\n",
       "      <td>0.0</td>\n",
       "      <td>214658.0</td>\n",
       "      <td>0.0</td>\n",
       "    </tr>\n",
       "    <tr>\n",
       "      <th>4</th>\n",
       "      <td>630630b328dd00e55a254633</td>\n",
       "      <td>26.125</td>\n",
       "      <td>51.875</td>\n",
       "      <td>UA</td>\n",
       "      <td>2001-01-01</td>\n",
       "      <td>21948848.0</td>\n",
       "      <td>929124.0</td>\n",
       "      <td>0.991455</td>\n",
       "      <td>0.826491</td>\n",
       "      <td>2.0</td>\n",
       "      <td>1287952.0</td>\n",
       "      <td>0.0</td>\n",
       "      <td>268323.0</td>\n",
       "      <td>0.0</td>\n",
       "      <td>0.0</td>\n",
       "      <td>0.0</td>\n",
       "      <td>697640.0</td>\n",
       "      <td>0.0</td>\n",
       "      <td>1985592.0</td>\n",
       "      <td>17709340.0</td>\n",
       "    </tr>\n",
       "    <tr>\n",
       "      <th>...</th>\n",
       "      <td>...</td>\n",
       "      <td>...</td>\n",
       "      <td>...</td>\n",
       "      <td>...</td>\n",
       "      <td>...</td>\n",
       "      <td>...</td>\n",
       "      <td>...</td>\n",
       "      <td>...</td>\n",
       "      <td>...</td>\n",
       "      <td>...</td>\n",
       "      <td>...</td>\n",
       "      <td>...</td>\n",
       "      <td>...</td>\n",
       "      <td>...</td>\n",
       "      <td>...</td>\n",
       "      <td>...</td>\n",
       "      <td>...</td>\n",
       "      <td>...</td>\n",
       "      <td>...</td>\n",
       "      <td>...</td>\n",
       "    </tr>\n",
       "    <tr>\n",
       "      <th>490553</th>\n",
       "      <td>630634c328dd00e55a5607e6</td>\n",
       "      <td>-7.875</td>\n",
       "      <td>41.375</td>\n",
       "      <td>PT</td>\n",
       "      <td>2020-12-01</td>\n",
       "      <td>3166215.0</td>\n",
       "      <td>979340.0</td>\n",
       "      <td>0.985474</td>\n",
       "      <td>1.000000</td>\n",
       "      <td>3.0</td>\n",
       "      <td>0.0</td>\n",
       "      <td>0.0</td>\n",
       "      <td>0.0</td>\n",
       "      <td>2146586.0</td>\n",
       "      <td>0.0</td>\n",
       "      <td>214658.0</td>\n",
       "      <td>0.0</td>\n",
       "      <td>1609940.0</td>\n",
       "      <td>0.0</td>\n",
       "      <td>0.0</td>\n",
       "    </tr>\n",
       "    <tr>\n",
       "      <th>490554</th>\n",
       "      <td>630634c328dd00e55a5607ed</td>\n",
       "      <td>-4.375</td>\n",
       "      <td>40.375</td>\n",
       "      <td>ES</td>\n",
       "      <td>2020-12-01</td>\n",
       "      <td>429317.0</td>\n",
       "      <td>552708.0</td>\n",
       "      <td>0.972653</td>\n",
       "      <td>1.000000</td>\n",
       "      <td>2.0</td>\n",
       "      <td>0.0</td>\n",
       "      <td>0.0</td>\n",
       "      <td>0.0</td>\n",
       "      <td>107329.0</td>\n",
       "      <td>0.0</td>\n",
       "      <td>0.0</td>\n",
       "      <td>53664.0</td>\n",
       "      <td>536646.0</td>\n",
       "      <td>0.0</td>\n",
       "      <td>0.0</td>\n",
       "    </tr>\n",
       "    <tr>\n",
       "      <th>490555</th>\n",
       "      <td>630634c328dd00e55a5607f1</td>\n",
       "      <td>-8.125</td>\n",
       "      <td>40.125</td>\n",
       "      <td>PT</td>\n",
       "      <td>2020-12-01</td>\n",
       "      <td>2790562.0</td>\n",
       "      <td>557590.0</td>\n",
       "      <td>0.985990</td>\n",
       "      <td>1.000000</td>\n",
       "      <td>27.0</td>\n",
       "      <td>0.0</td>\n",
       "      <td>0.0</td>\n",
       "      <td>0.0</td>\n",
       "      <td>2361245.0</td>\n",
       "      <td>0.0</td>\n",
       "      <td>321988.0</td>\n",
       "      <td>0.0</td>\n",
       "      <td>214658.0</td>\n",
       "      <td>0.0</td>\n",
       "      <td>0.0</td>\n",
       "    </tr>\n",
       "    <tr>\n",
       "      <th>490556</th>\n",
       "      <td>630634c328dd00e55a5607f4</td>\n",
       "      <td>8.625</td>\n",
       "      <td>39.875</td>\n",
       "      <td>IT</td>\n",
       "      <td>2020-12-01</td>\n",
       "      <td>3166215.0</td>\n",
       "      <td>515265.0</td>\n",
       "      <td>0.802660</td>\n",
       "      <td>1.000000</td>\n",
       "      <td>8.0</td>\n",
       "      <td>214658.0</td>\n",
       "      <td>0.0</td>\n",
       "      <td>0.0</td>\n",
       "      <td>0.0</td>\n",
       "      <td>0.0</td>\n",
       "      <td>0.0</td>\n",
       "      <td>2844227.0</td>\n",
       "      <td>0.0</td>\n",
       "      <td>107329.0</td>\n",
       "      <td>0.0</td>\n",
       "    </tr>\n",
       "    <tr>\n",
       "      <th>490557</th>\n",
       "      <td>630634c328dd00e55a560824</td>\n",
       "      <td>-3.375</td>\n",
       "      <td>36.875</td>\n",
       "      <td>ES</td>\n",
       "      <td>2020-12-01</td>\n",
       "      <td>8961999.0</td>\n",
       "      <td>1161032.0</td>\n",
       "      <td>0.973269</td>\n",
       "      <td>0.997146</td>\n",
       "      <td>7.0</td>\n",
       "      <td>0.0</td>\n",
       "      <td>0.0</td>\n",
       "      <td>0.0</td>\n",
       "      <td>912299.0</td>\n",
       "      <td>0.0</td>\n",
       "      <td>0.0</td>\n",
       "      <td>375651.0</td>\n",
       "      <td>5044478.0</td>\n",
       "      <td>5151807.0</td>\n",
       "      <td>0.0</td>\n",
       "    </tr>\n",
       "  </tbody>\n",
       "</table>\n",
       "<p>490558 rows × 20 columns</p>\n",
       "</div>"
      ],
      "text/plain": [
       "                             _id     lon     lat country        date  \\\n",
       "0       630630b328dd00e55a25462f  -3.625  56.125      GB  2001-01-01   \n",
       "1       630630b328dd00e55a254630  -3.625  55.875      GB  2001-01-01   \n",
       "2       630630b328dd00e55a254631  22.875  53.125      PL  2001-01-01   \n",
       "3       630630b328dd00e55a254632  24.625  51.875      UA  2001-01-01   \n",
       "4       630630b328dd00e55a254633  26.125  51.875      UA  2001-01-01   \n",
       "...                          ...     ...     ...     ...         ...   \n",
       "490553  630634c328dd00e55a5607e6  -7.875  41.375      PT  2020-12-01   \n",
       "490554  630634c328dd00e55a5607ed  -4.375  40.375      ES  2020-12-01   \n",
       "490555  630634c328dd00e55a5607f1  -8.125  40.125      PT  2020-12-01   \n",
       "490556  630634c328dd00e55a5607f4   8.625  39.875      IT  2020-12-01   \n",
       "490557  630634c328dd00e55a560824  -3.375  36.875      ES  2020-12-01   \n",
       "\n",
       "        burned_area  standard_error  fraction_of_burnable_area  \\\n",
       "0          804970.0        545465.0                   0.829803   \n",
       "1         2039257.0        707836.0                   0.938498   \n",
       "2         3005221.0        838988.0                   0.996411   \n",
       "3         1609940.0        720975.0                   0.974907   \n",
       "4        21948848.0        929124.0                   0.991455   \n",
       "...             ...             ...                        ...   \n",
       "490553    3166215.0        979340.0                   0.985474   \n",
       "490554     429317.0        552708.0                   0.972653   \n",
       "490555    2790562.0        557590.0                   0.985990   \n",
       "490556    3166215.0        515265.0                   0.802660   \n",
       "490557    8961999.0       1161032.0                   0.973269   \n",
       "\n",
       "        fraction_of_observed_area  number_of_patches  no_data_burned_area  \\\n",
       "0                        0.959910                3.0             751305.0   \n",
       "1                        0.977980                1.0            1502610.0   \n",
       "2                        0.981294                1.0                  0.0   \n",
       "3                        0.963874                3.0             965964.0   \n",
       "4                        0.826491                2.0            1287952.0   \n",
       "...                           ...                ...                  ...   \n",
       "490553                   1.000000                3.0                  0.0   \n",
       "490554                   1.000000                2.0                  0.0   \n",
       "490555                   1.000000               27.0                  0.0   \n",
       "490556                   1.000000                8.0             214658.0   \n",
       "490557                   0.997146                7.0                  0.0   \n",
       "\n",
       "        tree_cover_broadleaved_evergreen_burned_area  \\\n",
       "0                                                0.0   \n",
       "1                                                0.0   \n",
       "2                                                0.0   \n",
       "3                                                0.0   \n",
       "4                                                0.0   \n",
       "...                                              ...   \n",
       "490553                                           0.0   \n",
       "490554                                           0.0   \n",
       "490555                                           0.0   \n",
       "490556                                           0.0   \n",
       "490557                                           0.0   \n",
       "\n",
       "        tree_cover_broadleaved_deciduous_burned_area  \\\n",
       "0                                                0.0   \n",
       "1                                                0.0   \n",
       "2                                           590311.0   \n",
       "3                                           429317.0   \n",
       "4                                           268323.0   \n",
       "...                                              ...   \n",
       "490553                                           0.0   \n",
       "490554                                           0.0   \n",
       "490555                                           0.0   \n",
       "490556                                           0.0   \n",
       "490557                                           0.0   \n",
       "\n",
       "        tree_cover_needleleaved_evergreen_burned_area  \\\n",
       "0                                                 0.0   \n",
       "1                                                 0.0   \n",
       "2                                                 0.0   \n",
       "3                                                 0.0   \n",
       "4                                                 0.0   \n",
       "...                                               ...   \n",
       "490553                                      2146586.0   \n",
       "490554                                       107329.0   \n",
       "490555                                      2361245.0   \n",
       "490556                                            0.0   \n",
       "490557                                       912299.0   \n",
       "\n",
       "        tree_cover_needleleaved_deciduous_burned_area  \\\n",
       "0                                                 0.0   \n",
       "1                                                 0.0   \n",
       "2                                                 0.0   \n",
       "3                                                 0.0   \n",
       "4                                                 0.0   \n",
       "...                                               ...   \n",
       "490553                                            0.0   \n",
       "490554                                            0.0   \n",
       "490555                                            0.0   \n",
       "490556                                            0.0   \n",
       "490557                                            0.0   \n",
       "\n",
       "        tree_cover_mixed_leave_burned_area  cropland_burned_area  \\\n",
       "0                                      0.0                   0.0   \n",
       "1                                      0.0              375652.0   \n",
       "2                                      0.0                   0.0   \n",
       "3                                      0.0                   0.0   \n",
       "4                                      0.0              697640.0   \n",
       "...                                    ...                   ...   \n",
       "490553                            214658.0                   0.0   \n",
       "490554                                 0.0               53664.0   \n",
       "490555                            321988.0                   0.0   \n",
       "490556                                 0.0             2844227.0   \n",
       "490557                                 0.0              375651.0   \n",
       "\n",
       "        mosaic_tree_grass_burned_area  other_vegetation_burned_area  \\\n",
       "0                                 0.0                       53664.0   \n",
       "1                                 0.0                      160994.0   \n",
       "2                                 0.0                       53664.0   \n",
       "3                                 0.0                      214658.0   \n",
       "4                                 0.0                     1985592.0   \n",
       "...                               ...                           ...   \n",
       "490553                      1609940.0                           0.0   \n",
       "490554                       536646.0                           0.0   \n",
       "490555                       214658.0                           0.0   \n",
       "490556                            0.0                      107329.0   \n",
       "490557                      5044478.0                     5151807.0   \n",
       "\n",
       "        flooded_area_burned_area  \n",
       "0                            0.0  \n",
       "1                            0.0  \n",
       "2                      2361245.0  \n",
       "3                            0.0  \n",
       "4                     17709340.0  \n",
       "...                          ...  \n",
       "490553                       0.0  \n",
       "490554                       0.0  \n",
       "490555                       0.0  \n",
       "490556                       0.0  \n",
       "490557                       0.0  \n",
       "\n",
       "[490558 rows x 20 columns]"
      ]
     },
     "execution_count": 30,
     "metadata": {},
     "output_type": "execute_result"
    }
   ],
   "source": [
    "df_eu"
   ]
  },
  {
   "cell_type": "code",
   "execution_count": 31,
   "metadata": {},
   "outputs": [],
   "source": [
    "df_eu['year'] = df_eu['date'].str.slice(start=0, stop=4)"
   ]
  },
  {
   "cell_type": "code",
   "execution_count": 32,
   "metadata": {},
   "outputs": [],
   "source": [
    "df_test = df_eu[(df_eu['year'] == '2016') & (df_eu['country'] == 'IT')]"
   ]
  },
  {
   "cell_type": "markdown",
   "metadata": {},
   "source": [
    "## Test Graphics"
   ]
  },
  {
   "cell_type": "code",
   "execution_count": 33,
   "metadata": {},
   "outputs": [
    {
     "data": {
      "text/html": [
       "<div>\n",
       "<style scoped>\n",
       "    .dataframe tbody tr th:only-of-type {\n",
       "        vertical-align: middle;\n",
       "    }\n",
       "\n",
       "    .dataframe tbody tr th {\n",
       "        vertical-align: top;\n",
       "    }\n",
       "\n",
       "    .dataframe thead th {\n",
       "        text-align: right;\n",
       "    }\n",
       "</style>\n",
       "<table border=\"1\" class=\"dataframe\">\n",
       "  <thead>\n",
       "    <tr style=\"text-align: right;\">\n",
       "      <th></th>\n",
       "      <th>date</th>\n",
       "      <th>lon</th>\n",
       "      <th>lat</th>\n",
       "      <th>burned_area</th>\n",
       "      <th>standard_error</th>\n",
       "      <th>fraction_of_burnable_area</th>\n",
       "      <th>fraction_of_observed_area</th>\n",
       "      <th>number_of_patches</th>\n",
       "      <th>no_data_burned_area</th>\n",
       "      <th>tree_cover_broadleaved_evergreen_burned_area</th>\n",
       "      <th>tree_cover_broadleaved_deciduous_burned_area</th>\n",
       "      <th>tree_cover_needleleaved_evergreen_burned_area</th>\n",
       "      <th>tree_cover_needleleaved_deciduous_burned_area</th>\n",
       "      <th>tree_cover_mixed_leave_burned_area</th>\n",
       "      <th>cropland_burned_area</th>\n",
       "      <th>mosaic_tree_grass_burned_area</th>\n",
       "      <th>other_vegetation_burned_area</th>\n",
       "      <th>flooded_area_burned_area</th>\n",
       "    </tr>\n",
       "  </thead>\n",
       "  <tbody>\n",
       "    <tr>\n",
       "      <th>0</th>\n",
       "      <td>2016-01-01</td>\n",
       "      <td>11.375</td>\n",
       "      <td>45.875</td>\n",
       "      <td>375652.0</td>\n",
       "      <td>529075.0</td>\n",
       "      <td>0.983945</td>\n",
       "      <td>0.990575</td>\n",
       "      <td>3.0</td>\n",
       "      <td>0.0</td>\n",
       "      <td>0.0</td>\n",
       "      <td>0.0</td>\n",
       "      <td>375652.0</td>\n",
       "      <td>0.0</td>\n",
       "      <td>0.0</td>\n",
       "      <td>0.0</td>\n",
       "      <td>0.0</td>\n",
       "      <td>0.0</td>\n",
       "      <td>0.0</td>\n",
       "    </tr>\n",
       "    <tr>\n",
       "      <th>1</th>\n",
       "      <td>2016-05-01</td>\n",
       "      <td>29.500</td>\n",
       "      <td>74.500</td>\n",
       "      <td>1019628.0</td>\n",
       "      <td>1458540.0</td>\n",
       "      <td>1.926052</td>\n",
       "      <td>1.986665</td>\n",
       "      <td>5.0</td>\n",
       "      <td>912298.0</td>\n",
       "      <td>0.0</td>\n",
       "      <td>0.0</td>\n",
       "      <td>0.0</td>\n",
       "      <td>0.0</td>\n",
       "      <td>0.0</td>\n",
       "      <td>107328.0</td>\n",
       "      <td>0.0</td>\n",
       "      <td>0.0</td>\n",
       "      <td>0.0</td>\n",
       "    </tr>\n",
       "    <tr>\n",
       "      <th>2</th>\n",
       "      <td>2016-06-01</td>\n",
       "      <td>428.875</td>\n",
       "      <td>1127.875</td>\n",
       "      <td>78672391.0</td>\n",
       "      <td>18440286.0</td>\n",
       "      <td>21.852823</td>\n",
       "      <td>28.662573</td>\n",
       "      <td>70.0</td>\n",
       "      <td>40248490.0</td>\n",
       "      <td>0.0</td>\n",
       "      <td>536645.0</td>\n",
       "      <td>0.0</td>\n",
       "      <td>0.0</td>\n",
       "      <td>0.0</td>\n",
       "      <td>18836292.0</td>\n",
       "      <td>18997286.0</td>\n",
       "      <td>9552306.0</td>\n",
       "      <td>0.0</td>\n",
       "    </tr>\n",
       "    <tr>\n",
       "      <th>3</th>\n",
       "      <td>2016-07-01</td>\n",
       "      <td>1585.500</td>\n",
       "      <td>4342.000</td>\n",
       "      <td>532514454.0</td>\n",
       "      <td>83274285.0</td>\n",
       "      <td>83.389457</td>\n",
       "      <td>108.408936</td>\n",
       "      <td>521.0</td>\n",
       "      <td>390786071.0</td>\n",
       "      <td>0.0</td>\n",
       "      <td>5151803.0</td>\n",
       "      <td>4454164.0</td>\n",
       "      <td>0.0</td>\n",
       "      <td>0.0</td>\n",
       "      <td>36116290.0</td>\n",
       "      <td>29837538.0</td>\n",
       "      <td>79316358.0</td>\n",
       "      <td>1770933.0</td>\n",
       "    </tr>\n",
       "    <tr>\n",
       "      <th>4</th>\n",
       "      <td>2016-08-01</td>\n",
       "      <td>1662.125</td>\n",
       "      <td>4618.125</td>\n",
       "      <td>548667527.0</td>\n",
       "      <td>83971056.0</td>\n",
       "      <td>89.256920</td>\n",
       "      <td>113.412398</td>\n",
       "      <td>763.0</td>\n",
       "      <td>407261128.0</td>\n",
       "      <td>0.0</td>\n",
       "      <td>18192312.0</td>\n",
       "      <td>2092919.0</td>\n",
       "      <td>0.0</td>\n",
       "      <td>0.0</td>\n",
       "      <td>46741890.0</td>\n",
       "      <td>38531206.0</td>\n",
       "      <td>55113589.0</td>\n",
       "      <td>0.0</td>\n",
       "    </tr>\n",
       "    <tr>\n",
       "      <th>5</th>\n",
       "      <td>2016-09-01</td>\n",
       "      <td>992.000</td>\n",
       "      <td>2822.500</td>\n",
       "      <td>233333952.0</td>\n",
       "      <td>47555757.0</td>\n",
       "      <td>59.698495</td>\n",
       "      <td>69.181151</td>\n",
       "      <td>580.0</td>\n",
       "      <td>200974157.0</td>\n",
       "      <td>0.0</td>\n",
       "      <td>7942362.0</td>\n",
       "      <td>590310.0</td>\n",
       "      <td>0.0</td>\n",
       "      <td>0.0</td>\n",
       "      <td>8586333.0</td>\n",
       "      <td>7083726.0</td>\n",
       "      <td>11698886.0</td>\n",
       "      <td>0.0</td>\n",
       "    </tr>\n",
       "    <tr>\n",
       "      <th>6</th>\n",
       "      <td>2016-10-01</td>\n",
       "      <td>474.125</td>\n",
       "      <td>1286.125</td>\n",
       "      <td>343239206.0</td>\n",
       "      <td>28420756.0</td>\n",
       "      <td>28.558763</td>\n",
       "      <td>32.737365</td>\n",
       "      <td>201.0</td>\n",
       "      <td>323275949.0</td>\n",
       "      <td>0.0</td>\n",
       "      <td>0.0</td>\n",
       "      <td>0.0</td>\n",
       "      <td>0.0</td>\n",
       "      <td>0.0</td>\n",
       "      <td>7566712.0</td>\n",
       "      <td>7405720.0</td>\n",
       "      <td>8640008.0</td>\n",
       "      <td>0.0</td>\n",
       "    </tr>\n",
       "    <tr>\n",
       "      <th>7</th>\n",
       "      <td>2016-11-01</td>\n",
       "      <td>70.625</td>\n",
       "      <td>200.625</td>\n",
       "      <td>2092920.0</td>\n",
       "      <td>2967555.0</td>\n",
       "      <td>3.991025</td>\n",
       "      <td>4.940316</td>\n",
       "      <td>9.0</td>\n",
       "      <td>1448944.0</td>\n",
       "      <td>0.0</td>\n",
       "      <td>160994.0</td>\n",
       "      <td>0.0</td>\n",
       "      <td>0.0</td>\n",
       "      <td>0.0</td>\n",
       "      <td>0.0</td>\n",
       "      <td>0.0</td>\n",
       "      <td>482982.0</td>\n",
       "      <td>0.0</td>\n",
       "    </tr>\n",
       "  </tbody>\n",
       "</table>\n",
       "</div>"
      ],
      "text/plain": [
       "         date       lon       lat  burned_area  standard_error  \\\n",
       "0  2016-01-01    11.375    45.875     375652.0        529075.0   \n",
       "1  2016-05-01    29.500    74.500    1019628.0       1458540.0   \n",
       "2  2016-06-01   428.875  1127.875   78672391.0      18440286.0   \n",
       "3  2016-07-01  1585.500  4342.000  532514454.0      83274285.0   \n",
       "4  2016-08-01  1662.125  4618.125  548667527.0      83971056.0   \n",
       "5  2016-09-01   992.000  2822.500  233333952.0      47555757.0   \n",
       "6  2016-10-01   474.125  1286.125  343239206.0      28420756.0   \n",
       "7  2016-11-01    70.625   200.625    2092920.0       2967555.0   \n",
       "\n",
       "   fraction_of_burnable_area  fraction_of_observed_area  number_of_patches  \\\n",
       "0                   0.983945                   0.990575                3.0   \n",
       "1                   1.926052                   1.986665                5.0   \n",
       "2                  21.852823                  28.662573               70.0   \n",
       "3                  83.389457                 108.408936              521.0   \n",
       "4                  89.256920                 113.412398              763.0   \n",
       "5                  59.698495                  69.181151              580.0   \n",
       "6                  28.558763                  32.737365              201.0   \n",
       "7                   3.991025                   4.940316                9.0   \n",
       "\n",
       "   no_data_burned_area  tree_cover_broadleaved_evergreen_burned_area  \\\n",
       "0                  0.0                                           0.0   \n",
       "1             912298.0                                           0.0   \n",
       "2           40248490.0                                           0.0   \n",
       "3          390786071.0                                           0.0   \n",
       "4          407261128.0                                           0.0   \n",
       "5          200974157.0                                           0.0   \n",
       "6          323275949.0                                           0.0   \n",
       "7            1448944.0                                           0.0   \n",
       "\n",
       "   tree_cover_broadleaved_deciduous_burned_area  \\\n",
       "0                                           0.0   \n",
       "1                                           0.0   \n",
       "2                                      536645.0   \n",
       "3                                     5151803.0   \n",
       "4                                    18192312.0   \n",
       "5                                     7942362.0   \n",
       "6                                           0.0   \n",
       "7                                      160994.0   \n",
       "\n",
       "   tree_cover_needleleaved_evergreen_burned_area  \\\n",
       "0                                       375652.0   \n",
       "1                                            0.0   \n",
       "2                                            0.0   \n",
       "3                                      4454164.0   \n",
       "4                                      2092919.0   \n",
       "5                                       590310.0   \n",
       "6                                            0.0   \n",
       "7                                            0.0   \n",
       "\n",
       "   tree_cover_needleleaved_deciduous_burned_area  \\\n",
       "0                                            0.0   \n",
       "1                                            0.0   \n",
       "2                                            0.0   \n",
       "3                                            0.0   \n",
       "4                                            0.0   \n",
       "5                                            0.0   \n",
       "6                                            0.0   \n",
       "7                                            0.0   \n",
       "\n",
       "   tree_cover_mixed_leave_burned_area  cropland_burned_area  \\\n",
       "0                                 0.0                   0.0   \n",
       "1                                 0.0              107328.0   \n",
       "2                                 0.0            18836292.0   \n",
       "3                                 0.0            36116290.0   \n",
       "4                                 0.0            46741890.0   \n",
       "5                                 0.0             8586333.0   \n",
       "6                                 0.0             7566712.0   \n",
       "7                                 0.0                   0.0   \n",
       "\n",
       "   mosaic_tree_grass_burned_area  other_vegetation_burned_area  \\\n",
       "0                            0.0                           0.0   \n",
       "1                            0.0                           0.0   \n",
       "2                     18997286.0                     9552306.0   \n",
       "3                     29837538.0                    79316358.0   \n",
       "4                     38531206.0                    55113589.0   \n",
       "5                      7083726.0                    11698886.0   \n",
       "6                      7405720.0                     8640008.0   \n",
       "7                            0.0                      482982.0   \n",
       "\n",
       "   flooded_area_burned_area  \n",
       "0                       0.0  \n",
       "1                       0.0  \n",
       "2                       0.0  \n",
       "3                 1770933.0  \n",
       "4                       0.0  \n",
       "5                       0.0  \n",
       "6                       0.0  \n",
       "7                       0.0  "
      ]
     },
     "execution_count": 33,
     "metadata": {},
     "output_type": "execute_result"
    }
   ],
   "source": [
    "df_test2 = df_test.groupby(by= 'date').sum().reset_index()\n",
    "df_test2"
   ]
  },
  {
   "cell_type": "code",
   "execution_count": 34,
   "metadata": {},
   "outputs": [
    {
     "data": {
      "application/vnd.plotly.v1+json": {
       "config": {
        "plotlyServerURL": "https://plot.ly"
       },
       "data": [
        {
         "hovertemplate": "date=%{x}<br>burned_area=%{y}<extra></extra>",
         "legendgroup": "",
         "line": {
          "color": "#FD7207"
         },
         "marker": {
          "symbol": "circle"
         },
         "mode": "lines",
         "name": "",
         "orientation": "v",
         "showlegend": false,
         "stackgroup": "1",
         "type": "scatter",
         "x": [
          "2016-01-01",
          "2016-05-01",
          "2016-06-01",
          "2016-07-01",
          "2016-08-01",
          "2016-09-01",
          "2016-10-01",
          "2016-11-01"
         ],
         "xaxis": "x",
         "y": [
          375652,
          1019628,
          78672391,
          532514454,
          548667527,
          233333952,
          343239206,
          2092920
         ],
         "yaxis": "y"
        }
       ],
       "layout": {
        "legend": {
         "tracegroupgap": 0
        },
        "margin": {
         "t": 60
        },
        "paper_bgcolor": "rgb(250, 250, 250)",
        "plot_bgcolor": "rgb(250, 250, 250)",
        "template": {
         "data": {
          "bar": [
           {
            "error_x": {
             "color": "#2a3f5f"
            },
            "error_y": {
             "color": "#2a3f5f"
            },
            "marker": {
             "line": {
              "color": "#E5ECF6",
              "width": 0.5
             },
             "pattern": {
              "fillmode": "overlay",
              "size": 10,
              "solidity": 0.2
             }
            },
            "type": "bar"
           }
          ],
          "barpolar": [
           {
            "marker": {
             "line": {
              "color": "#E5ECF6",
              "width": 0.5
             },
             "pattern": {
              "fillmode": "overlay",
              "size": 10,
              "solidity": 0.2
             }
            },
            "type": "barpolar"
           }
          ],
          "carpet": [
           {
            "aaxis": {
             "endlinecolor": "#2a3f5f",
             "gridcolor": "white",
             "linecolor": "white",
             "minorgridcolor": "white",
             "startlinecolor": "#2a3f5f"
            },
            "baxis": {
             "endlinecolor": "#2a3f5f",
             "gridcolor": "white",
             "linecolor": "white",
             "minorgridcolor": "white",
             "startlinecolor": "#2a3f5f"
            },
            "type": "carpet"
           }
          ],
          "choropleth": [
           {
            "colorbar": {
             "outlinewidth": 0,
             "ticks": ""
            },
            "type": "choropleth"
           }
          ],
          "contour": [
           {
            "colorbar": {
             "outlinewidth": 0,
             "ticks": ""
            },
            "colorscale": [
             [
              0,
              "#0d0887"
             ],
             [
              0.1111111111111111,
              "#46039f"
             ],
             [
              0.2222222222222222,
              "#7201a8"
             ],
             [
              0.3333333333333333,
              "#9c179e"
             ],
             [
              0.4444444444444444,
              "#bd3786"
             ],
             [
              0.5555555555555556,
              "#d8576b"
             ],
             [
              0.6666666666666666,
              "#ed7953"
             ],
             [
              0.7777777777777778,
              "#fb9f3a"
             ],
             [
              0.8888888888888888,
              "#fdca26"
             ],
             [
              1,
              "#f0f921"
             ]
            ],
            "type": "contour"
           }
          ],
          "contourcarpet": [
           {
            "colorbar": {
             "outlinewidth": 0,
             "ticks": ""
            },
            "type": "contourcarpet"
           }
          ],
          "heatmap": [
           {
            "colorbar": {
             "outlinewidth": 0,
             "ticks": ""
            },
            "colorscale": [
             [
              0,
              "#0d0887"
             ],
             [
              0.1111111111111111,
              "#46039f"
             ],
             [
              0.2222222222222222,
              "#7201a8"
             ],
             [
              0.3333333333333333,
              "#9c179e"
             ],
             [
              0.4444444444444444,
              "#bd3786"
             ],
             [
              0.5555555555555556,
              "#d8576b"
             ],
             [
              0.6666666666666666,
              "#ed7953"
             ],
             [
              0.7777777777777778,
              "#fb9f3a"
             ],
             [
              0.8888888888888888,
              "#fdca26"
             ],
             [
              1,
              "#f0f921"
             ]
            ],
            "type": "heatmap"
           }
          ],
          "heatmapgl": [
           {
            "colorbar": {
             "outlinewidth": 0,
             "ticks": ""
            },
            "colorscale": [
             [
              0,
              "#0d0887"
             ],
             [
              0.1111111111111111,
              "#46039f"
             ],
             [
              0.2222222222222222,
              "#7201a8"
             ],
             [
              0.3333333333333333,
              "#9c179e"
             ],
             [
              0.4444444444444444,
              "#bd3786"
             ],
             [
              0.5555555555555556,
              "#d8576b"
             ],
             [
              0.6666666666666666,
              "#ed7953"
             ],
             [
              0.7777777777777778,
              "#fb9f3a"
             ],
             [
              0.8888888888888888,
              "#fdca26"
             ],
             [
              1,
              "#f0f921"
             ]
            ],
            "type": "heatmapgl"
           }
          ],
          "histogram": [
           {
            "marker": {
             "pattern": {
              "fillmode": "overlay",
              "size": 10,
              "solidity": 0.2
             }
            },
            "type": "histogram"
           }
          ],
          "histogram2d": [
           {
            "colorbar": {
             "outlinewidth": 0,
             "ticks": ""
            },
            "colorscale": [
             [
              0,
              "#0d0887"
             ],
             [
              0.1111111111111111,
              "#46039f"
             ],
             [
              0.2222222222222222,
              "#7201a8"
             ],
             [
              0.3333333333333333,
              "#9c179e"
             ],
             [
              0.4444444444444444,
              "#bd3786"
             ],
             [
              0.5555555555555556,
              "#d8576b"
             ],
             [
              0.6666666666666666,
              "#ed7953"
             ],
             [
              0.7777777777777778,
              "#fb9f3a"
             ],
             [
              0.8888888888888888,
              "#fdca26"
             ],
             [
              1,
              "#f0f921"
             ]
            ],
            "type": "histogram2d"
           }
          ],
          "histogram2dcontour": [
           {
            "colorbar": {
             "outlinewidth": 0,
             "ticks": ""
            },
            "colorscale": [
             [
              0,
              "#0d0887"
             ],
             [
              0.1111111111111111,
              "#46039f"
             ],
             [
              0.2222222222222222,
              "#7201a8"
             ],
             [
              0.3333333333333333,
              "#9c179e"
             ],
             [
              0.4444444444444444,
              "#bd3786"
             ],
             [
              0.5555555555555556,
              "#d8576b"
             ],
             [
              0.6666666666666666,
              "#ed7953"
             ],
             [
              0.7777777777777778,
              "#fb9f3a"
             ],
             [
              0.8888888888888888,
              "#fdca26"
             ],
             [
              1,
              "#f0f921"
             ]
            ],
            "type": "histogram2dcontour"
           }
          ],
          "mesh3d": [
           {
            "colorbar": {
             "outlinewidth": 0,
             "ticks": ""
            },
            "type": "mesh3d"
           }
          ],
          "parcoords": [
           {
            "line": {
             "colorbar": {
              "outlinewidth": 0,
              "ticks": ""
             }
            },
            "type": "parcoords"
           }
          ],
          "pie": [
           {
            "automargin": true,
            "type": "pie"
           }
          ],
          "scatter": [
           {
            "marker": {
             "colorbar": {
              "outlinewidth": 0,
              "ticks": ""
             }
            },
            "type": "scatter"
           }
          ],
          "scatter3d": [
           {
            "line": {
             "colorbar": {
              "outlinewidth": 0,
              "ticks": ""
             }
            },
            "marker": {
             "colorbar": {
              "outlinewidth": 0,
              "ticks": ""
             }
            },
            "type": "scatter3d"
           }
          ],
          "scattercarpet": [
           {
            "marker": {
             "colorbar": {
              "outlinewidth": 0,
              "ticks": ""
             }
            },
            "type": "scattercarpet"
           }
          ],
          "scattergeo": [
           {
            "marker": {
             "colorbar": {
              "outlinewidth": 0,
              "ticks": ""
             }
            },
            "type": "scattergeo"
           }
          ],
          "scattergl": [
           {
            "marker": {
             "colorbar": {
              "outlinewidth": 0,
              "ticks": ""
             }
            },
            "type": "scattergl"
           }
          ],
          "scattermapbox": [
           {
            "marker": {
             "colorbar": {
              "outlinewidth": 0,
              "ticks": ""
             }
            },
            "type": "scattermapbox"
           }
          ],
          "scatterpolar": [
           {
            "marker": {
             "colorbar": {
              "outlinewidth": 0,
              "ticks": ""
             }
            },
            "type": "scatterpolar"
           }
          ],
          "scatterpolargl": [
           {
            "marker": {
             "colorbar": {
              "outlinewidth": 0,
              "ticks": ""
             }
            },
            "type": "scatterpolargl"
           }
          ],
          "scatterternary": [
           {
            "marker": {
             "colorbar": {
              "outlinewidth": 0,
              "ticks": ""
             }
            },
            "type": "scatterternary"
           }
          ],
          "surface": [
           {
            "colorbar": {
             "outlinewidth": 0,
             "ticks": ""
            },
            "colorscale": [
             [
              0,
              "#0d0887"
             ],
             [
              0.1111111111111111,
              "#46039f"
             ],
             [
              0.2222222222222222,
              "#7201a8"
             ],
             [
              0.3333333333333333,
              "#9c179e"
             ],
             [
              0.4444444444444444,
              "#bd3786"
             ],
             [
              0.5555555555555556,
              "#d8576b"
             ],
             [
              0.6666666666666666,
              "#ed7953"
             ],
             [
              0.7777777777777778,
              "#fb9f3a"
             ],
             [
              0.8888888888888888,
              "#fdca26"
             ],
             [
              1,
              "#f0f921"
             ]
            ],
            "type": "surface"
           }
          ],
          "table": [
           {
            "cells": {
             "fill": {
              "color": "#EBF0F8"
             },
             "line": {
              "color": "white"
             }
            },
            "header": {
             "fill": {
              "color": "#C8D4E3"
             },
             "line": {
              "color": "white"
             }
            },
            "type": "table"
           }
          ]
         },
         "layout": {
          "annotationdefaults": {
           "arrowcolor": "#2a3f5f",
           "arrowhead": 0,
           "arrowwidth": 1
          },
          "autotypenumbers": "strict",
          "coloraxis": {
           "colorbar": {
            "outlinewidth": 0,
            "ticks": ""
           }
          },
          "colorscale": {
           "diverging": [
            [
             0,
             "#8e0152"
            ],
            [
             0.1,
             "#c51b7d"
            ],
            [
             0.2,
             "#de77ae"
            ],
            [
             0.3,
             "#f1b6da"
            ],
            [
             0.4,
             "#fde0ef"
            ],
            [
             0.5,
             "#f7f7f7"
            ],
            [
             0.6,
             "#e6f5d0"
            ],
            [
             0.7,
             "#b8e186"
            ],
            [
             0.8,
             "#7fbc41"
            ],
            [
             0.9,
             "#4d9221"
            ],
            [
             1,
             "#276419"
            ]
           ],
           "sequential": [
            [
             0,
             "#0d0887"
            ],
            [
             0.1111111111111111,
             "#46039f"
            ],
            [
             0.2222222222222222,
             "#7201a8"
            ],
            [
             0.3333333333333333,
             "#9c179e"
            ],
            [
             0.4444444444444444,
             "#bd3786"
            ],
            [
             0.5555555555555556,
             "#d8576b"
            ],
            [
             0.6666666666666666,
             "#ed7953"
            ],
            [
             0.7777777777777778,
             "#fb9f3a"
            ],
            [
             0.8888888888888888,
             "#fdca26"
            ],
            [
             1,
             "#f0f921"
            ]
           ],
           "sequentialminus": [
            [
             0,
             "#0d0887"
            ],
            [
             0.1111111111111111,
             "#46039f"
            ],
            [
             0.2222222222222222,
             "#7201a8"
            ],
            [
             0.3333333333333333,
             "#9c179e"
            ],
            [
             0.4444444444444444,
             "#bd3786"
            ],
            [
             0.5555555555555556,
             "#d8576b"
            ],
            [
             0.6666666666666666,
             "#ed7953"
            ],
            [
             0.7777777777777778,
             "#fb9f3a"
            ],
            [
             0.8888888888888888,
             "#fdca26"
            ],
            [
             1,
             "#f0f921"
            ]
           ]
          },
          "colorway": [
           "#636efa",
           "#EF553B",
           "#00cc96",
           "#ab63fa",
           "#FFA15A",
           "#19d3f3",
           "#FF6692",
           "#B6E880",
           "#FF97FF",
           "#FECB52"
          ],
          "font": {
           "color": "#2a3f5f"
          },
          "geo": {
           "bgcolor": "white",
           "lakecolor": "white",
           "landcolor": "#E5ECF6",
           "showlakes": true,
           "showland": true,
           "subunitcolor": "white"
          },
          "hoverlabel": {
           "align": "left"
          },
          "hovermode": "closest",
          "mapbox": {
           "style": "light"
          },
          "paper_bgcolor": "white",
          "plot_bgcolor": "#E5ECF6",
          "polar": {
           "angularaxis": {
            "gridcolor": "white",
            "linecolor": "white",
            "ticks": ""
           },
           "bgcolor": "#E5ECF6",
           "radialaxis": {
            "gridcolor": "white",
            "linecolor": "white",
            "ticks": ""
           }
          },
          "scene": {
           "xaxis": {
            "backgroundcolor": "#E5ECF6",
            "gridcolor": "white",
            "gridwidth": 2,
            "linecolor": "white",
            "showbackground": true,
            "ticks": "",
            "zerolinecolor": "white"
           },
           "yaxis": {
            "backgroundcolor": "#E5ECF6",
            "gridcolor": "white",
            "gridwidth": 2,
            "linecolor": "white",
            "showbackground": true,
            "ticks": "",
            "zerolinecolor": "white"
           },
           "zaxis": {
            "backgroundcolor": "#E5ECF6",
            "gridcolor": "white",
            "gridwidth": 2,
            "linecolor": "white",
            "showbackground": true,
            "ticks": "",
            "zerolinecolor": "white"
           }
          },
          "shapedefaults": {
           "line": {
            "color": "#2a3f5f"
           }
          },
          "ternary": {
           "aaxis": {
            "gridcolor": "white",
            "linecolor": "white",
            "ticks": ""
           },
           "baxis": {
            "gridcolor": "white",
            "linecolor": "white",
            "ticks": ""
           },
           "bgcolor": "#E5ECF6",
           "caxis": {
            "gridcolor": "white",
            "linecolor": "white",
            "ticks": ""
           }
          },
          "title": {
           "x": 0.05
          },
          "xaxis": {
           "automargin": true,
           "gridcolor": "white",
           "linecolor": "white",
           "ticks": "",
           "title": {
            "standoff": 15
           },
           "zerolinecolor": "white",
           "zerolinewidth": 2
          },
          "yaxis": {
           "automargin": true,
           "gridcolor": "white",
           "linecolor": "white",
           "ticks": "",
           "title": {
            "standoff": 15
           },
           "zerolinecolor": "white",
           "zerolinewidth": 2
          }
         }
        },
        "title": {
         "text": "Burend_Area"
        },
        "xaxis": {
         "anchor": "y",
         "domain": [
          0,
          1
         ],
         "title": {
          "text": "date"
         }
        },
        "yaxis": {
         "anchor": "x",
         "domain": [
          0,
          1
         ],
         "title": {
          "text": "burned_area"
         }
        }
       }
      }
     },
     "metadata": {},
     "output_type": "display_data"
    }
   ],
   "source": [
    "\n",
    "fig = px.area(df_test2, x=\"date\", y=\"burned_area\")\n",
    "fig.update_traces(line_color='#FD7207')\n",
    "fig.update_layout(title = 'Burend_Area', plot_bgcolor= \"rgb(250, 250, 250)\",\n",
    "paper_bgcolor=\"rgb(250, 250, 250)\",)\n",
    "fig.show()"
   ]
  },
  {
   "cell_type": "code",
   "execution_count": 35,
   "metadata": {},
   "outputs": [
    {
     "data": {
      "application/vnd.plotly.v1+json": {
       "config": {
        "plotlyServerURL": "https://plot.ly"
       },
       "data": [
        {
         "branchvalues": "total",
         "customdata": [
          [
           117954844.99999999
          ],
          [
           1770933
          ],
          [
           101855476
          ],
          [
           1364907037
          ],
          [
           164804129
          ],
          [
           31984116
          ],
          [
           7513045
          ],
          [
           1069641062.292339
          ]
         ],
         "domain": {
          "x": [
           0,
           1
          ],
          "y": [
           0,
           1
          ]
         },
         "hovertemplate": "labels=%{label}<br>0_sum=%{value}<br>parent=%{parent}<br>id=%{id}<br>0=%{color}<extra></extra>",
         "ids": [
          "All/cropland_burned_area",
          "All/flooded_area_burned_area",
          "All/mosaic_tree_grass_burned_area",
          "All/no_data_burned_area",
          "All/other_vegetation_burned_area",
          "All/tree_cover_broadleaved_deciduous_burned_area",
          "All/tree_cover_needleleaved_evergreen_burned_area",
          "All"
         ],
         "labels": [
          "cropland_burned_area",
          "flooded_area_burned_area",
          "mosaic_tree_grass_burned_area",
          "no_data_burned_area",
          "other_vegetation_burned_area",
          "tree_cover_broadleaved_deciduous_burned_area",
          "tree_cover_needleleaved_evergreen_burned_area",
          "All"
         ],
         "marker": {
          "coloraxis": "coloraxis",
          "colors": [
           117954844.99999999,
           1770933,
           101855476,
           1364907037,
           164804129,
           31984116,
           7513045,
           1069641062.292339
          ]
         },
         "name": "",
         "parents": [
          "All",
          "All",
          "All",
          "All",
          "All",
          "All",
          "All",
          ""
         ],
         "type": "treemap",
         "values": [
          117954845,
          1770933,
          101855476,
          1364907037,
          164804129,
          31984116,
          7513045,
          1790789581
         ]
        }
       ],
       "layout": {
        "coloraxis": {
         "colorbar": {
          "title": {
           "text": "0"
          }
         },
         "colorscale": [
          [
           0,
           "rgb(211, 242, 163)"
          ],
          [
           0.16666666666666666,
           "rgb(151, 225, 150)"
          ],
          [
           0.3333333333333333,
           "rgb(108, 192, 139)"
          ],
          [
           0.5,
           "rgb(76, 155, 130)"
          ],
          [
           0.6666666666666666,
           "rgb(33, 122, 121)"
          ],
          [
           0.8333333333333334,
           "rgb(16, 89, 101)"
          ],
          [
           1,
           "rgb(7, 64, 80)"
          ]
         ]
        },
        "height": 600,
        "legend": {
         "tracegroupgap": 0
        },
        "margin": {
         "t": 60
        },
        "template": {
         "data": {
          "bar": [
           {
            "error_x": {
             "color": "#2a3f5f"
            },
            "error_y": {
             "color": "#2a3f5f"
            },
            "marker": {
             "line": {
              "color": "#E5ECF6",
              "width": 0.5
             },
             "pattern": {
              "fillmode": "overlay",
              "size": 10,
              "solidity": 0.2
             }
            },
            "type": "bar"
           }
          ],
          "barpolar": [
           {
            "marker": {
             "line": {
              "color": "#E5ECF6",
              "width": 0.5
             },
             "pattern": {
              "fillmode": "overlay",
              "size": 10,
              "solidity": 0.2
             }
            },
            "type": "barpolar"
           }
          ],
          "carpet": [
           {
            "aaxis": {
             "endlinecolor": "#2a3f5f",
             "gridcolor": "white",
             "linecolor": "white",
             "minorgridcolor": "white",
             "startlinecolor": "#2a3f5f"
            },
            "baxis": {
             "endlinecolor": "#2a3f5f",
             "gridcolor": "white",
             "linecolor": "white",
             "minorgridcolor": "white",
             "startlinecolor": "#2a3f5f"
            },
            "type": "carpet"
           }
          ],
          "choropleth": [
           {
            "colorbar": {
             "outlinewidth": 0,
             "ticks": ""
            },
            "type": "choropleth"
           }
          ],
          "contour": [
           {
            "colorbar": {
             "outlinewidth": 0,
             "ticks": ""
            },
            "colorscale": [
             [
              0,
              "#0d0887"
             ],
             [
              0.1111111111111111,
              "#46039f"
             ],
             [
              0.2222222222222222,
              "#7201a8"
             ],
             [
              0.3333333333333333,
              "#9c179e"
             ],
             [
              0.4444444444444444,
              "#bd3786"
             ],
             [
              0.5555555555555556,
              "#d8576b"
             ],
             [
              0.6666666666666666,
              "#ed7953"
             ],
             [
              0.7777777777777778,
              "#fb9f3a"
             ],
             [
              0.8888888888888888,
              "#fdca26"
             ],
             [
              1,
              "#f0f921"
             ]
            ],
            "type": "contour"
           }
          ],
          "contourcarpet": [
           {
            "colorbar": {
             "outlinewidth": 0,
             "ticks": ""
            },
            "type": "contourcarpet"
           }
          ],
          "heatmap": [
           {
            "colorbar": {
             "outlinewidth": 0,
             "ticks": ""
            },
            "colorscale": [
             [
              0,
              "#0d0887"
             ],
             [
              0.1111111111111111,
              "#46039f"
             ],
             [
              0.2222222222222222,
              "#7201a8"
             ],
             [
              0.3333333333333333,
              "#9c179e"
             ],
             [
              0.4444444444444444,
              "#bd3786"
             ],
             [
              0.5555555555555556,
              "#d8576b"
             ],
             [
              0.6666666666666666,
              "#ed7953"
             ],
             [
              0.7777777777777778,
              "#fb9f3a"
             ],
             [
              0.8888888888888888,
              "#fdca26"
             ],
             [
              1,
              "#f0f921"
             ]
            ],
            "type": "heatmap"
           }
          ],
          "heatmapgl": [
           {
            "colorbar": {
             "outlinewidth": 0,
             "ticks": ""
            },
            "colorscale": [
             [
              0,
              "#0d0887"
             ],
             [
              0.1111111111111111,
              "#46039f"
             ],
             [
              0.2222222222222222,
              "#7201a8"
             ],
             [
              0.3333333333333333,
              "#9c179e"
             ],
             [
              0.4444444444444444,
              "#bd3786"
             ],
             [
              0.5555555555555556,
              "#d8576b"
             ],
             [
              0.6666666666666666,
              "#ed7953"
             ],
             [
              0.7777777777777778,
              "#fb9f3a"
             ],
             [
              0.8888888888888888,
              "#fdca26"
             ],
             [
              1,
              "#f0f921"
             ]
            ],
            "type": "heatmapgl"
           }
          ],
          "histogram": [
           {
            "marker": {
             "pattern": {
              "fillmode": "overlay",
              "size": 10,
              "solidity": 0.2
             }
            },
            "type": "histogram"
           }
          ],
          "histogram2d": [
           {
            "colorbar": {
             "outlinewidth": 0,
             "ticks": ""
            },
            "colorscale": [
             [
              0,
              "#0d0887"
             ],
             [
              0.1111111111111111,
              "#46039f"
             ],
             [
              0.2222222222222222,
              "#7201a8"
             ],
             [
              0.3333333333333333,
              "#9c179e"
             ],
             [
              0.4444444444444444,
              "#bd3786"
             ],
             [
              0.5555555555555556,
              "#d8576b"
             ],
             [
              0.6666666666666666,
              "#ed7953"
             ],
             [
              0.7777777777777778,
              "#fb9f3a"
             ],
             [
              0.8888888888888888,
              "#fdca26"
             ],
             [
              1,
              "#f0f921"
             ]
            ],
            "type": "histogram2d"
           }
          ],
          "histogram2dcontour": [
           {
            "colorbar": {
             "outlinewidth": 0,
             "ticks": ""
            },
            "colorscale": [
             [
              0,
              "#0d0887"
             ],
             [
              0.1111111111111111,
              "#46039f"
             ],
             [
              0.2222222222222222,
              "#7201a8"
             ],
             [
              0.3333333333333333,
              "#9c179e"
             ],
             [
              0.4444444444444444,
              "#bd3786"
             ],
             [
              0.5555555555555556,
              "#d8576b"
             ],
             [
              0.6666666666666666,
              "#ed7953"
             ],
             [
              0.7777777777777778,
              "#fb9f3a"
             ],
             [
              0.8888888888888888,
              "#fdca26"
             ],
             [
              1,
              "#f0f921"
             ]
            ],
            "type": "histogram2dcontour"
           }
          ],
          "mesh3d": [
           {
            "colorbar": {
             "outlinewidth": 0,
             "ticks": ""
            },
            "type": "mesh3d"
           }
          ],
          "parcoords": [
           {
            "line": {
             "colorbar": {
              "outlinewidth": 0,
              "ticks": ""
             }
            },
            "type": "parcoords"
           }
          ],
          "pie": [
           {
            "automargin": true,
            "type": "pie"
           }
          ],
          "scatter": [
           {
            "marker": {
             "colorbar": {
              "outlinewidth": 0,
              "ticks": ""
             }
            },
            "type": "scatter"
           }
          ],
          "scatter3d": [
           {
            "line": {
             "colorbar": {
              "outlinewidth": 0,
              "ticks": ""
             }
            },
            "marker": {
             "colorbar": {
              "outlinewidth": 0,
              "ticks": ""
             }
            },
            "type": "scatter3d"
           }
          ],
          "scattercarpet": [
           {
            "marker": {
             "colorbar": {
              "outlinewidth": 0,
              "ticks": ""
             }
            },
            "type": "scattercarpet"
           }
          ],
          "scattergeo": [
           {
            "marker": {
             "colorbar": {
              "outlinewidth": 0,
              "ticks": ""
             }
            },
            "type": "scattergeo"
           }
          ],
          "scattergl": [
           {
            "marker": {
             "colorbar": {
              "outlinewidth": 0,
              "ticks": ""
             }
            },
            "type": "scattergl"
           }
          ],
          "scattermapbox": [
           {
            "marker": {
             "colorbar": {
              "outlinewidth": 0,
              "ticks": ""
             }
            },
            "type": "scattermapbox"
           }
          ],
          "scatterpolar": [
           {
            "marker": {
             "colorbar": {
              "outlinewidth": 0,
              "ticks": ""
             }
            },
            "type": "scatterpolar"
           }
          ],
          "scatterpolargl": [
           {
            "marker": {
             "colorbar": {
              "outlinewidth": 0,
              "ticks": ""
             }
            },
            "type": "scatterpolargl"
           }
          ],
          "scatterternary": [
           {
            "marker": {
             "colorbar": {
              "outlinewidth": 0,
              "ticks": ""
             }
            },
            "type": "scatterternary"
           }
          ],
          "surface": [
           {
            "colorbar": {
             "outlinewidth": 0,
             "ticks": ""
            },
            "colorscale": [
             [
              0,
              "#0d0887"
             ],
             [
              0.1111111111111111,
              "#46039f"
             ],
             [
              0.2222222222222222,
              "#7201a8"
             ],
             [
              0.3333333333333333,
              "#9c179e"
             ],
             [
              0.4444444444444444,
              "#bd3786"
             ],
             [
              0.5555555555555556,
              "#d8576b"
             ],
             [
              0.6666666666666666,
              "#ed7953"
             ],
             [
              0.7777777777777778,
              "#fb9f3a"
             ],
             [
              0.8888888888888888,
              "#fdca26"
             ],
             [
              1,
              "#f0f921"
             ]
            ],
            "type": "surface"
           }
          ],
          "table": [
           {
            "cells": {
             "fill": {
              "color": "#EBF0F8"
             },
             "line": {
              "color": "white"
             }
            },
            "header": {
             "fill": {
              "color": "#C8D4E3"
             },
             "line": {
              "color": "white"
             }
            },
            "type": "table"
           }
          ]
         },
         "layout": {
          "annotationdefaults": {
           "arrowcolor": "#2a3f5f",
           "arrowhead": 0,
           "arrowwidth": 1
          },
          "autotypenumbers": "strict",
          "coloraxis": {
           "colorbar": {
            "outlinewidth": 0,
            "ticks": ""
           }
          },
          "colorscale": {
           "diverging": [
            [
             0,
             "#8e0152"
            ],
            [
             0.1,
             "#c51b7d"
            ],
            [
             0.2,
             "#de77ae"
            ],
            [
             0.3,
             "#f1b6da"
            ],
            [
             0.4,
             "#fde0ef"
            ],
            [
             0.5,
             "#f7f7f7"
            ],
            [
             0.6,
             "#e6f5d0"
            ],
            [
             0.7,
             "#b8e186"
            ],
            [
             0.8,
             "#7fbc41"
            ],
            [
             0.9,
             "#4d9221"
            ],
            [
             1,
             "#276419"
            ]
           ],
           "sequential": [
            [
             0,
             "#0d0887"
            ],
            [
             0.1111111111111111,
             "#46039f"
            ],
            [
             0.2222222222222222,
             "#7201a8"
            ],
            [
             0.3333333333333333,
             "#9c179e"
            ],
            [
             0.4444444444444444,
             "#bd3786"
            ],
            [
             0.5555555555555556,
             "#d8576b"
            ],
            [
             0.6666666666666666,
             "#ed7953"
            ],
            [
             0.7777777777777778,
             "#fb9f3a"
            ],
            [
             0.8888888888888888,
             "#fdca26"
            ],
            [
             1,
             "#f0f921"
            ]
           ],
           "sequentialminus": [
            [
             0,
             "#0d0887"
            ],
            [
             0.1111111111111111,
             "#46039f"
            ],
            [
             0.2222222222222222,
             "#7201a8"
            ],
            [
             0.3333333333333333,
             "#9c179e"
            ],
            [
             0.4444444444444444,
             "#bd3786"
            ],
            [
             0.5555555555555556,
             "#d8576b"
            ],
            [
             0.6666666666666666,
             "#ed7953"
            ],
            [
             0.7777777777777778,
             "#fb9f3a"
            ],
            [
             0.8888888888888888,
             "#fdca26"
            ],
            [
             1,
             "#f0f921"
            ]
           ]
          },
          "colorway": [
           "#636efa",
           "#EF553B",
           "#00cc96",
           "#ab63fa",
           "#FFA15A",
           "#19d3f3",
           "#FF6692",
           "#B6E880",
           "#FF97FF",
           "#FECB52"
          ],
          "font": {
           "color": "#2a3f5f"
          },
          "geo": {
           "bgcolor": "white",
           "lakecolor": "white",
           "landcolor": "#E5ECF6",
           "showlakes": true,
           "showland": true,
           "subunitcolor": "white"
          },
          "hoverlabel": {
           "align": "left"
          },
          "hovermode": "closest",
          "mapbox": {
           "style": "light"
          },
          "paper_bgcolor": "white",
          "plot_bgcolor": "#E5ECF6",
          "polar": {
           "angularaxis": {
            "gridcolor": "white",
            "linecolor": "white",
            "ticks": ""
           },
           "bgcolor": "#E5ECF6",
           "radialaxis": {
            "gridcolor": "white",
            "linecolor": "white",
            "ticks": ""
           }
          },
          "scene": {
           "xaxis": {
            "backgroundcolor": "#E5ECF6",
            "gridcolor": "white",
            "gridwidth": 2,
            "linecolor": "white",
            "showbackground": true,
            "ticks": "",
            "zerolinecolor": "white"
           },
           "yaxis": {
            "backgroundcolor": "#E5ECF6",
            "gridcolor": "white",
            "gridwidth": 2,
            "linecolor": "white",
            "showbackground": true,
            "ticks": "",
            "zerolinecolor": "white"
           },
           "zaxis": {
            "backgroundcolor": "#E5ECF6",
            "gridcolor": "white",
            "gridwidth": 2,
            "linecolor": "white",
            "showbackground": true,
            "ticks": "",
            "zerolinecolor": "white"
           }
          },
          "shapedefaults": {
           "line": {
            "color": "#2a3f5f"
           }
          },
          "ternary": {
           "aaxis": {
            "gridcolor": "white",
            "linecolor": "white",
            "ticks": ""
           },
           "baxis": {
            "gridcolor": "white",
            "linecolor": "white",
            "ticks": ""
           },
           "bgcolor": "#E5ECF6",
           "caxis": {
            "gridcolor": "white",
            "linecolor": "white",
            "ticks": ""
           }
          },
          "title": {
           "x": 0.05
          },
          "xaxis": {
           "automargin": true,
           "gridcolor": "white",
           "linecolor": "white",
           "ticks": "",
           "title": {
            "standoff": 15
           },
           "zerolinecolor": "white",
           "zerolinewidth": 2
          },
          "yaxis": {
           "automargin": true,
           "gridcolor": "white",
           "linecolor": "white",
           "ticks": "",
           "title": {
            "standoff": 15
           },
           "zerolinecolor": "white",
           "zerolinewidth": 2
          }
         }
        },
        "width": 800
       }
      }
     },
     "metadata": {},
     "output_type": "display_data"
    }
   ],
   "source": [
    "df_veg_group = df_test.groupby(by= 'year').sum().reset_index()\n",
    "df_veg_group= df_veg_group.drop(columns= ['burned_area', 'year', 'lon', 'lat', 'standard_error', 'fraction_of_burnable_area', 'fraction_of_observed_area', 'number_of_patches'] )\n",
    "df_veg_trans = df_veg_group.transpose().reset_index()\n",
    "df_veg_trans = df_veg_trans[(df_veg_trans[0] != 0)]\n",
    "fig = px.treemap(df_veg_trans, \n",
    "    path = [px.Constant('All'), 'index'], \n",
    "    color = 0, \n",
    "    color_continuous_scale='Emrld',\n",
    "    values = 0,\n",
    "    width = 800,\n",
    "    height = 600)\n",
    "fig.show()"
   ]
  },
  {
   "cell_type": "code",
   "execution_count": 36,
   "metadata": {},
   "outputs": [],
   "source": [
    "df_labels = df_countries[df_countries['region'] == 'Europe'][['name', 'alpha-2']]\n",
    "df_labels.rename(columns={'name': 'label', 'alpha-2': 'value'}, inplace = True)\n",
    "list_options = df_labels.to_dict('records')"
   ]
  },
  {
   "cell_type": "code",
   "execution_count": 37,
   "metadata": {},
   "outputs": [],
   "source": [
    "unique_dates  = df_eu['year'].unique()\n",
    "option_dates =  list()\n",
    "for data in unique_dates: \n",
    "    date_dict = {'label': data, 'value': data}\n",
    "    option_dates.append(date_dict)\n"
   ]
  },
  {
   "cell_type": "code",
   "execution_count": 68,
   "metadata": {},
   "outputs": [
    {
     "data": {
      "text/html": [
       "\n",
       "        <iframe\n",
       "            width=\"100%\"\n",
       "            height=\"650\"\n",
       "            src=\"http://127.0.0.1:8050/\"\n",
       "            frameborder=\"0\"\n",
       "            allowfullscreen\n",
       "            \n",
       "        ></iframe>\n",
       "        "
      ],
      "text/plain": [
       "<IPython.lib.display.IFrame at 0x28919e3f5c8>"
      ]
     },
     "metadata": {},
     "output_type": "display_data"
    }
   ],
   "source": [
    "\n",
    "import plotly.express as px\n",
    "from jupyter_dash import JupyterDash\n",
    "import dash_core_components as dcc\n",
    "import dash_html_components as html\n",
    "from dash.dependencies import Input, Output# Load Data\n",
    "from plotly.subplots import make_subplots\n",
    "\n",
    "app = JupyterDash(__name__)\n",
    "app.layout = html.Div([\n",
    "    html.H1(\"Wild Fires Europe\", style = {\n",
    "                    'color': '#3C5C79',\n",
    "                    'backgroundColor': \"#fafafa\",\n",
    "                    'font-family': '\"Open Sans\", verdana, arial, sans-serif'\n",
    "                }),\n",
    "    html.Label([\n",
    "        \"Country\",\n",
    "    dcc.Dropdown(id=\"selected_country\",\n",
    "                 options= list_options,\n",
    "                 multi=False,\n",
    "                 style={'width': \"40%\"}\n",
    "                 )],style = {\n",
    "                    'color': '#3C5C79',\n",
    "                    'backgroundColor': \"#fafafa\",\n",
    "                    'font-family': '\"Open Sans\", verdana, arial, sans-serif'\n",
    "                }),\n",
    "    html.Label([ \"Years\",\n",
    "    dcc.Dropdown(id= \"selected_year\",\n",
    "                 options= option_dates,\n",
    "                 multi=False,\n",
    "                 style={'width': \"40%\"}\n",
    "                 ), ], style = {\n",
    "                    'color': '#3C5C79',\n",
    "                    'backgroundColor': \"#fafafa\",\n",
    "                    'font-family': '\"Open Sans\", verdana, arial, sans-serif'\n",
    "                }), \n",
    "    html.Div([ \n",
    "            html.Div([\n",
    "                dcc.Graph(id = 'fig_1'),\n",
    "            ], className='three columns'),\n",
    "            html.Div([\n",
    "                dcc.Graph(id = 'fig_2' ),\n",
    "            ], className='three columns'),\n",
    "            html.Div([\n",
    "                dcc.Graph(id = 'fig_3' ),\n",
    "            ], className='three columns'),\n",
    "        ], className = 'row'),\n",
    "    ])\n",
    "\n",
    "\n",
    "@app.callback(\n",
    "    [Output('fig_1' , 'figure'),\n",
    "     Output('fig_2' , 'figure'), \n",
    "     Output('fig_3' , 'figure')],\n",
    "    Input(\"selected_country\", \"value\"), \n",
    "    Input(\"selected_year\", \"value\")\n",
    ")\n",
    "\n",
    "\n",
    "def update_figure(selected_country, selected_year):\n",
    "\n",
    "    if not selected_country:\n",
    "        selected_country = 'IT'\n",
    "        selected_year = '2016'\n",
    "    dff = df_eu.copy()\n",
    "    dff = dff[dff[\"country\"] == selected_country]\n",
    "    dff = dff[dff[\"year\"] == selected_year]\n",
    "    \n",
    "\n",
    "\n",
    "    fig = go.Figure(data=go.Scattergeo(\n",
    "         lon=dff[\"lon\"],\n",
    "         lat= dff[\"lat\"], \n",
    "         mode = 'markers',\n",
    "         marker = dict(\n",
    "            size = 8,\n",
    "            opacity = 0.8,\n",
    "            reversescale = True,\n",
    "            autocolorscale = False,\n",
    "            symbol = 'square',\n",
    "            line = dict(\n",
    "                width=0.5,\n",
    "                color='rgba(102, 102, 102)'\n",
    "            ),\n",
    "            colorscale = 'Hot',\n",
    "            cmin = 0,\n",
    "            color = dff['burned_area'],\n",
    "            cmax = dff['burned_area'].max(),\n",
    "            colorbar_title=\"Burend Area\"\n",
    "        ))\n",
    "    )\n",
    "    fig.update_layout(\n",
    "        title = 'Most trafficked US airports<br>(Hover for airport names)',\n",
    "        geo = dict(\n",
    "            scope='europe',\n",
    "            showland = True,\n",
    "            landcolor = \"rgb(250, 250, 250)\",\n",
    "            subunitcolor = \"rgb(217, 217, 217)\",\n",
    "            countrycolor = \"rgb(217, 217, 217)\",\n",
    "            countrywidth = 0.5,\n",
    "            subunitwidth = 0.5\n",
    "        ),)\n",
    "    fig_1 = fig\n",
    "\n",
    "    df_time = dff.groupby(by= 'date').sum().reset_index()\n",
    "    \n",
    "    fig_2= px.area(df_time, x=\"date\", y=\"burned_area\")\n",
    "    fig_2.update_traces(line_color='#FD7207')\n",
    "    fig_2.update_layout(title = 'Burend_Area', plot_bgcolor= \"rgb(250, 250, 250)\", paper_bgcolor=\"rgb(250, 250, 250)\",)\n",
    "    \n",
    "    df_veg_group = dff.groupby(by= 'year').sum().reset_index()\n",
    "    df_veg_group= df_veg_group.drop(columns= ['burned_area', 'year', 'lon', 'lat', 'standard_error', 'fraction_of_burnable_area', 'fraction_of_observed_area', 'number_of_patches'] )\n",
    "    df_veg_t = df_veg_group.transpose().reset_index()\n",
    "    df_veg_t = df_veg_t[(df_veg_t[0] != 0)]\n",
    "    fig_3 = px.treemap(df_veg_t, \n",
    "        path = [px.Constant('All'), 'index'], \n",
    "        color = 0, \n",
    "        color_continuous_scale='Emrld',\n",
    "        values = 0)\n",
    "    return [fig_1, fig_2, fig_3]\n",
    "app.run_server(mode='inline')\n"
   ]
  }
 ],
 "metadata": {
  "kernelspec": {
   "display_name": "Python 3.7.11 ('base')",
   "language": "python",
   "name": "python3"
  },
  "language_info": {
   "codemirror_mode": {
    "name": "ipython",
    "version": 3
   },
   "file_extension": ".py",
   "mimetype": "text/x-python",
   "name": "python",
   "nbconvert_exporter": "python",
   "pygments_lexer": "ipython3",
   "version": "3.7.11"
  },
  "orig_nbformat": 4,
  "vscode": {
   "interpreter": {
    "hash": "df5c7b8ffaedf80dec2b70b09605990d7e0e1b6bc745b497330e86cbe58a738e"
   }
  }
 },
 "nbformat": 4,
 "nbformat_minor": 2
}
