{
 "cells": [
  {
   "cell_type": "code",
   "execution_count": null,
   "metadata": {},
   "outputs": [],
   "source": [
    "# EU \n",
    "# For One Ye"
   ]
  },
  {
   "cell_type": "markdown",
   "metadata": {},
   "source": [
    "Vorgehnsweise: \n",
    "Visualisierung in Pandas Darstellen \n",
    "Probe Dashboard mit plotly Dash erstellen \n",
    "Dashboar in Jupyter Book ein binden \n",
    "-> weiteren Grafiken umsetzen "
   ]
  },
  {
   "cell_type": "markdown",
   "metadata": {},
   "source": [
    "Ziele: \n",
    "Auswertung auf Basis EU \n",
    "\n",
    "Zeitlicher Verlauf gesamt\n",
    "Abfragen:\n",
    "    - Summe burned area pro Monat \n",
    "    - Fläche verbrannter Wälder insgesamt \n",
    "    - Liste besonders betroffener Länder \n",
    "\n",
    "Visualisierungen: \n",
    "    - Balken-Diagram: Summe burned area pro Monat \n",
    "    - Treemap: Verbrannte Fläche pro Vegetationstyp\n",
    "    - Weltkarte mit betroffener Länder (gefüllt): Farbe Burned Area\n",
    "    - DE-Karte: Bubles Größe (Burned area)\n"
   ]
  },
  {
   "cell_type": "code",
   "execution_count": 40,
   "metadata": {},
   "outputs": [],
   "source": [
    "import pymongo"
   ]
  },
  {
   "cell_type": "code",
   "execution_count": 2,
   "metadata": {},
   "outputs": [
    {
     "name": "stdout",
     "output_type": "stream",
     "text": [
      "esa_fire\n"
     ]
    }
   ],
   "source": [
    "client = MongoClient()\n",
    "client = MongoClient('mongodb://localhost:27017/')\n",
    "mydb = client[\"esa_fire\"]\n",
    "mycol = mydb[\"esa_fire_2001\"]\n",
    "print(mydb.name)"
   ]
  },
  {
   "cell_type": "markdown",
   "metadata": {},
   "source": [
    "### Query 1: Flächen in Deutschland mit einer verbrannten Fläche größer als 1 km2"
   ]
  },
  {
   "cell_type": "code",
   "execution_count": 33,
   "metadata": {},
   "outputs": [
    {
     "name": "stdout",
     "output_type": "stream",
     "text": [
      "Anzahl von Städten mit Bevölkerungsdichte größer als 2000 in BaWü:  43\n"
     ]
    }
   ],
   "source": [
    "# Querys Mongo DB\n",
    "query2={\n",
    "     '$and': [\n",
    "            { 'country' : 'DE' },\n",
    "            { 'burned_area'    : { '$gt': 1000000 }}\n",
    "          ]\n",
    "}\n",
    "points =mycol.find(query2)\n",
    "print(\"Anzahl von Städten mit Bevölkerungsdichte größer als 2000 in BaWü: \",mycol.count_documents(query2))"
   ]
  },
  {
   "cell_type": "code",
   "execution_count": 24,
   "metadata": {},
   "outputs": [],
   "source": [
    "import folium"
   ]
  },
  {
   "cell_type": "code",
   "execution_count": 25,
   "metadata": {},
   "outputs": [],
   "source": [
    "m = folium.Map(location=[48.74388,9.10014],zoom_start=5)"
   ]
  },
  {
   "cell_type": "code",
   "execution_count": 37,
   "metadata": {},
   "outputs": [],
   "source": [
    "for citie in points:\n",
    "    folium.Marker( location=[ citie['lat'], citie['lon'] ], fill_color='#43d9de', radius=8,tooltip=citie['date']).add_to(m)"
   ]
  },
  {
   "cell_type": "code",
   "execution_count": 38,
   "metadata": {},
   "outputs": [],
   "source": [
    "#m"
   ]
  },
  {
   "cell_type": "markdown",
   "metadata": {},
   "source": [
    "### Query 2: Gruppierung der Flächen nach Datum"
   ]
  },
  {
   "cell_type": "code",
   "execution_count": 50,
   "metadata": {},
   "outputs": [
    {
     "data": {
      "text/plain": [
       "[{'_id': '2017-05-01', 'burned_area': 11372},\n",
       " {'_id': '2015-08-01', 'burned_area': 19547},\n",
       " {'_id': '2017-03-01', 'burned_area': 11110},\n",
       " {'_id': '2010-02-01', 'burned_area': 9965},\n",
       " {'_id': '2013-04-01', 'burned_area': 11314},\n",
       " {'_id': '2017-06-01', 'burned_area': 11025},\n",
       " {'_id': '2013-05-01', 'burned_area': 12007},\n",
       " {'_id': '2001-04-01', 'burned_area': 9889},\n",
       " {'_id': '2017-12-01', 'burned_area': 9577},\n",
       " {'_id': '2020-09-01', 'burned_area': 16791},\n",
       " {'_id': '2012-03-01', 'burned_area': 11161},\n",
       " {'_id': '2010-10-01', 'burned_area': 16696},\n",
       " {'_id': '2007-06-01', 'burned_area': 13282},\n",
       " {'_id': '2016-09-01', 'burned_area': 16492},\n",
       " {'_id': '2001-10-01', 'burned_area': 13997},\n",
       " {'_id': '2003-10-01', 'burned_area': 18961},\n",
       " {'_id': '2009-11-01', 'burned_area': 11440},\n",
       " {'_id': '2014-04-01', 'burned_area': 13530},\n",
       " {'_id': '2014-09-01', 'burned_area': 18014},\n",
       " {'_id': '2009-05-01', 'burned_area': 16440},\n",
       " {'_id': '2014-05-01', 'burned_area': 11781},\n",
       " {'_id': '2003-06-01', 'burned_area': 12926},\n",
       " {'_id': '2011-10-01', 'burned_area': 17426},\n",
       " {'_id': '2012-02-01', 'burned_area': 10872},\n",
       " {'_id': '2013-07-01', 'burned_area': 13990},\n",
       " {'_id': '2002-04-01', 'burned_area': 9900},\n",
       " {'_id': '2003-03-01', 'burned_area': 11212},\n",
       " {'_id': '2011-02-01', 'burned_area': 9746},\n",
       " {'_id': '2001-05-01', 'burned_area': 10082},\n",
       " {'_id': '2016-08-01', 'burned_area': 19103},\n",
       " {'_id': '2006-06-01', 'burned_area': 13054},\n",
       " {'_id': '2011-11-01', 'burned_area': 12000},\n",
       " {'_id': '2009-12-01', 'burned_area': 9226},\n",
       " {'_id': '2005-01-01', 'burned_area': 10996},\n",
       " {'_id': '2002-05-01', 'burned_area': 11424},\n",
       " {'_id': '2010-08-01', 'burned_area': 21653},\n",
       " {'_id': '2007-02-01', 'burned_area': 11994},\n",
       " {'_id': '2012-06-01', 'burned_area': 14956},\n",
       " {'_id': '2016-06-01', 'burned_area': 10784},\n",
       " {'_id': '2007-08-01', 'burned_area': 22257},\n",
       " {'_id': '2017-11-01', 'burned_area': 11156},\n",
       " {'_id': '2005-10-01', 'burned_area': 20070},\n",
       " {'_id': '2018-06-01', 'burned_area': 10909},\n",
       " {'_id': '2012-12-01', 'burned_area': 9603},\n",
       " {'_id': '2004-10-01', 'burned_area': 18675},\n",
       " {'_id': '2007-09-01', 'burned_area': 21565},\n",
       " {'_id': '2020-11-01', 'burned_area': 10493},\n",
       " {'_id': '2006-02-01', 'burned_area': 9944},\n",
       " {'_id': '2003-01-01', 'burned_area': 10944},\n",
       " {'_id': '2001-06-01', 'burned_area': 5337},\n",
       " {'_id': '2004-04-01', 'burned_area': 13103},\n",
       " {'_id': '2020-04-01', 'burned_area': 14292},\n",
       " {'_id': '2014-08-01', 'burned_area': 18567},\n",
       " {'_id': '2010-12-01', 'burned_area': 8969},\n",
       " {'_id': '2012-08-01', 'burned_area': 21029},\n",
       " {'_id': '2011-08-01', 'burned_area': 20538},\n",
       " {'_id': '2002-03-01', 'burned_area': 7938},\n",
       " {'_id': '2005-12-01', 'burned_area': 9841},\n",
       " {'_id': '2017-09-01', 'burned_area': 18635},\n",
       " {'_id': '2017-01-01', 'burned_area': 9661},\n",
       " {'_id': '2017-02-01', 'burned_area': 9856},\n",
       " {'_id': '2019-01-01', 'burned_area': 10525},\n",
       " {'_id': '2005-06-01', 'burned_area': 13096},\n",
       " {'_id': '2019-09-01', 'burned_area': 16195},\n",
       " {'_id': '2005-02-01', 'burned_area': 11216},\n",
       " {'_id': '2020-03-01', 'burned_area': 12913},\n",
       " {'_id': '2008-01-01', 'burned_area': 9961},\n",
       " {'_id': '2010-09-01', 'burned_area': 20429},\n",
       " {'_id': '2004-02-01', 'burned_area': 11218},\n",
       " {'_id': '2016-01-01', 'burned_area': 10199},\n",
       " {'_id': '2007-04-01', 'burned_area': 12949},\n",
       " {'_id': '2017-07-01', 'burned_area': 15849},\n",
       " {'_id': '2009-09-01', 'burned_area': 18170},\n",
       " {'_id': '2010-03-01', 'burned_area': 9167},\n",
       " {'_id': '2014-03-01', 'burned_area': 11632},\n",
       " {'_id': '2014-12-01', 'burned_area': 8718},\n",
       " {'_id': '2016-02-01', 'burned_area': 9722},\n",
       " {'_id': '2018-03-01', 'burned_area': 10049},\n",
       " {'_id': '2019-02-01', 'burned_area': 10776},\n",
       " {'_id': '2009-04-01', 'burned_area': 16790},\n",
       " {'_id': '2006-12-01', 'burned_area': 10370},\n",
       " {'_id': '2020-06-01', 'burned_area': 11732},\n",
       " {'_id': '2017-04-01', 'burned_area': 12632},\n",
       " {'_id': '2005-09-01', 'burned_area': 21080},\n",
       " {'_id': '2018-01-01', 'burned_area': 10059},\n",
       " {'_id': '2012-10-01', 'burned_area': 15972},\n",
       " {'_id': '2020-07-01', 'burned_area': 15528},\n",
       " {'_id': '2017-08-01', 'burned_area': 19426},\n",
       " {'_id': '2006-09-01', 'burned_area': 21138},\n",
       " {'_id': '2010-05-01', 'burned_area': 13024},\n",
       " {'_id': '2012-07-01', 'burned_area': 18322},\n",
       " {'_id': '2006-03-01', 'burned_area': 9179},\n",
       " {'_id': '2010-07-01', 'burned_area': 17379},\n",
       " {'_id': '2001-01-01', 'burned_area': 9550},\n",
       " {'_id': '2002-12-01', 'burned_area': 10250},\n",
       " {'_id': '2012-04-01', 'burned_area': 14132},\n",
       " {'_id': '2014-06-01', 'burned_area': 10948},\n",
       " {'_id': '2015-03-01', 'burned_area': 10920},\n",
       " {'_id': '2016-04-01', 'burned_area': 11366},\n",
       " {'_id': '2002-11-01', 'burned_area': 13008},\n",
       " {'_id': '2004-07-01', 'burned_area': 17173},\n",
       " {'_id': '2009-10-01', 'burned_area': 14334},\n",
       " {'_id': '2002-02-01', 'burned_area': 9045},\n",
       " {'_id': '2008-07-01', 'burned_area': 16560},\n",
       " {'_id': '2010-04-01', 'burned_area': 12081},\n",
       " {'_id': '2013-06-01', 'burned_area': 11081},\n",
       " {'_id': '2014-01-01', 'burned_area': 9948},\n",
       " {'_id': '2015-01-01', 'burned_area': 9939},\n",
       " {'_id': '2001-12-01', 'burned_area': 8846},\n",
       " {'_id': '2015-02-01', 'burned_area': 10184},\n",
       " {'_id': '2008-11-01', 'burned_area': 13039},\n",
       " {'_id': '2001-11-01', 'burned_area': 9686},\n",
       " {'_id': '2011-01-01', 'burned_area': 9207},\n",
       " {'_id': '2013-02-01', 'burned_area': 10199},\n",
       " {'_id': '2015-05-01', 'burned_area': 11753},\n",
       " {'_id': '2016-12-01', 'burned_area': 8845},\n",
       " {'_id': '2018-10-01', 'burned_area': 13612},\n",
       " {'_id': '2019-05-01', 'burned_area': 12036},\n",
       " {'_id': '2018-07-01', 'burned_area': 13812},\n",
       " {'_id': '2019-06-01', 'burned_area': 11179},\n",
       " {'_id': '2020-05-01', 'burned_area': 11421},\n",
       " {'_id': '2011-05-01', 'burned_area': 13646},\n",
       " {'_id': '2002-08-01', 'burned_area': 23391},\n",
       " {'_id': '2006-10-01', 'burned_area': 15889},\n",
       " {'_id': '2004-01-01', 'burned_area': 10645},\n",
       " {'_id': '2006-07-01', 'burned_area': 17197},\n",
       " {'_id': '2004-06-01', 'burned_area': 13385},\n",
       " {'_id': '2016-03-01', 'burned_area': 9851},\n",
       " {'_id': '2007-01-01', 'burned_area': 10600},\n",
       " {'_id': '2016-10-01', 'burned_area': 13229},\n",
       " {'_id': '2008-02-01', 'burned_area': 10568},\n",
       " {'_id': '2009-08-01', 'burned_area': 18618},\n",
       " {'_id': '2006-08-01', 'burned_area': 22119},\n",
       " {'_id': '2018-02-01', 'burned_area': 9921},\n",
       " {'_id': '2004-05-01', 'burned_area': 14329},\n",
       " {'_id': '2016-11-01', 'burned_area': 10866},\n",
       " {'_id': '2020-02-01', 'burned_area': 10833},\n",
       " {'_id': '2020-01-01', 'burned_area': 10310},\n",
       " {'_id': '2017-10-01', 'burned_area': 15904},\n",
       " {'_id': '2018-05-01', 'burned_area': 11664},\n",
       " {'_id': '2003-04-01', 'burned_area': 14209},\n",
       " {'_id': '2002-06-01', 'burned_area': 10574},\n",
       " {'_id': '2008-03-01', 'burned_area': 12891},\n",
       " {'_id': '2014-10-01', 'burned_area': 16937},\n",
       " {'_id': '2018-08-01', 'burned_area': 16926},\n",
       " {'_id': '2004-12-01', 'burned_area': 10843},\n",
       " {'_id': '2018-09-01', 'burned_area': 16270},\n",
       " {'_id': '2011-04-01', 'burned_area': 12264},\n",
       " {'_id': '2008-05-01', 'burned_area': 15013},\n",
       " {'_id': '2012-05-01', 'burned_area': 14124},\n",
       " {'_id': '2009-01-01', 'burned_area': 10049},\n",
       " {'_id': '2016-07-01', 'burned_area': 15115},\n",
       " {'_id': '2020-12-01', 'burned_area': 8843},\n",
       " {'_id': '2005-03-01', 'burned_area': 11587},\n",
       " {'_id': '2007-03-01', 'burned_area': 13091},\n",
       " {'_id': '2004-08-01', 'burned_area': 21198},\n",
       " {'_id': '2008-09-01', 'burned_area': 19676},\n",
       " {'_id': '2008-10-01', 'burned_area': 19225},\n",
       " {'_id': '2018-12-01', 'burned_area': 9581},\n",
       " {'_id': '2015-09-01', 'burned_area': 19718},\n",
       " {'_id': '2003-12-01', 'burned_area': 9556},\n",
       " {'_id': '2003-07-01', 'burned_area': 16501},\n",
       " {'_id': '2009-07-01', 'burned_area': 15593},\n",
       " {'_id': '2003-08-01', 'burned_area': 21014},\n",
       " {'_id': '2005-07-01', 'burned_area': 18346},\n",
       " {'_id': '2008-08-01', 'burned_area': 20002},\n",
       " {'_id': '2009-02-01', 'burned_area': 10131},\n",
       " {'_id': '2019-07-01', 'burned_area': 15866},\n",
       " {'_id': '2015-06-01', 'burned_area': 11630},\n",
       " {'_id': '2004-11-01', 'burned_area': 12725},\n",
       " {'_id': '2003-09-01', 'burned_area': 21441},\n",
       " {'_id': '2007-11-01', 'burned_area': 12675},\n",
       " {'_id': '2015-12-01', 'burned_area': 9159},\n",
       " {'_id': '2016-05-01', 'burned_area': 11693},\n",
       " {'_id': '2014-07-01', 'burned_area': 14985},\n",
       " {'_id': '2015-04-01', 'burned_area': 11639},\n",
       " {'_id': '2013-01-01', 'burned_area': 10389},\n",
       " {'_id': '2003-11-01', 'burned_area': 12060},\n",
       " {'_id': '2009-03-01', 'burned_area': 9864},\n",
       " {'_id': '2015-11-01', 'burned_area': 11997},\n",
       " {'_id': '2014-02-01', 'burned_area': 9295},\n",
       " {'_id': '2004-09-01', 'burned_area': 21073},\n",
       " {'_id': '2007-05-01', 'burned_area': 12914},\n",
       " {'_id': '2002-09-01', 'burned_area': 24199},\n",
       " {'_id': '2013-12-01', 'burned_area': 8628},\n",
       " {'_id': '2020-08-01', 'burned_area': 17432},\n",
       " {'_id': '2003-05-01', 'burned_area': 15488},\n",
       " {'_id': '2004-03-01', 'burned_area': 10540},\n",
       " {'_id': '2002-01-01', 'burned_area': 9632},\n",
       " {'_id': '2001-09-01', 'burned_area': 19023},\n",
       " {'_id': '2018-11-01', 'burned_area': 10543},\n",
       " {'_id': '2001-08-01', 'burned_area': 20956},\n",
       " {'_id': '2011-09-01', 'burned_area': 21310},\n",
       " {'_id': '2012-09-01', 'burned_area': 19009},\n",
       " {'_id': '2011-06-01', 'burned_area': 13173},\n",
       " {'_id': '2019-03-01', 'burned_area': 12128},\n",
       " {'_id': '2018-04-01', 'burned_area': 11710},\n",
       " {'_id': '2010-06-01', 'burned_area': 13194},\n",
       " {'_id': '2003-02-01', 'burned_area': 11062},\n",
       " {'_id': '2002-07-01', 'burned_area': 18934},\n",
       " {'_id': '2010-11-01', 'burned_area': 11152},\n",
       " {'_id': '2011-12-01', 'burned_area': 9605},\n",
       " {'_id': '2011-03-01', 'burned_area': 10085},\n",
       " {'_id': '2007-12-01', 'burned_area': 9808},\n",
       " {'_id': '2005-04-01', 'burned_area': 13835},\n",
       " {'_id': '2008-06-01', 'burned_area': 12639},\n",
       " {'_id': '2006-04-01', 'burned_area': 13928},\n",
       " {'_id': '2015-10-01', 'burned_area': 16673},\n",
       " {'_id': '2015-07-01', 'burned_area': 15551},\n",
       " {'_id': '2013-10-01', 'burned_area': 12639},\n",
       " {'_id': '2019-08-01', 'burned_area': 18506},\n",
       " {'_id': '2013-03-01', 'burned_area': 9258},\n",
       " {'_id': '2008-04-01', 'burned_area': 15384},\n",
       " {'_id': '2012-11-01', 'burned_area': 10839},\n",
       " {'_id': '2002-10-01', 'burned_area': 18986},\n",
       " {'_id': '2005-05-01', 'burned_area': 13805},\n",
       " {'_id': '2020-10-01', 'burned_area': 15914},\n",
       " {'_id': '2008-12-01', 'burned_area': 9334},\n",
       " {'_id': '2005-11-01', 'burned_area': 13445},\n",
       " {'_id': '2014-11-01', 'burned_area': 11448},\n",
       " {'_id': '2012-01-01', 'burned_area': 10741},\n",
       " {'_id': '2006-01-01', 'burned_area': 10280},\n",
       " {'_id': '2010-01-01', 'burned_area': 9820},\n",
       " {'_id': '2013-09-01', 'burned_area': 15443},\n",
       " {'_id': '2001-07-01', 'burned_area': 14470},\n",
       " {'_id': '2006-05-01', 'burned_area': 16430},\n",
       " {'_id': '2019-04-01', 'burned_area': 13731},\n",
       " {'_id': '2013-08-01', 'burned_area': 17550},\n",
       " {'_id': '2007-07-01', 'burned_area': 18125},\n",
       " {'_id': '2009-06-01', 'burned_area': 12300},\n",
       " {'_id': '2006-11-01', 'burned_area': 12728},\n",
       " {'_id': '2007-10-01', 'burned_area': 18576},\n",
       " {'_id': '2013-11-01', 'burned_area': 9810},\n",
       " {'_id': '2005-08-01', 'burned_area': 21516},\n",
       " {'_id': '2001-03-01', 'burned_area': 7111},\n",
       " {'_id': '2011-07-01', 'burned_area': 16393},\n",
       " {'_id': '2001-02-01', 'burned_area': 8887}]"
      ]
     },
     "execution_count": 50,
     "metadata": {},
     "output_type": "execute_result"
    }
   ],
   "source": [
    "list_date = list ()\n",
    "agg_result= mycol.aggregate(\n",
    "    [{\n",
    "    \"$group\" : \n",
    "        {\"_id\" : \"$date\", \n",
    "         \"burned_area\" : {\"$sum\" : 1}\n",
    "         }\n",
    "    }])\n",
    "for i in agg_result:\n",
    "    list_date.append(i)\n",
    "list_date"
   ]
  },
  {
   "cell_type": "code",
   "execution_count": 55,
   "metadata": {},
   "outputs": [],
   "source": [
    "import pandas as pd\n",
    "df_date = pd.DataFrame(list_date).sort_values(by=['_id'])"
   ]
  },
  {
   "cell_type": "code",
   "execution_count": 56,
   "metadata": {},
   "outputs": [
    {
     "data": {
      "application/vnd.plotly.v1+json": {
       "config": {
        "plotlyServerURL": "https://plot.ly"
       },
       "data": [
        {
         "hovertemplate": "_id=%{x}<br>burned_area=%{y}<extra></extra>",
         "legendgroup": "",
         "line": {
          "color": "#636efa",
          "dash": "solid"
         },
         "marker": {
          "symbol": "circle"
         },
         "mode": "lines",
         "name": "",
         "orientation": "v",
         "showlegend": false,
         "type": "scatter",
         "x": [
          "2001-01-01",
          "2001-02-01",
          "2001-03-01",
          "2001-04-01",
          "2001-05-01",
          "2001-06-01",
          "2001-07-01",
          "2001-08-01",
          "2001-09-01",
          "2001-10-01",
          "2001-11-01",
          "2001-12-01",
          "2002-01-01",
          "2002-02-01",
          "2002-03-01",
          "2002-04-01",
          "2002-05-01",
          "2002-06-01",
          "2002-07-01",
          "2002-08-01",
          "2002-09-01",
          "2002-10-01",
          "2002-11-01",
          "2002-12-01",
          "2003-01-01",
          "2003-02-01",
          "2003-03-01",
          "2003-04-01",
          "2003-05-01",
          "2003-06-01",
          "2003-07-01",
          "2003-08-01",
          "2003-09-01",
          "2003-10-01",
          "2003-11-01",
          "2003-12-01",
          "2004-01-01",
          "2004-02-01",
          "2004-03-01",
          "2004-04-01",
          "2004-05-01",
          "2004-06-01",
          "2004-07-01",
          "2004-08-01",
          "2004-09-01",
          "2004-10-01",
          "2004-11-01",
          "2004-12-01",
          "2005-01-01",
          "2005-02-01",
          "2005-03-01",
          "2005-04-01",
          "2005-05-01",
          "2005-06-01",
          "2005-07-01",
          "2005-08-01",
          "2005-09-01",
          "2005-10-01",
          "2005-11-01",
          "2005-12-01",
          "2006-01-01",
          "2006-02-01",
          "2006-03-01",
          "2006-04-01",
          "2006-05-01",
          "2006-06-01",
          "2006-07-01",
          "2006-08-01",
          "2006-09-01",
          "2006-10-01",
          "2006-11-01",
          "2006-12-01",
          "2007-01-01",
          "2007-02-01",
          "2007-03-01",
          "2007-04-01",
          "2007-05-01",
          "2007-06-01",
          "2007-07-01",
          "2007-08-01",
          "2007-09-01",
          "2007-10-01",
          "2007-11-01",
          "2007-12-01",
          "2008-01-01",
          "2008-02-01",
          "2008-03-01",
          "2008-04-01",
          "2008-05-01",
          "2008-06-01",
          "2008-07-01",
          "2008-08-01",
          "2008-09-01",
          "2008-10-01",
          "2008-11-01",
          "2008-12-01",
          "2009-01-01",
          "2009-02-01",
          "2009-03-01",
          "2009-04-01",
          "2009-05-01",
          "2009-06-01",
          "2009-07-01",
          "2009-08-01",
          "2009-09-01",
          "2009-10-01",
          "2009-11-01",
          "2009-12-01",
          "2010-01-01",
          "2010-02-01",
          "2010-03-01",
          "2010-04-01",
          "2010-05-01",
          "2010-06-01",
          "2010-07-01",
          "2010-08-01",
          "2010-09-01",
          "2010-10-01",
          "2010-11-01",
          "2010-12-01",
          "2011-01-01",
          "2011-02-01",
          "2011-03-01",
          "2011-04-01",
          "2011-05-01",
          "2011-06-01",
          "2011-07-01",
          "2011-08-01",
          "2011-09-01",
          "2011-10-01",
          "2011-11-01",
          "2011-12-01",
          "2012-01-01",
          "2012-02-01",
          "2012-03-01",
          "2012-04-01",
          "2012-05-01",
          "2012-06-01",
          "2012-07-01",
          "2012-08-01",
          "2012-09-01",
          "2012-10-01",
          "2012-11-01",
          "2012-12-01",
          "2013-01-01",
          "2013-02-01",
          "2013-03-01",
          "2013-04-01",
          "2013-05-01",
          "2013-06-01",
          "2013-07-01",
          "2013-08-01",
          "2013-09-01",
          "2013-10-01",
          "2013-11-01",
          "2013-12-01",
          "2014-01-01",
          "2014-02-01",
          "2014-03-01",
          "2014-04-01",
          "2014-05-01",
          "2014-06-01",
          "2014-07-01",
          "2014-08-01",
          "2014-09-01",
          "2014-10-01",
          "2014-11-01",
          "2014-12-01",
          "2015-01-01",
          "2015-02-01",
          "2015-03-01",
          "2015-04-01",
          "2015-05-01",
          "2015-06-01",
          "2015-07-01",
          "2015-08-01",
          "2015-09-01",
          "2015-10-01",
          "2015-11-01",
          "2015-12-01",
          "2016-01-01",
          "2016-02-01",
          "2016-03-01",
          "2016-04-01",
          "2016-05-01",
          "2016-06-01",
          "2016-07-01",
          "2016-08-01",
          "2016-09-01",
          "2016-10-01",
          "2016-11-01",
          "2016-12-01",
          "2017-01-01",
          "2017-02-01",
          "2017-03-01",
          "2017-04-01",
          "2017-05-01",
          "2017-06-01",
          "2017-07-01",
          "2017-08-01",
          "2017-09-01",
          "2017-10-01",
          "2017-11-01",
          "2017-12-01",
          "2018-01-01",
          "2018-02-01",
          "2018-03-01",
          "2018-04-01",
          "2018-05-01",
          "2018-06-01",
          "2018-07-01",
          "2018-08-01",
          "2018-09-01",
          "2018-10-01",
          "2018-11-01",
          "2018-12-01",
          "2019-01-01",
          "2019-02-01",
          "2019-03-01",
          "2019-04-01",
          "2019-05-01",
          "2019-06-01",
          "2019-07-01",
          "2019-08-01",
          "2019-09-01",
          "2020-01-01",
          "2020-02-01",
          "2020-03-01",
          "2020-04-01",
          "2020-05-01",
          "2020-06-01",
          "2020-07-01",
          "2020-08-01",
          "2020-09-01",
          "2020-10-01",
          "2020-11-01",
          "2020-12-01"
         ],
         "xaxis": "x",
         "y": [
          9550,
          8887,
          7111,
          9889,
          10082,
          5337,
          14470,
          20956,
          19023,
          13997,
          9686,
          8846,
          9632,
          9045,
          7938,
          9900,
          11424,
          10574,
          18934,
          23391,
          24199,
          18986,
          13008,
          10250,
          10944,
          11062,
          11212,
          14209,
          15488,
          12926,
          16501,
          21014,
          21441,
          18961,
          12060,
          9556,
          10645,
          11218,
          10540,
          13103,
          14329,
          13385,
          17173,
          21198,
          21073,
          18675,
          12725,
          10843,
          10996,
          11216,
          11587,
          13835,
          13805,
          13096,
          18346,
          21516,
          21080,
          20070,
          13445,
          9841,
          10280,
          9944,
          9179,
          13928,
          16430,
          13054,
          17197,
          22119,
          21138,
          15889,
          12728,
          10370,
          10600,
          11994,
          13091,
          12949,
          12914,
          13282,
          18125,
          22257,
          21565,
          18576,
          12675,
          9808,
          9961,
          10568,
          12891,
          15384,
          15013,
          12639,
          16560,
          20002,
          19676,
          19225,
          13039,
          9334,
          10049,
          10131,
          9864,
          16790,
          16440,
          12300,
          15593,
          18618,
          18170,
          14334,
          11440,
          9226,
          9820,
          9965,
          9167,
          12081,
          13024,
          13194,
          17379,
          21653,
          20429,
          16696,
          11152,
          8969,
          9207,
          9746,
          10085,
          12264,
          13646,
          13173,
          16393,
          20538,
          21310,
          17426,
          12000,
          9605,
          10741,
          10872,
          11161,
          14132,
          14124,
          14956,
          18322,
          21029,
          19009,
          15972,
          10839,
          9603,
          10389,
          10199,
          9258,
          11314,
          12007,
          11081,
          13990,
          17550,
          15443,
          12639,
          9810,
          8628,
          9948,
          9295,
          11632,
          13530,
          11781,
          10948,
          14985,
          18567,
          18014,
          16937,
          11448,
          8718,
          9939,
          10184,
          10920,
          11639,
          11753,
          11630,
          15551,
          19547,
          19718,
          16673,
          11997,
          9159,
          10199,
          9722,
          9851,
          11366,
          11693,
          10784,
          15115,
          19103,
          16492,
          13229,
          10866,
          8845,
          9661,
          9856,
          11110,
          12632,
          11372,
          11025,
          15849,
          19426,
          18635,
          15904,
          11156,
          9577,
          10059,
          9921,
          10049,
          11710,
          11664,
          10909,
          13812,
          16926,
          16270,
          13612,
          10543,
          9581,
          10525,
          10776,
          12128,
          13731,
          12036,
          11179,
          15866,
          18506,
          16195,
          10310,
          10833,
          12913,
          14292,
          11421,
          11732,
          15528,
          17432,
          16791,
          15914,
          10493,
          8843
         ],
         "yaxis": "y"
        }
       ],
       "layout": {
        "legend": {
         "tracegroupgap": 0
        },
        "template": {
         "data": {
          "bar": [
           {
            "error_x": {
             "color": "#2a3f5f"
            },
            "error_y": {
             "color": "#2a3f5f"
            },
            "marker": {
             "line": {
              "color": "#E5ECF6",
              "width": 0.5
             },
             "pattern": {
              "fillmode": "overlay",
              "size": 10,
              "solidity": 0.2
             }
            },
            "type": "bar"
           }
          ],
          "barpolar": [
           {
            "marker": {
             "line": {
              "color": "#E5ECF6",
              "width": 0.5
             },
             "pattern": {
              "fillmode": "overlay",
              "size": 10,
              "solidity": 0.2
             }
            },
            "type": "barpolar"
           }
          ],
          "carpet": [
           {
            "aaxis": {
             "endlinecolor": "#2a3f5f",
             "gridcolor": "white",
             "linecolor": "white",
             "minorgridcolor": "white",
             "startlinecolor": "#2a3f5f"
            },
            "baxis": {
             "endlinecolor": "#2a3f5f",
             "gridcolor": "white",
             "linecolor": "white",
             "minorgridcolor": "white",
             "startlinecolor": "#2a3f5f"
            },
            "type": "carpet"
           }
          ],
          "choropleth": [
           {
            "colorbar": {
             "outlinewidth": 0,
             "ticks": ""
            },
            "type": "choropleth"
           }
          ],
          "contour": [
           {
            "colorbar": {
             "outlinewidth": 0,
             "ticks": ""
            },
            "colorscale": [
             [
              0,
              "#0d0887"
             ],
             [
              0.1111111111111111,
              "#46039f"
             ],
             [
              0.2222222222222222,
              "#7201a8"
             ],
             [
              0.3333333333333333,
              "#9c179e"
             ],
             [
              0.4444444444444444,
              "#bd3786"
             ],
             [
              0.5555555555555556,
              "#d8576b"
             ],
             [
              0.6666666666666666,
              "#ed7953"
             ],
             [
              0.7777777777777778,
              "#fb9f3a"
             ],
             [
              0.8888888888888888,
              "#fdca26"
             ],
             [
              1,
              "#f0f921"
             ]
            ],
            "type": "contour"
           }
          ],
          "contourcarpet": [
           {
            "colorbar": {
             "outlinewidth": 0,
             "ticks": ""
            },
            "type": "contourcarpet"
           }
          ],
          "heatmap": [
           {
            "colorbar": {
             "outlinewidth": 0,
             "ticks": ""
            },
            "colorscale": [
             [
              0,
              "#0d0887"
             ],
             [
              0.1111111111111111,
              "#46039f"
             ],
             [
              0.2222222222222222,
              "#7201a8"
             ],
             [
              0.3333333333333333,
              "#9c179e"
             ],
             [
              0.4444444444444444,
              "#bd3786"
             ],
             [
              0.5555555555555556,
              "#d8576b"
             ],
             [
              0.6666666666666666,
              "#ed7953"
             ],
             [
              0.7777777777777778,
              "#fb9f3a"
             ],
             [
              0.8888888888888888,
              "#fdca26"
             ],
             [
              1,
              "#f0f921"
             ]
            ],
            "type": "heatmap"
           }
          ],
          "heatmapgl": [
           {
            "colorbar": {
             "outlinewidth": 0,
             "ticks": ""
            },
            "colorscale": [
             [
              0,
              "#0d0887"
             ],
             [
              0.1111111111111111,
              "#46039f"
             ],
             [
              0.2222222222222222,
              "#7201a8"
             ],
             [
              0.3333333333333333,
              "#9c179e"
             ],
             [
              0.4444444444444444,
              "#bd3786"
             ],
             [
              0.5555555555555556,
              "#d8576b"
             ],
             [
              0.6666666666666666,
              "#ed7953"
             ],
             [
              0.7777777777777778,
              "#fb9f3a"
             ],
             [
              0.8888888888888888,
              "#fdca26"
             ],
             [
              1,
              "#f0f921"
             ]
            ],
            "type": "heatmapgl"
           }
          ],
          "histogram": [
           {
            "marker": {
             "pattern": {
              "fillmode": "overlay",
              "size": 10,
              "solidity": 0.2
             }
            },
            "type": "histogram"
           }
          ],
          "histogram2d": [
           {
            "colorbar": {
             "outlinewidth": 0,
             "ticks": ""
            },
            "colorscale": [
             [
              0,
              "#0d0887"
             ],
             [
              0.1111111111111111,
              "#46039f"
             ],
             [
              0.2222222222222222,
              "#7201a8"
             ],
             [
              0.3333333333333333,
              "#9c179e"
             ],
             [
              0.4444444444444444,
              "#bd3786"
             ],
             [
              0.5555555555555556,
              "#d8576b"
             ],
             [
              0.6666666666666666,
              "#ed7953"
             ],
             [
              0.7777777777777778,
              "#fb9f3a"
             ],
             [
              0.8888888888888888,
              "#fdca26"
             ],
             [
              1,
              "#f0f921"
             ]
            ],
            "type": "histogram2d"
           }
          ],
          "histogram2dcontour": [
           {
            "colorbar": {
             "outlinewidth": 0,
             "ticks": ""
            },
            "colorscale": [
             [
              0,
              "#0d0887"
             ],
             [
              0.1111111111111111,
              "#46039f"
             ],
             [
              0.2222222222222222,
              "#7201a8"
             ],
             [
              0.3333333333333333,
              "#9c179e"
             ],
             [
              0.4444444444444444,
              "#bd3786"
             ],
             [
              0.5555555555555556,
              "#d8576b"
             ],
             [
              0.6666666666666666,
              "#ed7953"
             ],
             [
              0.7777777777777778,
              "#fb9f3a"
             ],
             [
              0.8888888888888888,
              "#fdca26"
             ],
             [
              1,
              "#f0f921"
             ]
            ],
            "type": "histogram2dcontour"
           }
          ],
          "mesh3d": [
           {
            "colorbar": {
             "outlinewidth": 0,
             "ticks": ""
            },
            "type": "mesh3d"
           }
          ],
          "parcoords": [
           {
            "line": {
             "colorbar": {
              "outlinewidth": 0,
              "ticks": ""
             }
            },
            "type": "parcoords"
           }
          ],
          "pie": [
           {
            "automargin": true,
            "type": "pie"
           }
          ],
          "scatter": [
           {
            "marker": {
             "colorbar": {
              "outlinewidth": 0,
              "ticks": ""
             }
            },
            "type": "scatter"
           }
          ],
          "scatter3d": [
           {
            "line": {
             "colorbar": {
              "outlinewidth": 0,
              "ticks": ""
             }
            },
            "marker": {
             "colorbar": {
              "outlinewidth": 0,
              "ticks": ""
             }
            },
            "type": "scatter3d"
           }
          ],
          "scattercarpet": [
           {
            "marker": {
             "colorbar": {
              "outlinewidth": 0,
              "ticks": ""
             }
            },
            "type": "scattercarpet"
           }
          ],
          "scattergeo": [
           {
            "marker": {
             "colorbar": {
              "outlinewidth": 0,
              "ticks": ""
             }
            },
            "type": "scattergeo"
           }
          ],
          "scattergl": [
           {
            "marker": {
             "colorbar": {
              "outlinewidth": 0,
              "ticks": ""
             }
            },
            "type": "scattergl"
           }
          ],
          "scattermapbox": [
           {
            "marker": {
             "colorbar": {
              "outlinewidth": 0,
              "ticks": ""
             }
            },
            "type": "scattermapbox"
           }
          ],
          "scatterpolar": [
           {
            "marker": {
             "colorbar": {
              "outlinewidth": 0,
              "ticks": ""
             }
            },
            "type": "scatterpolar"
           }
          ],
          "scatterpolargl": [
           {
            "marker": {
             "colorbar": {
              "outlinewidth": 0,
              "ticks": ""
             }
            },
            "type": "scatterpolargl"
           }
          ],
          "scatterternary": [
           {
            "marker": {
             "colorbar": {
              "outlinewidth": 0,
              "ticks": ""
             }
            },
            "type": "scatterternary"
           }
          ],
          "surface": [
           {
            "colorbar": {
             "outlinewidth": 0,
             "ticks": ""
            },
            "colorscale": [
             [
              0,
              "#0d0887"
             ],
             [
              0.1111111111111111,
              "#46039f"
             ],
             [
              0.2222222222222222,
              "#7201a8"
             ],
             [
              0.3333333333333333,
              "#9c179e"
             ],
             [
              0.4444444444444444,
              "#bd3786"
             ],
             [
              0.5555555555555556,
              "#d8576b"
             ],
             [
              0.6666666666666666,
              "#ed7953"
             ],
             [
              0.7777777777777778,
              "#fb9f3a"
             ],
             [
              0.8888888888888888,
              "#fdca26"
             ],
             [
              1,
              "#f0f921"
             ]
            ],
            "type": "surface"
           }
          ],
          "table": [
           {
            "cells": {
             "fill": {
              "color": "#EBF0F8"
             },
             "line": {
              "color": "white"
             }
            },
            "header": {
             "fill": {
              "color": "#C8D4E3"
             },
             "line": {
              "color": "white"
             }
            },
            "type": "table"
           }
          ]
         },
         "layout": {
          "annotationdefaults": {
           "arrowcolor": "#2a3f5f",
           "arrowhead": 0,
           "arrowwidth": 1
          },
          "autotypenumbers": "strict",
          "coloraxis": {
           "colorbar": {
            "outlinewidth": 0,
            "ticks": ""
           }
          },
          "colorscale": {
           "diverging": [
            [
             0,
             "#8e0152"
            ],
            [
             0.1,
             "#c51b7d"
            ],
            [
             0.2,
             "#de77ae"
            ],
            [
             0.3,
             "#f1b6da"
            ],
            [
             0.4,
             "#fde0ef"
            ],
            [
             0.5,
             "#f7f7f7"
            ],
            [
             0.6,
             "#e6f5d0"
            ],
            [
             0.7,
             "#b8e186"
            ],
            [
             0.8,
             "#7fbc41"
            ],
            [
             0.9,
             "#4d9221"
            ],
            [
             1,
             "#276419"
            ]
           ],
           "sequential": [
            [
             0,
             "#0d0887"
            ],
            [
             0.1111111111111111,
             "#46039f"
            ],
            [
             0.2222222222222222,
             "#7201a8"
            ],
            [
             0.3333333333333333,
             "#9c179e"
            ],
            [
             0.4444444444444444,
             "#bd3786"
            ],
            [
             0.5555555555555556,
             "#d8576b"
            ],
            [
             0.6666666666666666,
             "#ed7953"
            ],
            [
             0.7777777777777778,
             "#fb9f3a"
            ],
            [
             0.8888888888888888,
             "#fdca26"
            ],
            [
             1,
             "#f0f921"
            ]
           ],
           "sequentialminus": [
            [
             0,
             "#0d0887"
            ],
            [
             0.1111111111111111,
             "#46039f"
            ],
            [
             0.2222222222222222,
             "#7201a8"
            ],
            [
             0.3333333333333333,
             "#9c179e"
            ],
            [
             0.4444444444444444,
             "#bd3786"
            ],
            [
             0.5555555555555556,
             "#d8576b"
            ],
            [
             0.6666666666666666,
             "#ed7953"
            ],
            [
             0.7777777777777778,
             "#fb9f3a"
            ],
            [
             0.8888888888888888,
             "#fdca26"
            ],
            [
             1,
             "#f0f921"
            ]
           ]
          },
          "colorway": [
           "#636efa",
           "#EF553B",
           "#00cc96",
           "#ab63fa",
           "#FFA15A",
           "#19d3f3",
           "#FF6692",
           "#B6E880",
           "#FF97FF",
           "#FECB52"
          ],
          "font": {
           "color": "#2a3f5f"
          },
          "geo": {
           "bgcolor": "white",
           "lakecolor": "white",
           "landcolor": "#E5ECF6",
           "showlakes": true,
           "showland": true,
           "subunitcolor": "white"
          },
          "hoverlabel": {
           "align": "left"
          },
          "hovermode": "closest",
          "mapbox": {
           "style": "light"
          },
          "paper_bgcolor": "white",
          "plot_bgcolor": "#E5ECF6",
          "polar": {
           "angularaxis": {
            "gridcolor": "white",
            "linecolor": "white",
            "ticks": ""
           },
           "bgcolor": "#E5ECF6",
           "radialaxis": {
            "gridcolor": "white",
            "linecolor": "white",
            "ticks": ""
           }
          },
          "scene": {
           "xaxis": {
            "backgroundcolor": "#E5ECF6",
            "gridcolor": "white",
            "gridwidth": 2,
            "linecolor": "white",
            "showbackground": true,
            "ticks": "",
            "zerolinecolor": "white"
           },
           "yaxis": {
            "backgroundcolor": "#E5ECF6",
            "gridcolor": "white",
            "gridwidth": 2,
            "linecolor": "white",
            "showbackground": true,
            "ticks": "",
            "zerolinecolor": "white"
           },
           "zaxis": {
            "backgroundcolor": "#E5ECF6",
            "gridcolor": "white",
            "gridwidth": 2,
            "linecolor": "white",
            "showbackground": true,
            "ticks": "",
            "zerolinecolor": "white"
           }
          },
          "shapedefaults": {
           "line": {
            "color": "#2a3f5f"
           }
          },
          "ternary": {
           "aaxis": {
            "gridcolor": "white",
            "linecolor": "white",
            "ticks": ""
           },
           "baxis": {
            "gridcolor": "white",
            "linecolor": "white",
            "ticks": ""
           },
           "bgcolor": "#E5ECF6",
           "caxis": {
            "gridcolor": "white",
            "linecolor": "white",
            "ticks": ""
           }
          },
          "title": {
           "x": 0.05
          },
          "xaxis": {
           "automargin": true,
           "gridcolor": "white",
           "linecolor": "white",
           "ticks": "",
           "title": {
            "standoff": 15
           },
           "zerolinecolor": "white",
           "zerolinewidth": 2
          },
          "yaxis": {
           "automargin": true,
           "gridcolor": "white",
           "linecolor": "white",
           "ticks": "",
           "title": {
            "standoff": 15
           },
           "zerolinecolor": "white",
           "zerolinewidth": 2
          }
         }
        },
        "title": {
         "text": "Life expectancy in Canada"
        },
        "xaxis": {
         "anchor": "y",
         "domain": [
          0,
          1
         ],
         "title": {
          "text": "_id"
         }
        },
        "yaxis": {
         "anchor": "x",
         "domain": [
          0,
          1
         ],
         "title": {
          "text": "burned_area"
         }
        }
       }
      }
     },
     "metadata": {},
     "output_type": "display_data"
    }
   ],
   "source": [
    "import plotly.express as px\n",
    "\n",
    "fig = px.line(df_date, x=\"_id\", y=\"burned_area\", title='Life expectancy in Canada')\n",
    "fig.show()"
   ]
  },
  {
   "cell_type": "code",
   "execution_count": 57,
   "metadata": {},
   "outputs": [
    {
     "data": {
      "text/plain": [
       "[{'_id': 'CY', 'burned_area': 100},\n",
       " {'_id': 'PR', 'burned_area': 101},\n",
       " {'_id': 'ER', 'burned_area': 1134},\n",
       " {'_id': 'TG', 'burned_area': 5824},\n",
       " {'_id': 'AM', 'burned_area': 1081},\n",
       " {'_id': 'BS', 'burned_area': 498},\n",
       " {'_id': 'PG', 'burned_area': 6594},\n",
       " {'_id': 'TN', 'burned_area': 671},\n",
       " {'_id': 'FK', 'burned_area': 63},\n",
       " {'_id': 'YE', 'burned_area': 2},\n",
       " {'_id': 'MT', 'burned_area': 1},\n",
       " {'_id': 'TM', 'burned_area': 816},\n",
       " {'_id': 'DM', 'burned_area': 1},\n",
       " {'_id': 'PE', 'burned_area': 5757},\n",
       " {'_id': 'RW', 'burned_area': 623},\n",
       " {'_id': 'ES', 'burned_area': 5621},\n",
       " {'_id': 'SV', 'burned_area': 1595},\n",
       " {'_id': 'EE', 'burned_area': 169},\n",
       " {'_id': 'AO', 'burned_area': 121719},\n",
       " {'_id': 'LR', 'burned_area': 729},\n",
       " {'_id': 'CV', 'burned_area': 1},\n",
       " {'_id': 'IE', 'burned_area': 231},\n",
       " {'_id': 'DJ', 'burned_area': 8},\n",
       " {'_id': 'LT', 'burned_area': 624},\n",
       " {'_id': 'CN', 'burned_area': 56139},\n",
       " {'_id': 'DZ', 'burned_area': 5049},\n",
       " {'_id': 'GL', 'burned_area': 35},\n",
       " {'_id': 'FR', 'burned_area': 809},\n",
       " {'_id': 'SG', 'burned_area': 7},\n",
       " {'_id': 'EG', 'burned_area': 664},\n",
       " {'_id': 'TH', 'burned_area': 34604},\n",
       " {'_id': 'LK', 'burned_area': 1715},\n",
       " {'_id': 'LS', 'burned_area': 2267},\n",
       " {'_id': 'SE', 'burned_area': 393},\n",
       " {'_id': 'TW', 'burned_area': 122},\n",
       " {'_id': 'BB', 'burned_area': 10},\n",
       " {'_id': 'GF', 'burned_area': 1781},\n",
       " {'_id': 'VI', 'burned_area': 1},\n",
       " {'_id': 'MN', 'burned_area': 5618},\n",
       " {'_id': 'GQ', 'burned_area': 33},\n",
       " {'_id': 'AU', 'burned_area': 231628},\n",
       " {'_id': 'NL', 'burned_area': 32},\n",
       " {'_id': 'TD', 'burned_area': 42525},\n",
       " {'_id': 'GT', 'burned_area': 5056},\n",
       " {'_id': 'GM', 'burned_area': 4860},\n",
       " {'_id': 'BO', 'burned_area': 36339},\n",
       " {'_id': 'BA', 'burned_area': 1166},\n",
       " {'_id': 'MQ', 'burned_area': 3},\n",
       " {'_id': 'RU', 'burned_area': 379365},\n",
       " {'_id': 'UA', 'burned_area': 55906},\n",
       " {'_id': 'BZ', 'burned_area': 924},\n",
       " {'_id': 'VN', 'burned_area': 8160},\n",
       " {'_id': 'NA', 'burned_area': 31023},\n",
       " {'_id': 'JO', 'burned_area': 58},\n",
       " {'_id': 'PK', 'burned_area': 2210},\n",
       " {'_id': 'ET', 'burned_area': 39221},\n",
       " {'_id': 'CL', 'burned_area': 4604},\n",
       " {'_id': 'SK', 'burned_area': 285},\n",
       " {'_id': 'HR', 'burned_area': 1216},\n",
       " {'_id': 'GP', 'burned_area': 7},\n",
       " {'_id': 'XK', 'burned_area': 375},\n",
       " {'_id': 'VE', 'burned_area': 44191},\n",
       " {'_id': 'MM', 'burned_area': 15814},\n",
       " {'_id': 'GY', 'burned_area': 2968},\n",
       " {'_id': 'KE', 'burned_area': 6390},\n",
       " {'_id': 'MZ', 'burned_area': 59938},\n",
       " {'_id': 'GA', 'burned_area': 2627},\n",
       " {'_id': 'US', 'burned_area': 100823},\n",
       " {'_id': 'TJ', 'burned_area': 240},\n",
       " {'_id': 'HN', 'burned_area': 5392},\n",
       " {'_id': 'BD', 'burned_area': 115},\n",
       " {'_id': 'IQ', 'burned_area': 3522},\n",
       " {'_id': 'CM', 'burned_area': 28053},\n",
       " {'_id': 'MY', 'burned_area': 2572},\n",
       " {'_id': 'GR', 'burned_area': 2408},\n",
       " {'_id': 'BE', 'burned_area': 19},\n",
       " {'_id': 'MD', 'burned_area': 2548},\n",
       " {'_id': 'IR', 'burned_area': 4220},\n",
       " {'_id': 'SI', 'burned_area': 19},\n",
       " {'_id': 'ST', 'burned_area': 3},\n",
       " {'_id': 'PY', 'burned_area': 22995},\n",
       " {'_id': 'KG', 'burned_area': 2207},\n",
       " {'_id': 'NI', 'burned_area': 3927},\n",
       " {'_id': 'SL', 'burned_area': 6340},\n",
       " {'_id': 'NC', 'burned_area': 355},\n",
       " {'_id': 'VU', 'burned_area': 229},\n",
       " {'_id': 'EC', 'burned_area': 1177},\n",
       " {'_id': 'PL', 'burned_area': 1247},\n",
       " {'_id': 'ME', 'burned_area': 423},\n",
       " {'_id': 'LB', 'burned_area': 117},\n",
       " {'_id': 'PS', 'burned_area': 45},\n",
       " {'_id': 'ZM', 'burned_area': 135869},\n",
       " {'_id': 'CA', 'burned_area': 32047},\n",
       " {'_id': 'BG', 'burned_area': 5581},\n",
       " {'_id': 'NE', 'burned_area': 1702},\n",
       " {'_id': 'BR', 'burned_area': 297973},\n",
       " {'_id': 'IT', 'burned_area': 6936},\n",
       " {'_id': 'AZ', 'burned_area': 3512},\n",
       " {'_id': 'CZ', 'burned_area': 148},\n",
       " {'_id': 'DK', 'burned_area': 49},\n",
       " {'_id': 'SN', 'burned_area': 12676},\n",
       " {'_id': 'BJ', 'burned_area': 10202},\n",
       " {'_id': 'NZ', 'burned_area': 246},\n",
       " {'_id': 'CD', 'burned_area': 144610},\n",
       " {'_id': 'TZ', 'burned_area': 85389},\n",
       " {'_id': 'BY', 'burned_area': 4772},\n",
       " {'_id': 'RE', 'burned_area': 68},\n",
       " {'_id': 'HU', 'burned_area': 2244},\n",
       " {'_id': 'IL', 'burned_area': 142},\n",
       " {'_id': 'GI', 'burned_area': 13},\n",
       " {'_id': 'HK', 'burned_area': 36},\n",
       " {'_id': 'MR', 'burned_area': 1118},\n",
       " {'_id': 'BW', 'burned_area': 16261},\n",
       " {'_id': 'CI', 'burned_area': 19516},\n",
       " {'_id': 'UY', 'burned_area': 2044},\n",
       " {'_id': 'SS', 'burned_area': 77883},\n",
       " {'_id': 'KP', 'burned_area': 1557},\n",
       " {'_id': 'LC', 'burned_area': 4},\n",
       " {'_id': 'YT', 'burned_area': 1},\n",
       " {'_id': 'CF', 'burned_area': 71888},\n",
       " {'_id': 'ML', 'burned_area': 48554},\n",
       " {'_id': 'GB', 'burned_area': 923},\n",
       " {'_id': 'FI', 'burned_area': 308},\n",
       " {'_id': 'BN', 'burned_area': 115},\n",
       " {'_id': 'TR', 'burned_area': 12547},\n",
       " {'_id': 'AG', 'burned_area': 3},\n",
       " {'_id': 'MW', 'burned_area': 22140},\n",
       " {'_id': 'NP', 'burned_area': 3239},\n",
       " {'_id': 'KH', 'burned_area': 9585},\n",
       " {'_id': 'UZ', 'burned_area': 2502},\n",
       " {'_id': 'RO', 'burned_area': 10540},\n",
       " {'_id': 'SA', 'burned_area': 118},\n",
       " {'_id': 'MA', 'burned_area': 609},\n",
       " {'_id': 'JP', 'burned_area': 402},\n",
       " {'_id': 'GH', 'burned_area': 14868},\n",
       " {'_id': 'AR', 'burned_area': 65644},\n",
       " {'_id': 'MU', 'burned_area': 47},\n",
       " {'_id': 'JM', 'burned_area': 204},\n",
       " {'_id': 'AF', 'burned_area': 768},\n",
       " {'_id': 'KZ', 'burned_area': 96544},\n",
       " {'_id': 'GU', 'burned_area': 37},\n",
       " {'_id': 'LA', 'burned_area': 6541},\n",
       " {'_id': 'HT', 'burned_area': 388},\n",
       " {'_id': 'PH', 'burned_area': 4896},\n",
       " {'_id': 'NO', 'burned_area': 205},\n",
       " {'_id': 'TL', 'burned_area': 1318},\n",
       " {'_id': 'SZ', 'burned_area': 4357},\n",
       " {'_id': 'AT', 'burned_area': 103},\n",
       " {'_id': 'PT', 'burned_area': 3274},\n",
       " {'_id': 'BT', 'burned_area': 260},\n",
       " {'_id': 'ZW', 'burned_area': 39956},\n",
       " {'_id': 'ID', 'burned_area': 26109},\n",
       " {'_id': 'UG', 'burned_area': 18780},\n",
       " {'_id': 'GN', 'burned_area': 31912},\n",
       " {'_id': 'FJ', 'burned_area': 865},\n",
       " {'_id': 'KM', 'burned_area': 114},\n",
       " {'_id': 'CG', 'burned_area': 14815},\n",
       " {'_id': 'MS', 'burned_area': 5},\n",
       " {'_id': 'MG', 'burned_area': 65076},\n",
       " {'_id': 'KR', 'burned_area': 251},\n",
       " {'_id': 'SD', 'burned_area': 46871},\n",
       " {'_id': 'GW', 'burned_area': 4609},\n",
       " {'_id': 'CO', 'burned_area': 28371},\n",
       " {'_id': 'MK', 'burned_area': 852},\n",
       " {'_id': 'KN', 'burned_area': 10},\n",
       " {'_id': 'RS', 'burned_area': 2960},\n",
       " {'_id': 'MX', 'burned_area': 34124},\n",
       " {'_id': 'DE', 'burned_area': 96},\n",
       " {'_id': 'MP', 'burned_area': 14},\n",
       " {'_id': 'AL', 'burned_area': 1077},\n",
       " {'_id': 'CR', 'burned_area': 1368},\n",
       " {'_id': 'PA', 'burned_area': 1363},\n",
       " {'_id': 'CU', 'burned_area': 6497},\n",
       " {'_id': 'SY', 'burned_area': 1985},\n",
       " {'_id': 'LY', 'burned_area': 73},\n",
       " {'_id': 'CW', 'burned_area': 1},\n",
       " {'_id': 'LV', 'burned_area': 508},\n",
       " {'_id': 'TT', 'burned_area': 127},\n",
       " {'_id': 'IS', 'burned_area': 27},\n",
       " {'_id': 'BF', 'burned_area': 21049},\n",
       " {'_id': 'SR', 'burned_area': 619},\n",
       " {'_id': 'BI', 'burned_area': 2829},\n",
       " {'_id': 'SO', 'burned_area': 1050},\n",
       " {'_id': 'IN', 'burned_area': 52164},\n",
       " {'_id': 'SB', 'burned_area': 38},\n",
       " {'_id': 'DO', 'burned_area': 758},\n",
       " {'_id': 'CH', 'burned_area': 8},\n",
       " {'_id': 'GE', 'burned_area': 1441},\n",
       " {'_id': 'NG', 'burned_area': 55898},\n",
       " {'_id': 'ZA', 'burned_area': 64746}]"
      ]
     },
     "execution_count": 57,
     "metadata": {},
     "output_type": "execute_result"
    }
   ],
   "source": [
    "list_date = list ()\n",
    "agg_result= mycol.aggregate(\n",
    "    [{\n",
    "    \"$group\" : \n",
    "        {\"_id\" : \"$country\", \n",
    "         \"burned_area\" : {\"$sum\" : 1}\n",
    "         }\n",
    "    }])\n",
    "for i in agg_result:\n",
    "    list_date.append(i)\n",
    "list_date"
   ]
  },
  {
   "cell_type": "code",
   "execution_count": 63,
   "metadata": {},
   "outputs": [
    {
     "data": {
      "text/html": [
       "<div>\n",
       "<style scoped>\n",
       "    .dataframe tbody tr th:only-of-type {\n",
       "        vertical-align: middle;\n",
       "    }\n",
       "\n",
       "    .dataframe tbody tr th {\n",
       "        vertical-align: top;\n",
       "    }\n",
       "\n",
       "    .dataframe thead th {\n",
       "        text-align: right;\n",
       "    }\n",
       "</style>\n",
       "<table border=\"1\" class=\"dataframe\">\n",
       "  <thead>\n",
       "    <tr style=\"text-align: right;\">\n",
       "      <th></th>\n",
       "      <th>_id</th>\n",
       "      <th>burned_area</th>\n",
       "    </tr>\n",
       "  </thead>\n",
       "  <tbody>\n",
       "    <tr>\n",
       "      <th>48</th>\n",
       "      <td>RU</td>\n",
       "      <td>379365</td>\n",
       "    </tr>\n",
       "    <tr>\n",
       "      <th>95</th>\n",
       "      <td>BR</td>\n",
       "      <td>297973</td>\n",
       "    </tr>\n",
       "    <tr>\n",
       "      <th>40</th>\n",
       "      <td>AU</td>\n",
       "      <td>231628</td>\n",
       "    </tr>\n",
       "    <tr>\n",
       "      <th>103</th>\n",
       "      <td>CD</td>\n",
       "      <td>144610</td>\n",
       "    </tr>\n",
       "    <tr>\n",
       "      <th>91</th>\n",
       "      <td>ZM</td>\n",
       "      <td>135869</td>\n",
       "    </tr>\n",
       "    <tr>\n",
       "      <th>...</th>\n",
       "      <td>...</td>\n",
       "      <td>...</td>\n",
       "    </tr>\n",
       "    <tr>\n",
       "      <th>118</th>\n",
       "      <td>YT</td>\n",
       "      <td>1</td>\n",
       "    </tr>\n",
       "    <tr>\n",
       "      <th>37</th>\n",
       "      <td>VI</td>\n",
       "      <td>1</td>\n",
       "    </tr>\n",
       "    <tr>\n",
       "      <th>175</th>\n",
       "      <td>CW</td>\n",
       "      <td>1</td>\n",
       "    </tr>\n",
       "    <tr>\n",
       "      <th>20</th>\n",
       "      <td>CV</td>\n",
       "      <td>1</td>\n",
       "    </tr>\n",
       "    <tr>\n",
       "      <th>12</th>\n",
       "      <td>DM</td>\n",
       "      <td>1</td>\n",
       "    </tr>\n",
       "  </tbody>\n",
       "</table>\n",
       "<p>190 rows × 2 columns</p>\n",
       "</div>"
      ],
      "text/plain": [
       "    _id  burned_area\n",
       "48   RU       379365\n",
       "95   BR       297973\n",
       "40   AU       231628\n",
       "103  CD       144610\n",
       "91   ZM       135869\n",
       "..   ..          ...\n",
       "118  YT            1\n",
       "37   VI            1\n",
       "175  CW            1\n",
       "20   CV            1\n",
       "12   DM            1\n",
       "\n",
       "[190 rows x 2 columns]"
      ]
     },
     "execution_count": 63,
     "metadata": {},
     "output_type": "execute_result"
    }
   ],
   "source": [
    "df_date = pd.DataFrame(list_date).sort_values(by=['burned_area'], ascending= False)\n",
    "df_date"
   ]
  },
  {
   "cell_type": "code",
   "execution_count": 64,
   "metadata": {},
   "outputs": [
    {
     "data": {
      "application/vnd.plotly.v1+json": {
       "config": {
        "plotlyServerURL": "https://plot.ly"
       },
       "data": [
        {
         "alignmentgroup": "True",
         "hovertemplate": "_id=%{x}<br>burned_area=%{y}<extra></extra>",
         "legendgroup": "",
         "marker": {
          "color": "#636efa",
          "pattern": {
           "shape": ""
          }
         },
         "name": "",
         "offsetgroup": "",
         "orientation": "v",
         "showlegend": false,
         "textposition": "auto",
         "type": "bar",
         "x": [
          "RU",
          "BR",
          "AU",
          "CD",
          "ZM",
          "AO",
          "US",
          "KZ",
          "TZ",
          "SS",
          "CF",
          "AR",
          "MG",
          "ZA",
          "MZ",
          "CN",
          "UA",
          "NG",
          "IN",
          "ML",
          "SD",
          "VE",
          "TD",
          "ZW",
          "ET",
          "BO",
          "TH",
          "MX",
          "CA",
          "GN",
          "NA",
          "CO",
          "CM",
          "ID",
          "PY",
          "MW",
          "BF",
          "CI",
          "UG",
          "BW",
          "MM",
          "GH",
          "CG",
          "SN",
          "TR",
          "RO",
          "BJ",
          "KH",
          "VN",
          "IT",
          "PG",
          "LA",
          "CU",
          "KE",
          "SL",
          "TG",
          "PE",
          "ES",
          "MN",
          "BG",
          "HN",
          "GT",
          "DZ",
          "PH",
          "GM",
          "BY",
          "GW",
          "CL",
          "SZ",
          "IR",
          "NI",
          "IQ",
          "AZ",
          "PT",
          "NP",
          "GY",
          "RS",
          "BI",
          "GA",
          "MY",
          "MD",
          "UZ",
          "GR",
          "LS",
          "HU",
          "PK",
          "KG",
          "UY",
          "SY",
          "GF",
          "LK",
          "NE",
          "SV",
          "KP",
          "GE",
          "CR",
          "PA",
          "TL",
          "PL",
          "HR",
          "EC",
          "BA",
          "ER",
          "MR",
          "AM",
          "AL",
          "SO",
          "BZ",
          "GB",
          "FJ",
          "MK",
          "TM",
          "FR",
          "AF",
          "DO",
          "LR",
          "TN",
          "EG",
          "LT",
          "RW",
          "SR",
          "MA",
          "LV",
          "BS",
          "ME",
          "JP",
          "SE",
          "HT",
          "XK",
          "NC",
          "FI",
          "SK",
          "BT",
          "KR",
          "NZ",
          "TJ",
          "IE",
          "VU",
          "NO",
          "JM",
          "EE",
          "CZ",
          "IL",
          "TT",
          "TW",
          "SA",
          "LB",
          "BD",
          "BN",
          "KM",
          "AT",
          "PR",
          "CY",
          "DE",
          "LY",
          "RE",
          "FK",
          "JO",
          "DK",
          "MU",
          "PS",
          "SB",
          "GU",
          "HK",
          "GL",
          "GQ",
          "NL",
          "IS",
          "SI",
          "BE",
          "MP",
          "GI",
          "BB",
          "KN",
          "CH",
          "DJ",
          "SG",
          "GP",
          "MS",
          "LC",
          "MQ",
          "ST",
          "AG",
          "YE",
          "MT",
          "YT",
          "VI",
          "CW",
          "CV",
          "DM"
         ],
         "xaxis": "x",
         "y": [
          379365,
          297973,
          231628,
          144610,
          135869,
          121719,
          100823,
          96544,
          85389,
          77883,
          71888,
          65644,
          65076,
          64746,
          59938,
          56139,
          55906,
          55898,
          52164,
          48554,
          46871,
          44191,
          42525,
          39956,
          39221,
          36339,
          34604,
          34124,
          32047,
          31912,
          31023,
          28371,
          28053,
          26109,
          22995,
          22140,
          21049,
          19516,
          18780,
          16261,
          15814,
          14868,
          14815,
          12676,
          12547,
          10540,
          10202,
          9585,
          8160,
          6936,
          6594,
          6541,
          6497,
          6390,
          6340,
          5824,
          5757,
          5621,
          5618,
          5581,
          5392,
          5056,
          5049,
          4896,
          4860,
          4772,
          4609,
          4604,
          4357,
          4220,
          3927,
          3522,
          3512,
          3274,
          3239,
          2968,
          2960,
          2829,
          2627,
          2572,
          2548,
          2502,
          2408,
          2267,
          2244,
          2210,
          2207,
          2044,
          1985,
          1781,
          1715,
          1702,
          1595,
          1557,
          1441,
          1368,
          1363,
          1318,
          1247,
          1216,
          1177,
          1166,
          1134,
          1118,
          1081,
          1077,
          1050,
          924,
          923,
          865,
          852,
          816,
          809,
          768,
          758,
          729,
          671,
          664,
          624,
          623,
          619,
          609,
          508,
          498,
          423,
          402,
          393,
          388,
          375,
          355,
          308,
          285,
          260,
          251,
          246,
          240,
          231,
          229,
          205,
          204,
          169,
          148,
          142,
          127,
          122,
          118,
          117,
          115,
          115,
          114,
          103,
          101,
          100,
          96,
          73,
          68,
          63,
          58,
          49,
          47,
          45,
          38,
          37,
          36,
          35,
          33,
          32,
          27,
          19,
          19,
          14,
          13,
          10,
          10,
          8,
          8,
          7,
          7,
          5,
          4,
          3,
          3,
          3,
          2,
          1,
          1,
          1,
          1,
          1,
          1
         ],
         "yaxis": "y"
        }
       ],
       "layout": {
        "barmode": "relative",
        "legend": {
         "tracegroupgap": 0
        },
        "template": {
         "data": {
          "bar": [
           {
            "error_x": {
             "color": "#2a3f5f"
            },
            "error_y": {
             "color": "#2a3f5f"
            },
            "marker": {
             "line": {
              "color": "#E5ECF6",
              "width": 0.5
             },
             "pattern": {
              "fillmode": "overlay",
              "size": 10,
              "solidity": 0.2
             }
            },
            "type": "bar"
           }
          ],
          "barpolar": [
           {
            "marker": {
             "line": {
              "color": "#E5ECF6",
              "width": 0.5
             },
             "pattern": {
              "fillmode": "overlay",
              "size": 10,
              "solidity": 0.2
             }
            },
            "type": "barpolar"
           }
          ],
          "carpet": [
           {
            "aaxis": {
             "endlinecolor": "#2a3f5f",
             "gridcolor": "white",
             "linecolor": "white",
             "minorgridcolor": "white",
             "startlinecolor": "#2a3f5f"
            },
            "baxis": {
             "endlinecolor": "#2a3f5f",
             "gridcolor": "white",
             "linecolor": "white",
             "minorgridcolor": "white",
             "startlinecolor": "#2a3f5f"
            },
            "type": "carpet"
           }
          ],
          "choropleth": [
           {
            "colorbar": {
             "outlinewidth": 0,
             "ticks": ""
            },
            "type": "choropleth"
           }
          ],
          "contour": [
           {
            "colorbar": {
             "outlinewidth": 0,
             "ticks": ""
            },
            "colorscale": [
             [
              0,
              "#0d0887"
             ],
             [
              0.1111111111111111,
              "#46039f"
             ],
             [
              0.2222222222222222,
              "#7201a8"
             ],
             [
              0.3333333333333333,
              "#9c179e"
             ],
             [
              0.4444444444444444,
              "#bd3786"
             ],
             [
              0.5555555555555556,
              "#d8576b"
             ],
             [
              0.6666666666666666,
              "#ed7953"
             ],
             [
              0.7777777777777778,
              "#fb9f3a"
             ],
             [
              0.8888888888888888,
              "#fdca26"
             ],
             [
              1,
              "#f0f921"
             ]
            ],
            "type": "contour"
           }
          ],
          "contourcarpet": [
           {
            "colorbar": {
             "outlinewidth": 0,
             "ticks": ""
            },
            "type": "contourcarpet"
           }
          ],
          "heatmap": [
           {
            "colorbar": {
             "outlinewidth": 0,
             "ticks": ""
            },
            "colorscale": [
             [
              0,
              "#0d0887"
             ],
             [
              0.1111111111111111,
              "#46039f"
             ],
             [
              0.2222222222222222,
              "#7201a8"
             ],
             [
              0.3333333333333333,
              "#9c179e"
             ],
             [
              0.4444444444444444,
              "#bd3786"
             ],
             [
              0.5555555555555556,
              "#d8576b"
             ],
             [
              0.6666666666666666,
              "#ed7953"
             ],
             [
              0.7777777777777778,
              "#fb9f3a"
             ],
             [
              0.8888888888888888,
              "#fdca26"
             ],
             [
              1,
              "#f0f921"
             ]
            ],
            "type": "heatmap"
           }
          ],
          "heatmapgl": [
           {
            "colorbar": {
             "outlinewidth": 0,
             "ticks": ""
            },
            "colorscale": [
             [
              0,
              "#0d0887"
             ],
             [
              0.1111111111111111,
              "#46039f"
             ],
             [
              0.2222222222222222,
              "#7201a8"
             ],
             [
              0.3333333333333333,
              "#9c179e"
             ],
             [
              0.4444444444444444,
              "#bd3786"
             ],
             [
              0.5555555555555556,
              "#d8576b"
             ],
             [
              0.6666666666666666,
              "#ed7953"
             ],
             [
              0.7777777777777778,
              "#fb9f3a"
             ],
             [
              0.8888888888888888,
              "#fdca26"
             ],
             [
              1,
              "#f0f921"
             ]
            ],
            "type": "heatmapgl"
           }
          ],
          "histogram": [
           {
            "marker": {
             "pattern": {
              "fillmode": "overlay",
              "size": 10,
              "solidity": 0.2
             }
            },
            "type": "histogram"
           }
          ],
          "histogram2d": [
           {
            "colorbar": {
             "outlinewidth": 0,
             "ticks": ""
            },
            "colorscale": [
             [
              0,
              "#0d0887"
             ],
             [
              0.1111111111111111,
              "#46039f"
             ],
             [
              0.2222222222222222,
              "#7201a8"
             ],
             [
              0.3333333333333333,
              "#9c179e"
             ],
             [
              0.4444444444444444,
              "#bd3786"
             ],
             [
              0.5555555555555556,
              "#d8576b"
             ],
             [
              0.6666666666666666,
              "#ed7953"
             ],
             [
              0.7777777777777778,
              "#fb9f3a"
             ],
             [
              0.8888888888888888,
              "#fdca26"
             ],
             [
              1,
              "#f0f921"
             ]
            ],
            "type": "histogram2d"
           }
          ],
          "histogram2dcontour": [
           {
            "colorbar": {
             "outlinewidth": 0,
             "ticks": ""
            },
            "colorscale": [
             [
              0,
              "#0d0887"
             ],
             [
              0.1111111111111111,
              "#46039f"
             ],
             [
              0.2222222222222222,
              "#7201a8"
             ],
             [
              0.3333333333333333,
              "#9c179e"
             ],
             [
              0.4444444444444444,
              "#bd3786"
             ],
             [
              0.5555555555555556,
              "#d8576b"
             ],
             [
              0.6666666666666666,
              "#ed7953"
             ],
             [
              0.7777777777777778,
              "#fb9f3a"
             ],
             [
              0.8888888888888888,
              "#fdca26"
             ],
             [
              1,
              "#f0f921"
             ]
            ],
            "type": "histogram2dcontour"
           }
          ],
          "mesh3d": [
           {
            "colorbar": {
             "outlinewidth": 0,
             "ticks": ""
            },
            "type": "mesh3d"
           }
          ],
          "parcoords": [
           {
            "line": {
             "colorbar": {
              "outlinewidth": 0,
              "ticks": ""
             }
            },
            "type": "parcoords"
           }
          ],
          "pie": [
           {
            "automargin": true,
            "type": "pie"
           }
          ],
          "scatter": [
           {
            "marker": {
             "colorbar": {
              "outlinewidth": 0,
              "ticks": ""
             }
            },
            "type": "scatter"
           }
          ],
          "scatter3d": [
           {
            "line": {
             "colorbar": {
              "outlinewidth": 0,
              "ticks": ""
             }
            },
            "marker": {
             "colorbar": {
              "outlinewidth": 0,
              "ticks": ""
             }
            },
            "type": "scatter3d"
           }
          ],
          "scattercarpet": [
           {
            "marker": {
             "colorbar": {
              "outlinewidth": 0,
              "ticks": ""
             }
            },
            "type": "scattercarpet"
           }
          ],
          "scattergeo": [
           {
            "marker": {
             "colorbar": {
              "outlinewidth": 0,
              "ticks": ""
             }
            },
            "type": "scattergeo"
           }
          ],
          "scattergl": [
           {
            "marker": {
             "colorbar": {
              "outlinewidth": 0,
              "ticks": ""
             }
            },
            "type": "scattergl"
           }
          ],
          "scattermapbox": [
           {
            "marker": {
             "colorbar": {
              "outlinewidth": 0,
              "ticks": ""
             }
            },
            "type": "scattermapbox"
           }
          ],
          "scatterpolar": [
           {
            "marker": {
             "colorbar": {
              "outlinewidth": 0,
              "ticks": ""
             }
            },
            "type": "scatterpolar"
           }
          ],
          "scatterpolargl": [
           {
            "marker": {
             "colorbar": {
              "outlinewidth": 0,
              "ticks": ""
             }
            },
            "type": "scatterpolargl"
           }
          ],
          "scatterternary": [
           {
            "marker": {
             "colorbar": {
              "outlinewidth": 0,
              "ticks": ""
             }
            },
            "type": "scatterternary"
           }
          ],
          "surface": [
           {
            "colorbar": {
             "outlinewidth": 0,
             "ticks": ""
            },
            "colorscale": [
             [
              0,
              "#0d0887"
             ],
             [
              0.1111111111111111,
              "#46039f"
             ],
             [
              0.2222222222222222,
              "#7201a8"
             ],
             [
              0.3333333333333333,
              "#9c179e"
             ],
             [
              0.4444444444444444,
              "#bd3786"
             ],
             [
              0.5555555555555556,
              "#d8576b"
             ],
             [
              0.6666666666666666,
              "#ed7953"
             ],
             [
              0.7777777777777778,
              "#fb9f3a"
             ],
             [
              0.8888888888888888,
              "#fdca26"
             ],
             [
              1,
              "#f0f921"
             ]
            ],
            "type": "surface"
           }
          ],
          "table": [
           {
            "cells": {
             "fill": {
              "color": "#EBF0F8"
             },
             "line": {
              "color": "white"
             }
            },
            "header": {
             "fill": {
              "color": "#C8D4E3"
             },
             "line": {
              "color": "white"
             }
            },
            "type": "table"
           }
          ]
         },
         "layout": {
          "annotationdefaults": {
           "arrowcolor": "#2a3f5f",
           "arrowhead": 0,
           "arrowwidth": 1
          },
          "autotypenumbers": "strict",
          "coloraxis": {
           "colorbar": {
            "outlinewidth": 0,
            "ticks": ""
           }
          },
          "colorscale": {
           "diverging": [
            [
             0,
             "#8e0152"
            ],
            [
             0.1,
             "#c51b7d"
            ],
            [
             0.2,
             "#de77ae"
            ],
            [
             0.3,
             "#f1b6da"
            ],
            [
             0.4,
             "#fde0ef"
            ],
            [
             0.5,
             "#f7f7f7"
            ],
            [
             0.6,
             "#e6f5d0"
            ],
            [
             0.7,
             "#b8e186"
            ],
            [
             0.8,
             "#7fbc41"
            ],
            [
             0.9,
             "#4d9221"
            ],
            [
             1,
             "#276419"
            ]
           ],
           "sequential": [
            [
             0,
             "#0d0887"
            ],
            [
             0.1111111111111111,
             "#46039f"
            ],
            [
             0.2222222222222222,
             "#7201a8"
            ],
            [
             0.3333333333333333,
             "#9c179e"
            ],
            [
             0.4444444444444444,
             "#bd3786"
            ],
            [
             0.5555555555555556,
             "#d8576b"
            ],
            [
             0.6666666666666666,
             "#ed7953"
            ],
            [
             0.7777777777777778,
             "#fb9f3a"
            ],
            [
             0.8888888888888888,
             "#fdca26"
            ],
            [
             1,
             "#f0f921"
            ]
           ],
           "sequentialminus": [
            [
             0,
             "#0d0887"
            ],
            [
             0.1111111111111111,
             "#46039f"
            ],
            [
             0.2222222222222222,
             "#7201a8"
            ],
            [
             0.3333333333333333,
             "#9c179e"
            ],
            [
             0.4444444444444444,
             "#bd3786"
            ],
            [
             0.5555555555555556,
             "#d8576b"
            ],
            [
             0.6666666666666666,
             "#ed7953"
            ],
            [
             0.7777777777777778,
             "#fb9f3a"
            ],
            [
             0.8888888888888888,
             "#fdca26"
            ],
            [
             1,
             "#f0f921"
            ]
           ]
          },
          "colorway": [
           "#636efa",
           "#EF553B",
           "#00cc96",
           "#ab63fa",
           "#FFA15A",
           "#19d3f3",
           "#FF6692",
           "#B6E880",
           "#FF97FF",
           "#FECB52"
          ],
          "font": {
           "color": "#2a3f5f"
          },
          "geo": {
           "bgcolor": "white",
           "lakecolor": "white",
           "landcolor": "#E5ECF6",
           "showlakes": true,
           "showland": true,
           "subunitcolor": "white"
          },
          "hoverlabel": {
           "align": "left"
          },
          "hovermode": "closest",
          "mapbox": {
           "style": "light"
          },
          "paper_bgcolor": "white",
          "plot_bgcolor": "#E5ECF6",
          "polar": {
           "angularaxis": {
            "gridcolor": "white",
            "linecolor": "white",
            "ticks": ""
           },
           "bgcolor": "#E5ECF6",
           "radialaxis": {
            "gridcolor": "white",
            "linecolor": "white",
            "ticks": ""
           }
          },
          "scene": {
           "xaxis": {
            "backgroundcolor": "#E5ECF6",
            "gridcolor": "white",
            "gridwidth": 2,
            "linecolor": "white",
            "showbackground": true,
            "ticks": "",
            "zerolinecolor": "white"
           },
           "yaxis": {
            "backgroundcolor": "#E5ECF6",
            "gridcolor": "white",
            "gridwidth": 2,
            "linecolor": "white",
            "showbackground": true,
            "ticks": "",
            "zerolinecolor": "white"
           },
           "zaxis": {
            "backgroundcolor": "#E5ECF6",
            "gridcolor": "white",
            "gridwidth": 2,
            "linecolor": "white",
            "showbackground": true,
            "ticks": "",
            "zerolinecolor": "white"
           }
          },
          "shapedefaults": {
           "line": {
            "color": "#2a3f5f"
           }
          },
          "ternary": {
           "aaxis": {
            "gridcolor": "white",
            "linecolor": "white",
            "ticks": ""
           },
           "baxis": {
            "gridcolor": "white",
            "linecolor": "white",
            "ticks": ""
           },
           "bgcolor": "#E5ECF6",
           "caxis": {
            "gridcolor": "white",
            "linecolor": "white",
            "ticks": ""
           }
          },
          "title": {
           "x": 0.05
          },
          "xaxis": {
           "automargin": true,
           "gridcolor": "white",
           "linecolor": "white",
           "ticks": "",
           "title": {
            "standoff": 15
           },
           "zerolinecolor": "white",
           "zerolinewidth": 2
          },
          "yaxis": {
           "automargin": true,
           "gridcolor": "white",
           "linecolor": "white",
           "ticks": "",
           "title": {
            "standoff": 15
           },
           "zerolinecolor": "white",
           "zerolinewidth": 2
          }
         }
        },
        "title": {
         "text": "Life expectancy in Canada"
        },
        "xaxis": {
         "anchor": "y",
         "domain": [
          0,
          1
         ],
         "title": {
          "text": "_id"
         }
        },
        "yaxis": {
         "anchor": "x",
         "domain": [
          0,
          1
         ],
         "title": {
          "text": "burned_area"
         }
        }
       }
      }
     },
     "metadata": {},
     "output_type": "display_data"
    }
   ],
   "source": [
    "fig = px.bar(df_date, x=\"_id\", y=\"burned_area\", title='Life expectancy in Canada')\n",
    "fig.show()"
   ]
  },
  {
   "cell_type": "code",
   "execution_count": null,
   "metadata": {},
   "outputs": [],
   "source": [
    "# Summe der Verbranten Fläche ->  pro Vegetatoionstyp\n",
    "# Waterfall Diagramm"
   ]
  },
  {
   "cell_type": "code",
   "execution_count": null,
   "metadata": {},
   "outputs": [],
   "source": [
    "# Abfrage EU Länder\n",
    "# Umwandlung in Dataframe"
   ]
  },
  {
   "cell_type": "code",
   "execution_count": null,
   "metadata": {},
   "outputs": [],
   "source": [
    "#list(db.users.find({\"document_up.tags\":{\"$in\":[\"solide\"]}}))"
   ]
  }
 ],
 "metadata": {
  "kernelspec": {
   "display_name": "Python 3.7.11 ('base')",
   "language": "python",
   "name": "python3"
  },
  "language_info": {
   "codemirror_mode": {
    "name": "ipython",
    "version": 3
   },
   "file_extension": ".py",
   "mimetype": "text/x-python",
   "name": "python",
   "nbconvert_exporter": "python",
   "pygments_lexer": "ipython3",
   "version": "3.7.11"
  },
  "orig_nbformat": 4,
  "vscode": {
   "interpreter": {
    "hash": "df5c7b8ffaedf80dec2b70b09605990d7e0e1b6bc745b497330e86cbe58a738e"
   }
  }
 },
 "nbformat": 4,
 "nbformat_minor": 2
}
