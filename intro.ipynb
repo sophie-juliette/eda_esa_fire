{
 "cells": [
  {
   "cell_type": "markdown",
   "metadata": {},
   "source": [
    "# ESA Fire Climate Change Initiative"
   ]
  },
  {
   "cell_type": "markdown",
   "metadata": {},
   "source": [
    "## Einleitung"
   ]
  },
  {
   "cell_type": "markdown",
   "metadata": {},
   "source": [
    "![Sächsische Schweiz](doc/saechsische_schweiz.jpg)\n",
    "\n",
    "*Waldbrand Sächsische Schweiz [1]*"
   ]
  },
  {
   "cell_type": "markdown",
   "metadata": {},
   "source": [
    "Seit Juli sind hunderte Einsatzkräfte damit beschäftigt Waldbrände in Sachsen und Brandenburg zu bekämpfen. Auch wenn Waldbrände meist durch fahrlässiges Handeln oder Brandstiftung verursacht werden, ist die steigende Waldbrandgefahr eine Folge des Klimawandels [2]. Um die Entwicklung genauer nachvollziehen zu können, soll in dieser Projektarbeit Daten zum Waldbrandgeschehen betracht werden. "
   ]
  },
  {
   "cell_type": "markdown",
   "metadata": {},
   "source": [
    "Das Open Dataset zu den Waldbränden stammt von Website der „ESA Climate Change Initiative“ [3]. Auf der Seite stehen vorverarbeitet Daten eines \"Moderate-resolution Imaging Spectroradiometers\" (MODIS) zur Verfügung. \n",
    "Die Daten liegen im .nc-Format (Network Common Data Format) vor und enthalten pro Rasterzelle (Auflösung 0,25° x 0,25°) der Aufnahme Informationen z.B. zur insgesamt verbrannten Fläche.  \n"
   ]
  },
  {
   "cell_type": "markdown",
   "metadata": {},
   "source": [
    "![Dateien](doc/dateien.jpg)\n",
    "\n",
    "*Download-Bereich ESA Climate Change Initiative*"
   ]
  },
  {
   "cell_type": "markdown",
   "metadata": {},
   "source": [
    "Ziel der Projektarbeit ist es, ein Teil dieser Daten durch die Nutzung von ``numpy`` und ``pandas`` umzuformatieren, in eine Datenbank zu überführen und auf dieser Basis gezielter Abfragen explorative Analysen durchzuführen (siehe [Vorgehensweise](#Vorgehensweise)). "
   ]
  },
  {
   "cell_type": "markdown",
   "metadata": {},
   "source": [
    "## Erste Schritte"
   ]
  },
  {
   "cell_type": "code",
   "execution_count": 1,
   "metadata": {},
   "outputs": [],
   "source": [
    "import netCDF4 as nc\n",
    "import pandas as pd\n",
    "import numpy as np\n",
    "import plotly.graph_objects as go\n",
    "\n",
    "import warnings\n",
    "warnings.filterwarnings('ignore')\n"
   ]
  },
  {
   "cell_type": "code",
   "execution_count": 2,
   "metadata": {},
   "outputs": [],
   "source": [
    "fn = 'data/20160107-ESACCI-L4_FIRE-BA-MODIS-fv5.0.nc'\n",
    "ds = nc.Dataset(fn)"
   ]
  },
  {
   "cell_type": "markdown",
   "metadata": {},
   "source": [
    "Zum Einlesen des Dateiformats wird die „netCDF4“ Bibliothek benötigt. "
   ]
  },
  {
   "cell_type": "markdown",
   "metadata": {},
   "source": [
    "### Übersicht Variablen"
   ]
  },
  {
   "cell_type": "markdown",
   "metadata": {},
   "source": [
    "Folgende Variablen sind in dem Datensatz erhalten: "
   ]
  },
  {
   "cell_type": "code",
   "execution_count": 3,
   "metadata": {},
   "outputs": [
    {
     "data": {
      "text/plain": [
       "['lat',\n",
       " 'lat_bnds',\n",
       " 'lon',\n",
       " 'lon_bnds',\n",
       " 'time',\n",
       " 'time_bnds',\n",
       " 'vegetation_class',\n",
       " 'vegetation_class_name',\n",
       " 'burned_area',\n",
       " 'standard_error',\n",
       " 'fraction_of_burnable_area',\n",
       " 'fraction_of_observed_area',\n",
       " 'number_of_patches',\n",
       " 'burned_area_in_vegetation_class']"
      ]
     },
     "execution_count": 3,
     "metadata": {},
     "output_type": "execute_result"
    }
   ],
   "source": [
    "list_variables = list()\n",
    "for var in ds.variables:\n",
    "    list_variables.append(var)\n",
    "list_variables"
   ]
  },
  {
   "cell_type": "code",
   "execution_count": 4,
   "metadata": {},
   "outputs": [
    {
     "name": "stdout",
     "output_type": "stream",
     "text": [
      " Variable lat mit Shape (720,)\n",
      " Variable lat_bnds mit Shape (720, 2)\n",
      " Variable lon mit Shape (1440,)\n",
      " Variable lon_bnds mit Shape (1440, 2)\n",
      " Variable time mit Shape (1,)\n",
      " Variable time_bnds mit Shape (1, 2)\n",
      " Variable vegetation_class mit Shape (18,)\n",
      " Variable vegetation_class_name mit Shape (18, 150)\n",
      " Variable burned_area mit Shape (1, 720, 1440)\n",
      " Variable standard_error mit Shape (1, 720, 1440)\n",
      " Variable fraction_of_burnable_area mit Shape (1, 720, 1440)\n",
      " Variable fraction_of_observed_area mit Shape (1, 720, 1440)\n",
      " Variable number_of_patches mit Shape (1, 720, 1440)\n",
      " Variable burned_area_in_vegetation_class mit Shape (1, 18, 720, 1440)\n"
     ]
    }
   ],
   "source": [
    "#explore variables\n",
    "for var in list_variables: \n",
    "    array = ds[var][:]\n",
    "    print(f\" Variable {var} mit Shape {array.shape}\")"
   ]
  },
  {
   "cell_type": "markdown",
   "metadata": {},
   "source": [
    "Die verschiedenen Werte der Variablen sind in unterschiedlich dimensionalen Arrays gespeichert. Dies muss für die weitere Verarbeitung berücksichtigt werden. "
   ]
  }
 ],
 "metadata": {
  "kernelspec": {
   "display_name": "Python 3.7.11 ('base')",
   "language": "python",
   "name": "python3"
  },
  "language_info": {
   "codemirror_mode": {
    "name": "ipython",
    "version": 3
   },
   "file_extension": ".py",
   "mimetype": "text/x-python",
   "name": "python",
   "nbconvert_exporter": "python",
   "pygments_lexer": "ipython3",
   "version": "3.7.11"
  },
  "orig_nbformat": 4,
  "vscode": {
   "interpreter": {
    "hash": "df5c7b8ffaedf80dec2b70b09605990d7e0e1b6bc745b497330e86cbe58a738e"
   }
  }
 },
 "nbformat": 4,
 "nbformat_minor": 2
}
