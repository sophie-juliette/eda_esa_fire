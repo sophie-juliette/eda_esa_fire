{
 "cells": [
  {
   "cell_type": "code",
   "execution_count": 1,
   "metadata": {},
   "outputs": [],
   "source": [
    "import netCDF4 as nc\n",
    "import pandas as pd\n",
    "import numpy as np\n",
    "import plotly.graph_objects as go\n",
    "import reverse_geocoder as rg\n",
    "import psycopg2 \n",
    "from sqlalchemy import create_engine\n",
    "import json\n",
    "from pymongo import MongoClient\n",
    "import warnings\n",
    "warnings.filterwarnings('ignore')"
   ]
  },
  {
   "cell_type": "code",
   "execution_count": 2,
   "metadata": {},
   "outputs": [],
   "source": [
    "def create_geoframe(dataset):\n",
    "    lat = dataset['lat'][:]\n",
    "    lon = dataset['lon'][:]\n",
    "    lons, lats = np.meshgrid(lon, lat)\n",
    "    lons_flatt = lons.flatten()\n",
    "    lats_flatt = lats.flatten()\n",
    "    whole_world = {\n",
    "    'lon': lons_flatt, \n",
    "    'lat': lats_flatt, }\n",
    "    geoframe = pd.DataFrame(whole_world)\n",
    "    return geoframe"
   ]
  },
  {
   "cell_type": "code",
   "execution_count": 3,
   "metadata": {},
   "outputs": [],
   "source": [
    "def create_column(dataset,name_variable):\n",
    "    df_temp = pd.DataFrame()\n",
    "    variable = dataset[name_variable][:]\n",
    "    variable = variable[0]\n",
    "    variable_flatt = variable.flatten()\n",
    "    df_temp[name_variable] = variable_flatt\n",
    "    return df_temp"
   ]
  },
  {
   "cell_type": "code",
   "execution_count": 4,
   "metadata": {},
   "outputs": [],
   "source": [
    "def add_country(dataframe):\n",
    "    coords = tuple(zip(dataframe['lat'], dataframe['lon']))\n",
    "    results_rg = rg.search(coords)\n",
    "    results_admin2 = [x.get('cc') for x in results_rg]\n",
    "    dataframe['country'] = results_admin2\n",
    "    return dataframe"
   ]
  },
  {
   "cell_type": "code",
   "execution_count": 5,
   "metadata": {},
   "outputs": [],
   "source": [
    "def create_vegetation_class_breakdown(dataset):\n",
    "    burned_area_in_vegetation_class= dataset['burned_area_in_vegetation_class'][:][0]\n",
    "    i_vegetation_class = 10 \n",
    "    df_temp = pd.DataFrame()\n",
    "    for burned_area_per_veg_class in burned_area_in_vegetation_class:\n",
    "        s_vegetation_class= f\"{i_vegetation_class}_burned_area\"\n",
    "        burned_area_per_veg_class_flatt= burned_area_per_veg_class.flatten()\n",
    "        df_temp[s_vegetation_class] = burned_area_per_veg_class_flatt\n",
    "        i_vegetation_class= i_vegetation_class + 10\n",
    "    df_temp['cropland_burned_area'] = df_temp['20_burned_area'] + df_temp['30_burned_area'] + df_temp['40_burned_area']\n",
    "    df_temp['mosaic_tree_grass_burned_area'] = df_temp['100_burned_area'] + df_temp['100_burned_area']\n",
    "    df_temp['other_vegetation_burned_area']= df_temp['120_burned_area'] + df_temp['130_burned_area'] + df_temp['140_burned_area']+ df_temp['150_burned_area']\n",
    "    df_temp['flooded_area_burned_area']= df_temp['160_burned_area'] + df_temp['170_burned_area'] + df_temp['180_burned_area']\n",
    "    df_temp.drop(columns=['20_burned_area','30_burned_area','40_burned_area','100_burned_area','110_burned_area','120_burned_area', '130_burned_area', '140_burned_area', '150_burned_area','160_burned_area','170_burned_area','180_burned_area'], inplace=True)\n",
    "    replace_names={ '10_burned_area': 'no_data' + \"_burned_area\",\n",
    "            '50_burned_area': 'tree_cover_broadleaved_evergreen' + \"_burned_area\",\n",
    "            '60_burned_area': 'tree_cover_broadleaved_deciduous' + \"_burned_area\", \n",
    "            '70_burned_area': 'tree_cover_needleleaved_evergreen' + \"_burned_area\", \n",
    "            '80_burned_area': 'tree_cover_needleleaved_deciduous' + \"_burned_area\", \n",
    "            '90_burned_area': 'tree_cover_mixed_leave' + \"_burned_area\", }\n",
    "    df_temp.rename(columns = replace_names, inplace = True)\n",
    "    return df_temp"
   ]
  },
  {
   "cell_type": "code",
   "execution_count": 6,
   "metadata": {},
   "outputs": [
    {
     "name": "stdout",
     "output_type": "stream",
     "text": [
      "Loading formatted geocoded file...\n"
     ]
    },
    {
     "data": {
      "text/html": [
       "<div>\n",
       "<style scoped>\n",
       "    .dataframe tbody tr th:only-of-type {\n",
       "        vertical-align: middle;\n",
       "    }\n",
       "\n",
       "    .dataframe tbody tr th {\n",
       "        vertical-align: top;\n",
       "    }\n",
       "\n",
       "    .dataframe thead th {\n",
       "        text-align: right;\n",
       "    }\n",
       "</style>\n",
       "<table border=\"1\" class=\"dataframe\">\n",
       "  <thead>\n",
       "    <tr style=\"text-align: right;\">\n",
       "      <th></th>\n",
       "      <th>lon</th>\n",
       "      <th>lat</th>\n",
       "      <th>country</th>\n",
       "    </tr>\n",
       "  </thead>\n",
       "  <tbody>\n",
       "    <tr>\n",
       "      <th>0</th>\n",
       "      <td>-179.875</td>\n",
       "      <td>89.875</td>\n",
       "      <td>RU</td>\n",
       "    </tr>\n",
       "    <tr>\n",
       "      <th>1</th>\n",
       "      <td>-179.625</td>\n",
       "      <td>89.875</td>\n",
       "      <td>RU</td>\n",
       "    </tr>\n",
       "    <tr>\n",
       "      <th>2</th>\n",
       "      <td>-179.375</td>\n",
       "      <td>89.875</td>\n",
       "      <td>RU</td>\n",
       "    </tr>\n",
       "    <tr>\n",
       "      <th>3</th>\n",
       "      <td>-179.125</td>\n",
       "      <td>89.875</td>\n",
       "      <td>RU</td>\n",
       "    </tr>\n",
       "    <tr>\n",
       "      <th>4</th>\n",
       "      <td>-178.875</td>\n",
       "      <td>89.875</td>\n",
       "      <td>RU</td>\n",
       "    </tr>\n",
       "    <tr>\n",
       "      <th>...</th>\n",
       "      <td>...</td>\n",
       "      <td>...</td>\n",
       "      <td>...</td>\n",
       "    </tr>\n",
       "    <tr>\n",
       "      <th>1036795</th>\n",
       "      <td>178.875</td>\n",
       "      <td>-89.875</td>\n",
       "      <td>AQ</td>\n",
       "    </tr>\n",
       "    <tr>\n",
       "      <th>1036796</th>\n",
       "      <td>179.125</td>\n",
       "      <td>-89.875</td>\n",
       "      <td>AQ</td>\n",
       "    </tr>\n",
       "    <tr>\n",
       "      <th>1036797</th>\n",
       "      <td>179.375</td>\n",
       "      <td>-89.875</td>\n",
       "      <td>AQ</td>\n",
       "    </tr>\n",
       "    <tr>\n",
       "      <th>1036798</th>\n",
       "      <td>179.625</td>\n",
       "      <td>-89.875</td>\n",
       "      <td>AQ</td>\n",
       "    </tr>\n",
       "    <tr>\n",
       "      <th>1036799</th>\n",
       "      <td>179.875</td>\n",
       "      <td>-89.875</td>\n",
       "      <td>AQ</td>\n",
       "    </tr>\n",
       "  </tbody>\n",
       "</table>\n",
       "<p>1036800 rows × 3 columns</p>\n",
       "</div>"
      ],
      "text/plain": [
       "             lon     lat country\n",
       "0       -179.875  89.875      RU\n",
       "1       -179.625  89.875      RU\n",
       "2       -179.375  89.875      RU\n",
       "3       -179.125  89.875      RU\n",
       "4       -178.875  89.875      RU\n",
       "...          ...     ...     ...\n",
       "1036795  178.875 -89.875      AQ\n",
       "1036796  179.125 -89.875      AQ\n",
       "1036797  179.375 -89.875      AQ\n",
       "1036798  179.625 -89.875      AQ\n",
       "1036799  179.875 -89.875      AQ\n",
       "\n",
       "[1036800 rows x 3 columns]"
      ]
     },
     "execution_count": 6,
     "metadata": {},
     "output_type": "execute_result"
    }
   ],
   "source": [
    "file = \"data/MODIS_20010101.nc\"\n",
    "ds = nc.Dataset(file)\n",
    "df_data = create_geoframe(ds)\n",
    "df_data = add_country(df_data)\n",
    "df_data"
   ]
  },
  {
   "cell_type": "code",
   "execution_count": 7,
   "metadata": {},
   "outputs": [],
   "source": [
    "df_all_data = pd.concat([df_data,\n",
    "            create_column(ds, 'burned_area'),\n",
    "            create_column(ds, 'standard_error'),\n",
    "            create_column(ds,'fraction_of_burnable_area'),\n",
    "            create_column(ds,'fraction_of_observed_area'),\n",
    "            create_column(ds, 'number_of_patches'),\n",
    "            create_vegetation_class_breakdown(ds)], axis = 1, sort = False) "
   ]
  },
  {
   "cell_type": "code",
   "execution_count": 8,
   "metadata": {},
   "outputs": [],
   "source": [
    "date = file[-11:-7] + \"-\" + file[-7:-5] + \"-\" + file[-5:-3]\n",
    "df_all_data['date'] = date"
   ]
  },
  {
   "cell_type": "code",
   "execution_count": 9,
   "metadata": {},
   "outputs": [
    {
     "data": {
      "text/html": [
       "<div>\n",
       "<style scoped>\n",
       "    .dataframe tbody tr th:only-of-type {\n",
       "        vertical-align: middle;\n",
       "    }\n",
       "\n",
       "    .dataframe tbody tr th {\n",
       "        vertical-align: top;\n",
       "    }\n",
       "\n",
       "    .dataframe thead th {\n",
       "        text-align: right;\n",
       "    }\n",
       "</style>\n",
       "<table border=\"1\" class=\"dataframe\">\n",
       "  <thead>\n",
       "    <tr style=\"text-align: right;\">\n",
       "      <th></th>\n",
       "      <th>lon</th>\n",
       "      <th>lat</th>\n",
       "      <th>country</th>\n",
       "      <th>burned_area</th>\n",
       "      <th>standard_error</th>\n",
       "      <th>fraction_of_burnable_area</th>\n",
       "      <th>fraction_of_observed_area</th>\n",
       "      <th>number_of_patches</th>\n",
       "      <th>no_data_burned_area</th>\n",
       "      <th>tree_cover_broadleaved_evergreen_burned_area</th>\n",
       "      <th>tree_cover_broadleaved_deciduous_burned_area</th>\n",
       "      <th>tree_cover_needleleaved_evergreen_burned_area</th>\n",
       "      <th>tree_cover_needleleaved_deciduous_burned_area</th>\n",
       "      <th>tree_cover_mixed_leave_burned_area</th>\n",
       "      <th>cropland_burned_area</th>\n",
       "      <th>mosaic_tree_grass_burned_area</th>\n",
       "      <th>other_vegetation_burned_area</th>\n",
       "      <th>flooded_area_burned_area</th>\n",
       "      <th>date</th>\n",
       "    </tr>\n",
       "  </thead>\n",
       "  <tbody>\n",
       "    <tr>\n",
       "      <th>0</th>\n",
       "      <td>-179.875</td>\n",
       "      <td>89.875</td>\n",
       "      <td>RU</td>\n",
       "      <td>0.0</td>\n",
       "      <td>0.0</td>\n",
       "      <td>0.0</td>\n",
       "      <td>0.0</td>\n",
       "      <td>0.0</td>\n",
       "      <td>0.0</td>\n",
       "      <td>0.0</td>\n",
       "      <td>0.0</td>\n",
       "      <td>0.0</td>\n",
       "      <td>0.0</td>\n",
       "      <td>0.0</td>\n",
       "      <td>0.0</td>\n",
       "      <td>0.0</td>\n",
       "      <td>0.0</td>\n",
       "      <td>0.0</td>\n",
       "      <td>2001-01-01</td>\n",
       "    </tr>\n",
       "    <tr>\n",
       "      <th>1</th>\n",
       "      <td>-179.625</td>\n",
       "      <td>89.875</td>\n",
       "      <td>RU</td>\n",
       "      <td>0.0</td>\n",
       "      <td>0.0</td>\n",
       "      <td>0.0</td>\n",
       "      <td>0.0</td>\n",
       "      <td>0.0</td>\n",
       "      <td>0.0</td>\n",
       "      <td>0.0</td>\n",
       "      <td>0.0</td>\n",
       "      <td>0.0</td>\n",
       "      <td>0.0</td>\n",
       "      <td>0.0</td>\n",
       "      <td>0.0</td>\n",
       "      <td>0.0</td>\n",
       "      <td>0.0</td>\n",
       "      <td>0.0</td>\n",
       "      <td>2001-01-01</td>\n",
       "    </tr>\n",
       "    <tr>\n",
       "      <th>2</th>\n",
       "      <td>-179.375</td>\n",
       "      <td>89.875</td>\n",
       "      <td>RU</td>\n",
       "      <td>0.0</td>\n",
       "      <td>0.0</td>\n",
       "      <td>0.0</td>\n",
       "      <td>0.0</td>\n",
       "      <td>0.0</td>\n",
       "      <td>0.0</td>\n",
       "      <td>0.0</td>\n",
       "      <td>0.0</td>\n",
       "      <td>0.0</td>\n",
       "      <td>0.0</td>\n",
       "      <td>0.0</td>\n",
       "      <td>0.0</td>\n",
       "      <td>0.0</td>\n",
       "      <td>0.0</td>\n",
       "      <td>0.0</td>\n",
       "      <td>2001-01-01</td>\n",
       "    </tr>\n",
       "    <tr>\n",
       "      <th>3</th>\n",
       "      <td>-179.125</td>\n",
       "      <td>89.875</td>\n",
       "      <td>RU</td>\n",
       "      <td>0.0</td>\n",
       "      <td>0.0</td>\n",
       "      <td>0.0</td>\n",
       "      <td>0.0</td>\n",
       "      <td>0.0</td>\n",
       "      <td>0.0</td>\n",
       "      <td>0.0</td>\n",
       "      <td>0.0</td>\n",
       "      <td>0.0</td>\n",
       "      <td>0.0</td>\n",
       "      <td>0.0</td>\n",
       "      <td>0.0</td>\n",
       "      <td>0.0</td>\n",
       "      <td>0.0</td>\n",
       "      <td>0.0</td>\n",
       "      <td>2001-01-01</td>\n",
       "    </tr>\n",
       "    <tr>\n",
       "      <th>4</th>\n",
       "      <td>-178.875</td>\n",
       "      <td>89.875</td>\n",
       "      <td>RU</td>\n",
       "      <td>0.0</td>\n",
       "      <td>0.0</td>\n",
       "      <td>0.0</td>\n",
       "      <td>0.0</td>\n",
       "      <td>0.0</td>\n",
       "      <td>0.0</td>\n",
       "      <td>0.0</td>\n",
       "      <td>0.0</td>\n",
       "      <td>0.0</td>\n",
       "      <td>0.0</td>\n",
       "      <td>0.0</td>\n",
       "      <td>0.0</td>\n",
       "      <td>0.0</td>\n",
       "      <td>0.0</td>\n",
       "      <td>0.0</td>\n",
       "      <td>2001-01-01</td>\n",
       "    </tr>\n",
       "    <tr>\n",
       "      <th>...</th>\n",
       "      <td>...</td>\n",
       "      <td>...</td>\n",
       "      <td>...</td>\n",
       "      <td>...</td>\n",
       "      <td>...</td>\n",
       "      <td>...</td>\n",
       "      <td>...</td>\n",
       "      <td>...</td>\n",
       "      <td>...</td>\n",
       "      <td>...</td>\n",
       "      <td>...</td>\n",
       "      <td>...</td>\n",
       "      <td>...</td>\n",
       "      <td>...</td>\n",
       "      <td>...</td>\n",
       "      <td>...</td>\n",
       "      <td>...</td>\n",
       "      <td>...</td>\n",
       "      <td>...</td>\n",
       "    </tr>\n",
       "    <tr>\n",
       "      <th>1036795</th>\n",
       "      <td>178.875</td>\n",
       "      <td>-89.875</td>\n",
       "      <td>AQ</td>\n",
       "      <td>0.0</td>\n",
       "      <td>0.0</td>\n",
       "      <td>0.0</td>\n",
       "      <td>0.0</td>\n",
       "      <td>0.0</td>\n",
       "      <td>0.0</td>\n",
       "      <td>0.0</td>\n",
       "      <td>0.0</td>\n",
       "      <td>0.0</td>\n",
       "      <td>0.0</td>\n",
       "      <td>0.0</td>\n",
       "      <td>0.0</td>\n",
       "      <td>0.0</td>\n",
       "      <td>0.0</td>\n",
       "      <td>0.0</td>\n",
       "      <td>2001-01-01</td>\n",
       "    </tr>\n",
       "    <tr>\n",
       "      <th>1036796</th>\n",
       "      <td>179.125</td>\n",
       "      <td>-89.875</td>\n",
       "      <td>AQ</td>\n",
       "      <td>0.0</td>\n",
       "      <td>0.0</td>\n",
       "      <td>0.0</td>\n",
       "      <td>0.0</td>\n",
       "      <td>0.0</td>\n",
       "      <td>0.0</td>\n",
       "      <td>0.0</td>\n",
       "      <td>0.0</td>\n",
       "      <td>0.0</td>\n",
       "      <td>0.0</td>\n",
       "      <td>0.0</td>\n",
       "      <td>0.0</td>\n",
       "      <td>0.0</td>\n",
       "      <td>0.0</td>\n",
       "      <td>0.0</td>\n",
       "      <td>2001-01-01</td>\n",
       "    </tr>\n",
       "    <tr>\n",
       "      <th>1036797</th>\n",
       "      <td>179.375</td>\n",
       "      <td>-89.875</td>\n",
       "      <td>AQ</td>\n",
       "      <td>0.0</td>\n",
       "      <td>0.0</td>\n",
       "      <td>0.0</td>\n",
       "      <td>0.0</td>\n",
       "      <td>0.0</td>\n",
       "      <td>0.0</td>\n",
       "      <td>0.0</td>\n",
       "      <td>0.0</td>\n",
       "      <td>0.0</td>\n",
       "      <td>0.0</td>\n",
       "      <td>0.0</td>\n",
       "      <td>0.0</td>\n",
       "      <td>0.0</td>\n",
       "      <td>0.0</td>\n",
       "      <td>0.0</td>\n",
       "      <td>2001-01-01</td>\n",
       "    </tr>\n",
       "    <tr>\n",
       "      <th>1036798</th>\n",
       "      <td>179.625</td>\n",
       "      <td>-89.875</td>\n",
       "      <td>AQ</td>\n",
       "      <td>0.0</td>\n",
       "      <td>0.0</td>\n",
       "      <td>0.0</td>\n",
       "      <td>0.0</td>\n",
       "      <td>0.0</td>\n",
       "      <td>0.0</td>\n",
       "      <td>0.0</td>\n",
       "      <td>0.0</td>\n",
       "      <td>0.0</td>\n",
       "      <td>0.0</td>\n",
       "      <td>0.0</td>\n",
       "      <td>0.0</td>\n",
       "      <td>0.0</td>\n",
       "      <td>0.0</td>\n",
       "      <td>0.0</td>\n",
       "      <td>2001-01-01</td>\n",
       "    </tr>\n",
       "    <tr>\n",
       "      <th>1036799</th>\n",
       "      <td>179.875</td>\n",
       "      <td>-89.875</td>\n",
       "      <td>AQ</td>\n",
       "      <td>0.0</td>\n",
       "      <td>0.0</td>\n",
       "      <td>0.0</td>\n",
       "      <td>0.0</td>\n",
       "      <td>0.0</td>\n",
       "      <td>0.0</td>\n",
       "      <td>0.0</td>\n",
       "      <td>0.0</td>\n",
       "      <td>0.0</td>\n",
       "      <td>0.0</td>\n",
       "      <td>0.0</td>\n",
       "      <td>0.0</td>\n",
       "      <td>0.0</td>\n",
       "      <td>0.0</td>\n",
       "      <td>0.0</td>\n",
       "      <td>2001-01-01</td>\n",
       "    </tr>\n",
       "  </tbody>\n",
       "</table>\n",
       "<p>1036800 rows × 19 columns</p>\n",
       "</div>"
      ],
      "text/plain": [
       "             lon     lat country  burned_area  standard_error  \\\n",
       "0       -179.875  89.875      RU          0.0             0.0   \n",
       "1       -179.625  89.875      RU          0.0             0.0   \n",
       "2       -179.375  89.875      RU          0.0             0.0   \n",
       "3       -179.125  89.875      RU          0.0             0.0   \n",
       "4       -178.875  89.875      RU          0.0             0.0   \n",
       "...          ...     ...     ...          ...             ...   \n",
       "1036795  178.875 -89.875      AQ          0.0             0.0   \n",
       "1036796  179.125 -89.875      AQ          0.0             0.0   \n",
       "1036797  179.375 -89.875      AQ          0.0             0.0   \n",
       "1036798  179.625 -89.875      AQ          0.0             0.0   \n",
       "1036799  179.875 -89.875      AQ          0.0             0.0   \n",
       "\n",
       "         fraction_of_burnable_area  fraction_of_observed_area  \\\n",
       "0                              0.0                        0.0   \n",
       "1                              0.0                        0.0   \n",
       "2                              0.0                        0.0   \n",
       "3                              0.0                        0.0   \n",
       "4                              0.0                        0.0   \n",
       "...                            ...                        ...   \n",
       "1036795                        0.0                        0.0   \n",
       "1036796                        0.0                        0.0   \n",
       "1036797                        0.0                        0.0   \n",
       "1036798                        0.0                        0.0   \n",
       "1036799                        0.0                        0.0   \n",
       "\n",
       "         number_of_patches  no_data_burned_area  \\\n",
       "0                      0.0                  0.0   \n",
       "1                      0.0                  0.0   \n",
       "2                      0.0                  0.0   \n",
       "3                      0.0                  0.0   \n",
       "4                      0.0                  0.0   \n",
       "...                    ...                  ...   \n",
       "1036795                0.0                  0.0   \n",
       "1036796                0.0                  0.0   \n",
       "1036797                0.0                  0.0   \n",
       "1036798                0.0                  0.0   \n",
       "1036799                0.0                  0.0   \n",
       "\n",
       "         tree_cover_broadleaved_evergreen_burned_area  \\\n",
       "0                                                 0.0   \n",
       "1                                                 0.0   \n",
       "2                                                 0.0   \n",
       "3                                                 0.0   \n",
       "4                                                 0.0   \n",
       "...                                               ...   \n",
       "1036795                                           0.0   \n",
       "1036796                                           0.0   \n",
       "1036797                                           0.0   \n",
       "1036798                                           0.0   \n",
       "1036799                                           0.0   \n",
       "\n",
       "         tree_cover_broadleaved_deciduous_burned_area  \\\n",
       "0                                                 0.0   \n",
       "1                                                 0.0   \n",
       "2                                                 0.0   \n",
       "3                                                 0.0   \n",
       "4                                                 0.0   \n",
       "...                                               ...   \n",
       "1036795                                           0.0   \n",
       "1036796                                           0.0   \n",
       "1036797                                           0.0   \n",
       "1036798                                           0.0   \n",
       "1036799                                           0.0   \n",
       "\n",
       "         tree_cover_needleleaved_evergreen_burned_area  \\\n",
       "0                                                  0.0   \n",
       "1                                                  0.0   \n",
       "2                                                  0.0   \n",
       "3                                                  0.0   \n",
       "4                                                  0.0   \n",
       "...                                                ...   \n",
       "1036795                                            0.0   \n",
       "1036796                                            0.0   \n",
       "1036797                                            0.0   \n",
       "1036798                                            0.0   \n",
       "1036799                                            0.0   \n",
       "\n",
       "         tree_cover_needleleaved_deciduous_burned_area  \\\n",
       "0                                                  0.0   \n",
       "1                                                  0.0   \n",
       "2                                                  0.0   \n",
       "3                                                  0.0   \n",
       "4                                                  0.0   \n",
       "...                                                ...   \n",
       "1036795                                            0.0   \n",
       "1036796                                            0.0   \n",
       "1036797                                            0.0   \n",
       "1036798                                            0.0   \n",
       "1036799                                            0.0   \n",
       "\n",
       "         tree_cover_mixed_leave_burned_area  cropland_burned_area  \\\n",
       "0                                       0.0                   0.0   \n",
       "1                                       0.0                   0.0   \n",
       "2                                       0.0                   0.0   \n",
       "3                                       0.0                   0.0   \n",
       "4                                       0.0                   0.0   \n",
       "...                                     ...                   ...   \n",
       "1036795                                 0.0                   0.0   \n",
       "1036796                                 0.0                   0.0   \n",
       "1036797                                 0.0                   0.0   \n",
       "1036798                                 0.0                   0.0   \n",
       "1036799                                 0.0                   0.0   \n",
       "\n",
       "         mosaic_tree_grass_burned_area  other_vegetation_burned_area  \\\n",
       "0                                  0.0                           0.0   \n",
       "1                                  0.0                           0.0   \n",
       "2                                  0.0                           0.0   \n",
       "3                                  0.0                           0.0   \n",
       "4                                  0.0                           0.0   \n",
       "...                                ...                           ...   \n",
       "1036795                            0.0                           0.0   \n",
       "1036796                            0.0                           0.0   \n",
       "1036797                            0.0                           0.0   \n",
       "1036798                            0.0                           0.0   \n",
       "1036799                            0.0                           0.0   \n",
       "\n",
       "         flooded_area_burned_area        date  \n",
       "0                             0.0  2001-01-01  \n",
       "1                             0.0  2001-01-01  \n",
       "2                             0.0  2001-01-01  \n",
       "3                             0.0  2001-01-01  \n",
       "4                             0.0  2001-01-01  \n",
       "...                           ...         ...  \n",
       "1036795                       0.0  2001-01-01  \n",
       "1036796                       0.0  2001-01-01  \n",
       "1036797                       0.0  2001-01-01  \n",
       "1036798                       0.0  2001-01-01  \n",
       "1036799                       0.0  2001-01-01  \n",
       "\n",
       "[1036800 rows x 19 columns]"
      ]
     },
     "execution_count": 9,
     "metadata": {},
     "output_type": "execute_result"
    }
   ],
   "source": [
    "df_all_data"
   ]
  },
  {
   "cell_type": "code",
   "execution_count": 10,
   "metadata": {},
   "outputs": [],
   "source": [
    "#Load to Database"
   ]
  },
  {
   "cell_type": "code",
   "execution_count": 11,
   "metadata": {},
   "outputs": [],
   "source": [
    "#\"C:\\Program Files\\MongoDB\\Server\\6.0\\bin\\mongod.exe\" --dbpath \"C:\\mongodb_data\""
   ]
  },
  {
   "cell_type": "code",
   "execution_count": 12,
   "metadata": {},
   "outputs": [
    {
     "name": "stdout",
     "output_type": "stream",
     "text": [
      "esa_fire\n"
     ]
    }
   ],
   "source": [
    "client = MongoClient()\n",
    "client = MongoClient('mongodb://localhost:27017/')\n",
    "mydb = client[\"esa_fire\"]\n",
    "mycol = mydb[\"esa_fire_2001\"]\n",
    "print(mydb.name)"
   ]
  },
  {
   "cell_type": "code",
   "execution_count": 13,
   "metadata": {},
   "outputs": [
    {
     "name": "stdout",
     "output_type": "stream",
     "text": [
      "('localhost', 27017)\n",
      "<bound method MongoClient.list_database_names of MongoClient(host=['localhost:27017'], document_class=dict, tz_aware=False, connect=True)>\n"
     ]
    }
   ],
   "source": [
    "print(client.address)\n",
    "print(client.list_database_names)"
   ]
  },
  {
   "cell_type": "code",
   "execution_count": 14,
   "metadata": {},
   "outputs": [],
   "source": [
    "#data.reset_index(inplace=True)\n",
    "data_dict = df_all_data.to_dict(\"records\")# Insert collection\n"
   ]
  },
  {
   "cell_type": "code",
   "execution_count": 15,
   "metadata": {},
   "outputs": [
    {
     "data": {
      "text/plain": [
       "<pymongo.results.InsertManyResult at 0x22ff402fc88>"
      ]
     },
     "execution_count": 15,
     "metadata": {},
     "output_type": "execute_result"
    }
   ],
   "source": [
    "mycol.insert_many(data_dict)"
   ]
  },
  {
   "cell_type": "code",
   "execution_count": 18,
   "metadata": {},
   "outputs": [
    {
     "name": "stdout",
     "output_type": "stream",
     "text": [
      "Anzahl an Städten in Baden-Württemberg:  840\n"
     ]
    }
   ],
   "source": [
    "#bawue =mycol.find({'df_all_data' : 'DE' })\n",
    "print(\"Anzahl an Städten in Baden-Württemberg: \",mycol.count_documents({'country' : 'DE' }))"
   ]
  },
  {
   "cell_type": "code",
   "execution_count": 47,
   "metadata": {},
   "outputs": [
    {
     "name": "stdout",
     "output_type": "stream",
     "text": [
      "Number of found products:  43\n"
     ]
    }
   ],
   "source": [
    "query={\n",
    "     '$and': [\n",
    "            {'country' : 'US' },\n",
    "            { 'burned_area'    : { '$gt':0 }},\n",
    "            { 'fraction_of_observed_area'    : { '$gt':0.8 }, }\n",
    "          ]\n",
    "}\n",
    "print(\"Number of found products: \",mycol.count_documents(query))"
   ]
  },
  {
   "cell_type": "code",
   "execution_count": 48,
   "metadata": {},
   "outputs": [
    {
     "data": {
      "text/html": [
       "<div>\n",
       "<style scoped>\n",
       "    .dataframe tbody tr th:only-of-type {\n",
       "        vertical-align: middle;\n",
       "    }\n",
       "\n",
       "    .dataframe tbody tr th {\n",
       "        vertical-align: top;\n",
       "    }\n",
       "\n",
       "    .dataframe thead th {\n",
       "        text-align: right;\n",
       "    }\n",
       "</style>\n",
       "<table border=\"1\" class=\"dataframe\">\n",
       "  <thead>\n",
       "    <tr style=\"text-align: right;\">\n",
       "      <th></th>\n",
       "      <th>_id</th>\n",
       "      <th>lon</th>\n",
       "      <th>lat</th>\n",
       "      <th>country</th>\n",
       "      <th>burned_area</th>\n",
       "      <th>standard_error</th>\n",
       "      <th>fraction_of_burnable_area</th>\n",
       "      <th>fraction_of_observed_area</th>\n",
       "      <th>number_of_patches</th>\n",
       "      <th>no_data_burned_area</th>\n",
       "      <th>tree_cover_broadleaved_evergreen_burned_area</th>\n",
       "      <th>tree_cover_broadleaved_deciduous_burned_area</th>\n",
       "      <th>tree_cover_needleleaved_evergreen_burned_area</th>\n",
       "      <th>tree_cover_needleleaved_deciduous_burned_area</th>\n",
       "      <th>tree_cover_mixed_leave_burned_area</th>\n",
       "      <th>cropland_burned_area</th>\n",
       "      <th>mosaic_tree_grass_burned_area</th>\n",
       "      <th>other_vegetation_burned_area</th>\n",
       "      <th>flooded_area_burned_area</th>\n",
       "      <th>date</th>\n",
       "    </tr>\n",
       "  </thead>\n",
       "  <tbody>\n",
       "    <tr>\n",
       "      <th>0</th>\n",
       "      <td>630247bc43db4d1db824735e</td>\n",
       "      <td>-103.375</td>\n",
       "      <td>43.875</td>\n",
       "      <td>US</td>\n",
       "      <td>697640.0</td>\n",
       "      <td>709895.0</td>\n",
       "      <td>0.993549</td>\n",
       "      <td>0.998353</td>\n",
       "      <td>3.0</td>\n",
       "      <td>0.0</td>\n",
       "      <td>0.0</td>\n",
       "      <td>0.0</td>\n",
       "      <td>214658.0</td>\n",
       "      <td>0.0</td>\n",
       "      <td>0.0</td>\n",
       "      <td>214658.0</td>\n",
       "      <td>0.0</td>\n",
       "      <td>268323.0</td>\n",
       "      <td>0.0</td>\n",
       "      <td>2001-01-01</td>\n",
       "    </tr>\n",
       "    <tr>\n",
       "      <th>1</th>\n",
       "      <td>630247bc43db4d1db824735f</td>\n",
       "      <td>-103.125</td>\n",
       "      <td>43.875</td>\n",
       "      <td>US</td>\n",
       "      <td>1126958.0</td>\n",
       "      <td>598482.0</td>\n",
       "      <td>0.997977</td>\n",
       "      <td>0.999228</td>\n",
       "      <td>2.0</td>\n",
       "      <td>0.0</td>\n",
       "      <td>0.0</td>\n",
       "      <td>0.0</td>\n",
       "      <td>0.0</td>\n",
       "      <td>0.0</td>\n",
       "      <td>0.0</td>\n",
       "      <td>0.0</td>\n",
       "      <td>0.0</td>\n",
       "      <td>1126958.0</td>\n",
       "      <td>0.0</td>\n",
       "      <td>2001-01-01</td>\n",
       "    </tr>\n",
       "    <tr>\n",
       "      <th>2</th>\n",
       "      <td>630247bc43db4d1db824b0ed</td>\n",
       "      <td>-123.625</td>\n",
       "      <td>41.125</td>\n",
       "      <td>US</td>\n",
       "      <td>1073293.0</td>\n",
       "      <td>1112645.0</td>\n",
       "      <td>0.996682</td>\n",
       "      <td>0.997318</td>\n",
       "      <td>4.0</td>\n",
       "      <td>0.0</td>\n",
       "      <td>0.0</td>\n",
       "      <td>0.0</td>\n",
       "      <td>1019628.0</td>\n",
       "      <td>0.0</td>\n",
       "      <td>53664.0</td>\n",
       "      <td>0.0</td>\n",
       "      <td>0.0</td>\n",
       "      <td>0.0</td>\n",
       "      <td>0.0</td>\n",
       "      <td>2001-01-01</td>\n",
       "    </tr>\n",
       "    <tr>\n",
       "      <th>3</th>\n",
       "      <td>630247bc43db4d1db8256520</td>\n",
       "      <td>-110.875</td>\n",
       "      <td>33.125</td>\n",
       "      <td>US</td>\n",
       "      <td>536646.0</td>\n",
       "      <td>720629.0</td>\n",
       "      <td>0.975452</td>\n",
       "      <td>0.996769</td>\n",
       "      <td>1.0</td>\n",
       "      <td>0.0</td>\n",
       "      <td>0.0</td>\n",
       "      <td>0.0</td>\n",
       "      <td>0.0</td>\n",
       "      <td>0.0</td>\n",
       "      <td>0.0</td>\n",
       "      <td>0.0</td>\n",
       "      <td>0.0</td>\n",
       "      <td>536646.0</td>\n",
       "      <td>0.0</td>\n",
       "      <td>2001-01-01</td>\n",
       "    </tr>\n",
       "    <tr>\n",
       "      <th>4</th>\n",
       "      <td>630247bc43db4d1db8256aa8</td>\n",
       "      <td>-116.875</td>\n",
       "      <td>32.875</td>\n",
       "      <td>US</td>\n",
       "      <td>18889964.0</td>\n",
       "      <td>1055429.0</td>\n",
       "      <td>0.844838</td>\n",
       "      <td>0.971037</td>\n",
       "      <td>3.0</td>\n",
       "      <td>0.0</td>\n",
       "      <td>0.0</td>\n",
       "      <td>0.0</td>\n",
       "      <td>0.0</td>\n",
       "      <td>0.0</td>\n",
       "      <td>0.0</td>\n",
       "      <td>268323.0</td>\n",
       "      <td>0.0</td>\n",
       "      <td>18621640.0</td>\n",
       "      <td>0.0</td>\n",
       "      <td>2001-01-01</td>\n",
       "    </tr>\n",
       "    <tr>\n",
       "      <th>5</th>\n",
       "      <td>630247bc43db4d1db8256aa9</td>\n",
       "      <td>-116.625</td>\n",
       "      <td>32.875</td>\n",
       "      <td>US</td>\n",
       "      <td>24793076.0</td>\n",
       "      <td>1180796.0</td>\n",
       "      <td>0.999835</td>\n",
       "      <td>0.999669</td>\n",
       "      <td>5.0</td>\n",
       "      <td>0.0</td>\n",
       "      <td>0.0</td>\n",
       "      <td>0.0</td>\n",
       "      <td>804970.0</td>\n",
       "      <td>53664.0</td>\n",
       "      <td>1717269.0</td>\n",
       "      <td>375652.0</td>\n",
       "      <td>107328.0</td>\n",
       "      <td>21787854.0</td>\n",
       "      <td>0.0</td>\n",
       "      <td>2001-01-01</td>\n",
       "    </tr>\n",
       "    <tr>\n",
       "      <th>6</th>\n",
       "      <td>630247bc43db4d1db825ae6b</td>\n",
       "      <td>-100.125</td>\n",
       "      <td>29.875</td>\n",
       "      <td>US</td>\n",
       "      <td>214658.0</td>\n",
       "      <td>1079506.0</td>\n",
       "      <td>1.000000</td>\n",
       "      <td>1.000000</td>\n",
       "      <td>1.0</td>\n",
       "      <td>0.0</td>\n",
       "      <td>0.0</td>\n",
       "      <td>0.0</td>\n",
       "      <td>160994.0</td>\n",
       "      <td>0.0</td>\n",
       "      <td>0.0</td>\n",
       "      <td>0.0</td>\n",
       "      <td>0.0</td>\n",
       "      <td>53664.0</td>\n",
       "      <td>0.0</td>\n",
       "      <td>2001-01-01</td>\n",
       "    </tr>\n",
       "    <tr>\n",
       "      <th>7</th>\n",
       "      <td>630247bc43db4d1db825ae87</td>\n",
       "      <td>-93.125</td>\n",
       "      <td>29.875</td>\n",
       "      <td>US</td>\n",
       "      <td>7459388.0</td>\n",
       "      <td>1205241.0</td>\n",
       "      <td>0.813116</td>\n",
       "      <td>0.972427</td>\n",
       "      <td>1.0</td>\n",
       "      <td>0.0</td>\n",
       "      <td>0.0</td>\n",
       "      <td>0.0</td>\n",
       "      <td>0.0</td>\n",
       "      <td>0.0</td>\n",
       "      <td>0.0</td>\n",
       "      <td>0.0</td>\n",
       "      <td>0.0</td>\n",
       "      <td>53664.0</td>\n",
       "      <td>7405724.0</td>\n",
       "      <td>2001-01-01</td>\n",
       "    </tr>\n",
       "    <tr>\n",
       "      <th>8</th>\n",
       "      <td>630247bc43db4d1db825ae91</td>\n",
       "      <td>-90.625</td>\n",
       "      <td>29.875</td>\n",
       "      <td>US</td>\n",
       "      <td>107329.0</td>\n",
       "      <td>561354.0</td>\n",
       "      <td>0.880516</td>\n",
       "      <td>0.991633</td>\n",
       "      <td>2.0</td>\n",
       "      <td>0.0</td>\n",
       "      <td>0.0</td>\n",
       "      <td>0.0</td>\n",
       "      <td>0.0</td>\n",
       "      <td>0.0</td>\n",
       "      <td>0.0</td>\n",
       "      <td>0.0</td>\n",
       "      <td>0.0</td>\n",
       "      <td>0.0</td>\n",
       "      <td>107329.0</td>\n",
       "      <td>2001-01-01</td>\n",
       "    </tr>\n",
       "    <tr>\n",
       "      <th>9</th>\n",
       "      <td>630247bc43db4d1db825aea7</td>\n",
       "      <td>-85.125</td>\n",
       "      <td>29.875</td>\n",
       "      <td>US</td>\n",
       "      <td>107329.0</td>\n",
       "      <td>585425.0</td>\n",
       "      <td>0.962518</td>\n",
       "      <td>0.993510</td>\n",
       "      <td>2.0</td>\n",
       "      <td>0.0</td>\n",
       "      <td>0.0</td>\n",
       "      <td>0.0</td>\n",
       "      <td>0.0</td>\n",
       "      <td>0.0</td>\n",
       "      <td>0.0</td>\n",
       "      <td>0.0</td>\n",
       "      <td>0.0</td>\n",
       "      <td>0.0</td>\n",
       "      <td>107329.0</td>\n",
       "      <td>2001-01-01</td>\n",
       "    </tr>\n",
       "    <tr>\n",
       "      <th>10</th>\n",
       "      <td>630247bc43db4d1db825aea8</td>\n",
       "      <td>-84.875</td>\n",
       "      <td>29.875</td>\n",
       "      <td>US</td>\n",
       "      <td>160994.0</td>\n",
       "      <td>575824.0</td>\n",
       "      <td>0.927839</td>\n",
       "      <td>0.996029</td>\n",
       "      <td>3.0</td>\n",
       "      <td>0.0</td>\n",
       "      <td>0.0</td>\n",
       "      <td>0.0</td>\n",
       "      <td>107329.0</td>\n",
       "      <td>0.0</td>\n",
       "      <td>0.0</td>\n",
       "      <td>0.0</td>\n",
       "      <td>0.0</td>\n",
       "      <td>0.0</td>\n",
       "      <td>53664.0</td>\n",
       "      <td>2001-01-01</td>\n",
       "    </tr>\n",
       "    <tr>\n",
       "      <th>11</th>\n",
       "      <td>630247bc43db4d1db825b42b</td>\n",
       "      <td>-92.125</td>\n",
       "      <td>29.625</td>\n",
       "      <td>US</td>\n",
       "      <td>3971185.0</td>\n",
       "      <td>824059.0</td>\n",
       "      <td>0.348991</td>\n",
       "      <td>0.959438</td>\n",
       "      <td>12.0</td>\n",
       "      <td>0.0</td>\n",
       "      <td>0.0</td>\n",
       "      <td>0.0</td>\n",
       "      <td>0.0</td>\n",
       "      <td>0.0</td>\n",
       "      <td>0.0</td>\n",
       "      <td>0.0</td>\n",
       "      <td>0.0</td>\n",
       "      <td>0.0</td>\n",
       "      <td>3971185.0</td>\n",
       "      <td>2001-01-01</td>\n",
       "    </tr>\n",
       "    <tr>\n",
       "      <th>12</th>\n",
       "      <td>630247bc43db4d1db825b42c</td>\n",
       "      <td>-91.875</td>\n",
       "      <td>29.625</td>\n",
       "      <td>US</td>\n",
       "      <td>1019628.0</td>\n",
       "      <td>739397.0</td>\n",
       "      <td>0.360577</td>\n",
       "      <td>0.949333</td>\n",
       "      <td>6.0</td>\n",
       "      <td>0.0</td>\n",
       "      <td>0.0</td>\n",
       "      <td>0.0</td>\n",
       "      <td>53664.0</td>\n",
       "      <td>0.0</td>\n",
       "      <td>0.0</td>\n",
       "      <td>0.0</td>\n",
       "      <td>0.0</td>\n",
       "      <td>0.0</td>\n",
       "      <td>965964.0</td>\n",
       "      <td>2001-01-01</td>\n",
       "    </tr>\n",
       "    <tr>\n",
       "      <th>13</th>\n",
       "      <td>630247bc43db4d1db825b430</td>\n",
       "      <td>-90.875</td>\n",
       "      <td>29.625</td>\n",
       "      <td>US</td>\n",
       "      <td>1341616.0</td>\n",
       "      <td>1050934.0</td>\n",
       "      <td>0.955737</td>\n",
       "      <td>0.986374</td>\n",
       "      <td>1.0</td>\n",
       "      <td>0.0</td>\n",
       "      <td>0.0</td>\n",
       "      <td>0.0</td>\n",
       "      <td>0.0</td>\n",
       "      <td>0.0</td>\n",
       "      <td>0.0</td>\n",
       "      <td>0.0</td>\n",
       "      <td>0.0</td>\n",
       "      <td>0.0</td>\n",
       "      <td>1341616.0</td>\n",
       "      <td>2001-01-01</td>\n",
       "    </tr>\n",
       "    <tr>\n",
       "      <th>14</th>\n",
       "      <td>630247bc43db4d1db825b9cc</td>\n",
       "      <td>-91.875</td>\n",
       "      <td>29.375</td>\n",
       "      <td>US</td>\n",
       "      <td>214658.0</td>\n",
       "      <td>266338.0</td>\n",
       "      <td>0.023372</td>\n",
       "      <td>0.934708</td>\n",
       "      <td>1.0</td>\n",
       "      <td>0.0</td>\n",
       "      <td>0.0</td>\n",
       "      <td>0.0</td>\n",
       "      <td>0.0</td>\n",
       "      <td>0.0</td>\n",
       "      <td>0.0</td>\n",
       "      <td>0.0</td>\n",
       "      <td>0.0</td>\n",
       "      <td>0.0</td>\n",
       "      <td>214658.0</td>\n",
       "      <td>2001-01-01</td>\n",
       "    </tr>\n",
       "    <tr>\n",
       "      <th>15</th>\n",
       "      <td>630247bc43db4d1db825b9cf</td>\n",
       "      <td>-91.125</td>\n",
       "      <td>29.375</td>\n",
       "      <td>US</td>\n",
       "      <td>2307580.0</td>\n",
       "      <td>824988.0</td>\n",
       "      <td>0.718157</td>\n",
       "      <td>0.969367</td>\n",
       "      <td>6.0</td>\n",
       "      <td>0.0</td>\n",
       "      <td>0.0</td>\n",
       "      <td>0.0</td>\n",
       "      <td>107329.0</td>\n",
       "      <td>0.0</td>\n",
       "      <td>0.0</td>\n",
       "      <td>0.0</td>\n",
       "      <td>0.0</td>\n",
       "      <td>0.0</td>\n",
       "      <td>2200251.0</td>\n",
       "      <td>2001-01-01</td>\n",
       "    </tr>\n",
       "    <tr>\n",
       "      <th>16</th>\n",
       "      <td>630247bc43db4d1db825ca8a</td>\n",
       "      <td>-100.375</td>\n",
       "      <td>28.625</td>\n",
       "      <td>US</td>\n",
       "      <td>1341616.0</td>\n",
       "      <td>1135205.0</td>\n",
       "      <td>0.974917</td>\n",
       "      <td>0.994075</td>\n",
       "      <td>7.0</td>\n",
       "      <td>214658.0</td>\n",
       "      <td>0.0</td>\n",
       "      <td>0.0</td>\n",
       "      <td>0.0</td>\n",
       "      <td>0.0</td>\n",
       "      <td>0.0</td>\n",
       "      <td>268323.0</td>\n",
       "      <td>0.0</td>\n",
       "      <td>858634.0</td>\n",
       "      <td>0.0</td>\n",
       "      <td>2001-01-01</td>\n",
       "    </tr>\n",
       "    <tr>\n",
       "      <th>17</th>\n",
       "      <td>630247bc43db4d1db825d073</td>\n",
       "      <td>-82.125</td>\n",
       "      <td>28.375</td>\n",
       "      <td>US</td>\n",
       "      <td>1931928.0</td>\n",
       "      <td>972877.0</td>\n",
       "      <td>0.976476</td>\n",
       "      <td>0.994179</td>\n",
       "      <td>1.0</td>\n",
       "      <td>160994.0</td>\n",
       "      <td>0.0</td>\n",
       "      <td>0.0</td>\n",
       "      <td>804970.0</td>\n",
       "      <td>0.0</td>\n",
       "      <td>0.0</td>\n",
       "      <td>107329.0</td>\n",
       "      <td>0.0</td>\n",
       "      <td>482982.0</td>\n",
       "      <td>375652.0</td>\n",
       "      <td>2001-01-01</td>\n",
       "    </tr>\n",
       "    <tr>\n",
       "      <th>18</th>\n",
       "      <td>630247bc43db4d1db825d074</td>\n",
       "      <td>-81.875</td>\n",
       "      <td>28.375</td>\n",
       "      <td>US</td>\n",
       "      <td>2039257.0</td>\n",
       "      <td>1304267.0</td>\n",
       "      <td>0.979713</td>\n",
       "      <td>0.995166</td>\n",
       "      <td>2.0</td>\n",
       "      <td>53664.0</td>\n",
       "      <td>0.0</td>\n",
       "      <td>0.0</td>\n",
       "      <td>53664.0</td>\n",
       "      <td>0.0</td>\n",
       "      <td>0.0</td>\n",
       "      <td>214658.0</td>\n",
       "      <td>214658.0</td>\n",
       "      <td>0.0</td>\n",
       "      <td>1609940.0</td>\n",
       "      <td>2001-01-01</td>\n",
       "    </tr>\n",
       "    <tr>\n",
       "      <th>19</th>\n",
       "      <td>630247bc43db4d1db825d075</td>\n",
       "      <td>-81.625</td>\n",
       "      <td>28.375</td>\n",
       "      <td>US</td>\n",
       "      <td>1770934.0</td>\n",
       "      <td>1038040.0</td>\n",
       "      <td>0.822243</td>\n",
       "      <td>0.957857</td>\n",
       "      <td>4.0</td>\n",
       "      <td>160994.0</td>\n",
       "      <td>0.0</td>\n",
       "      <td>0.0</td>\n",
       "      <td>0.0</td>\n",
       "      <td>0.0</td>\n",
       "      <td>0.0</td>\n",
       "      <td>0.0</td>\n",
       "      <td>0.0</td>\n",
       "      <td>590311.0</td>\n",
       "      <td>1019628.0</td>\n",
       "      <td>2001-01-01</td>\n",
       "    </tr>\n",
       "    <tr>\n",
       "      <th>20</th>\n",
       "      <td>630247bc43db4d1db825d5d8</td>\n",
       "      <td>-96.875</td>\n",
       "      <td>28.125</td>\n",
       "      <td>US</td>\n",
       "      <td>5473796.0</td>\n",
       "      <td>711309.0</td>\n",
       "      <td>0.396865</td>\n",
       "      <td>0.923001</td>\n",
       "      <td>6.0</td>\n",
       "      <td>0.0</td>\n",
       "      <td>0.0</td>\n",
       "      <td>0.0</td>\n",
       "      <td>0.0</td>\n",
       "      <td>1556275.0</td>\n",
       "      <td>0.0</td>\n",
       "      <td>0.0</td>\n",
       "      <td>0.0</td>\n",
       "      <td>1770933.0</td>\n",
       "      <td>2146586.0</td>\n",
       "      <td>2001-01-01</td>\n",
       "    </tr>\n",
       "    <tr>\n",
       "      <th>21</th>\n",
       "      <td>630247bc43db4d1db825e156</td>\n",
       "      <td>-81.375</td>\n",
       "      <td>27.625</td>\n",
       "      <td>US</td>\n",
       "      <td>697640.0</td>\n",
       "      <td>832066.0</td>\n",
       "      <td>0.924596</td>\n",
       "      <td>0.989997</td>\n",
       "      <td>1.0</td>\n",
       "      <td>0.0</td>\n",
       "      <td>0.0</td>\n",
       "      <td>0.0</td>\n",
       "      <td>0.0</td>\n",
       "      <td>0.0</td>\n",
       "      <td>0.0</td>\n",
       "      <td>0.0</td>\n",
       "      <td>0.0</td>\n",
       "      <td>697640.0</td>\n",
       "      <td>0.0</td>\n",
       "      <td>2001-01-01</td>\n",
       "    </tr>\n",
       "    <tr>\n",
       "      <th>22</th>\n",
       "      <td>630247bc43db4d1db825e6f2</td>\n",
       "      <td>-82.375</td>\n",
       "      <td>27.375</td>\n",
       "      <td>US</td>\n",
       "      <td>1663604.0</td>\n",
       "      <td>962894.0</td>\n",
       "      <td>0.780705</td>\n",
       "      <td>0.951833</td>\n",
       "      <td>1.0</td>\n",
       "      <td>0.0</td>\n",
       "      <td>0.0</td>\n",
       "      <td>0.0</td>\n",
       "      <td>1234287.0</td>\n",
       "      <td>0.0</td>\n",
       "      <td>0.0</td>\n",
       "      <td>53664.0</td>\n",
       "      <td>0.0</td>\n",
       "      <td>375652.0</td>\n",
       "      <td>0.0</td>\n",
       "      <td>2001-01-01</td>\n",
       "    </tr>\n",
       "    <tr>\n",
       "      <th>23</th>\n",
       "      <td>630247bd43db4d1db825ec97</td>\n",
       "      <td>-81.125</td>\n",
       "      <td>27.125</td>\n",
       "      <td>US</td>\n",
       "      <td>2790562.0</td>\n",
       "      <td>1044920.0</td>\n",
       "      <td>0.998284</td>\n",
       "      <td>0.999140</td>\n",
       "      <td>2.0</td>\n",
       "      <td>912299.0</td>\n",
       "      <td>0.0</td>\n",
       "      <td>0.0</td>\n",
       "      <td>0.0</td>\n",
       "      <td>0.0</td>\n",
       "      <td>0.0</td>\n",
       "      <td>0.0</td>\n",
       "      <td>0.0</td>\n",
       "      <td>1878263.0</td>\n",
       "      <td>0.0</td>\n",
       "      <td>2001-01-01</td>\n",
       "    </tr>\n",
       "    <tr>\n",
       "      <th>24</th>\n",
       "      <td>630247bd43db4d1db825f1f3</td>\n",
       "      <td>-98.125</td>\n",
       "      <td>26.875</td>\n",
       "      <td>US</td>\n",
       "      <td>3058886.0</td>\n",
       "      <td>1369119.0</td>\n",
       "      <td>0.999221</td>\n",
       "      <td>0.999610</td>\n",
       "      <td>1.0</td>\n",
       "      <td>3058886.0</td>\n",
       "      <td>0.0</td>\n",
       "      <td>0.0</td>\n",
       "      <td>0.0</td>\n",
       "      <td>0.0</td>\n",
       "      <td>0.0</td>\n",
       "      <td>0.0</td>\n",
       "      <td>0.0</td>\n",
       "      <td>0.0</td>\n",
       "      <td>0.0</td>\n",
       "      <td>2001-01-01</td>\n",
       "    </tr>\n",
       "    <tr>\n",
       "      <th>25</th>\n",
       "      <td>630247bd43db4d1db825f235</td>\n",
       "      <td>-81.625</td>\n",
       "      <td>26.875</td>\n",
       "      <td>US</td>\n",
       "      <td>9874298.0</td>\n",
       "      <td>1047642.0</td>\n",
       "      <td>0.997509</td>\n",
       "      <td>0.999922</td>\n",
       "      <td>7.0</td>\n",
       "      <td>107329.0</td>\n",
       "      <td>0.0</td>\n",
       "      <td>0.0</td>\n",
       "      <td>0.0</td>\n",
       "      <td>1126958.0</td>\n",
       "      <td>0.0</td>\n",
       "      <td>268323.0</td>\n",
       "      <td>0.0</td>\n",
       "      <td>7298394.0</td>\n",
       "      <td>1073292.0</td>\n",
       "      <td>2001-01-01</td>\n",
       "    </tr>\n",
       "    <tr>\n",
       "      <th>26</th>\n",
       "      <td>630247bd43db4d1db825f236</td>\n",
       "      <td>-81.375</td>\n",
       "      <td>26.875</td>\n",
       "      <td>US</td>\n",
       "      <td>1448946.0</td>\n",
       "      <td>901982.0</td>\n",
       "      <td>0.993226</td>\n",
       "      <td>0.998119</td>\n",
       "      <td>1.0</td>\n",
       "      <td>0.0</td>\n",
       "      <td>0.0</td>\n",
       "      <td>0.0</td>\n",
       "      <td>0.0</td>\n",
       "      <td>0.0</td>\n",
       "      <td>0.0</td>\n",
       "      <td>0.0</td>\n",
       "      <td>0.0</td>\n",
       "      <td>1448946.0</td>\n",
       "      <td>0.0</td>\n",
       "      <td>2001-01-01</td>\n",
       "    </tr>\n",
       "    <tr>\n",
       "      <th>27</th>\n",
       "      <td>630247bd43db4d1db825f237</td>\n",
       "      <td>-81.125</td>\n",
       "      <td>26.875</td>\n",
       "      <td>US</td>\n",
       "      <td>41321792.0</td>\n",
       "      <td>1242816.0</td>\n",
       "      <td>0.924712</td>\n",
       "      <td>0.993854</td>\n",
       "      <td>3.0</td>\n",
       "      <td>912299.0</td>\n",
       "      <td>0.0</td>\n",
       "      <td>0.0</td>\n",
       "      <td>804970.0</td>\n",
       "      <td>1019628.0</td>\n",
       "      <td>0.0</td>\n",
       "      <td>3112550.0</td>\n",
       "      <td>5473796.0</td>\n",
       "      <td>3649197.0</td>\n",
       "      <td>29086250.0</td>\n",
       "      <td>2001-01-01</td>\n",
       "    </tr>\n",
       "    <tr>\n",
       "      <th>28</th>\n",
       "      <td>630247bd43db4d1db825f238</td>\n",
       "      <td>-80.875</td>\n",
       "      <td>26.875</td>\n",
       "      <td>US</td>\n",
       "      <td>2361245.0</td>\n",
       "      <td>612138.0</td>\n",
       "      <td>0.143269</td>\n",
       "      <td>0.964674</td>\n",
       "      <td>1.0</td>\n",
       "      <td>2200251.0</td>\n",
       "      <td>0.0</td>\n",
       "      <td>160994.0</td>\n",
       "      <td>0.0</td>\n",
       "      <td>0.0</td>\n",
       "      <td>0.0</td>\n",
       "      <td>0.0</td>\n",
       "      <td>0.0</td>\n",
       "      <td>0.0</td>\n",
       "      <td>0.0</td>\n",
       "      <td>2001-01-01</td>\n",
       "    </tr>\n",
       "    <tr>\n",
       "      <th>29</th>\n",
       "      <td>630247bd43db4d1db825f239</td>\n",
       "      <td>-80.625</td>\n",
       "      <td>26.875</td>\n",
       "      <td>US</td>\n",
       "      <td>42019436.0</td>\n",
       "      <td>989403.0</td>\n",
       "      <td>0.578579</td>\n",
       "      <td>0.993542</td>\n",
       "      <td>13.0</td>\n",
       "      <td>41643784.0</td>\n",
       "      <td>0.0</td>\n",
       "      <td>53664.0</td>\n",
       "      <td>0.0</td>\n",
       "      <td>53664.0</td>\n",
       "      <td>0.0</td>\n",
       "      <td>0.0</td>\n",
       "      <td>0.0</td>\n",
       "      <td>0.0</td>\n",
       "      <td>268323.0</td>\n",
       "      <td>2001-01-01</td>\n",
       "    </tr>\n",
       "    <tr>\n",
       "      <th>30</th>\n",
       "      <td>630247bd43db4d1db825f23a</td>\n",
       "      <td>-80.375</td>\n",
       "      <td>26.875</td>\n",
       "      <td>US</td>\n",
       "      <td>10893927.0</td>\n",
       "      <td>886958.0</td>\n",
       "      <td>0.944488</td>\n",
       "      <td>0.989119</td>\n",
       "      <td>26.0</td>\n",
       "      <td>10679268.0</td>\n",
       "      <td>0.0</td>\n",
       "      <td>0.0</td>\n",
       "      <td>0.0</td>\n",
       "      <td>0.0</td>\n",
       "      <td>0.0</td>\n",
       "      <td>0.0</td>\n",
       "      <td>0.0</td>\n",
       "      <td>0.0</td>\n",
       "      <td>214658.0</td>\n",
       "      <td>2001-01-01</td>\n",
       "    </tr>\n",
       "    <tr>\n",
       "      <th>31</th>\n",
       "      <td>630247bd43db4d1db825f793</td>\n",
       "      <td>-98.125</td>\n",
       "      <td>26.625</td>\n",
       "      <td>US</td>\n",
       "      <td>7459388.0</td>\n",
       "      <td>1133843.0</td>\n",
       "      <td>0.992311</td>\n",
       "      <td>0.998278</td>\n",
       "      <td>2.0</td>\n",
       "      <td>3273544.0</td>\n",
       "      <td>0.0</td>\n",
       "      <td>0.0</td>\n",
       "      <td>0.0</td>\n",
       "      <td>0.0</td>\n",
       "      <td>0.0</td>\n",
       "      <td>214658.0</td>\n",
       "      <td>0.0</td>\n",
       "      <td>3971185.0</td>\n",
       "      <td>0.0</td>\n",
       "      <td>2001-01-01</td>\n",
       "    </tr>\n",
       "    <tr>\n",
       "      <th>32</th>\n",
       "      <td>630247bd43db4d1db825f794</td>\n",
       "      <td>-97.875</td>\n",
       "      <td>26.625</td>\n",
       "      <td>US</td>\n",
       "      <td>2629568.0</td>\n",
       "      <td>1216136.0</td>\n",
       "      <td>0.981587</td>\n",
       "      <td>0.997942</td>\n",
       "      <td>4.0</td>\n",
       "      <td>2146586.0</td>\n",
       "      <td>0.0</td>\n",
       "      <td>0.0</td>\n",
       "      <td>0.0</td>\n",
       "      <td>0.0</td>\n",
       "      <td>0.0</td>\n",
       "      <td>0.0</td>\n",
       "      <td>0.0</td>\n",
       "      <td>482982.0</td>\n",
       "      <td>0.0</td>\n",
       "      <td>2001-01-01</td>\n",
       "    </tr>\n",
       "    <tr>\n",
       "      <th>33</th>\n",
       "      <td>630247bd43db4d1db825f7d5</td>\n",
       "      <td>-81.625</td>\n",
       "      <td>26.625</td>\n",
       "      <td>US</td>\n",
       "      <td>1931928.0</td>\n",
       "      <td>878632.0</td>\n",
       "      <td>0.931490</td>\n",
       "      <td>0.982989</td>\n",
       "      <td>1.0</td>\n",
       "      <td>321988.0</td>\n",
       "      <td>0.0</td>\n",
       "      <td>0.0</td>\n",
       "      <td>0.0</td>\n",
       "      <td>0.0</td>\n",
       "      <td>0.0</td>\n",
       "      <td>0.0</td>\n",
       "      <td>0.0</td>\n",
       "      <td>1609940.0</td>\n",
       "      <td>0.0</td>\n",
       "      <td>2001-01-01</td>\n",
       "    </tr>\n",
       "    <tr>\n",
       "      <th>34</th>\n",
       "      <td>630247bd43db4d1db825f7d8</td>\n",
       "      <td>-80.875</td>\n",
       "      <td>26.625</td>\n",
       "      <td>US</td>\n",
       "      <td>40731484.0</td>\n",
       "      <td>1505698.0</td>\n",
       "      <td>0.926913</td>\n",
       "      <td>0.994134</td>\n",
       "      <td>44.0</td>\n",
       "      <td>40624152.0</td>\n",
       "      <td>0.0</td>\n",
       "      <td>0.0</td>\n",
       "      <td>0.0</td>\n",
       "      <td>0.0</td>\n",
       "      <td>0.0</td>\n",
       "      <td>0.0</td>\n",
       "      <td>0.0</td>\n",
       "      <td>0.0</td>\n",
       "      <td>107329.0</td>\n",
       "      <td>2001-01-01</td>\n",
       "    </tr>\n",
       "    <tr>\n",
       "      <th>35</th>\n",
       "      <td>630247bd43db4d1db825f7d9</td>\n",
       "      <td>-80.625</td>\n",
       "      <td>26.625</td>\n",
       "      <td>US</td>\n",
       "      <td>76257496.0</td>\n",
       "      <td>1371594.0</td>\n",
       "      <td>0.967990</td>\n",
       "      <td>0.995184</td>\n",
       "      <td>15.0</td>\n",
       "      <td>74432896.0</td>\n",
       "      <td>0.0</td>\n",
       "      <td>0.0</td>\n",
       "      <td>0.0</td>\n",
       "      <td>375652.0</td>\n",
       "      <td>0.0</td>\n",
       "      <td>0.0</td>\n",
       "      <td>0.0</td>\n",
       "      <td>0.0</td>\n",
       "      <td>1448946.0</td>\n",
       "      <td>2001-01-01</td>\n",
       "    </tr>\n",
       "    <tr>\n",
       "      <th>36</th>\n",
       "      <td>630247bd43db4d1db825f7da</td>\n",
       "      <td>-80.375</td>\n",
       "      <td>26.625</td>\n",
       "      <td>US</td>\n",
       "      <td>61607040.0</td>\n",
       "      <td>917967.0</td>\n",
       "      <td>0.908491</td>\n",
       "      <td>0.984609</td>\n",
       "      <td>33.0</td>\n",
       "      <td>58601816.0</td>\n",
       "      <td>0.0</td>\n",
       "      <td>0.0</td>\n",
       "      <td>0.0</td>\n",
       "      <td>268323.0</td>\n",
       "      <td>0.0</td>\n",
       "      <td>160994.0</td>\n",
       "      <td>0.0</td>\n",
       "      <td>0.0</td>\n",
       "      <td>2575903.0</td>\n",
       "      <td>2001-01-01</td>\n",
       "    </tr>\n",
       "    <tr>\n",
       "      <th>37</th>\n",
       "      <td>630247bd43db4d1db825fd34</td>\n",
       "      <td>-97.875</td>\n",
       "      <td>26.375</td>\n",
       "      <td>US</td>\n",
       "      <td>965964.0</td>\n",
       "      <td>1049256.0</td>\n",
       "      <td>0.975893</td>\n",
       "      <td>0.995631</td>\n",
       "      <td>2.0</td>\n",
       "      <td>965964.0</td>\n",
       "      <td>0.0</td>\n",
       "      <td>0.0</td>\n",
       "      <td>0.0</td>\n",
       "      <td>0.0</td>\n",
       "      <td>0.0</td>\n",
       "      <td>0.0</td>\n",
       "      <td>0.0</td>\n",
       "      <td>0.0</td>\n",
       "      <td>0.0</td>\n",
       "      <td>2001-01-01</td>\n",
       "    </tr>\n",
       "    <tr>\n",
       "      <th>38</th>\n",
       "      <td>630247bd43db4d1db825fd77</td>\n",
       "      <td>-81.125</td>\n",
       "      <td>26.375</td>\n",
       "      <td>US</td>\n",
       "      <td>3917520.0</td>\n",
       "      <td>861361.0</td>\n",
       "      <td>0.999380</td>\n",
       "      <td>0.999845</td>\n",
       "      <td>1.0</td>\n",
       "      <td>2790562.0</td>\n",
       "      <td>0.0</td>\n",
       "      <td>0.0</td>\n",
       "      <td>0.0</td>\n",
       "      <td>214658.0</td>\n",
       "      <td>0.0</td>\n",
       "      <td>0.0</td>\n",
       "      <td>0.0</td>\n",
       "      <td>912299.0</td>\n",
       "      <td>0.0</td>\n",
       "      <td>2001-01-01</td>\n",
       "    </tr>\n",
       "    <tr>\n",
       "      <th>39</th>\n",
       "      <td>630247bd43db4d1db825fd78</td>\n",
       "      <td>-80.875</td>\n",
       "      <td>26.375</td>\n",
       "      <td>US</td>\n",
       "      <td>16206729.0</td>\n",
       "      <td>1026065.0</td>\n",
       "      <td>0.997830</td>\n",
       "      <td>0.999534</td>\n",
       "      <td>25.0</td>\n",
       "      <td>12557532.0</td>\n",
       "      <td>0.0</td>\n",
       "      <td>429317.0</td>\n",
       "      <td>0.0</td>\n",
       "      <td>321988.0</td>\n",
       "      <td>0.0</td>\n",
       "      <td>0.0</td>\n",
       "      <td>0.0</td>\n",
       "      <td>0.0</td>\n",
       "      <td>2897891.0</td>\n",
       "      <td>2001-01-01</td>\n",
       "    </tr>\n",
       "    <tr>\n",
       "      <th>40</th>\n",
       "      <td>630247bd43db4d1db825fd79</td>\n",
       "      <td>-80.625</td>\n",
       "      <td>26.375</td>\n",
       "      <td>US</td>\n",
       "      <td>31876812.0</td>\n",
       "      <td>999323.0</td>\n",
       "      <td>0.982560</td>\n",
       "      <td>0.997633</td>\n",
       "      <td>1.0</td>\n",
       "      <td>31286500.0</td>\n",
       "      <td>0.0</td>\n",
       "      <td>0.0</td>\n",
       "      <td>0.0</td>\n",
       "      <td>0.0</td>\n",
       "      <td>0.0</td>\n",
       "      <td>0.0</td>\n",
       "      <td>0.0</td>\n",
       "      <td>0.0</td>\n",
       "      <td>590311.0</td>\n",
       "      <td>2001-01-01</td>\n",
       "    </tr>\n",
       "    <tr>\n",
       "      <th>41</th>\n",
       "      <td>630247bd43db4d1db825fd7a</td>\n",
       "      <td>-80.375</td>\n",
       "      <td>26.375</td>\n",
       "      <td>US</td>\n",
       "      <td>9283987.0</td>\n",
       "      <td>678116.0</td>\n",
       "      <td>0.945508</td>\n",
       "      <td>0.991228</td>\n",
       "      <td>1.0</td>\n",
       "      <td>9015664.0</td>\n",
       "      <td>0.0</td>\n",
       "      <td>268323.0</td>\n",
       "      <td>0.0</td>\n",
       "      <td>0.0</td>\n",
       "      <td>0.0</td>\n",
       "      <td>0.0</td>\n",
       "      <td>0.0</td>\n",
       "      <td>0.0</td>\n",
       "      <td>0.0</td>\n",
       "      <td>2001-01-01</td>\n",
       "    </tr>\n",
       "    <tr>\n",
       "      <th>42</th>\n",
       "      <td>630247bd43db4d1db8260315</td>\n",
       "      <td>-81.625</td>\n",
       "      <td>26.125</td>\n",
       "      <td>US</td>\n",
       "      <td>1180622.0</td>\n",
       "      <td>996088.0</td>\n",
       "      <td>0.876557</td>\n",
       "      <td>0.975735</td>\n",
       "      <td>1.0</td>\n",
       "      <td>0.0</td>\n",
       "      <td>0.0</td>\n",
       "      <td>0.0</td>\n",
       "      <td>0.0</td>\n",
       "      <td>0.0</td>\n",
       "      <td>0.0</td>\n",
       "      <td>0.0</td>\n",
       "      <td>0.0</td>\n",
       "      <td>0.0</td>\n",
       "      <td>1180622.0</td>\n",
       "      <td>2001-01-01</td>\n",
       "    </tr>\n",
       "  </tbody>\n",
       "</table>\n",
       "</div>"
      ],
      "text/plain": [
       "                         _id      lon     lat country  burned_area  \\\n",
       "0   630247bc43db4d1db824735e -103.375  43.875      US     697640.0   \n",
       "1   630247bc43db4d1db824735f -103.125  43.875      US    1126958.0   \n",
       "2   630247bc43db4d1db824b0ed -123.625  41.125      US    1073293.0   \n",
       "3   630247bc43db4d1db8256520 -110.875  33.125      US     536646.0   \n",
       "4   630247bc43db4d1db8256aa8 -116.875  32.875      US   18889964.0   \n",
       "5   630247bc43db4d1db8256aa9 -116.625  32.875      US   24793076.0   \n",
       "6   630247bc43db4d1db825ae6b -100.125  29.875      US     214658.0   \n",
       "7   630247bc43db4d1db825ae87  -93.125  29.875      US    7459388.0   \n",
       "8   630247bc43db4d1db825ae91  -90.625  29.875      US     107329.0   \n",
       "9   630247bc43db4d1db825aea7  -85.125  29.875      US     107329.0   \n",
       "10  630247bc43db4d1db825aea8  -84.875  29.875      US     160994.0   \n",
       "11  630247bc43db4d1db825b42b  -92.125  29.625      US    3971185.0   \n",
       "12  630247bc43db4d1db825b42c  -91.875  29.625      US    1019628.0   \n",
       "13  630247bc43db4d1db825b430  -90.875  29.625      US    1341616.0   \n",
       "14  630247bc43db4d1db825b9cc  -91.875  29.375      US     214658.0   \n",
       "15  630247bc43db4d1db825b9cf  -91.125  29.375      US    2307580.0   \n",
       "16  630247bc43db4d1db825ca8a -100.375  28.625      US    1341616.0   \n",
       "17  630247bc43db4d1db825d073  -82.125  28.375      US    1931928.0   \n",
       "18  630247bc43db4d1db825d074  -81.875  28.375      US    2039257.0   \n",
       "19  630247bc43db4d1db825d075  -81.625  28.375      US    1770934.0   \n",
       "20  630247bc43db4d1db825d5d8  -96.875  28.125      US    5473796.0   \n",
       "21  630247bc43db4d1db825e156  -81.375  27.625      US     697640.0   \n",
       "22  630247bc43db4d1db825e6f2  -82.375  27.375      US    1663604.0   \n",
       "23  630247bd43db4d1db825ec97  -81.125  27.125      US    2790562.0   \n",
       "24  630247bd43db4d1db825f1f3  -98.125  26.875      US    3058886.0   \n",
       "25  630247bd43db4d1db825f235  -81.625  26.875      US    9874298.0   \n",
       "26  630247bd43db4d1db825f236  -81.375  26.875      US    1448946.0   \n",
       "27  630247bd43db4d1db825f237  -81.125  26.875      US   41321792.0   \n",
       "28  630247bd43db4d1db825f238  -80.875  26.875      US    2361245.0   \n",
       "29  630247bd43db4d1db825f239  -80.625  26.875      US   42019436.0   \n",
       "30  630247bd43db4d1db825f23a  -80.375  26.875      US   10893927.0   \n",
       "31  630247bd43db4d1db825f793  -98.125  26.625      US    7459388.0   \n",
       "32  630247bd43db4d1db825f794  -97.875  26.625      US    2629568.0   \n",
       "33  630247bd43db4d1db825f7d5  -81.625  26.625      US    1931928.0   \n",
       "34  630247bd43db4d1db825f7d8  -80.875  26.625      US   40731484.0   \n",
       "35  630247bd43db4d1db825f7d9  -80.625  26.625      US   76257496.0   \n",
       "36  630247bd43db4d1db825f7da  -80.375  26.625      US   61607040.0   \n",
       "37  630247bd43db4d1db825fd34  -97.875  26.375      US     965964.0   \n",
       "38  630247bd43db4d1db825fd77  -81.125  26.375      US    3917520.0   \n",
       "39  630247bd43db4d1db825fd78  -80.875  26.375      US   16206729.0   \n",
       "40  630247bd43db4d1db825fd79  -80.625  26.375      US   31876812.0   \n",
       "41  630247bd43db4d1db825fd7a  -80.375  26.375      US    9283987.0   \n",
       "42  630247bd43db4d1db8260315  -81.625  26.125      US    1180622.0   \n",
       "\n",
       "    standard_error  fraction_of_burnable_area  fraction_of_observed_area  \\\n",
       "0         709895.0                   0.993549                   0.998353   \n",
       "1         598482.0                   0.997977                   0.999228   \n",
       "2        1112645.0                   0.996682                   0.997318   \n",
       "3         720629.0                   0.975452                   0.996769   \n",
       "4        1055429.0                   0.844838                   0.971037   \n",
       "5        1180796.0                   0.999835                   0.999669   \n",
       "6        1079506.0                   1.000000                   1.000000   \n",
       "7        1205241.0                   0.813116                   0.972427   \n",
       "8         561354.0                   0.880516                   0.991633   \n",
       "9         585425.0                   0.962518                   0.993510   \n",
       "10        575824.0                   0.927839                   0.996029   \n",
       "11        824059.0                   0.348991                   0.959438   \n",
       "12        739397.0                   0.360577                   0.949333   \n",
       "13       1050934.0                   0.955737                   0.986374   \n",
       "14        266338.0                   0.023372                   0.934708   \n",
       "15        824988.0                   0.718157                   0.969367   \n",
       "16       1135205.0                   0.974917                   0.994075   \n",
       "17        972877.0                   0.976476                   0.994179   \n",
       "18       1304267.0                   0.979713                   0.995166   \n",
       "19       1038040.0                   0.822243                   0.957857   \n",
       "20        711309.0                   0.396865                   0.923001   \n",
       "21        832066.0                   0.924596                   0.989997   \n",
       "22        962894.0                   0.780705                   0.951833   \n",
       "23       1044920.0                   0.998284                   0.999140   \n",
       "24       1369119.0                   0.999221                   0.999610   \n",
       "25       1047642.0                   0.997509                   0.999922   \n",
       "26        901982.0                   0.993226                   0.998119   \n",
       "27       1242816.0                   0.924712                   0.993854   \n",
       "28        612138.0                   0.143269                   0.964674   \n",
       "29        989403.0                   0.578579                   0.993542   \n",
       "30        886958.0                   0.944488                   0.989119   \n",
       "31       1133843.0                   0.992311                   0.998278   \n",
       "32       1216136.0                   0.981587                   0.997942   \n",
       "33        878632.0                   0.931490                   0.982989   \n",
       "34       1505698.0                   0.926913                   0.994134   \n",
       "35       1371594.0                   0.967990                   0.995184   \n",
       "36        917967.0                   0.908491                   0.984609   \n",
       "37       1049256.0                   0.975893                   0.995631   \n",
       "38        861361.0                   0.999380                   0.999845   \n",
       "39       1026065.0                   0.997830                   0.999534   \n",
       "40        999323.0                   0.982560                   0.997633   \n",
       "41        678116.0                   0.945508                   0.991228   \n",
       "42        996088.0                   0.876557                   0.975735   \n",
       "\n",
       "    number_of_patches  no_data_burned_area  \\\n",
       "0                 3.0                  0.0   \n",
       "1                 2.0                  0.0   \n",
       "2                 4.0                  0.0   \n",
       "3                 1.0                  0.0   \n",
       "4                 3.0                  0.0   \n",
       "5                 5.0                  0.0   \n",
       "6                 1.0                  0.0   \n",
       "7                 1.0                  0.0   \n",
       "8                 2.0                  0.0   \n",
       "9                 2.0                  0.0   \n",
       "10                3.0                  0.0   \n",
       "11               12.0                  0.0   \n",
       "12                6.0                  0.0   \n",
       "13                1.0                  0.0   \n",
       "14                1.0                  0.0   \n",
       "15                6.0                  0.0   \n",
       "16                7.0             214658.0   \n",
       "17                1.0             160994.0   \n",
       "18                2.0              53664.0   \n",
       "19                4.0             160994.0   \n",
       "20                6.0                  0.0   \n",
       "21                1.0                  0.0   \n",
       "22                1.0                  0.0   \n",
       "23                2.0             912299.0   \n",
       "24                1.0            3058886.0   \n",
       "25                7.0             107329.0   \n",
       "26                1.0                  0.0   \n",
       "27                3.0             912299.0   \n",
       "28                1.0            2200251.0   \n",
       "29               13.0           41643784.0   \n",
       "30               26.0           10679268.0   \n",
       "31                2.0            3273544.0   \n",
       "32                4.0            2146586.0   \n",
       "33                1.0             321988.0   \n",
       "34               44.0           40624152.0   \n",
       "35               15.0           74432896.0   \n",
       "36               33.0           58601816.0   \n",
       "37                2.0             965964.0   \n",
       "38                1.0            2790562.0   \n",
       "39               25.0           12557532.0   \n",
       "40                1.0           31286500.0   \n",
       "41                1.0            9015664.0   \n",
       "42                1.0                  0.0   \n",
       "\n",
       "    tree_cover_broadleaved_evergreen_burned_area  \\\n",
       "0                                            0.0   \n",
       "1                                            0.0   \n",
       "2                                            0.0   \n",
       "3                                            0.0   \n",
       "4                                            0.0   \n",
       "5                                            0.0   \n",
       "6                                            0.0   \n",
       "7                                            0.0   \n",
       "8                                            0.0   \n",
       "9                                            0.0   \n",
       "10                                           0.0   \n",
       "11                                           0.0   \n",
       "12                                           0.0   \n",
       "13                                           0.0   \n",
       "14                                           0.0   \n",
       "15                                           0.0   \n",
       "16                                           0.0   \n",
       "17                                           0.0   \n",
       "18                                           0.0   \n",
       "19                                           0.0   \n",
       "20                                           0.0   \n",
       "21                                           0.0   \n",
       "22                                           0.0   \n",
       "23                                           0.0   \n",
       "24                                           0.0   \n",
       "25                                           0.0   \n",
       "26                                           0.0   \n",
       "27                                           0.0   \n",
       "28                                           0.0   \n",
       "29                                           0.0   \n",
       "30                                           0.0   \n",
       "31                                           0.0   \n",
       "32                                           0.0   \n",
       "33                                           0.0   \n",
       "34                                           0.0   \n",
       "35                                           0.0   \n",
       "36                                           0.0   \n",
       "37                                           0.0   \n",
       "38                                           0.0   \n",
       "39                                           0.0   \n",
       "40                                           0.0   \n",
       "41                                           0.0   \n",
       "42                                           0.0   \n",
       "\n",
       "    tree_cover_broadleaved_deciduous_burned_area  \\\n",
       "0                                            0.0   \n",
       "1                                            0.0   \n",
       "2                                            0.0   \n",
       "3                                            0.0   \n",
       "4                                            0.0   \n",
       "5                                            0.0   \n",
       "6                                            0.0   \n",
       "7                                            0.0   \n",
       "8                                            0.0   \n",
       "9                                            0.0   \n",
       "10                                           0.0   \n",
       "11                                           0.0   \n",
       "12                                           0.0   \n",
       "13                                           0.0   \n",
       "14                                           0.0   \n",
       "15                                           0.0   \n",
       "16                                           0.0   \n",
       "17                                           0.0   \n",
       "18                                           0.0   \n",
       "19                                           0.0   \n",
       "20                                           0.0   \n",
       "21                                           0.0   \n",
       "22                                           0.0   \n",
       "23                                           0.0   \n",
       "24                                           0.0   \n",
       "25                                           0.0   \n",
       "26                                           0.0   \n",
       "27                                           0.0   \n",
       "28                                      160994.0   \n",
       "29                                       53664.0   \n",
       "30                                           0.0   \n",
       "31                                           0.0   \n",
       "32                                           0.0   \n",
       "33                                           0.0   \n",
       "34                                           0.0   \n",
       "35                                           0.0   \n",
       "36                                           0.0   \n",
       "37                                           0.0   \n",
       "38                                           0.0   \n",
       "39                                      429317.0   \n",
       "40                                           0.0   \n",
       "41                                      268323.0   \n",
       "42                                           0.0   \n",
       "\n",
       "    tree_cover_needleleaved_evergreen_burned_area  \\\n",
       "0                                        214658.0   \n",
       "1                                             0.0   \n",
       "2                                       1019628.0   \n",
       "3                                             0.0   \n",
       "4                                             0.0   \n",
       "5                                        804970.0   \n",
       "6                                        160994.0   \n",
       "7                                             0.0   \n",
       "8                                             0.0   \n",
       "9                                             0.0   \n",
       "10                                       107329.0   \n",
       "11                                            0.0   \n",
       "12                                        53664.0   \n",
       "13                                            0.0   \n",
       "14                                            0.0   \n",
       "15                                       107329.0   \n",
       "16                                            0.0   \n",
       "17                                       804970.0   \n",
       "18                                        53664.0   \n",
       "19                                            0.0   \n",
       "20                                            0.0   \n",
       "21                                            0.0   \n",
       "22                                      1234287.0   \n",
       "23                                            0.0   \n",
       "24                                            0.0   \n",
       "25                                            0.0   \n",
       "26                                            0.0   \n",
       "27                                       804970.0   \n",
       "28                                            0.0   \n",
       "29                                            0.0   \n",
       "30                                            0.0   \n",
       "31                                            0.0   \n",
       "32                                            0.0   \n",
       "33                                            0.0   \n",
       "34                                            0.0   \n",
       "35                                            0.0   \n",
       "36                                            0.0   \n",
       "37                                            0.0   \n",
       "38                                            0.0   \n",
       "39                                            0.0   \n",
       "40                                            0.0   \n",
       "41                                            0.0   \n",
       "42                                            0.0   \n",
       "\n",
       "    tree_cover_needleleaved_deciduous_burned_area  \\\n",
       "0                                             0.0   \n",
       "1                                             0.0   \n",
       "2                                             0.0   \n",
       "3                                             0.0   \n",
       "4                                             0.0   \n",
       "5                                         53664.0   \n",
       "6                                             0.0   \n",
       "7                                             0.0   \n",
       "8                                             0.0   \n",
       "9                                             0.0   \n",
       "10                                            0.0   \n",
       "11                                            0.0   \n",
       "12                                            0.0   \n",
       "13                                            0.0   \n",
       "14                                            0.0   \n",
       "15                                            0.0   \n",
       "16                                            0.0   \n",
       "17                                            0.0   \n",
       "18                                            0.0   \n",
       "19                                            0.0   \n",
       "20                                      1556275.0   \n",
       "21                                            0.0   \n",
       "22                                            0.0   \n",
       "23                                            0.0   \n",
       "24                                            0.0   \n",
       "25                                      1126958.0   \n",
       "26                                            0.0   \n",
       "27                                      1019628.0   \n",
       "28                                            0.0   \n",
       "29                                        53664.0   \n",
       "30                                            0.0   \n",
       "31                                            0.0   \n",
       "32                                            0.0   \n",
       "33                                            0.0   \n",
       "34                                            0.0   \n",
       "35                                       375652.0   \n",
       "36                                       268323.0   \n",
       "37                                            0.0   \n",
       "38                                       214658.0   \n",
       "39                                       321988.0   \n",
       "40                                            0.0   \n",
       "41                                            0.0   \n",
       "42                                            0.0   \n",
       "\n",
       "    tree_cover_mixed_leave_burned_area  cropland_burned_area  \\\n",
       "0                                  0.0              214658.0   \n",
       "1                                  0.0                   0.0   \n",
       "2                              53664.0                   0.0   \n",
       "3                                  0.0                   0.0   \n",
       "4                                  0.0              268323.0   \n",
       "5                            1717269.0              375652.0   \n",
       "6                                  0.0                   0.0   \n",
       "7                                  0.0                   0.0   \n",
       "8                                  0.0                   0.0   \n",
       "9                                  0.0                   0.0   \n",
       "10                                 0.0                   0.0   \n",
       "11                                 0.0                   0.0   \n",
       "12                                 0.0                   0.0   \n",
       "13                                 0.0                   0.0   \n",
       "14                                 0.0                   0.0   \n",
       "15                                 0.0                   0.0   \n",
       "16                                 0.0              268323.0   \n",
       "17                                 0.0              107329.0   \n",
       "18                                 0.0              214658.0   \n",
       "19                                 0.0                   0.0   \n",
       "20                                 0.0                   0.0   \n",
       "21                                 0.0                   0.0   \n",
       "22                                 0.0               53664.0   \n",
       "23                                 0.0                   0.0   \n",
       "24                                 0.0                   0.0   \n",
       "25                                 0.0              268323.0   \n",
       "26                                 0.0                   0.0   \n",
       "27                                 0.0             3112550.0   \n",
       "28                                 0.0                   0.0   \n",
       "29                                 0.0                   0.0   \n",
       "30                                 0.0                   0.0   \n",
       "31                                 0.0              214658.0   \n",
       "32                                 0.0                   0.0   \n",
       "33                                 0.0                   0.0   \n",
       "34                                 0.0                   0.0   \n",
       "35                                 0.0                   0.0   \n",
       "36                                 0.0              160994.0   \n",
       "37                                 0.0                   0.0   \n",
       "38                                 0.0                   0.0   \n",
       "39                                 0.0                   0.0   \n",
       "40                                 0.0                   0.0   \n",
       "41                                 0.0                   0.0   \n",
       "42                                 0.0                   0.0   \n",
       "\n",
       "    mosaic_tree_grass_burned_area  other_vegetation_burned_area  \\\n",
       "0                             0.0                      268323.0   \n",
       "1                             0.0                     1126958.0   \n",
       "2                             0.0                           0.0   \n",
       "3                             0.0                      536646.0   \n",
       "4                             0.0                    18621640.0   \n",
       "5                        107328.0                    21787854.0   \n",
       "6                             0.0                       53664.0   \n",
       "7                             0.0                       53664.0   \n",
       "8                             0.0                           0.0   \n",
       "9                             0.0                           0.0   \n",
       "10                            0.0                           0.0   \n",
       "11                            0.0                           0.0   \n",
       "12                            0.0                           0.0   \n",
       "13                            0.0                           0.0   \n",
       "14                            0.0                           0.0   \n",
       "15                            0.0                           0.0   \n",
       "16                            0.0                      858634.0   \n",
       "17                            0.0                      482982.0   \n",
       "18                       214658.0                           0.0   \n",
       "19                            0.0                      590311.0   \n",
       "20                            0.0                     1770933.0   \n",
       "21                            0.0                      697640.0   \n",
       "22                            0.0                      375652.0   \n",
       "23                            0.0                     1878263.0   \n",
       "24                            0.0                           0.0   \n",
       "25                            0.0                     7298394.0   \n",
       "26                            0.0                     1448946.0   \n",
       "27                      5473796.0                     3649197.0   \n",
       "28                            0.0                           0.0   \n",
       "29                            0.0                           0.0   \n",
       "30                            0.0                           0.0   \n",
       "31                            0.0                     3971185.0   \n",
       "32                            0.0                      482982.0   \n",
       "33                            0.0                     1609940.0   \n",
       "34                            0.0                           0.0   \n",
       "35                            0.0                           0.0   \n",
       "36                            0.0                           0.0   \n",
       "37                            0.0                           0.0   \n",
       "38                            0.0                      912299.0   \n",
       "39                            0.0                           0.0   \n",
       "40                            0.0                           0.0   \n",
       "41                            0.0                           0.0   \n",
       "42                            0.0                           0.0   \n",
       "\n",
       "    flooded_area_burned_area        date  \n",
       "0                        0.0  2001-01-01  \n",
       "1                        0.0  2001-01-01  \n",
       "2                        0.0  2001-01-01  \n",
       "3                        0.0  2001-01-01  \n",
       "4                        0.0  2001-01-01  \n",
       "5                        0.0  2001-01-01  \n",
       "6                        0.0  2001-01-01  \n",
       "7                  7405724.0  2001-01-01  \n",
       "8                   107329.0  2001-01-01  \n",
       "9                   107329.0  2001-01-01  \n",
       "10                   53664.0  2001-01-01  \n",
       "11                 3971185.0  2001-01-01  \n",
       "12                  965964.0  2001-01-01  \n",
       "13                 1341616.0  2001-01-01  \n",
       "14                  214658.0  2001-01-01  \n",
       "15                 2200251.0  2001-01-01  \n",
       "16                       0.0  2001-01-01  \n",
       "17                  375652.0  2001-01-01  \n",
       "18                 1609940.0  2001-01-01  \n",
       "19                 1019628.0  2001-01-01  \n",
       "20                 2146586.0  2001-01-01  \n",
       "21                       0.0  2001-01-01  \n",
       "22                       0.0  2001-01-01  \n",
       "23                       0.0  2001-01-01  \n",
       "24                       0.0  2001-01-01  \n",
       "25                 1073292.0  2001-01-01  \n",
       "26                       0.0  2001-01-01  \n",
       "27                29086250.0  2001-01-01  \n",
       "28                       0.0  2001-01-01  \n",
       "29                  268323.0  2001-01-01  \n",
       "30                  214658.0  2001-01-01  \n",
       "31                       0.0  2001-01-01  \n",
       "32                       0.0  2001-01-01  \n",
       "33                       0.0  2001-01-01  \n",
       "34                  107329.0  2001-01-01  \n",
       "35                 1448946.0  2001-01-01  \n",
       "36                 2575903.0  2001-01-01  \n",
       "37                       0.0  2001-01-01  \n",
       "38                       0.0  2001-01-01  \n",
       "39                 2897891.0  2001-01-01  \n",
       "40                  590311.0  2001-01-01  \n",
       "41                       0.0  2001-01-01  \n",
       "42                 1180622.0  2001-01-01  "
      ]
     },
     "execution_count": 48,
     "metadata": {},
     "output_type": "execute_result"
    }
   ],
   "source": [
    "cursor = mycol.find(query)\n",
    "df =  pd.DataFrame(list(cursor))\n",
    "df"
   ]
  },
  {
   "cell_type": "code",
   "execution_count": 49,
   "metadata": {},
   "outputs": [],
   "source": [
    "df_groupby = df.groupby(by='country').sum()\n",
    "df_groupby = df_groupby.drop(columns=['lon', 'lat', 'burned_area', 'standard_error', 'fraction_of_burnable_area','fraction_of_observed_area', 'number_of_patches' ])\n",
    "df_groupby = df_groupby.transpose()\n",
    "df_groupby = df_groupby.reset_index()"
   ]
  },
  {
   "cell_type": "code",
   "execution_count": 50,
   "metadata": {},
   "outputs": [
    {
     "data": {
      "text/plain": [
       "Index(['index', 'US'], dtype='object', name='country')"
      ]
     },
     "execution_count": 50,
     "metadata": {},
     "output_type": "execute_result"
    }
   ],
   "source": [
    "df_groupby.columns"
   ]
  },
  {
   "cell_type": "code",
   "execution_count": 51,
   "metadata": {},
   "outputs": [
    {
     "data": {
      "application/vnd.plotly.v1+json": {
       "config": {
        "plotlyServerURL": "https://plot.ly"
       },
       "data": [
        {
         "alignmentgroup": "True",
         "hovertemplate": "index=%{x}<br>US=%{y}<extra></extra>",
         "legendgroup": "",
         "marker": {
          "color": "#636efa",
          "pattern": {
           "shape": ""
          }
         },
         "name": "",
         "offsetgroup": "",
         "orientation": "v",
         "showlegend": false,
         "textposition": "auto",
         "type": "bar",
         "x": [
          "no_data_burned_area",
          "tree_cover_broadleaved_evergreen_burned_area",
          "tree_cover_broadleaved_deciduous_burned_area",
          "tree_cover_needleleaved_evergreen_burned_area",
          "tree_cover_needleleaved_deciduous_burned_area",
          "tree_cover_mixed_leave_burned_area",
          "cropland_burned_area",
          "mosaic_tree_grass_burned_area",
          "other_vegetation_burned_area",
          "flooded_area_burned_area"
         ],
         "xaxis": "x",
         "y": [
          296121630,
          0,
          912298,
          5366463,
          4990810,
          1770933,
          5259132,
          5795782,
          68476107,
          60963051
         ],
         "yaxis": "y"
        }
       ],
       "layout": {
        "barmode": "relative",
        "legend": {
         "tracegroupgap": 0
        },
        "margin": {
         "t": 60
        },
        "template": {
         "data": {
          "bar": [
           {
            "error_x": {
             "color": "#2a3f5f"
            },
            "error_y": {
             "color": "#2a3f5f"
            },
            "marker": {
             "line": {
              "color": "#E5ECF6",
              "width": 0.5
             },
             "pattern": {
              "fillmode": "overlay",
              "size": 10,
              "solidity": 0.2
             }
            },
            "type": "bar"
           }
          ],
          "barpolar": [
           {
            "marker": {
             "line": {
              "color": "#E5ECF6",
              "width": 0.5
             },
             "pattern": {
              "fillmode": "overlay",
              "size": 10,
              "solidity": 0.2
             }
            },
            "type": "barpolar"
           }
          ],
          "carpet": [
           {
            "aaxis": {
             "endlinecolor": "#2a3f5f",
             "gridcolor": "white",
             "linecolor": "white",
             "minorgridcolor": "white",
             "startlinecolor": "#2a3f5f"
            },
            "baxis": {
             "endlinecolor": "#2a3f5f",
             "gridcolor": "white",
             "linecolor": "white",
             "minorgridcolor": "white",
             "startlinecolor": "#2a3f5f"
            },
            "type": "carpet"
           }
          ],
          "choropleth": [
           {
            "colorbar": {
             "outlinewidth": 0,
             "ticks": ""
            },
            "type": "choropleth"
           }
          ],
          "contour": [
           {
            "colorbar": {
             "outlinewidth": 0,
             "ticks": ""
            },
            "colorscale": [
             [
              0,
              "#0d0887"
             ],
             [
              0.1111111111111111,
              "#46039f"
             ],
             [
              0.2222222222222222,
              "#7201a8"
             ],
             [
              0.3333333333333333,
              "#9c179e"
             ],
             [
              0.4444444444444444,
              "#bd3786"
             ],
             [
              0.5555555555555556,
              "#d8576b"
             ],
             [
              0.6666666666666666,
              "#ed7953"
             ],
             [
              0.7777777777777778,
              "#fb9f3a"
             ],
             [
              0.8888888888888888,
              "#fdca26"
             ],
             [
              1,
              "#f0f921"
             ]
            ],
            "type": "contour"
           }
          ],
          "contourcarpet": [
           {
            "colorbar": {
             "outlinewidth": 0,
             "ticks": ""
            },
            "type": "contourcarpet"
           }
          ],
          "heatmap": [
           {
            "colorbar": {
             "outlinewidth": 0,
             "ticks": ""
            },
            "colorscale": [
             [
              0,
              "#0d0887"
             ],
             [
              0.1111111111111111,
              "#46039f"
             ],
             [
              0.2222222222222222,
              "#7201a8"
             ],
             [
              0.3333333333333333,
              "#9c179e"
             ],
             [
              0.4444444444444444,
              "#bd3786"
             ],
             [
              0.5555555555555556,
              "#d8576b"
             ],
             [
              0.6666666666666666,
              "#ed7953"
             ],
             [
              0.7777777777777778,
              "#fb9f3a"
             ],
             [
              0.8888888888888888,
              "#fdca26"
             ],
             [
              1,
              "#f0f921"
             ]
            ],
            "type": "heatmap"
           }
          ],
          "heatmapgl": [
           {
            "colorbar": {
             "outlinewidth": 0,
             "ticks": ""
            },
            "colorscale": [
             [
              0,
              "#0d0887"
             ],
             [
              0.1111111111111111,
              "#46039f"
             ],
             [
              0.2222222222222222,
              "#7201a8"
             ],
             [
              0.3333333333333333,
              "#9c179e"
             ],
             [
              0.4444444444444444,
              "#bd3786"
             ],
             [
              0.5555555555555556,
              "#d8576b"
             ],
             [
              0.6666666666666666,
              "#ed7953"
             ],
             [
              0.7777777777777778,
              "#fb9f3a"
             ],
             [
              0.8888888888888888,
              "#fdca26"
             ],
             [
              1,
              "#f0f921"
             ]
            ],
            "type": "heatmapgl"
           }
          ],
          "histogram": [
           {
            "marker": {
             "pattern": {
              "fillmode": "overlay",
              "size": 10,
              "solidity": 0.2
             }
            },
            "type": "histogram"
           }
          ],
          "histogram2d": [
           {
            "colorbar": {
             "outlinewidth": 0,
             "ticks": ""
            },
            "colorscale": [
             [
              0,
              "#0d0887"
             ],
             [
              0.1111111111111111,
              "#46039f"
             ],
             [
              0.2222222222222222,
              "#7201a8"
             ],
             [
              0.3333333333333333,
              "#9c179e"
             ],
             [
              0.4444444444444444,
              "#bd3786"
             ],
             [
              0.5555555555555556,
              "#d8576b"
             ],
             [
              0.6666666666666666,
              "#ed7953"
             ],
             [
              0.7777777777777778,
              "#fb9f3a"
             ],
             [
              0.8888888888888888,
              "#fdca26"
             ],
             [
              1,
              "#f0f921"
             ]
            ],
            "type": "histogram2d"
           }
          ],
          "histogram2dcontour": [
           {
            "colorbar": {
             "outlinewidth": 0,
             "ticks": ""
            },
            "colorscale": [
             [
              0,
              "#0d0887"
             ],
             [
              0.1111111111111111,
              "#46039f"
             ],
             [
              0.2222222222222222,
              "#7201a8"
             ],
             [
              0.3333333333333333,
              "#9c179e"
             ],
             [
              0.4444444444444444,
              "#bd3786"
             ],
             [
              0.5555555555555556,
              "#d8576b"
             ],
             [
              0.6666666666666666,
              "#ed7953"
             ],
             [
              0.7777777777777778,
              "#fb9f3a"
             ],
             [
              0.8888888888888888,
              "#fdca26"
             ],
             [
              1,
              "#f0f921"
             ]
            ],
            "type": "histogram2dcontour"
           }
          ],
          "mesh3d": [
           {
            "colorbar": {
             "outlinewidth": 0,
             "ticks": ""
            },
            "type": "mesh3d"
           }
          ],
          "parcoords": [
           {
            "line": {
             "colorbar": {
              "outlinewidth": 0,
              "ticks": ""
             }
            },
            "type": "parcoords"
           }
          ],
          "pie": [
           {
            "automargin": true,
            "type": "pie"
           }
          ],
          "scatter": [
           {
            "marker": {
             "colorbar": {
              "outlinewidth": 0,
              "ticks": ""
             }
            },
            "type": "scatter"
           }
          ],
          "scatter3d": [
           {
            "line": {
             "colorbar": {
              "outlinewidth": 0,
              "ticks": ""
             }
            },
            "marker": {
             "colorbar": {
              "outlinewidth": 0,
              "ticks": ""
             }
            },
            "type": "scatter3d"
           }
          ],
          "scattercarpet": [
           {
            "marker": {
             "colorbar": {
              "outlinewidth": 0,
              "ticks": ""
             }
            },
            "type": "scattercarpet"
           }
          ],
          "scattergeo": [
           {
            "marker": {
             "colorbar": {
              "outlinewidth": 0,
              "ticks": ""
             }
            },
            "type": "scattergeo"
           }
          ],
          "scattergl": [
           {
            "marker": {
             "colorbar": {
              "outlinewidth": 0,
              "ticks": ""
             }
            },
            "type": "scattergl"
           }
          ],
          "scattermapbox": [
           {
            "marker": {
             "colorbar": {
              "outlinewidth": 0,
              "ticks": ""
             }
            },
            "type": "scattermapbox"
           }
          ],
          "scatterpolar": [
           {
            "marker": {
             "colorbar": {
              "outlinewidth": 0,
              "ticks": ""
             }
            },
            "type": "scatterpolar"
           }
          ],
          "scatterpolargl": [
           {
            "marker": {
             "colorbar": {
              "outlinewidth": 0,
              "ticks": ""
             }
            },
            "type": "scatterpolargl"
           }
          ],
          "scatterternary": [
           {
            "marker": {
             "colorbar": {
              "outlinewidth": 0,
              "ticks": ""
             }
            },
            "type": "scatterternary"
           }
          ],
          "surface": [
           {
            "colorbar": {
             "outlinewidth": 0,
             "ticks": ""
            },
            "colorscale": [
             [
              0,
              "#0d0887"
             ],
             [
              0.1111111111111111,
              "#46039f"
             ],
             [
              0.2222222222222222,
              "#7201a8"
             ],
             [
              0.3333333333333333,
              "#9c179e"
             ],
             [
              0.4444444444444444,
              "#bd3786"
             ],
             [
              0.5555555555555556,
              "#d8576b"
             ],
             [
              0.6666666666666666,
              "#ed7953"
             ],
             [
              0.7777777777777778,
              "#fb9f3a"
             ],
             [
              0.8888888888888888,
              "#fdca26"
             ],
             [
              1,
              "#f0f921"
             ]
            ],
            "type": "surface"
           }
          ],
          "table": [
           {
            "cells": {
             "fill": {
              "color": "#EBF0F8"
             },
             "line": {
              "color": "white"
             }
            },
            "header": {
             "fill": {
              "color": "#C8D4E3"
             },
             "line": {
              "color": "white"
             }
            },
            "type": "table"
           }
          ]
         },
         "layout": {
          "annotationdefaults": {
           "arrowcolor": "#2a3f5f",
           "arrowhead": 0,
           "arrowwidth": 1
          },
          "autotypenumbers": "strict",
          "coloraxis": {
           "colorbar": {
            "outlinewidth": 0,
            "ticks": ""
           }
          },
          "colorscale": {
           "diverging": [
            [
             0,
             "#8e0152"
            ],
            [
             0.1,
             "#c51b7d"
            ],
            [
             0.2,
             "#de77ae"
            ],
            [
             0.3,
             "#f1b6da"
            ],
            [
             0.4,
             "#fde0ef"
            ],
            [
             0.5,
             "#f7f7f7"
            ],
            [
             0.6,
             "#e6f5d0"
            ],
            [
             0.7,
             "#b8e186"
            ],
            [
             0.8,
             "#7fbc41"
            ],
            [
             0.9,
             "#4d9221"
            ],
            [
             1,
             "#276419"
            ]
           ],
           "sequential": [
            [
             0,
             "#0d0887"
            ],
            [
             0.1111111111111111,
             "#46039f"
            ],
            [
             0.2222222222222222,
             "#7201a8"
            ],
            [
             0.3333333333333333,
             "#9c179e"
            ],
            [
             0.4444444444444444,
             "#bd3786"
            ],
            [
             0.5555555555555556,
             "#d8576b"
            ],
            [
             0.6666666666666666,
             "#ed7953"
            ],
            [
             0.7777777777777778,
             "#fb9f3a"
            ],
            [
             0.8888888888888888,
             "#fdca26"
            ],
            [
             1,
             "#f0f921"
            ]
           ],
           "sequentialminus": [
            [
             0,
             "#0d0887"
            ],
            [
             0.1111111111111111,
             "#46039f"
            ],
            [
             0.2222222222222222,
             "#7201a8"
            ],
            [
             0.3333333333333333,
             "#9c179e"
            ],
            [
             0.4444444444444444,
             "#bd3786"
            ],
            [
             0.5555555555555556,
             "#d8576b"
            ],
            [
             0.6666666666666666,
             "#ed7953"
            ],
            [
             0.7777777777777778,
             "#fb9f3a"
            ],
            [
             0.8888888888888888,
             "#fdca26"
            ],
            [
             1,
             "#f0f921"
            ]
           ]
          },
          "colorway": [
           "#636efa",
           "#EF553B",
           "#00cc96",
           "#ab63fa",
           "#FFA15A",
           "#19d3f3",
           "#FF6692",
           "#B6E880",
           "#FF97FF",
           "#FECB52"
          ],
          "font": {
           "color": "#2a3f5f"
          },
          "geo": {
           "bgcolor": "white",
           "lakecolor": "white",
           "landcolor": "#E5ECF6",
           "showlakes": true,
           "showland": true,
           "subunitcolor": "white"
          },
          "hoverlabel": {
           "align": "left"
          },
          "hovermode": "closest",
          "mapbox": {
           "style": "light"
          },
          "paper_bgcolor": "white",
          "plot_bgcolor": "#E5ECF6",
          "polar": {
           "angularaxis": {
            "gridcolor": "white",
            "linecolor": "white",
            "ticks": ""
           },
           "bgcolor": "#E5ECF6",
           "radialaxis": {
            "gridcolor": "white",
            "linecolor": "white",
            "ticks": ""
           }
          },
          "scene": {
           "xaxis": {
            "backgroundcolor": "#E5ECF6",
            "gridcolor": "white",
            "gridwidth": 2,
            "linecolor": "white",
            "showbackground": true,
            "ticks": "",
            "zerolinecolor": "white"
           },
           "yaxis": {
            "backgroundcolor": "#E5ECF6",
            "gridcolor": "white",
            "gridwidth": 2,
            "linecolor": "white",
            "showbackground": true,
            "ticks": "",
            "zerolinecolor": "white"
           },
           "zaxis": {
            "backgroundcolor": "#E5ECF6",
            "gridcolor": "white",
            "gridwidth": 2,
            "linecolor": "white",
            "showbackground": true,
            "ticks": "",
            "zerolinecolor": "white"
           }
          },
          "shapedefaults": {
           "line": {
            "color": "#2a3f5f"
           }
          },
          "ternary": {
           "aaxis": {
            "gridcolor": "white",
            "linecolor": "white",
            "ticks": ""
           },
           "baxis": {
            "gridcolor": "white",
            "linecolor": "white",
            "ticks": ""
           },
           "bgcolor": "#E5ECF6",
           "caxis": {
            "gridcolor": "white",
            "linecolor": "white",
            "ticks": ""
           }
          },
          "title": {
           "x": 0.05
          },
          "xaxis": {
           "automargin": true,
           "gridcolor": "white",
           "linecolor": "white",
           "ticks": "",
           "title": {
            "standoff": 15
           },
           "zerolinecolor": "white",
           "zerolinewidth": 2
          },
          "yaxis": {
           "automargin": true,
           "gridcolor": "white",
           "linecolor": "white",
           "ticks": "",
           "title": {
            "standoff": 15
           },
           "zerolinecolor": "white",
           "zerolinewidth": 2
          }
         }
        },
        "xaxis": {
         "anchor": "y",
         "domain": [
          0,
          1
         ],
         "title": {
          "text": "index"
         }
        },
        "yaxis": {
         "anchor": "x",
         "domain": [
          0,
          1
         ],
         "title": {
          "text": "US"
         }
        }
       }
      }
     },
     "metadata": {},
     "output_type": "display_data"
    }
   ],
   "source": [
    "import plotly.express as px\n",
    "fig = px.bar(df_groupby, x='index', y='US')\n",
    "fig.show()"
   ]
  }
 ],
 "metadata": {
  "kernelspec": {
   "display_name": "Python 3.7.11 ('base')",
   "language": "python",
   "name": "python3"
  },
  "language_info": {
   "codemirror_mode": {
    "name": "ipython",
    "version": 3
   },
   "file_extension": ".py",
   "mimetype": "text/x-python",
   "name": "python",
   "nbconvert_exporter": "python",
   "pygments_lexer": "ipython3",
   "version": "3.7.11"
  },
  "orig_nbformat": 4,
  "vscode": {
   "interpreter": {
    "hash": "df5c7b8ffaedf80dec2b70b09605990d7e0e1b6bc745b497330e86cbe58a738e"
   }
  }
 },
 "nbformat": 4,
 "nbformat_minor": 2
}
