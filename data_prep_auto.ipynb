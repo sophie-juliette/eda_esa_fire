{
 "cells": [
  {
   "cell_type": "code",
   "execution_count": 1,
   "metadata": {},
   "outputs": [],
   "source": [
    "import netCDF4 as nc\n",
    "import pandas as pd\n",
    "import numpy as np\n",
    "import plotly.graph_objects as go\n",
    "import reverse_geocoder as rg\n",
    "import psycopg2 \n",
    "from sqlalchemy import create_engine\n",
    "import json\n",
    "from pymongo import MongoClient\n",
    "import warnings\n",
    "warnings.filterwarnings('ignore')"
   ]
  },
  {
   "cell_type": "code",
   "execution_count": 2,
   "metadata": {},
   "outputs": [],
   "source": [
    "def create_geoframe(dataset):\n",
    "    lat = dataset['lat'][:]\n",
    "    lon = dataset['lon'][:]\n",
    "    lons, lats = np.meshgrid(lon, lat)\n",
    "    lons_flatt = lons.flatten()\n",
    "    lats_flatt = lats.flatten()\n",
    "    whole_world = {\n",
    "    'lon': lons_flatt, \n",
    "    'lat': lats_flatt, }\n",
    "    geoframe = pd.DataFrame(whole_world)\n",
    "    return geoframe"
   ]
  },
  {
   "cell_type": "code",
   "execution_count": 3,
   "metadata": {},
   "outputs": [],
   "source": [
    "def create_column(dataset,name_variable):\n",
    "    df_temp = pd.DataFrame()\n",
    "    variable = dataset[name_variable][:]\n",
    "    variable = variable[0]\n",
    "    variable_flatt = variable.flatten()\n",
    "    df_temp[name_variable] = variable_flatt\n",
    "    return df_temp"
   ]
  },
  {
   "cell_type": "code",
   "execution_count": 4,
   "metadata": {},
   "outputs": [],
   "source": [
    "def add_country(dataframe):\n",
    "    coords = tuple(zip(dataframe['lat'], dataframe['lon']))\n",
    "    results_rg = rg.search(coords)\n",
    "    results_admin2 = [x.get('cc') for x in results_rg]\n",
    "    dataframe['country'] = results_admin2\n",
    "    return dataframe"
   ]
  },
  {
   "cell_type": "code",
   "execution_count": 5,
   "metadata": {},
   "outputs": [],
   "source": [
    "def create_vegetation_class_breakdown(dataset):\n",
    "    burned_area_in_vegetation_class= dataset['burned_area_in_vegetation_class'][:][0]\n",
    "    i_vegetation_class = 10 \n",
    "    df_temp = pd.DataFrame()\n",
    "    for burned_area_per_veg_class in burned_area_in_vegetation_class:\n",
    "        s_vegetation_class= f\"{i_vegetation_class}_burned_area\"\n",
    "        burned_area_per_veg_class_flatt= burned_area_per_veg_class.flatten()\n",
    "        df_temp[s_vegetation_class] = burned_area_per_veg_class_flatt\n",
    "        i_vegetation_class= i_vegetation_class + 10\n",
    "    df_temp['cropland_burned_area'] = df_temp['20_burned_area'] + df_temp['30_burned_area'] + df_temp['40_burned_area']\n",
    "    df_temp['mosaic_tree_grass_burned_area'] = df_temp['100_burned_area'] + df_temp['100_burned_area']\n",
    "    df_temp['other_vegetation_burned_area']= df_temp['120_burned_area'] + df_temp['130_burned_area'] + df_temp['140_burned_area']+ df_temp['150_burned_area']\n",
    "    df_temp['flooded_area_burned_area']= df_temp['160_burned_area'] + df_temp['170_burned_area'] + df_temp['180_burned_area']\n",
    "    df_temp.drop(columns=['20_burned_area','30_burned_area','40_burned_area','100_burned_area','110_burned_area','120_burned_area', '130_burned_area', '140_burned_area', '150_burned_area','160_burned_area','170_burned_area','180_burned_area'], inplace=True)\n",
    "    replace_names={ '10_burned_area': 'no_data' + \"_burned_area\",\n",
    "            '50_burned_area': 'tree_cover_broadleaved_evergreen' + \"_burned_area\",\n",
    "            '60_burned_area': 'tree_cover_broadleaved_deciduous' + \"_burned_area\", \n",
    "            '70_burned_area': 'tree_cover_needleleaved_evergreen' + \"_burned_area\", \n",
    "            '80_burned_area': 'tree_cover_needleleaved_deciduous' + \"_burned_area\", \n",
    "            '90_burned_area': 'tree_cover_mixed_leave' + \"_burned_area\", }\n",
    "    df_temp.rename(columns = replace_names, inplace = True)\n",
    "    return df_temp"
   ]
  },
  {
   "cell_type": "code",
   "execution_count": 6,
   "metadata": {},
   "outputs": [],
   "source": [
    "def add_date(filename, dataframe ):\n",
    "    string_date = filename[-11:-7] + \"-\" + filename[-7:-5] + \"-\" + filename[-5:-3]\n",
    "    dataframe['date'] = string_date\n",
    "    return dataframe"
   ]
  },
  {
   "cell_type": "code",
   "execution_count": 7,
   "metadata": {},
   "outputs": [
    {
     "data": {
      "text/plain": [
       "['MODIS_20010101.nc',\n",
       " 'MODIS_20010201.nc',\n",
       " 'MODIS_20010301.nc',\n",
       " 'MODIS_20010401.nc',\n",
       " 'MODIS_20010501.nc',\n",
       " 'MODIS_20010601.nc',\n",
       " 'MODIS_20010701.nc',\n",
       " 'MODIS_20010801.nc',\n",
       " 'MODIS_20010901.nc',\n",
       " 'MODIS_20011001.nc',\n",
       " 'MODIS_20011101.nc',\n",
       " 'MODIS_20011201.nc',\n",
       " 'MODIS_20020101.nc',\n",
       " 'MODIS_20020201.nc',\n",
       " 'MODIS_20020301.nc',\n",
       " 'MODIS_20020401.nc',\n",
       " 'MODIS_20020501.nc',\n",
       " 'MODIS_20020601.nc',\n",
       " 'MODIS_20020701.nc',\n",
       " 'MODIS_20020801.nc',\n",
       " 'MODIS_20020901.nc',\n",
       " 'MODIS_20021001.nc',\n",
       " 'MODIS_20021101.nc',\n",
       " 'MODIS_20021201.nc',\n",
       " 'MODIS_20030101.nc',\n",
       " 'MODIS_20030201.nc',\n",
       " 'MODIS_20030301.nc',\n",
       " 'MODIS_20030401.nc',\n",
       " 'MODIS_20030501.nc',\n",
       " 'MODIS_20030601.nc',\n",
       " 'MODIS_20030701.nc',\n",
       " 'MODIS_20030801.nc',\n",
       " 'MODIS_20030901.nc',\n",
       " 'MODIS_20031001.nc',\n",
       " 'MODIS_20031101.nc',\n",
       " 'MODIS_20031201.nc',\n",
       " 'MODIS_20040101.nc',\n",
       " 'MODIS_20040201.nc',\n",
       " 'MODIS_20040301.nc',\n",
       " 'MODIS_20040401.nc',\n",
       " 'MODIS_20040501.nc',\n",
       " 'MODIS_20040601.nc',\n",
       " 'MODIS_20040701.nc',\n",
       " 'MODIS_20040801.nc',\n",
       " 'MODIS_20040901.nc',\n",
       " 'MODIS_20041001.nc',\n",
       " 'MODIS_20041101.nc',\n",
       " 'MODIS_20041201.nc',\n",
       " 'MODIS_20050101.nc',\n",
       " 'MODIS_20050201.nc',\n",
       " 'MODIS_20050301.nc',\n",
       " 'MODIS_20050401.nc',\n",
       " 'MODIS_20050501.nc',\n",
       " 'MODIS_20050601.nc',\n",
       " 'MODIS_20050701.nc',\n",
       " 'MODIS_20050801.nc',\n",
       " 'MODIS_20050901.nc',\n",
       " 'MODIS_20051001.nc',\n",
       " 'MODIS_20051101.nc',\n",
       " 'MODIS_20051201.nc',\n",
       " 'MODIS_20060101.nc',\n",
       " 'MODIS_20060201.nc',\n",
       " 'MODIS_20060301.nc',\n",
       " 'MODIS_20060401.nc',\n",
       " 'MODIS_20060501.nc',\n",
       " 'MODIS_20060601.nc',\n",
       " 'MODIS_20060701.nc',\n",
       " 'MODIS_20060801.nc',\n",
       " 'MODIS_20060901.nc',\n",
       " 'MODIS_20061001.nc',\n",
       " 'MODIS_20061101.nc',\n",
       " 'MODIS_20061201.nc',\n",
       " 'MODIS_20070101.nc',\n",
       " 'MODIS_20070201.nc',\n",
       " 'MODIS_20070301.nc',\n",
       " 'MODIS_20070401.nc',\n",
       " 'MODIS_20070501.nc',\n",
       " 'MODIS_20070601.nc',\n",
       " 'MODIS_20070701.nc',\n",
       " 'MODIS_20070801.nc',\n",
       " 'MODIS_20070901.nc',\n",
       " 'MODIS_20071001.nc',\n",
       " 'MODIS_20071101.nc',\n",
       " 'MODIS_20071201.nc',\n",
       " 'MODIS_20080101.nc',\n",
       " 'MODIS_20080201.nc',\n",
       " 'MODIS_20080301.nc',\n",
       " 'MODIS_20080401.nc',\n",
       " 'MODIS_20080501.nc',\n",
       " 'MODIS_20080601.nc',\n",
       " 'MODIS_20080701.nc',\n",
       " 'MODIS_20080801.nc',\n",
       " 'MODIS_20080901.nc',\n",
       " 'MODIS_20081001.nc',\n",
       " 'MODIS_20081101.nc',\n",
       " 'MODIS_20081201.nc',\n",
       " 'MODIS_20090101.nc',\n",
       " 'MODIS_20090201.nc',\n",
       " 'MODIS_20090301.nc',\n",
       " 'MODIS_20090401.nc',\n",
       " 'MODIS_20090501.nc',\n",
       " 'MODIS_20090601.nc',\n",
       " 'MODIS_20090701.nc',\n",
       " 'MODIS_20090801.nc',\n",
       " 'MODIS_20090901.nc',\n",
       " 'MODIS_20091001.nc',\n",
       " 'MODIS_20091101.nc',\n",
       " 'MODIS_20091201.nc',\n",
       " 'MODIS_20100101.nc',\n",
       " 'MODIS_20100201.nc',\n",
       " 'MODIS_20100301.nc',\n",
       " 'MODIS_20100401.nc',\n",
       " 'MODIS_20100501.nc',\n",
       " 'MODIS_20100601.nc',\n",
       " 'MODIS_20100701.nc',\n",
       " 'MODIS_20100801.nc',\n",
       " 'MODIS_20100901.nc',\n",
       " 'MODIS_20101001.nc',\n",
       " 'MODIS_20101101.nc',\n",
       " 'MODIS_20101201.nc',\n",
       " 'MODIS_20110101.nc',\n",
       " 'MODIS_20110201.nc',\n",
       " 'MODIS_20110301.nc',\n",
       " 'MODIS_20110401.nc',\n",
       " 'MODIS_20110501.nc',\n",
       " 'MODIS_20110601.nc',\n",
       " 'MODIS_20110701.nc',\n",
       " 'MODIS_20110801.nc',\n",
       " 'MODIS_20110901.nc',\n",
       " 'MODIS_20111001.nc',\n",
       " 'MODIS_20111101.nc',\n",
       " 'MODIS_20111201.nc',\n",
       " 'MODIS_20120101.nc',\n",
       " 'MODIS_20120201.nc',\n",
       " 'MODIS_20120301.nc',\n",
       " 'MODIS_20120401.nc',\n",
       " 'MODIS_20120501.nc',\n",
       " 'MODIS_20120601.nc',\n",
       " 'MODIS_20120701.nc',\n",
       " 'MODIS_20120801.nc',\n",
       " 'MODIS_20120901.nc',\n",
       " 'MODIS_20121001.nc',\n",
       " 'MODIS_20121101.nc',\n",
       " 'MODIS_20121201.nc',\n",
       " 'MODIS_20130101.nc',\n",
       " 'MODIS_20130201.nc',\n",
       " 'MODIS_20130301.nc',\n",
       " 'MODIS_20130401.nc',\n",
       " 'MODIS_20130501.nc',\n",
       " 'MODIS_20130601.nc',\n",
       " 'MODIS_20130701.nc',\n",
       " 'MODIS_20130801.nc',\n",
       " 'MODIS_20130901.nc',\n",
       " 'MODIS_20131001.nc',\n",
       " 'MODIS_20131101.nc',\n",
       " 'MODIS_20131201.nc',\n",
       " 'MODIS_20140101.nc',\n",
       " 'MODIS_20140201.nc',\n",
       " 'MODIS_20140301.nc',\n",
       " 'MODIS_20140401.nc',\n",
       " 'MODIS_20140501.nc',\n",
       " 'MODIS_20140601.nc',\n",
       " 'MODIS_20140701.nc',\n",
       " 'MODIS_20140801.nc',\n",
       " 'MODIS_20140901.nc',\n",
       " 'MODIS_20141001.nc',\n",
       " 'MODIS_20141101.nc',\n",
       " 'MODIS_20141201.nc',\n",
       " 'MODIS_20150101.nc',\n",
       " 'MODIS_20150201.nc',\n",
       " 'MODIS_20150301.nc',\n",
       " 'MODIS_20150401.nc',\n",
       " 'MODIS_20150501.nc',\n",
       " 'MODIS_20150601.nc',\n",
       " 'MODIS_20150701.nc',\n",
       " 'MODIS_20150801.nc',\n",
       " 'MODIS_20150901.nc',\n",
       " 'MODIS_20151001.nc',\n",
       " 'MODIS_20151101.nc',\n",
       " 'MODIS_20151201.nc',\n",
       " 'MODIS_20160101.nc',\n",
       " 'MODIS_20160201.nc',\n",
       " 'MODIS_20160301.nc',\n",
       " 'MODIS_20160401.nc',\n",
       " 'MODIS_20160501.nc',\n",
       " 'MODIS_20160601.nc',\n",
       " 'MODIS_20160701.nc',\n",
       " 'MODIS_20160801.nc',\n",
       " 'MODIS_20160901.nc',\n",
       " 'MODIS_20161001.nc',\n",
       " 'MODIS_20161101.nc',\n",
       " 'MODIS_20161201.nc',\n",
       " 'MODIS_20170101.nc',\n",
       " 'MODIS_20170201.nc',\n",
       " 'MODIS_20170301.nc',\n",
       " 'MODIS_20170401.nc',\n",
       " 'MODIS_20170501.nc',\n",
       " 'MODIS_20170601.nc',\n",
       " 'MODIS_20170701.nc',\n",
       " 'MODIS_20170801.nc',\n",
       " 'MODIS_20170901.nc',\n",
       " 'MODIS_20171001.nc',\n",
       " 'MODIS_20171101.nc',\n",
       " 'MODIS_20171201.nc',\n",
       " 'MODIS_20180101.nc',\n",
       " 'MODIS_20180201.nc',\n",
       " 'MODIS_20180301.nc',\n",
       " 'MODIS_20180401.nc',\n",
       " 'MODIS_20180501.nc',\n",
       " 'MODIS_20180601.nc',\n",
       " 'MODIS_20180701.nc',\n",
       " 'MODIS_20180801.nc',\n",
       " 'MODIS_20180901.nc',\n",
       " 'MODIS_20181001.nc',\n",
       " 'MODIS_20181101.nc',\n",
       " 'MODIS_20181201.nc',\n",
       " 'MODIS_20190101.nc',\n",
       " 'MODIS_20190201.nc',\n",
       " 'MODIS_20190301.nc',\n",
       " 'MODIS_20190401.nc',\n",
       " 'MODIS_20190501.nc',\n",
       " 'MODIS_20190601.nc',\n",
       " 'MODIS_20190701.nc',\n",
       " 'MODIS_20190801.nc',\n",
       " 'MODIS_20190901.nc',\n",
       " 'MODIS_20200101.nc',\n",
       " 'MODIS_20200201.nc',\n",
       " 'MODIS_20200301.nc',\n",
       " 'MODIS_20200401.nc',\n",
       " 'MODIS_20200501.nc',\n",
       " 'MODIS_20200601.nc',\n",
       " 'MODIS_20200701.nc',\n",
       " 'MODIS_20200801.nc',\n",
       " 'MODIS_20200901.nc',\n",
       " 'MODIS_20201001.nc',\n",
       " 'MODIS_20201101.nc',\n",
       " 'MODIS_20201201.nc']"
      ]
     },
     "execution_count": 7,
     "metadata": {},
     "output_type": "execute_result"
    }
   ],
   "source": [
    "import os\n",
    "import re\n",
    "#C:\\dev\\eda_esa_fire\\data\n",
    "path = \"C://dev//eda_esa_fire//data\"\n",
    "dir_list = os.listdir(path)\n",
    "dir_list"
   ]
  },
  {
   "cell_type": "code",
   "execution_count": 8,
   "metadata": {},
   "outputs": [
    {
     "data": {
      "text/plain": [
       "['MODIS_20010101.nc',\n",
       " 'MODIS_20010201.nc',\n",
       " 'MODIS_20010301.nc',\n",
       " 'MODIS_20010401.nc',\n",
       " 'MODIS_20010501.nc',\n",
       " 'MODIS_20010601.nc',\n",
       " 'MODIS_20010701.nc',\n",
       " 'MODIS_20010801.nc',\n",
       " 'MODIS_20010901.nc',\n",
       " 'MODIS_20011001.nc',\n",
       " 'MODIS_20011101.nc',\n",
       " 'MODIS_20011201.nc',\n",
       " 'MODIS_20200101.nc']"
      ]
     },
     "execution_count": 8,
     "metadata": {},
     "output_type": "execute_result"
    }
   ],
   "source": [
    "filtered = list() \n",
    "for files in dir_list:\n",
    "    if re.search(\"(2001)\", files):\n",
    "        filtered.append(files)\n",
    "filtered"
   ]
  },
  {
   "cell_type": "code",
   "execution_count": 46,
   "metadata": {},
   "outputs": [],
   "source": [
    "path  = \"data/MODIS_20010101.nc\"\n",
    "ds = nc.Dataset(path)\n",
    "df_data = create_geoframe(ds)\n",
    "df_data = add_country(df_data)\n",
    "df_data = add_date(path, df_data)\n",
    "\n",
    "df_all_data = pd.concat([df_data,\n",
    "            create_column(ds, 'burned_area'),\n",
    "            create_column(ds, 'standard_error'),\n",
    "            create_column(ds,'fraction_of_burnable_area'),\n",
    "            create_column(ds,'fraction_of_observed_area'),\n",
    "            create_column(ds, 'number_of_patches'),\n",
    "            create_vegetation_class_breakdown(ds)], axis = 1, sort = False) \n",
    "\n",
    "df_all_data = df_all_data[((df_all_data['fraction_of_observed_area'] > 0.8) & (df_all_data['burned_area']>0))]"
   ]
  },
  {
   "cell_type": "code",
   "execution_count": 47,
   "metadata": {},
   "outputs": [
    {
     "data": {
      "text/html": [
       "<div>\n",
       "<style scoped>\n",
       "    .dataframe tbody tr th:only-of-type {\n",
       "        vertical-align: middle;\n",
       "    }\n",
       "\n",
       "    .dataframe tbody tr th {\n",
       "        vertical-align: top;\n",
       "    }\n",
       "\n",
       "    .dataframe thead th {\n",
       "        text-align: right;\n",
       "    }\n",
       "</style>\n",
       "<table border=\"1\" class=\"dataframe\">\n",
       "  <thead>\n",
       "    <tr style=\"text-align: right;\">\n",
       "      <th></th>\n",
       "      <th>lon</th>\n",
       "      <th>lat</th>\n",
       "      <th>country</th>\n",
       "      <th>date</th>\n",
       "      <th>burned_area</th>\n",
       "      <th>standard_error</th>\n",
       "      <th>fraction_of_burnable_area</th>\n",
       "      <th>fraction_of_observed_area</th>\n",
       "      <th>number_of_patches</th>\n",
       "      <th>no_data_burned_area</th>\n",
       "      <th>tree_cover_broadleaved_evergreen_burned_area</th>\n",
       "      <th>tree_cover_broadleaved_deciduous_burned_area</th>\n",
       "      <th>tree_cover_needleleaved_evergreen_burned_area</th>\n",
       "      <th>tree_cover_needleleaved_deciduous_burned_area</th>\n",
       "      <th>tree_cover_mixed_leave_burned_area</th>\n",
       "      <th>cropland_burned_area</th>\n",
       "      <th>mosaic_tree_grass_burned_area</th>\n",
       "      <th>other_vegetation_burned_area</th>\n",
       "      <th>flooded_area_burned_area</th>\n",
       "    </tr>\n",
       "  </thead>\n",
       "  <tbody>\n",
       "    <tr>\n",
       "      <th>195105</th>\n",
       "      <td>-3.625</td>\n",
       "      <td>56.125</td>\n",
       "      <td>GB</td>\n",
       "      <td>2001-01-01</td>\n",
       "      <td>804970.0</td>\n",
       "      <td>545465.0</td>\n",
       "      <td>0.829803</td>\n",
       "      <td>0.959910</td>\n",
       "      <td>3.0</td>\n",
       "      <td>751305.0</td>\n",
       "      <td>0.0</td>\n",
       "      <td>0.0</td>\n",
       "      <td>0.0</td>\n",
       "      <td>0.0</td>\n",
       "      <td>0.0</td>\n",
       "      <td>0.0</td>\n",
       "      <td>0.0</td>\n",
       "      <td>53664.0</td>\n",
       "      <td>0.0</td>\n",
       "    </tr>\n",
       "    <tr>\n",
       "      <th>196545</th>\n",
       "      <td>-3.625</td>\n",
       "      <td>55.875</td>\n",
       "      <td>GB</td>\n",
       "      <td>2001-01-01</td>\n",
       "      <td>2039257.0</td>\n",
       "      <td>707836.0</td>\n",
       "      <td>0.938498</td>\n",
       "      <td>0.977980</td>\n",
       "      <td>1.0</td>\n",
       "      <td>1502610.0</td>\n",
       "      <td>0.0</td>\n",
       "      <td>0.0</td>\n",
       "      <td>0.0</td>\n",
       "      <td>0.0</td>\n",
       "      <td>0.0</td>\n",
       "      <td>375652.0</td>\n",
       "      <td>0.0</td>\n",
       "      <td>160994.0</td>\n",
       "      <td>0.0</td>\n",
       "    </tr>\n",
       "    <tr>\n",
       "      <th>212491</th>\n",
       "      <td>22.875</td>\n",
       "      <td>53.125</td>\n",
       "      <td>PL</td>\n",
       "      <td>2001-01-01</td>\n",
       "      <td>3005221.0</td>\n",
       "      <td>838988.0</td>\n",
       "      <td>0.996411</td>\n",
       "      <td>0.981294</td>\n",
       "      <td>1.0</td>\n",
       "      <td>0.0</td>\n",
       "      <td>0.0</td>\n",
       "      <td>590311.0</td>\n",
       "      <td>0.0</td>\n",
       "      <td>0.0</td>\n",
       "      <td>0.0</td>\n",
       "      <td>0.0</td>\n",
       "      <td>0.0</td>\n",
       "      <td>53664.0</td>\n",
       "      <td>2361245.0</td>\n",
       "    </tr>\n",
       "    <tr>\n",
       "      <th>219698</th>\n",
       "      <td>24.625</td>\n",
       "      <td>51.875</td>\n",
       "      <td>UA</td>\n",
       "      <td>2001-01-01</td>\n",
       "      <td>1609940.0</td>\n",
       "      <td>720975.0</td>\n",
       "      <td>0.974907</td>\n",
       "      <td>0.963874</td>\n",
       "      <td>3.0</td>\n",
       "      <td>965964.0</td>\n",
       "      <td>0.0</td>\n",
       "      <td>429317.0</td>\n",
       "      <td>0.0</td>\n",
       "      <td>0.0</td>\n",
       "      <td>0.0</td>\n",
       "      <td>0.0</td>\n",
       "      <td>0.0</td>\n",
       "      <td>214658.0</td>\n",
       "      <td>0.0</td>\n",
       "    </tr>\n",
       "    <tr>\n",
       "      <th>219704</th>\n",
       "      <td>26.125</td>\n",
       "      <td>51.875</td>\n",
       "      <td>UA</td>\n",
       "      <td>2001-01-01</td>\n",
       "      <td>21948848.0</td>\n",
       "      <td>929124.0</td>\n",
       "      <td>0.991455</td>\n",
       "      <td>0.826491</td>\n",
       "      <td>2.0</td>\n",
       "      <td>1287952.0</td>\n",
       "      <td>0.0</td>\n",
       "      <td>268323.0</td>\n",
       "      <td>0.0</td>\n",
       "      <td>0.0</td>\n",
       "      <td>0.0</td>\n",
       "      <td>697640.0</td>\n",
       "      <td>0.0</td>\n",
       "      <td>1985592.0</td>\n",
       "      <td>17709340.0</td>\n",
       "    </tr>\n",
       "    <tr>\n",
       "      <th>...</th>\n",
       "      <td>...</td>\n",
       "      <td>...</td>\n",
       "      <td>...</td>\n",
       "      <td>...</td>\n",
       "      <td>...</td>\n",
       "      <td>...</td>\n",
       "      <td>...</td>\n",
       "      <td>...</td>\n",
       "      <td>...</td>\n",
       "      <td>...</td>\n",
       "      <td>...</td>\n",
       "      <td>...</td>\n",
       "      <td>...</td>\n",
       "      <td>...</td>\n",
       "      <td>...</td>\n",
       "      <td>...</td>\n",
       "      <td>...</td>\n",
       "      <td>...</td>\n",
       "      <td>...</td>\n",
       "    </tr>\n",
       "    <tr>\n",
       "      <th>758740</th>\n",
       "      <td>145.125</td>\n",
       "      <td>-41.625</td>\n",
       "      <td>AU</td>\n",
       "      <td>2001-01-01</td>\n",
       "      <td>8157029.0</td>\n",
       "      <td>862988.0</td>\n",
       "      <td>0.992195</td>\n",
       "      <td>0.996348</td>\n",
       "      <td>5.0</td>\n",
       "      <td>0.0</td>\n",
       "      <td>8157029.0</td>\n",
       "      <td>0.0</td>\n",
       "      <td>0.0</td>\n",
       "      <td>0.0</td>\n",
       "      <td>0.0</td>\n",
       "      <td>0.0</td>\n",
       "      <td>0.0</td>\n",
       "      <td>0.0</td>\n",
       "      <td>0.0</td>\n",
       "    </tr>\n",
       "    <tr>\n",
       "      <th>760187</th>\n",
       "      <td>146.875</td>\n",
       "      <td>-41.875</td>\n",
       "      <td>AU</td>\n",
       "      <td>2001-01-01</td>\n",
       "      <td>8479017.0</td>\n",
       "      <td>655052.0</td>\n",
       "      <td>0.789258</td>\n",
       "      <td>0.968100</td>\n",
       "      <td>1.0</td>\n",
       "      <td>0.0</td>\n",
       "      <td>0.0</td>\n",
       "      <td>8479017.0</td>\n",
       "      <td>0.0</td>\n",
       "      <td>0.0</td>\n",
       "      <td>0.0</td>\n",
       "      <td>0.0</td>\n",
       "      <td>0.0</td>\n",
       "      <td>0.0</td>\n",
       "      <td>0.0</td>\n",
       "    </tr>\n",
       "    <tr>\n",
       "      <th>763060</th>\n",
       "      <td>145.125</td>\n",
       "      <td>-42.375</td>\n",
       "      <td>AU</td>\n",
       "      <td>2001-01-01</td>\n",
       "      <td>1931928.0</td>\n",
       "      <td>281529.0</td>\n",
       "      <td>0.087729</td>\n",
       "      <td>0.878885</td>\n",
       "      <td>2.0</td>\n",
       "      <td>0.0</td>\n",
       "      <td>1931928.0</td>\n",
       "      <td>0.0</td>\n",
       "      <td>0.0</td>\n",
       "      <td>0.0</td>\n",
       "      <td>0.0</td>\n",
       "      <td>0.0</td>\n",
       "      <td>0.0</td>\n",
       "      <td>0.0</td>\n",
       "      <td>0.0</td>\n",
       "    </tr>\n",
       "    <tr>\n",
       "      <th>765101</th>\n",
       "      <td>-64.625</td>\n",
       "      <td>-42.875</td>\n",
       "      <td>AR</td>\n",
       "      <td>2001-01-01</td>\n",
       "      <td>107329.0</td>\n",
       "      <td>471463.0</td>\n",
       "      <td>0.357684</td>\n",
       "      <td>0.987550</td>\n",
       "      <td>2.0</td>\n",
       "      <td>0.0</td>\n",
       "      <td>0.0</td>\n",
       "      <td>0.0</td>\n",
       "      <td>0.0</td>\n",
       "      <td>0.0</td>\n",
       "      <td>0.0</td>\n",
       "      <td>0.0</td>\n",
       "      <td>0.0</td>\n",
       "      <td>107329.0</td>\n",
       "      <td>0.0</td>\n",
       "    </tr>\n",
       "    <tr>\n",
       "      <th>767391</th>\n",
       "      <td>147.875</td>\n",
       "      <td>-43.125</td>\n",
       "      <td>AU</td>\n",
       "      <td>2001-01-01</td>\n",
       "      <td>3971185.0</td>\n",
       "      <td>625635.0</td>\n",
       "      <td>0.550343</td>\n",
       "      <td>0.967318</td>\n",
       "      <td>14.0</td>\n",
       "      <td>0.0</td>\n",
       "      <td>3863856.0</td>\n",
       "      <td>53664.0</td>\n",
       "      <td>0.0</td>\n",
       "      <td>0.0</td>\n",
       "      <td>0.0</td>\n",
       "      <td>0.0</td>\n",
       "      <td>0.0</td>\n",
       "      <td>0.0</td>\n",
       "      <td>53664.0</td>\n",
       "    </tr>\n",
       "  </tbody>\n",
       "</table>\n",
       "<p>9550 rows × 19 columns</p>\n",
       "</div>"
      ],
      "text/plain": [
       "            lon     lat country        date  burned_area  standard_error  \\\n",
       "195105   -3.625  56.125      GB  2001-01-01     804970.0        545465.0   \n",
       "196545   -3.625  55.875      GB  2001-01-01    2039257.0        707836.0   \n",
       "212491   22.875  53.125      PL  2001-01-01    3005221.0        838988.0   \n",
       "219698   24.625  51.875      UA  2001-01-01    1609940.0        720975.0   \n",
       "219704   26.125  51.875      UA  2001-01-01   21948848.0        929124.0   \n",
       "...         ...     ...     ...         ...          ...             ...   \n",
       "758740  145.125 -41.625      AU  2001-01-01    8157029.0        862988.0   \n",
       "760187  146.875 -41.875      AU  2001-01-01    8479017.0        655052.0   \n",
       "763060  145.125 -42.375      AU  2001-01-01    1931928.0        281529.0   \n",
       "765101  -64.625 -42.875      AR  2001-01-01     107329.0        471463.0   \n",
       "767391  147.875 -43.125      AU  2001-01-01    3971185.0        625635.0   \n",
       "\n",
       "        fraction_of_burnable_area  fraction_of_observed_area  \\\n",
       "195105                   0.829803                   0.959910   \n",
       "196545                   0.938498                   0.977980   \n",
       "212491                   0.996411                   0.981294   \n",
       "219698                   0.974907                   0.963874   \n",
       "219704                   0.991455                   0.826491   \n",
       "...                           ...                        ...   \n",
       "758740                   0.992195                   0.996348   \n",
       "760187                   0.789258                   0.968100   \n",
       "763060                   0.087729                   0.878885   \n",
       "765101                   0.357684                   0.987550   \n",
       "767391                   0.550343                   0.967318   \n",
       "\n",
       "        number_of_patches  no_data_burned_area  \\\n",
       "195105                3.0             751305.0   \n",
       "196545                1.0            1502610.0   \n",
       "212491                1.0                  0.0   \n",
       "219698                3.0             965964.0   \n",
       "219704                2.0            1287952.0   \n",
       "...                   ...                  ...   \n",
       "758740                5.0                  0.0   \n",
       "760187                1.0                  0.0   \n",
       "763060                2.0                  0.0   \n",
       "765101                2.0                  0.0   \n",
       "767391               14.0                  0.0   \n",
       "\n",
       "        tree_cover_broadleaved_evergreen_burned_area  \\\n",
       "195105                                           0.0   \n",
       "196545                                           0.0   \n",
       "212491                                           0.0   \n",
       "219698                                           0.0   \n",
       "219704                                           0.0   \n",
       "...                                              ...   \n",
       "758740                                     8157029.0   \n",
       "760187                                           0.0   \n",
       "763060                                     1931928.0   \n",
       "765101                                           0.0   \n",
       "767391                                     3863856.0   \n",
       "\n",
       "        tree_cover_broadleaved_deciduous_burned_area  \\\n",
       "195105                                           0.0   \n",
       "196545                                           0.0   \n",
       "212491                                      590311.0   \n",
       "219698                                      429317.0   \n",
       "219704                                      268323.0   \n",
       "...                                              ...   \n",
       "758740                                           0.0   \n",
       "760187                                     8479017.0   \n",
       "763060                                           0.0   \n",
       "765101                                           0.0   \n",
       "767391                                       53664.0   \n",
       "\n",
       "        tree_cover_needleleaved_evergreen_burned_area  \\\n",
       "195105                                            0.0   \n",
       "196545                                            0.0   \n",
       "212491                                            0.0   \n",
       "219698                                            0.0   \n",
       "219704                                            0.0   \n",
       "...                                               ...   \n",
       "758740                                            0.0   \n",
       "760187                                            0.0   \n",
       "763060                                            0.0   \n",
       "765101                                            0.0   \n",
       "767391                                            0.0   \n",
       "\n",
       "        tree_cover_needleleaved_deciduous_burned_area  \\\n",
       "195105                                            0.0   \n",
       "196545                                            0.0   \n",
       "212491                                            0.0   \n",
       "219698                                            0.0   \n",
       "219704                                            0.0   \n",
       "...                                               ...   \n",
       "758740                                            0.0   \n",
       "760187                                            0.0   \n",
       "763060                                            0.0   \n",
       "765101                                            0.0   \n",
       "767391                                            0.0   \n",
       "\n",
       "        tree_cover_mixed_leave_burned_area  cropland_burned_area  \\\n",
       "195105                                 0.0                   0.0   \n",
       "196545                                 0.0              375652.0   \n",
       "212491                                 0.0                   0.0   \n",
       "219698                                 0.0                   0.0   \n",
       "219704                                 0.0              697640.0   \n",
       "...                                    ...                   ...   \n",
       "758740                                 0.0                   0.0   \n",
       "760187                                 0.0                   0.0   \n",
       "763060                                 0.0                   0.0   \n",
       "765101                                 0.0                   0.0   \n",
       "767391                                 0.0                   0.0   \n",
       "\n",
       "        mosaic_tree_grass_burned_area  other_vegetation_burned_area  \\\n",
       "195105                            0.0                       53664.0   \n",
       "196545                            0.0                      160994.0   \n",
       "212491                            0.0                       53664.0   \n",
       "219698                            0.0                      214658.0   \n",
       "219704                            0.0                     1985592.0   \n",
       "...                               ...                           ...   \n",
       "758740                            0.0                           0.0   \n",
       "760187                            0.0                           0.0   \n",
       "763060                            0.0                           0.0   \n",
       "765101                            0.0                      107329.0   \n",
       "767391                            0.0                           0.0   \n",
       "\n",
       "        flooded_area_burned_area  \n",
       "195105                       0.0  \n",
       "196545                       0.0  \n",
       "212491                 2361245.0  \n",
       "219698                       0.0  \n",
       "219704                17709340.0  \n",
       "...                          ...  \n",
       "758740                       0.0  \n",
       "760187                       0.0  \n",
       "763060                       0.0  \n",
       "765101                       0.0  \n",
       "767391                   53664.0  \n",
       "\n",
       "[9550 rows x 19 columns]"
      ]
     },
     "execution_count": 47,
     "metadata": {},
     "output_type": "execute_result"
    }
   ],
   "source": [
    "df_all_data"
   ]
  },
  {
   "cell_type": "code",
   "execution_count": 48,
   "metadata": {},
   "outputs": [],
   "source": [
    "#Load to Database"
   ]
  },
  {
   "cell_type": "code",
   "execution_count": 49,
   "metadata": {},
   "outputs": [],
   "source": [
    "#!\"C:\\Program Files\\MongoDB\\Server\\6.0\\bin\\mongod.exe\" --dbpath \"C:\\mongodb_data\""
   ]
  },
  {
   "cell_type": "code",
   "execution_count": 9,
   "metadata": {},
   "outputs": [
    {
     "name": "stdout",
     "output_type": "stream",
     "text": [
      "esa_fire\n"
     ]
    }
   ],
   "source": [
    "client = MongoClient()\n",
    "client = MongoClient('mongodb://localhost:27017/')\n",
    "mydb = client[\"esa_fire\"]\n",
    "mycol = mydb[\"esa_fire_2001\"]\n",
    "print(mydb.name)"
   ]
  },
  {
   "cell_type": "code",
   "execution_count": 10,
   "metadata": {},
   "outputs": [
    {
     "name": "stdout",
     "output_type": "stream",
     "text": [
      "('localhost', 27017)\n",
      "<bound method MongoClient.list_database_names of MongoClient(host=['localhost:27017'], document_class=dict, tz_aware=False, connect=True)>\n"
     ]
    }
   ],
   "source": [
    "print(client.address)\n",
    "print(client.list_database_names)"
   ]
  },
  {
   "cell_type": "code",
   "execution_count": 11,
   "metadata": {},
   "outputs": [],
   "source": [
    "mycol.drop() "
   ]
  },
  {
   "cell_type": "code",
   "execution_count": 12,
   "metadata": {},
   "outputs": [
    {
     "data": {
      "text/plain": [
       "0"
      ]
     },
     "execution_count": 12,
     "metadata": {},
     "output_type": "execute_result"
    }
   ],
   "source": [
    "mycol.find().count()"
   ]
  },
  {
   "cell_type": "code",
   "execution_count": 13,
   "metadata": {},
   "outputs": [
    {
     "name": "stdout",
     "output_type": "stream",
     "text": [
      "Loading formatted geocoded file...\n",
      "Filname: MODIS_20010101.nc Size: 9550\n",
      "Filname: MODIS_20010201.nc Size: 8887\n",
      "Filname: MODIS_20010301.nc Size: 7111\n",
      "Filname: MODIS_20010401.nc Size: 9889\n",
      "Filname: MODIS_20010501.nc Size: 10082\n",
      "Filname: MODIS_20010601.nc Size: 5337\n",
      "Filname: MODIS_20010701.nc Size: 14470\n",
      "Filname: MODIS_20010801.nc Size: 20956\n",
      "Filname: MODIS_20010901.nc Size: 19023\n",
      "Filname: MODIS_20011001.nc Size: 13997\n",
      "Filname: MODIS_20011101.nc Size: 9686\n",
      "Filname: MODIS_20011201.nc Size: 8846\n",
      "Filname: MODIS_20020101.nc Size: 9632\n",
      "Filname: MODIS_20020201.nc Size: 9045\n",
      "Filname: MODIS_20020301.nc Size: 7938\n",
      "Filname: MODIS_20020401.nc Size: 9900\n",
      "Filname: MODIS_20020501.nc Size: 11424\n",
      "Filname: MODIS_20020601.nc Size: 10574\n",
      "Filname: MODIS_20020701.nc Size: 18934\n",
      "Filname: MODIS_20020801.nc Size: 23391\n",
      "Filname: MODIS_20020901.nc Size: 24199\n",
      "Filname: MODIS_20021001.nc Size: 18986\n",
      "Filname: MODIS_20021101.nc Size: 13008\n",
      "Filname: MODIS_20021201.nc Size: 10250\n",
      "Filname: MODIS_20030101.nc Size: 10944\n",
      "Filname: MODIS_20030201.nc Size: 11062\n",
      "Filname: MODIS_20030301.nc Size: 11212\n",
      "Filname: MODIS_20030401.nc Size: 14209\n",
      "Filname: MODIS_20030501.nc Size: 15488\n",
      "Filname: MODIS_20030601.nc Size: 12926\n",
      "Filname: MODIS_20030701.nc Size: 16501\n",
      "Filname: MODIS_20030801.nc Size: 21014\n",
      "Filname: MODIS_20030901.nc Size: 21441\n",
      "Filname: MODIS_20031001.nc Size: 18961\n",
      "Filname: MODIS_20031101.nc Size: 12060\n",
      "Filname: MODIS_20031201.nc Size: 9556\n",
      "Filname: MODIS_20040101.nc Size: 10645\n",
      "Filname: MODIS_20040201.nc Size: 11218\n",
      "Filname: MODIS_20040301.nc Size: 10540\n",
      "Filname: MODIS_20040401.nc Size: 13103\n",
      "Filname: MODIS_20040501.nc Size: 14329\n",
      "Filname: MODIS_20040601.nc Size: 13385\n",
      "Filname: MODIS_20040701.nc Size: 17173\n",
      "Filname: MODIS_20040801.nc Size: 21198\n",
      "Filname: MODIS_20040901.nc Size: 21073\n",
      "Filname: MODIS_20041001.nc Size: 18675\n",
      "Filname: MODIS_20041101.nc Size: 12725\n",
      "Filname: MODIS_20041201.nc Size: 10843\n",
      "Filname: MODIS_20050101.nc Size: 10996\n",
      "Filname: MODIS_20050201.nc Size: 11216\n",
      "Filname: MODIS_20050301.nc Size: 11587\n",
      "Filname: MODIS_20050401.nc Size: 13835\n",
      "Filname: MODIS_20050501.nc Size: 13805\n",
      "Filname: MODIS_20050601.nc Size: 13096\n",
      "Filname: MODIS_20050701.nc Size: 18346\n",
      "Filname: MODIS_20050801.nc Size: 21516\n",
      "Filname: MODIS_20050901.nc Size: 21080\n",
      "Filname: MODIS_20051001.nc Size: 20070\n",
      "Filname: MODIS_20051101.nc Size: 13445\n",
      "Filname: MODIS_20051201.nc Size: 9841\n",
      "Filname: MODIS_20060101.nc Size: 10280\n",
      "Filname: MODIS_20060201.nc Size: 9944\n",
      "Filname: MODIS_20060301.nc Size: 9179\n",
      "Filname: MODIS_20060401.nc Size: 13928\n",
      "Filname: MODIS_20060501.nc Size: 16430\n",
      "Filname: MODIS_20060601.nc Size: 13054\n",
      "Filname: MODIS_20060701.nc Size: 17197\n",
      "Filname: MODIS_20060801.nc Size: 22119\n",
      "Filname: MODIS_20060901.nc Size: 21138\n",
      "Filname: MODIS_20061001.nc Size: 15889\n",
      "Filname: MODIS_20061101.nc Size: 12728\n",
      "Filname: MODIS_20061201.nc Size: 10370\n",
      "Filname: MODIS_20070101.nc Size: 10600\n",
      "Filname: MODIS_20070201.nc Size: 11994\n",
      "Filname: MODIS_20070301.nc Size: 13091\n",
      "Filname: MODIS_20070401.nc Size: 12949\n",
      "Filname: MODIS_20070501.nc Size: 12914\n",
      "Filname: MODIS_20070601.nc Size: 13282\n",
      "Filname: MODIS_20070701.nc Size: 18125\n",
      "Filname: MODIS_20070801.nc Size: 22257\n",
      "Filname: MODIS_20070901.nc Size: 21565\n",
      "Filname: MODIS_20071001.nc Size: 18576\n",
      "Filname: MODIS_20071101.nc Size: 12675\n",
      "Filname: MODIS_20071201.nc Size: 9808\n",
      "Filname: MODIS_20080101.nc Size: 9961\n",
      "Filname: MODIS_20080201.nc Size: 10568\n",
      "Filname: MODIS_20080301.nc Size: 12891\n",
      "Filname: MODIS_20080401.nc Size: 15384\n",
      "Filname: MODIS_20080501.nc Size: 15013\n",
      "Filname: MODIS_20080601.nc Size: 12639\n",
      "Filname: MODIS_20080701.nc Size: 16560\n",
      "Filname: MODIS_20080801.nc Size: 20002\n",
      "Filname: MODIS_20080901.nc Size: 19676\n",
      "Filname: MODIS_20081001.nc Size: 19225\n",
      "Filname: MODIS_20081101.nc Size: 13039\n",
      "Filname: MODIS_20081201.nc Size: 9334\n",
      "Filname: MODIS_20090101.nc Size: 10049\n",
      "Filname: MODIS_20090201.nc Size: 10131\n",
      "Filname: MODIS_20090301.nc Size: 9864\n",
      "Filname: MODIS_20090401.nc Size: 16790\n",
      "Filname: MODIS_20090501.nc Size: 16440\n",
      "Filname: MODIS_20090601.nc Size: 12300\n",
      "Filname: MODIS_20090701.nc Size: 15593\n",
      "Filname: MODIS_20090801.nc Size: 18618\n",
      "Filname: MODIS_20090901.nc Size: 18170\n",
      "Filname: MODIS_20091001.nc Size: 14334\n",
      "Filname: MODIS_20091101.nc Size: 11440\n",
      "Filname: MODIS_20091201.nc Size: 9226\n",
      "Filname: MODIS_20100101.nc Size: 9820\n",
      "Filname: MODIS_20100201.nc Size: 9965\n",
      "Filname: MODIS_20100301.nc Size: 9167\n",
      "Filname: MODIS_20100401.nc Size: 12081\n",
      "Filname: MODIS_20100501.nc Size: 13024\n",
      "Filname: MODIS_20100601.nc Size: 13194\n",
      "Filname: MODIS_20100701.nc Size: 17379\n",
      "Filname: MODIS_20100801.nc Size: 21653\n",
      "Filname: MODIS_20100901.nc Size: 20429\n",
      "Filname: MODIS_20101001.nc Size: 16696\n",
      "Filname: MODIS_20101101.nc Size: 11152\n",
      "Filname: MODIS_20101201.nc Size: 8969\n",
      "Filname: MODIS_20110101.nc Size: 9207\n",
      "Filname: MODIS_20110201.nc Size: 9746\n",
      "Filname: MODIS_20110301.nc Size: 10085\n",
      "Filname: MODIS_20110401.nc Size: 12264\n",
      "Filname: MODIS_20110501.nc Size: 13646\n",
      "Filname: MODIS_20110601.nc Size: 13173\n",
      "Filname: MODIS_20110701.nc Size: 16393\n",
      "Filname: MODIS_20110801.nc Size: 20538\n",
      "Filname: MODIS_20110901.nc Size: 21310\n",
      "Filname: MODIS_20111001.nc Size: 17426\n",
      "Filname: MODIS_20111101.nc Size: 12000\n",
      "Filname: MODIS_20111201.nc Size: 9605\n",
      "Filname: MODIS_20120101.nc Size: 10741\n",
      "Filname: MODIS_20120201.nc Size: 10872\n",
      "Filname: MODIS_20120301.nc Size: 11161\n",
      "Filname: MODIS_20120401.nc Size: 14132\n",
      "Filname: MODIS_20120501.nc Size: 14124\n",
      "Filname: MODIS_20120601.nc Size: 14956\n",
      "Filname: MODIS_20120701.nc Size: 18322\n",
      "Filname: MODIS_20120801.nc Size: 21029\n",
      "Filname: MODIS_20120901.nc Size: 19009\n",
      "Filname: MODIS_20121001.nc Size: 15972\n",
      "Filname: MODIS_20121101.nc Size: 10839\n",
      "Filname: MODIS_20121201.nc Size: 9603\n",
      "Filname: MODIS_20130101.nc Size: 10389\n",
      "Filname: MODIS_20130201.nc Size: 10199\n",
      "Filname: MODIS_20130301.nc Size: 9258\n",
      "Filname: MODIS_20130401.nc Size: 11314\n",
      "Filname: MODIS_20130501.nc Size: 12007\n",
      "Filname: MODIS_20130601.nc Size: 11081\n",
      "Filname: MODIS_20130701.nc Size: 13990\n",
      "Filname: MODIS_20130801.nc Size: 17550\n",
      "Filname: MODIS_20130901.nc Size: 15443\n",
      "Filname: MODIS_20131001.nc Size: 12639\n",
      "Filname: MODIS_20131101.nc Size: 9810\n",
      "Filname: MODIS_20131201.nc Size: 8628\n",
      "Filname: MODIS_20140101.nc Size: 9948\n",
      "Filname: MODIS_20140201.nc Size: 9295\n",
      "Filname: MODIS_20140301.nc Size: 11632\n",
      "Filname: MODIS_20140401.nc Size: 13530\n",
      "Filname: MODIS_20140501.nc Size: 11781\n",
      "Filname: MODIS_20140601.nc Size: 10948\n",
      "Filname: MODIS_20140701.nc Size: 14985\n",
      "Filname: MODIS_20140801.nc Size: 18567\n",
      "Filname: MODIS_20140901.nc Size: 18014\n",
      "Filname: MODIS_20141001.nc Size: 16937\n",
      "Filname: MODIS_20141101.nc Size: 11448\n",
      "Filname: MODIS_20141201.nc Size: 8718\n",
      "Filname: MODIS_20150101.nc Size: 9939\n",
      "Filname: MODIS_20150201.nc Size: 10184\n",
      "Filname: MODIS_20150301.nc Size: 10920\n",
      "Filname: MODIS_20150401.nc Size: 11639\n",
      "Filname: MODIS_20150501.nc Size: 11753\n",
      "Filname: MODIS_20150601.nc Size: 11630\n",
      "Filname: MODIS_20150701.nc Size: 15551\n",
      "Filname: MODIS_20150801.nc Size: 19547\n",
      "Filname: MODIS_20150901.nc Size: 19718\n",
      "Filname: MODIS_20151001.nc Size: 16673\n",
      "Filname: MODIS_20151101.nc Size: 11997\n",
      "Filname: MODIS_20151201.nc Size: 9159\n",
      "Filname: MODIS_20160101.nc Size: 10199\n",
      "Filname: MODIS_20160201.nc Size: 9722\n",
      "Filname: MODIS_20160301.nc Size: 9851\n",
      "Filname: MODIS_20160401.nc Size: 11366\n",
      "Filname: MODIS_20160501.nc Size: 11693\n",
      "Filname: MODIS_20160601.nc Size: 10784\n",
      "Filname: MODIS_20160701.nc Size: 15115\n",
      "Filname: MODIS_20160801.nc Size: 19103\n",
      "Filname: MODIS_20160901.nc Size: 16492\n",
      "Filname: MODIS_20161001.nc Size: 13229\n",
      "Filname: MODIS_20161101.nc Size: 10866\n",
      "Filname: MODIS_20161201.nc Size: 8845\n",
      "Filname: MODIS_20170101.nc Size: 9661\n",
      "Filname: MODIS_20170201.nc Size: 9856\n",
      "Filname: MODIS_20170301.nc Size: 11110\n",
      "Filname: MODIS_20170401.nc Size: 12632\n",
      "Filname: MODIS_20170501.nc Size: 11372\n",
      "Filname: MODIS_20170601.nc Size: 11025\n",
      "Filname: MODIS_20170701.nc Size: 15849\n",
      "Filname: MODIS_20170801.nc Size: 19426\n",
      "Filname: MODIS_20170901.nc Size: 18635\n",
      "Filname: MODIS_20171001.nc Size: 15904\n",
      "Filname: MODIS_20171101.nc Size: 11156\n",
      "Filname: MODIS_20171201.nc Size: 9577\n",
      "Filname: MODIS_20180101.nc Size: 10059\n",
      "Filname: MODIS_20180201.nc Size: 9921\n",
      "Filname: MODIS_20180301.nc Size: 10049\n",
      "Filname: MODIS_20180401.nc Size: 11710\n",
      "Filname: MODIS_20180501.nc Size: 11664\n",
      "Filname: MODIS_20180601.nc Size: 10909\n",
      "Filname: MODIS_20180701.nc Size: 13812\n",
      "Filname: MODIS_20180801.nc Size: 16926\n",
      "Filname: MODIS_20180901.nc Size: 16270\n",
      "Filname: MODIS_20181001.nc Size: 13612\n",
      "Filname: MODIS_20181101.nc Size: 10543\n",
      "Filname: MODIS_20181201.nc Size: 9581\n",
      "Filname: MODIS_20190101.nc Size: 10525\n",
      "Filname: MODIS_20190201.nc Size: 10776\n",
      "Filname: MODIS_20190301.nc Size: 12128\n",
      "Filname: MODIS_20190401.nc Size: 13731\n",
      "Filname: MODIS_20190501.nc Size: 12036\n",
      "Filname: MODIS_20190601.nc Size: 11179\n",
      "Filname: MODIS_20190701.nc Size: 15866\n",
      "Filname: MODIS_20190801.nc Size: 18506\n",
      "Filname: MODIS_20190901.nc Size: 16195\n",
      "Filname: MODIS_20200101.nc Size: 10310\n",
      "Filname: MODIS_20200201.nc Size: 10833\n",
      "Filname: MODIS_20200301.nc Size: 12913\n",
      "Filname: MODIS_20200401.nc Size: 14292\n",
      "Filname: MODIS_20200501.nc Size: 11421\n",
      "Filname: MODIS_20200601.nc Size: 11732\n",
      "Filname: MODIS_20200701.nc Size: 15528\n",
      "Filname: MODIS_20200801.nc Size: 17432\n",
      "Filname: MODIS_20200901.nc Size: 16791\n",
      "Filname: MODIS_20201001.nc Size: 15914\n",
      "Filname: MODIS_20201101.nc Size: 10493\n",
      "Filname: MODIS_20201201.nc Size: 8843\n"
     ]
    }
   ],
   "source": [
    "for modis_file in dir_list:\n",
    "    #print(modis_file)\n",
    "    path  = \"data/\" + modis_file\n",
    "    ds = nc.Dataset(path)\n",
    "    df_data = create_geoframe(ds)\n",
    "    df_data = add_country(df_data)\n",
    "    df_data = add_date(path, df_data)\n",
    "\n",
    "    df_all_data = pd.concat([df_data,\n",
    "            create_column(ds, 'burned_area'),\n",
    "            create_column(ds, 'standard_error'),\n",
    "            create_column(ds,'fraction_of_burnable_area'),\n",
    "            create_column(ds,'fraction_of_observed_area'),\n",
    "            create_column(ds, 'number_of_patches'),\n",
    "            create_vegetation_class_breakdown(ds)], axis = 1, sort = False) \n",
    "\n",
    "    df_all_data = df_all_data[((df_all_data['fraction_of_observed_area'] > 0.8) & (df_all_data['burned_area']>0))]\n",
    "    print(f\"Filname: {modis_file} Size: {str(df_all_data.shape[0])}\")\n",
    "    data_dict = df_all_data.to_dict(\"records\")# Insert collection\n",
    "    mycol.insert_many(data_dict)\n"
   ]
  },
  {
   "cell_type": "code",
   "execution_count": 14,
   "metadata": {},
   "outputs": [
    {
     "data": {
      "text/plain": [
       "3204039"
      ]
     },
     "execution_count": 14,
     "metadata": {},
     "output_type": "execute_result"
    }
   ],
   "source": [
    "mycol.find().count()"
   ]
  },
  {
   "cell_type": "code",
   "execution_count": 15,
   "metadata": {},
   "outputs": [
    {
     "data": {
      "text/plain": [
       "9550"
      ]
     },
     "execution_count": 15,
     "metadata": {},
     "output_type": "execute_result"
    }
   ],
   "source": [
    "mycol.count_documents({ 'date': '2001-01-01'})"
   ]
  },
  {
   "cell_type": "code",
   "execution_count": 17,
   "metadata": {},
   "outputs": [
    {
     "name": "stdout",
     "output_type": "stream",
     "text": [
      "Anzahl an Städten in Baden-Württemberg:  96\n"
     ]
    }
   ],
   "source": [
    "#bawue =mycol.find({'df_all_data' : 'DE' })\n",
    "print(\"Anzahl an Städten in Baden-Württemberg: \",mycol.count_documents({'country' : 'DE' }))"
   ]
  },
  {
   "cell_type": "code",
   "execution_count": 18,
   "metadata": {},
   "outputs": [
    {
     "name": "stdout",
     "output_type": "stream",
     "text": [
      "Number of found products:  96\n"
     ]
    }
   ],
   "source": [
    "query={\n",
    "     '$and': [\n",
    "            {'country' : 'DE' },\n",
    "          ]\n",
    "}\n",
    "print(\"Number of found products: \",mycol.count_documents(query))"
   ]
  },
  {
   "cell_type": "code",
   "execution_count": 19,
   "metadata": {},
   "outputs": [
    {
     "data": {
      "text/html": [
       "<div>\n",
       "<style scoped>\n",
       "    .dataframe tbody tr th:only-of-type {\n",
       "        vertical-align: middle;\n",
       "    }\n",
       "\n",
       "    .dataframe tbody tr th {\n",
       "        vertical-align: top;\n",
       "    }\n",
       "\n",
       "    .dataframe thead th {\n",
       "        text-align: right;\n",
       "    }\n",
       "</style>\n",
       "<table border=\"1\" class=\"dataframe\">\n",
       "  <thead>\n",
       "    <tr style=\"text-align: right;\">\n",
       "      <th></th>\n",
       "      <th>_id</th>\n",
       "      <th>lon</th>\n",
       "      <th>lat</th>\n",
       "      <th>country</th>\n",
       "      <th>date</th>\n",
       "      <th>burned_area</th>\n",
       "      <th>standard_error</th>\n",
       "      <th>fraction_of_burnable_area</th>\n",
       "      <th>fraction_of_observed_area</th>\n",
       "      <th>number_of_patches</th>\n",
       "      <th>no_data_burned_area</th>\n",
       "      <th>tree_cover_broadleaved_evergreen_burned_area</th>\n",
       "      <th>tree_cover_broadleaved_deciduous_burned_area</th>\n",
       "      <th>tree_cover_needleleaved_evergreen_burned_area</th>\n",
       "      <th>tree_cover_needleleaved_deciduous_burned_area</th>\n",
       "      <th>tree_cover_mixed_leave_burned_area</th>\n",
       "      <th>cropland_burned_area</th>\n",
       "      <th>mosaic_tree_grass_burned_area</th>\n",
       "      <th>other_vegetation_burned_area</th>\n",
       "      <th>flooded_area_burned_area</th>\n",
       "    </tr>\n",
       "  </thead>\n",
       "  <tbody>\n",
       "    <tr>\n",
       "      <th>0</th>\n",
       "      <td>6306310a28dd00e55a294f9d</td>\n",
       "      <td>11.625</td>\n",
       "      <td>51.875</td>\n",
       "      <td>DE</td>\n",
       "      <td>2002-10-01</td>\n",
       "      <td>160994.0</td>\n",
       "      <td>482436.0</td>\n",
       "      <td>0.925664</td>\n",
       "      <td>0.973029</td>\n",
       "      <td>3.0</td>\n",
       "      <td>160994.0</td>\n",
       "      <td>0.0</td>\n",
       "      <td>0.0</td>\n",
       "      <td>0.0</td>\n",
       "      <td>0.0</td>\n",
       "      <td>0.0</td>\n",
       "      <td>0.0</td>\n",
       "      <td>0.0</td>\n",
       "      <td>0.0</td>\n",
       "      <td>0.0</td>\n",
       "    </tr>\n",
       "    <tr>\n",
       "      <th>1</th>\n",
       "      <td>6306310f28dd00e55a299414</td>\n",
       "      <td>11.625</td>\n",
       "      <td>51.875</td>\n",
       "      <td>DE</td>\n",
       "      <td>2002-11-01</td>\n",
       "      <td>697640.0</td>\n",
       "      <td>711347.0</td>\n",
       "      <td>0.925664</td>\n",
       "      <td>0.974973</td>\n",
       "      <td>2.0</td>\n",
       "      <td>697640.0</td>\n",
       "      <td>0.0</td>\n",
       "      <td>0.0</td>\n",
       "      <td>0.0</td>\n",
       "      <td>0.0</td>\n",
       "      <td>0.0</td>\n",
       "      <td>0.0</td>\n",
       "      <td>0.0</td>\n",
       "      <td>0.0</td>\n",
       "      <td>0.0</td>\n",
       "    </tr>\n",
       "    <tr>\n",
       "      <th>2</th>\n",
       "      <td>6306310f28dd00e55a299415</td>\n",
       "      <td>11.875</td>\n",
       "      <td>51.875</td>\n",
       "      <td>DE</td>\n",
       "      <td>2002-11-01</td>\n",
       "      <td>53664.0</td>\n",
       "      <td>720374.0</td>\n",
       "      <td>0.934856</td>\n",
       "      <td>0.974486</td>\n",
       "      <td>1.0</td>\n",
       "      <td>53664.0</td>\n",
       "      <td>0.0</td>\n",
       "      <td>0.0</td>\n",
       "      <td>0.0</td>\n",
       "      <td>0.0</td>\n",
       "      <td>0.0</td>\n",
       "      <td>0.0</td>\n",
       "      <td>0.0</td>\n",
       "      <td>0.0</td>\n",
       "      <td>0.0</td>\n",
       "    </tr>\n",
       "    <tr>\n",
       "      <th>3</th>\n",
       "      <td>6306310f28dd00e55a29943a</td>\n",
       "      <td>11.625</td>\n",
       "      <td>51.625</td>\n",
       "      <td>DE</td>\n",
       "      <td>2002-11-01</td>\n",
       "      <td>536646.0</td>\n",
       "      <td>818735.0</td>\n",
       "      <td>0.940242</td>\n",
       "      <td>0.979529</td>\n",
       "      <td>1.0</td>\n",
       "      <td>536646.0</td>\n",
       "      <td>0.0</td>\n",
       "      <td>0.0</td>\n",
       "      <td>0.0</td>\n",
       "      <td>0.0</td>\n",
       "      <td>0.0</td>\n",
       "      <td>0.0</td>\n",
       "      <td>0.0</td>\n",
       "      <td>0.0</td>\n",
       "      <td>0.0</td>\n",
       "    </tr>\n",
       "    <tr>\n",
       "      <th>4</th>\n",
       "      <td>6306310f28dd00e55a29945b</td>\n",
       "      <td>6.625</td>\n",
       "      <td>51.375</td>\n",
       "      <td>DE</td>\n",
       "      <td>2002-11-01</td>\n",
       "      <td>751305.0</td>\n",
       "      <td>526805.0</td>\n",
       "      <td>0.595106</td>\n",
       "      <td>0.895701</td>\n",
       "      <td>5.0</td>\n",
       "      <td>375652.0</td>\n",
       "      <td>0.0</td>\n",
       "      <td>0.0</td>\n",
       "      <td>160994.0</td>\n",
       "      <td>0.0</td>\n",
       "      <td>53664.0</td>\n",
       "      <td>53664.0</td>\n",
       "      <td>0.0</td>\n",
       "      <td>107329.0</td>\n",
       "      <td>0.0</td>\n",
       "    </tr>\n",
       "    <tr>\n",
       "      <th>...</th>\n",
       "      <td>...</td>\n",
       "      <td>...</td>\n",
       "      <td>...</td>\n",
       "      <td>...</td>\n",
       "      <td>...</td>\n",
       "      <td>...</td>\n",
       "      <td>...</td>\n",
       "      <td>...</td>\n",
       "      <td>...</td>\n",
       "      <td>...</td>\n",
       "      <td>...</td>\n",
       "      <td>...</td>\n",
       "      <td>...</td>\n",
       "      <td>...</td>\n",
       "      <td>...</td>\n",
       "      <td>...</td>\n",
       "      <td>...</td>\n",
       "      <td>...</td>\n",
       "      <td>...</td>\n",
       "      <td>...</td>\n",
       "    </tr>\n",
       "    <tr>\n",
       "      <th>91</th>\n",
       "      <td>6306348428dd00e55a530aa7</td>\n",
       "      <td>11.875</td>\n",
       "      <td>51.875</td>\n",
       "      <td>DE</td>\n",
       "      <td>2019-07-01</td>\n",
       "      <td>160994.0</td>\n",
       "      <td>560935.0</td>\n",
       "      <td>0.922367</td>\n",
       "      <td>1.000000</td>\n",
       "      <td>3.0</td>\n",
       "      <td>160994.0</td>\n",
       "      <td>0.0</td>\n",
       "      <td>0.0</td>\n",
       "      <td>0.0</td>\n",
       "      <td>0.0</td>\n",
       "      <td>0.0</td>\n",
       "      <td>0.0</td>\n",
       "      <td>0.0</td>\n",
       "      <td>0.0</td>\n",
       "      <td>0.0</td>\n",
       "    </tr>\n",
       "    <tr>\n",
       "      <th>92</th>\n",
       "      <td>6306348428dd00e55a530c02</td>\n",
       "      <td>9.875</td>\n",
       "      <td>50.125</td>\n",
       "      <td>DE</td>\n",
       "      <td>2019-07-01</td>\n",
       "      <td>1073293.0</td>\n",
       "      <td>694338.0</td>\n",
       "      <td>0.971613</td>\n",
       "      <td>1.000000</td>\n",
       "      <td>1.0</td>\n",
       "      <td>375652.0</td>\n",
       "      <td>0.0</td>\n",
       "      <td>0.0</td>\n",
       "      <td>0.0</td>\n",
       "      <td>0.0</td>\n",
       "      <td>0.0</td>\n",
       "      <td>0.0</td>\n",
       "      <td>0.0</td>\n",
       "      <td>590311.0</td>\n",
       "      <td>0.0</td>\n",
       "    </tr>\n",
       "    <tr>\n",
       "      <th>93</th>\n",
       "      <td>6306348828dd00e55a5347e3</td>\n",
       "      <td>11.875</td>\n",
       "      <td>51.875</td>\n",
       "      <td>DE</td>\n",
       "      <td>2019-08-01</td>\n",
       "      <td>1609940.0</td>\n",
       "      <td>482329.0</td>\n",
       "      <td>0.922367</td>\n",
       "      <td>0.996097</td>\n",
       "      <td>1.0</td>\n",
       "      <td>1609940.0</td>\n",
       "      <td>0.0</td>\n",
       "      <td>0.0</td>\n",
       "      <td>0.0</td>\n",
       "      <td>0.0</td>\n",
       "      <td>0.0</td>\n",
       "      <td>0.0</td>\n",
       "      <td>0.0</td>\n",
       "      <td>0.0</td>\n",
       "      <td>0.0</td>\n",
       "    </tr>\n",
       "    <tr>\n",
       "      <th>94</th>\n",
       "      <td>6306348828dd00e55a534bce</td>\n",
       "      <td>12.875</td>\n",
       "      <td>48.125</td>\n",
       "      <td>DE</td>\n",
       "      <td>2019-08-01</td>\n",
       "      <td>214658.0</td>\n",
       "      <td>767514.0</td>\n",
       "      <td>0.949443</td>\n",
       "      <td>1.000000</td>\n",
       "      <td>3.0</td>\n",
       "      <td>53664.0</td>\n",
       "      <td>0.0</td>\n",
       "      <td>0.0</td>\n",
       "      <td>107329.0</td>\n",
       "      <td>0.0</td>\n",
       "      <td>0.0</td>\n",
       "      <td>53664.0</td>\n",
       "      <td>0.0</td>\n",
       "      <td>0.0</td>\n",
       "      <td>0.0</td>\n",
       "    </tr>\n",
       "    <tr>\n",
       "      <th>95</th>\n",
       "      <td>6306348d28dd00e55a538e00</td>\n",
       "      <td>12.875</td>\n",
       "      <td>48.125</td>\n",
       "      <td>DE</td>\n",
       "      <td>2019-09-01</td>\n",
       "      <td>375652.0</td>\n",
       "      <td>510351.0</td>\n",
       "      <td>0.949443</td>\n",
       "      <td>1.000000</td>\n",
       "      <td>2.0</td>\n",
       "      <td>53664.0</td>\n",
       "      <td>0.0</td>\n",
       "      <td>0.0</td>\n",
       "      <td>53664.0</td>\n",
       "      <td>0.0</td>\n",
       "      <td>0.0</td>\n",
       "      <td>107329.0</td>\n",
       "      <td>107328.0</td>\n",
       "      <td>107329.0</td>\n",
       "      <td>0.0</td>\n",
       "    </tr>\n",
       "  </tbody>\n",
       "</table>\n",
       "<p>96 rows × 20 columns</p>\n",
       "</div>"
      ],
      "text/plain": [
       "                         _id     lon     lat country        date  burned_area  \\\n",
       "0   6306310a28dd00e55a294f9d  11.625  51.875      DE  2002-10-01     160994.0   \n",
       "1   6306310f28dd00e55a299414  11.625  51.875      DE  2002-11-01     697640.0   \n",
       "2   6306310f28dd00e55a299415  11.875  51.875      DE  2002-11-01      53664.0   \n",
       "3   6306310f28dd00e55a29943a  11.625  51.625      DE  2002-11-01     536646.0   \n",
       "4   6306310f28dd00e55a29945b   6.625  51.375      DE  2002-11-01     751305.0   \n",
       "..                       ...     ...     ...     ...         ...          ...   \n",
       "91  6306348428dd00e55a530aa7  11.875  51.875      DE  2019-07-01     160994.0   \n",
       "92  6306348428dd00e55a530c02   9.875  50.125      DE  2019-07-01    1073293.0   \n",
       "93  6306348828dd00e55a5347e3  11.875  51.875      DE  2019-08-01    1609940.0   \n",
       "94  6306348828dd00e55a534bce  12.875  48.125      DE  2019-08-01     214658.0   \n",
       "95  6306348d28dd00e55a538e00  12.875  48.125      DE  2019-09-01     375652.0   \n",
       "\n",
       "    standard_error  fraction_of_burnable_area  fraction_of_observed_area  \\\n",
       "0         482436.0                   0.925664                   0.973029   \n",
       "1         711347.0                   0.925664                   0.974973   \n",
       "2         720374.0                   0.934856                   0.974486   \n",
       "3         818735.0                   0.940242                   0.979529   \n",
       "4         526805.0                   0.595106                   0.895701   \n",
       "..             ...                        ...                        ...   \n",
       "91        560935.0                   0.922367                   1.000000   \n",
       "92        694338.0                   0.971613                   1.000000   \n",
       "93        482329.0                   0.922367                   0.996097   \n",
       "94        767514.0                   0.949443                   1.000000   \n",
       "95        510351.0                   0.949443                   1.000000   \n",
       "\n",
       "    number_of_patches  no_data_burned_area  \\\n",
       "0                 3.0             160994.0   \n",
       "1                 2.0             697640.0   \n",
       "2                 1.0              53664.0   \n",
       "3                 1.0             536646.0   \n",
       "4                 5.0             375652.0   \n",
       "..                ...                  ...   \n",
       "91                3.0             160994.0   \n",
       "92                1.0             375652.0   \n",
       "93                1.0            1609940.0   \n",
       "94                3.0              53664.0   \n",
       "95                2.0              53664.0   \n",
       "\n",
       "    tree_cover_broadleaved_evergreen_burned_area  \\\n",
       "0                                            0.0   \n",
       "1                                            0.0   \n",
       "2                                            0.0   \n",
       "3                                            0.0   \n",
       "4                                            0.0   \n",
       "..                                           ...   \n",
       "91                                           0.0   \n",
       "92                                           0.0   \n",
       "93                                           0.0   \n",
       "94                                           0.0   \n",
       "95                                           0.0   \n",
       "\n",
       "    tree_cover_broadleaved_deciduous_burned_area  \\\n",
       "0                                            0.0   \n",
       "1                                            0.0   \n",
       "2                                            0.0   \n",
       "3                                            0.0   \n",
       "4                                            0.0   \n",
       "..                                           ...   \n",
       "91                                           0.0   \n",
       "92                                           0.0   \n",
       "93                                           0.0   \n",
       "94                                           0.0   \n",
       "95                                           0.0   \n",
       "\n",
       "    tree_cover_needleleaved_evergreen_burned_area  \\\n",
       "0                                             0.0   \n",
       "1                                             0.0   \n",
       "2                                             0.0   \n",
       "3                                             0.0   \n",
       "4                                        160994.0   \n",
       "..                                            ...   \n",
       "91                                            0.0   \n",
       "92                                            0.0   \n",
       "93                                            0.0   \n",
       "94                                       107329.0   \n",
       "95                                        53664.0   \n",
       "\n",
       "    tree_cover_needleleaved_deciduous_burned_area  \\\n",
       "0                                             0.0   \n",
       "1                                             0.0   \n",
       "2                                             0.0   \n",
       "3                                             0.0   \n",
       "4                                             0.0   \n",
       "..                                            ...   \n",
       "91                                            0.0   \n",
       "92                                            0.0   \n",
       "93                                            0.0   \n",
       "94                                            0.0   \n",
       "95                                            0.0   \n",
       "\n",
       "    tree_cover_mixed_leave_burned_area  cropland_burned_area  \\\n",
       "0                                  0.0                   0.0   \n",
       "1                                  0.0                   0.0   \n",
       "2                                  0.0                   0.0   \n",
       "3                                  0.0                   0.0   \n",
       "4                              53664.0               53664.0   \n",
       "..                                 ...                   ...   \n",
       "91                                 0.0                   0.0   \n",
       "92                                 0.0                   0.0   \n",
       "93                                 0.0                   0.0   \n",
       "94                                 0.0               53664.0   \n",
       "95                                 0.0              107329.0   \n",
       "\n",
       "    mosaic_tree_grass_burned_area  other_vegetation_burned_area  \\\n",
       "0                             0.0                           0.0   \n",
       "1                             0.0                           0.0   \n",
       "2                             0.0                           0.0   \n",
       "3                             0.0                           0.0   \n",
       "4                             0.0                      107329.0   \n",
       "..                            ...                           ...   \n",
       "91                            0.0                           0.0   \n",
       "92                            0.0                      590311.0   \n",
       "93                            0.0                           0.0   \n",
       "94                            0.0                           0.0   \n",
       "95                       107328.0                      107329.0   \n",
       "\n",
       "    flooded_area_burned_area  \n",
       "0                        0.0  \n",
       "1                        0.0  \n",
       "2                        0.0  \n",
       "3                        0.0  \n",
       "4                        0.0  \n",
       "..                       ...  \n",
       "91                       0.0  \n",
       "92                       0.0  \n",
       "93                       0.0  \n",
       "94                       0.0  \n",
       "95                       0.0  \n",
       "\n",
       "[96 rows x 20 columns]"
      ]
     },
     "execution_count": 19,
     "metadata": {},
     "output_type": "execute_result"
    }
   ],
   "source": [
    "cursor = mycol.find(query)\n",
    "df =  pd.DataFrame(list(cursor))\n",
    "df"
   ]
  },
  {
   "cell_type": "code",
   "execution_count": 20,
   "metadata": {},
   "outputs": [],
   "source": [
    "df_groupby = df.groupby(by='country').sum()\n",
    "df_groupby = df_groupby.drop(columns=['lon', 'lat', 'burned_area', 'standard_error', 'fraction_of_burnable_area','fraction_of_observed_area', 'number_of_patches' ])\n",
    "df_groupby = df_groupby.transpose()\n",
    "df_groupby = df_groupby.reset_index()"
   ]
  },
  {
   "cell_type": "code",
   "execution_count": 21,
   "metadata": {},
   "outputs": [
    {
     "data": {
      "text/plain": [
       "Index(['index', 'DE'], dtype='object', name='country')"
      ]
     },
     "execution_count": 21,
     "metadata": {},
     "output_type": "execute_result"
    }
   ],
   "source": [
    "df_groupby.columns"
   ]
  },
  {
   "cell_type": "code",
   "execution_count": 23,
   "metadata": {},
   "outputs": [
    {
     "data": {
      "application/vnd.plotly.v1+json": {
       "config": {
        "plotlyServerURL": "https://plot.ly"
       },
       "data": [
        {
         "alignmentgroup": "True",
         "hovertemplate": "index=%{x}<br>DE=%{y}<extra></extra>",
         "legendgroup": "",
         "marker": {
          "color": "#636efa",
          "pattern": {
           "shape": ""
          }
         },
         "name": "",
         "offsetgroup": "",
         "orientation": "v",
         "showlegend": false,
         "textposition": "auto",
         "type": "bar",
         "x": [
          "no_data_burned_area",
          "tree_cover_broadleaved_evergreen_burned_area",
          "tree_cover_broadleaved_deciduous_burned_area",
          "tree_cover_needleleaved_evergreen_burned_area",
          "tree_cover_needleleaved_deciduous_burned_area",
          "tree_cover_mixed_leave_burned_area",
          "cropland_burned_area",
          "mosaic_tree_grass_burned_area",
          "other_vegetation_burned_area",
          "flooded_area_burned_area"
         ],
         "xaxis": "x",
         "y": [
          34613690,
          0,
          3434534,
          57850492,
          0,
          858630,
          7459369,
          15562732,
          6278755,
          26510340
         ],
         "yaxis": "y"
        }
       ],
       "layout": {
        "barmode": "relative",
        "legend": {
         "tracegroupgap": 0
        },
        "margin": {
         "t": 60
        },
        "template": {
         "data": {
          "bar": [
           {
            "error_x": {
             "color": "#2a3f5f"
            },
            "error_y": {
             "color": "#2a3f5f"
            },
            "marker": {
             "line": {
              "color": "#E5ECF6",
              "width": 0.5
             },
             "pattern": {
              "fillmode": "overlay",
              "size": 10,
              "solidity": 0.2
             }
            },
            "type": "bar"
           }
          ],
          "barpolar": [
           {
            "marker": {
             "line": {
              "color": "#E5ECF6",
              "width": 0.5
             },
             "pattern": {
              "fillmode": "overlay",
              "size": 10,
              "solidity": 0.2
             }
            },
            "type": "barpolar"
           }
          ],
          "carpet": [
           {
            "aaxis": {
             "endlinecolor": "#2a3f5f",
             "gridcolor": "white",
             "linecolor": "white",
             "minorgridcolor": "white",
             "startlinecolor": "#2a3f5f"
            },
            "baxis": {
             "endlinecolor": "#2a3f5f",
             "gridcolor": "white",
             "linecolor": "white",
             "minorgridcolor": "white",
             "startlinecolor": "#2a3f5f"
            },
            "type": "carpet"
           }
          ],
          "choropleth": [
           {
            "colorbar": {
             "outlinewidth": 0,
             "ticks": ""
            },
            "type": "choropleth"
           }
          ],
          "contour": [
           {
            "colorbar": {
             "outlinewidth": 0,
             "ticks": ""
            },
            "colorscale": [
             [
              0,
              "#0d0887"
             ],
             [
              0.1111111111111111,
              "#46039f"
             ],
             [
              0.2222222222222222,
              "#7201a8"
             ],
             [
              0.3333333333333333,
              "#9c179e"
             ],
             [
              0.4444444444444444,
              "#bd3786"
             ],
             [
              0.5555555555555556,
              "#d8576b"
             ],
             [
              0.6666666666666666,
              "#ed7953"
             ],
             [
              0.7777777777777778,
              "#fb9f3a"
             ],
             [
              0.8888888888888888,
              "#fdca26"
             ],
             [
              1,
              "#f0f921"
             ]
            ],
            "type": "contour"
           }
          ],
          "contourcarpet": [
           {
            "colorbar": {
             "outlinewidth": 0,
             "ticks": ""
            },
            "type": "contourcarpet"
           }
          ],
          "heatmap": [
           {
            "colorbar": {
             "outlinewidth": 0,
             "ticks": ""
            },
            "colorscale": [
             [
              0,
              "#0d0887"
             ],
             [
              0.1111111111111111,
              "#46039f"
             ],
             [
              0.2222222222222222,
              "#7201a8"
             ],
             [
              0.3333333333333333,
              "#9c179e"
             ],
             [
              0.4444444444444444,
              "#bd3786"
             ],
             [
              0.5555555555555556,
              "#d8576b"
             ],
             [
              0.6666666666666666,
              "#ed7953"
             ],
             [
              0.7777777777777778,
              "#fb9f3a"
             ],
             [
              0.8888888888888888,
              "#fdca26"
             ],
             [
              1,
              "#f0f921"
             ]
            ],
            "type": "heatmap"
           }
          ],
          "heatmapgl": [
           {
            "colorbar": {
             "outlinewidth": 0,
             "ticks": ""
            },
            "colorscale": [
             [
              0,
              "#0d0887"
             ],
             [
              0.1111111111111111,
              "#46039f"
             ],
             [
              0.2222222222222222,
              "#7201a8"
             ],
             [
              0.3333333333333333,
              "#9c179e"
             ],
             [
              0.4444444444444444,
              "#bd3786"
             ],
             [
              0.5555555555555556,
              "#d8576b"
             ],
             [
              0.6666666666666666,
              "#ed7953"
             ],
             [
              0.7777777777777778,
              "#fb9f3a"
             ],
             [
              0.8888888888888888,
              "#fdca26"
             ],
             [
              1,
              "#f0f921"
             ]
            ],
            "type": "heatmapgl"
           }
          ],
          "histogram": [
           {
            "marker": {
             "pattern": {
              "fillmode": "overlay",
              "size": 10,
              "solidity": 0.2
             }
            },
            "type": "histogram"
           }
          ],
          "histogram2d": [
           {
            "colorbar": {
             "outlinewidth": 0,
             "ticks": ""
            },
            "colorscale": [
             [
              0,
              "#0d0887"
             ],
             [
              0.1111111111111111,
              "#46039f"
             ],
             [
              0.2222222222222222,
              "#7201a8"
             ],
             [
              0.3333333333333333,
              "#9c179e"
             ],
             [
              0.4444444444444444,
              "#bd3786"
             ],
             [
              0.5555555555555556,
              "#d8576b"
             ],
             [
              0.6666666666666666,
              "#ed7953"
             ],
             [
              0.7777777777777778,
              "#fb9f3a"
             ],
             [
              0.8888888888888888,
              "#fdca26"
             ],
             [
              1,
              "#f0f921"
             ]
            ],
            "type": "histogram2d"
           }
          ],
          "histogram2dcontour": [
           {
            "colorbar": {
             "outlinewidth": 0,
             "ticks": ""
            },
            "colorscale": [
             [
              0,
              "#0d0887"
             ],
             [
              0.1111111111111111,
              "#46039f"
             ],
             [
              0.2222222222222222,
              "#7201a8"
             ],
             [
              0.3333333333333333,
              "#9c179e"
             ],
             [
              0.4444444444444444,
              "#bd3786"
             ],
             [
              0.5555555555555556,
              "#d8576b"
             ],
             [
              0.6666666666666666,
              "#ed7953"
             ],
             [
              0.7777777777777778,
              "#fb9f3a"
             ],
             [
              0.8888888888888888,
              "#fdca26"
             ],
             [
              1,
              "#f0f921"
             ]
            ],
            "type": "histogram2dcontour"
           }
          ],
          "mesh3d": [
           {
            "colorbar": {
             "outlinewidth": 0,
             "ticks": ""
            },
            "type": "mesh3d"
           }
          ],
          "parcoords": [
           {
            "line": {
             "colorbar": {
              "outlinewidth": 0,
              "ticks": ""
             }
            },
            "type": "parcoords"
           }
          ],
          "pie": [
           {
            "automargin": true,
            "type": "pie"
           }
          ],
          "scatter": [
           {
            "marker": {
             "colorbar": {
              "outlinewidth": 0,
              "ticks": ""
             }
            },
            "type": "scatter"
           }
          ],
          "scatter3d": [
           {
            "line": {
             "colorbar": {
              "outlinewidth": 0,
              "ticks": ""
             }
            },
            "marker": {
             "colorbar": {
              "outlinewidth": 0,
              "ticks": ""
             }
            },
            "type": "scatter3d"
           }
          ],
          "scattercarpet": [
           {
            "marker": {
             "colorbar": {
              "outlinewidth": 0,
              "ticks": ""
             }
            },
            "type": "scattercarpet"
           }
          ],
          "scattergeo": [
           {
            "marker": {
             "colorbar": {
              "outlinewidth": 0,
              "ticks": ""
             }
            },
            "type": "scattergeo"
           }
          ],
          "scattergl": [
           {
            "marker": {
             "colorbar": {
              "outlinewidth": 0,
              "ticks": ""
             }
            },
            "type": "scattergl"
           }
          ],
          "scattermapbox": [
           {
            "marker": {
             "colorbar": {
              "outlinewidth": 0,
              "ticks": ""
             }
            },
            "type": "scattermapbox"
           }
          ],
          "scatterpolar": [
           {
            "marker": {
             "colorbar": {
              "outlinewidth": 0,
              "ticks": ""
             }
            },
            "type": "scatterpolar"
           }
          ],
          "scatterpolargl": [
           {
            "marker": {
             "colorbar": {
              "outlinewidth": 0,
              "ticks": ""
             }
            },
            "type": "scatterpolargl"
           }
          ],
          "scatterternary": [
           {
            "marker": {
             "colorbar": {
              "outlinewidth": 0,
              "ticks": ""
             }
            },
            "type": "scatterternary"
           }
          ],
          "surface": [
           {
            "colorbar": {
             "outlinewidth": 0,
             "ticks": ""
            },
            "colorscale": [
             [
              0,
              "#0d0887"
             ],
             [
              0.1111111111111111,
              "#46039f"
             ],
             [
              0.2222222222222222,
              "#7201a8"
             ],
             [
              0.3333333333333333,
              "#9c179e"
             ],
             [
              0.4444444444444444,
              "#bd3786"
             ],
             [
              0.5555555555555556,
              "#d8576b"
             ],
             [
              0.6666666666666666,
              "#ed7953"
             ],
             [
              0.7777777777777778,
              "#fb9f3a"
             ],
             [
              0.8888888888888888,
              "#fdca26"
             ],
             [
              1,
              "#f0f921"
             ]
            ],
            "type": "surface"
           }
          ],
          "table": [
           {
            "cells": {
             "fill": {
              "color": "#EBF0F8"
             },
             "line": {
              "color": "white"
             }
            },
            "header": {
             "fill": {
              "color": "#C8D4E3"
             },
             "line": {
              "color": "white"
             }
            },
            "type": "table"
           }
          ]
         },
         "layout": {
          "annotationdefaults": {
           "arrowcolor": "#2a3f5f",
           "arrowhead": 0,
           "arrowwidth": 1
          },
          "autotypenumbers": "strict",
          "coloraxis": {
           "colorbar": {
            "outlinewidth": 0,
            "ticks": ""
           }
          },
          "colorscale": {
           "diverging": [
            [
             0,
             "#8e0152"
            ],
            [
             0.1,
             "#c51b7d"
            ],
            [
             0.2,
             "#de77ae"
            ],
            [
             0.3,
             "#f1b6da"
            ],
            [
             0.4,
             "#fde0ef"
            ],
            [
             0.5,
             "#f7f7f7"
            ],
            [
             0.6,
             "#e6f5d0"
            ],
            [
             0.7,
             "#b8e186"
            ],
            [
             0.8,
             "#7fbc41"
            ],
            [
             0.9,
             "#4d9221"
            ],
            [
             1,
             "#276419"
            ]
           ],
           "sequential": [
            [
             0,
             "#0d0887"
            ],
            [
             0.1111111111111111,
             "#46039f"
            ],
            [
             0.2222222222222222,
             "#7201a8"
            ],
            [
             0.3333333333333333,
             "#9c179e"
            ],
            [
             0.4444444444444444,
             "#bd3786"
            ],
            [
             0.5555555555555556,
             "#d8576b"
            ],
            [
             0.6666666666666666,
             "#ed7953"
            ],
            [
             0.7777777777777778,
             "#fb9f3a"
            ],
            [
             0.8888888888888888,
             "#fdca26"
            ],
            [
             1,
             "#f0f921"
            ]
           ],
           "sequentialminus": [
            [
             0,
             "#0d0887"
            ],
            [
             0.1111111111111111,
             "#46039f"
            ],
            [
             0.2222222222222222,
             "#7201a8"
            ],
            [
             0.3333333333333333,
             "#9c179e"
            ],
            [
             0.4444444444444444,
             "#bd3786"
            ],
            [
             0.5555555555555556,
             "#d8576b"
            ],
            [
             0.6666666666666666,
             "#ed7953"
            ],
            [
             0.7777777777777778,
             "#fb9f3a"
            ],
            [
             0.8888888888888888,
             "#fdca26"
            ],
            [
             1,
             "#f0f921"
            ]
           ]
          },
          "colorway": [
           "#636efa",
           "#EF553B",
           "#00cc96",
           "#ab63fa",
           "#FFA15A",
           "#19d3f3",
           "#FF6692",
           "#B6E880",
           "#FF97FF",
           "#FECB52"
          ],
          "font": {
           "color": "#2a3f5f"
          },
          "geo": {
           "bgcolor": "white",
           "lakecolor": "white",
           "landcolor": "#E5ECF6",
           "showlakes": true,
           "showland": true,
           "subunitcolor": "white"
          },
          "hoverlabel": {
           "align": "left"
          },
          "hovermode": "closest",
          "mapbox": {
           "style": "light"
          },
          "paper_bgcolor": "white",
          "plot_bgcolor": "#E5ECF6",
          "polar": {
           "angularaxis": {
            "gridcolor": "white",
            "linecolor": "white",
            "ticks": ""
           },
           "bgcolor": "#E5ECF6",
           "radialaxis": {
            "gridcolor": "white",
            "linecolor": "white",
            "ticks": ""
           }
          },
          "scene": {
           "xaxis": {
            "backgroundcolor": "#E5ECF6",
            "gridcolor": "white",
            "gridwidth": 2,
            "linecolor": "white",
            "showbackground": true,
            "ticks": "",
            "zerolinecolor": "white"
           },
           "yaxis": {
            "backgroundcolor": "#E5ECF6",
            "gridcolor": "white",
            "gridwidth": 2,
            "linecolor": "white",
            "showbackground": true,
            "ticks": "",
            "zerolinecolor": "white"
           },
           "zaxis": {
            "backgroundcolor": "#E5ECF6",
            "gridcolor": "white",
            "gridwidth": 2,
            "linecolor": "white",
            "showbackground": true,
            "ticks": "",
            "zerolinecolor": "white"
           }
          },
          "shapedefaults": {
           "line": {
            "color": "#2a3f5f"
           }
          },
          "ternary": {
           "aaxis": {
            "gridcolor": "white",
            "linecolor": "white",
            "ticks": ""
           },
           "baxis": {
            "gridcolor": "white",
            "linecolor": "white",
            "ticks": ""
           },
           "bgcolor": "#E5ECF6",
           "caxis": {
            "gridcolor": "white",
            "linecolor": "white",
            "ticks": ""
           }
          },
          "title": {
           "x": 0.05
          },
          "xaxis": {
           "automargin": true,
           "gridcolor": "white",
           "linecolor": "white",
           "ticks": "",
           "title": {
            "standoff": 15
           },
           "zerolinecolor": "white",
           "zerolinewidth": 2
          },
          "yaxis": {
           "automargin": true,
           "gridcolor": "white",
           "linecolor": "white",
           "ticks": "",
           "title": {
            "standoff": 15
           },
           "zerolinecolor": "white",
           "zerolinewidth": 2
          }
         }
        },
        "xaxis": {
         "anchor": "y",
         "domain": [
          0,
          1
         ],
         "title": {
          "text": "index"
         }
        },
        "yaxis": {
         "anchor": "x",
         "domain": [
          0,
          1
         ],
         "title": {
          "text": "DE"
         }
        }
       }
      }
     },
     "metadata": {},
     "output_type": "display_data"
    }
   ],
   "source": [
    "import plotly.express as px\n",
    "fig = px.bar(df_groupby, x='index', y='DE')\n",
    "fig.show()"
   ]
  }
 ],
 "metadata": {
  "kernelspec": {
   "display_name": "Python 3.7.11 ('base')",
   "language": "python",
   "name": "python3"
  },
  "language_info": {
   "codemirror_mode": {
    "name": "ipython",
    "version": 3
   },
   "file_extension": ".py",
   "mimetype": "text/x-python",
   "name": "python",
   "nbconvert_exporter": "python",
   "pygments_lexer": "ipython3",
   "version": "3.7.11"
  },
  "orig_nbformat": 4,
  "vscode": {
   "interpreter": {
    "hash": "df5c7b8ffaedf80dec2b70b09605990d7e0e1b6bc745b497330e86cbe58a738e"
   }
  }
 },
 "nbformat": 4,
 "nbformat_minor": 2
}
