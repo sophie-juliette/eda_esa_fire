{
 "cells": [
  {
   "cell_type": "markdown",
   "metadata": {},
   "source": [
    "# Dashbord Waldbrände in Europa"
   ]
  },
  {
   "cell_type": "markdown",
   "metadata": {},
   "source": [
    "\n",
    "> In diesem Notebook wird ein Dashboard mit Waldbranddaten aus Europa erstellt. Dafür werden im ersten Schritt die Grafiken für das Dashboard festgelegt und anschließend das Dashboard erzeugt. \n",
    "> Was nutze ich dafür? "
   ]
  },
  {
   "cell_type": "markdown",
   "metadata": {},
   "source": [
    "## Import und Transformieren der Daten"
   ]
  },
  {
   "cell_type": "code",
   "execution_count": 1,
   "metadata": {},
   "outputs": [],
   "source": [
    "from pymongo import MongoClient\n",
    "import pandas as pd\n",
    "import plotly.express as px\n",
    "import plotly.graph_objects as go\n",
    "\n",
    "from jupyter_dash import JupyterDash\n",
    "import dash_core_components as dcc\n",
    "import dash_html_components as html\n",
    "from dash.dependencies import Input, Output# Load Data"
   ]
  },
  {
   "cell_type": "code",
   "execution_count": 2,
   "metadata": {},
   "outputs": [],
   "source": [
    "client = MongoClient()\n",
    "client = MongoClient('mongodb://localhost:27017/')\n",
    "mydb = client[\"esa_fire\"]\n",
    "mycol = mydb[\"esa_fire_2001\"]"
   ]
  },
  {
   "cell_type": "code",
   "execution_count": 3,
   "metadata": {},
   "outputs": [],
   "source": [
    "df_countries = pd.read_csv('C:\\dev\\eda_esa_fire\\doc\\country_codes.csv', on_bad_lines='skip', delimiter=',')\n",
    "europe = df_countries[df_countries['region'] == 'Europe']['alpha-2'].to_list()"
   ]
  },
  {
   "cell_type": "markdown",
   "metadata": {},
   "source": [
    "In der CSV-Datei \"country_codes.csv\" sind Ländernamen inklusive verschiedenen Abkürzungen und Kontinenten enthalten. Mit Hilfe dieser Datei wird eine Liste mit zweistelligen Ländercodes aus Europa erstellt. Später wird der Dataframe ebenfalls genutzt um die vollständigen Namen zu erhalten. "
   ]
  },
  {
   "cell_type": "code",
   "execution_count": 4,
   "metadata": {},
   "outputs": [
    {
     "data": {
      "text/html": [
       "<div>\n",
       "<style scoped>\n",
       "    .dataframe tbody tr th:only-of-type {\n",
       "        vertical-align: middle;\n",
       "    }\n",
       "\n",
       "    .dataframe tbody tr th {\n",
       "        vertical-align: top;\n",
       "    }\n",
       "\n",
       "    .dataframe thead th {\n",
       "        text-align: right;\n",
       "    }\n",
       "</style>\n",
       "<table border=\"1\" class=\"dataframe\">\n",
       "  <thead>\n",
       "    <tr style=\"text-align: right;\">\n",
       "      <th></th>\n",
       "      <th>_id</th>\n",
       "      <th>lon</th>\n",
       "      <th>lat</th>\n",
       "      <th>country</th>\n",
       "      <th>date</th>\n",
       "      <th>burned_area</th>\n",
       "      <th>standard_error</th>\n",
       "      <th>fraction_of_burnable_area</th>\n",
       "      <th>fraction_of_observed_area</th>\n",
       "      <th>number_of_patches</th>\n",
       "      <th>no_data_burned_area</th>\n",
       "      <th>tree_cover_broadleaved_evergreen_burned_area</th>\n",
       "      <th>tree_cover_broadleaved_deciduous_burned_area</th>\n",
       "      <th>tree_cover_needleleaved_evergreen_burned_area</th>\n",
       "      <th>tree_cover_needleleaved_deciduous_burned_area</th>\n",
       "      <th>tree_cover_mixed_leave_burned_area</th>\n",
       "      <th>cropland_burned_area</th>\n",
       "      <th>mosaic_tree_grass_burned_area</th>\n",
       "      <th>other_vegetation_burned_area</th>\n",
       "      <th>flooded_area_burned_area</th>\n",
       "    </tr>\n",
       "  </thead>\n",
       "  <tbody>\n",
       "    <tr>\n",
       "      <th>0</th>\n",
       "      <td>630630b328dd00e55a25462f</td>\n",
       "      <td>-3.625</td>\n",
       "      <td>56.125</td>\n",
       "      <td>GB</td>\n",
       "      <td>2001-01-01</td>\n",
       "      <td>804970.0</td>\n",
       "      <td>545465.0</td>\n",
       "      <td>0.829803</td>\n",
       "      <td>0.959910</td>\n",
       "      <td>3.0</td>\n",
       "      <td>751305.0</td>\n",
       "      <td>0.0</td>\n",
       "      <td>0.0</td>\n",
       "      <td>0.0</td>\n",
       "      <td>0.0</td>\n",
       "      <td>0.0</td>\n",
       "      <td>0.0</td>\n",
       "      <td>0.0</td>\n",
       "      <td>53664.0</td>\n",
       "      <td>0.0</td>\n",
       "    </tr>\n",
       "    <tr>\n",
       "      <th>1</th>\n",
       "      <td>630630b328dd00e55a254630</td>\n",
       "      <td>-3.625</td>\n",
       "      <td>55.875</td>\n",
       "      <td>GB</td>\n",
       "      <td>2001-01-01</td>\n",
       "      <td>2039257.0</td>\n",
       "      <td>707836.0</td>\n",
       "      <td>0.938498</td>\n",
       "      <td>0.977980</td>\n",
       "      <td>1.0</td>\n",
       "      <td>1502610.0</td>\n",
       "      <td>0.0</td>\n",
       "      <td>0.0</td>\n",
       "      <td>0.0</td>\n",
       "      <td>0.0</td>\n",
       "      <td>0.0</td>\n",
       "      <td>375652.0</td>\n",
       "      <td>0.0</td>\n",
       "      <td>160994.0</td>\n",
       "      <td>0.0</td>\n",
       "    </tr>\n",
       "    <tr>\n",
       "      <th>2</th>\n",
       "      <td>630630b328dd00e55a254631</td>\n",
       "      <td>22.875</td>\n",
       "      <td>53.125</td>\n",
       "      <td>PL</td>\n",
       "      <td>2001-01-01</td>\n",
       "      <td>3005221.0</td>\n",
       "      <td>838988.0</td>\n",
       "      <td>0.996411</td>\n",
       "      <td>0.981294</td>\n",
       "      <td>1.0</td>\n",
       "      <td>0.0</td>\n",
       "      <td>0.0</td>\n",
       "      <td>590311.0</td>\n",
       "      <td>0.0</td>\n",
       "      <td>0.0</td>\n",
       "      <td>0.0</td>\n",
       "      <td>0.0</td>\n",
       "      <td>0.0</td>\n",
       "      <td>53664.0</td>\n",
       "      <td>2361245.0</td>\n",
       "    </tr>\n",
       "    <tr>\n",
       "      <th>3</th>\n",
       "      <td>630630b328dd00e55a254632</td>\n",
       "      <td>24.625</td>\n",
       "      <td>51.875</td>\n",
       "      <td>UA</td>\n",
       "      <td>2001-01-01</td>\n",
       "      <td>1609940.0</td>\n",
       "      <td>720975.0</td>\n",
       "      <td>0.974907</td>\n",
       "      <td>0.963874</td>\n",
       "      <td>3.0</td>\n",
       "      <td>965964.0</td>\n",
       "      <td>0.0</td>\n",
       "      <td>429317.0</td>\n",
       "      <td>0.0</td>\n",
       "      <td>0.0</td>\n",
       "      <td>0.0</td>\n",
       "      <td>0.0</td>\n",
       "      <td>0.0</td>\n",
       "      <td>214658.0</td>\n",
       "      <td>0.0</td>\n",
       "    </tr>\n",
       "    <tr>\n",
       "      <th>4</th>\n",
       "      <td>630630b328dd00e55a254633</td>\n",
       "      <td>26.125</td>\n",
       "      <td>51.875</td>\n",
       "      <td>UA</td>\n",
       "      <td>2001-01-01</td>\n",
       "      <td>21948848.0</td>\n",
       "      <td>929124.0</td>\n",
       "      <td>0.991455</td>\n",
       "      <td>0.826491</td>\n",
       "      <td>2.0</td>\n",
       "      <td>1287952.0</td>\n",
       "      <td>0.0</td>\n",
       "      <td>268323.0</td>\n",
       "      <td>0.0</td>\n",
       "      <td>0.0</td>\n",
       "      <td>0.0</td>\n",
       "      <td>697640.0</td>\n",
       "      <td>0.0</td>\n",
       "      <td>1985592.0</td>\n",
       "      <td>17709340.0</td>\n",
       "    </tr>\n",
       "  </tbody>\n",
       "</table>\n",
       "</div>"
      ],
      "text/plain": [
       "                        _id     lon     lat country        date  burned_area  \\\n",
       "0  630630b328dd00e55a25462f  -3.625  56.125      GB  2001-01-01     804970.0   \n",
       "1  630630b328dd00e55a254630  -3.625  55.875      GB  2001-01-01    2039257.0   \n",
       "2  630630b328dd00e55a254631  22.875  53.125      PL  2001-01-01    3005221.0   \n",
       "3  630630b328dd00e55a254632  24.625  51.875      UA  2001-01-01    1609940.0   \n",
       "4  630630b328dd00e55a254633  26.125  51.875      UA  2001-01-01   21948848.0   \n",
       "\n",
       "   standard_error  fraction_of_burnable_area  fraction_of_observed_area  \\\n",
       "0        545465.0                   0.829803                   0.959910   \n",
       "1        707836.0                   0.938498                   0.977980   \n",
       "2        838988.0                   0.996411                   0.981294   \n",
       "3        720975.0                   0.974907                   0.963874   \n",
       "4        929124.0                   0.991455                   0.826491   \n",
       "\n",
       "   number_of_patches  no_data_burned_area  \\\n",
       "0                3.0             751305.0   \n",
       "1                1.0            1502610.0   \n",
       "2                1.0                  0.0   \n",
       "3                3.0             965964.0   \n",
       "4                2.0            1287952.0   \n",
       "\n",
       "   tree_cover_broadleaved_evergreen_burned_area  \\\n",
       "0                                           0.0   \n",
       "1                                           0.0   \n",
       "2                                           0.0   \n",
       "3                                           0.0   \n",
       "4                                           0.0   \n",
       "\n",
       "   tree_cover_broadleaved_deciduous_burned_area  \\\n",
       "0                                           0.0   \n",
       "1                                           0.0   \n",
       "2                                      590311.0   \n",
       "3                                      429317.0   \n",
       "4                                      268323.0   \n",
       "\n",
       "   tree_cover_needleleaved_evergreen_burned_area  \\\n",
       "0                                            0.0   \n",
       "1                                            0.0   \n",
       "2                                            0.0   \n",
       "3                                            0.0   \n",
       "4                                            0.0   \n",
       "\n",
       "   tree_cover_needleleaved_deciduous_burned_area  \\\n",
       "0                                            0.0   \n",
       "1                                            0.0   \n",
       "2                                            0.0   \n",
       "3                                            0.0   \n",
       "4                                            0.0   \n",
       "\n",
       "   tree_cover_mixed_leave_burned_area  cropland_burned_area  \\\n",
       "0                                 0.0                   0.0   \n",
       "1                                 0.0              375652.0   \n",
       "2                                 0.0                   0.0   \n",
       "3                                 0.0                   0.0   \n",
       "4                                 0.0              697640.0   \n",
       "\n",
       "   mosaic_tree_grass_burned_area  other_vegetation_burned_area  \\\n",
       "0                            0.0                       53664.0   \n",
       "1                            0.0                      160994.0   \n",
       "2                            0.0                       53664.0   \n",
       "3                            0.0                      214658.0   \n",
       "4                            0.0                     1985592.0   \n",
       "\n",
       "   flooded_area_burned_area  \n",
       "0                       0.0  \n",
       "1                       0.0  \n",
       "2                 2361245.0  \n",
       "3                       0.0  \n",
       "4                17709340.0  "
      ]
     },
     "execution_count": 4,
     "metadata": {},
     "output_type": "execute_result"
    }
   ],
   "source": [
    "list_europe = list(mycol.find({\"country\":{\"$in\":europe}}))\n",
    "df_eu = pd.DataFrame(list_europe)\n",
    "df_eu.head(5)"
   ]
  },
  {
   "cell_type": "markdown",
   "metadata": {},
   "source": [
    "Mit der Query `\"country\":{\"$in\":europe}}` wird ein Dataframe mit alle Waldbranddaten aus Europa erzeugt. "
   ]
  },
  {
   "cell_type": "code",
   "execution_count": 5,
   "metadata": {},
   "outputs": [],
   "source": [
    "df_eu['year'] = df_eu['date'].str.slice(start=0, stop=4)"
   ]
  },
  {
   "cell_type": "markdown",
   "metadata": {},
   "source": [
    "Zur besseren Visualisierung wird eine Jahr-Spalte ergänzt. "
   ]
  },
  {
   "cell_type": "markdown",
   "metadata": {},
   "source": [
    "## Festlegung der Grafiken "
   ]
  },
  {
   "cell_type": "code",
   "execution_count": 16,
   "metadata": {},
   "outputs": [],
   "source": [
    "# TODO Grafiken beschreiben "
   ]
  },
  {
   "cell_type": "code",
   "execution_count": 6,
   "metadata": {},
   "outputs": [],
   "source": [
    "df_test = df_eu[(df_eu['year'] == '2016') & (df_eu['country'] == 'IT')]"
   ]
  },
  {
   "cell_type": "markdown",
   "metadata": {},
   "source": [
    "### Area Plot: Summe der verbrannten Fläche pro Monat"
   ]
  },
  {
   "cell_type": "code",
   "execution_count": 7,
   "metadata": {},
   "outputs": [],
   "source": [
    "def create_area_plot(df):\n",
    "    df = df.groupby(by= 'date').sum().reset_index()\n",
    "    fig = px.area(df, x=\"date\", y=\"burned_area\")\n",
    "    fig.update_traces(line_color='#FD7207')\n",
    "    fig.update_layout(title = 'Burend Area per Month', plot_bgcolor= \"rgb(250, 250, 250)\",paper_bgcolor=\"rgb(255, 255, 255)\")\n",
    "    return fig"
   ]
  },
  {
   "cell_type": "code",
   "execution_count": 8,
   "metadata": {},
   "outputs": [
    {
     "data": {
      "application/vnd.plotly.v1+json": {
       "config": {
        "plotlyServerURL": "https://plot.ly"
       },
       "data": [
        {
         "hovertemplate": "date=%{x}<br>burned_area=%{y}<extra></extra>",
         "legendgroup": "",
         "line": {
          "color": "#FD7207"
         },
         "marker": {
          "symbol": "circle"
         },
         "mode": "lines",
         "name": "",
         "orientation": "v",
         "showlegend": false,
         "stackgroup": "1",
         "type": "scatter",
         "x": [
          "2016-01-01",
          "2016-05-01",
          "2016-06-01",
          "2016-07-01",
          "2016-08-01",
          "2016-09-01",
          "2016-10-01",
          "2016-11-01"
         ],
         "xaxis": "x",
         "y": [
          375652,
          1019628,
          78672391,
          532514454,
          548667527,
          233333952,
          343239206,
          2092920
         ],
         "yaxis": "y"
        }
       ],
       "layout": {
        "legend": {
         "tracegroupgap": 0
        },
        "margin": {
         "t": 60
        },
        "paper_bgcolor": "rgb(255, 255, 255)",
        "plot_bgcolor": "rgb(250, 250, 250)",
        "template": {
         "data": {
          "bar": [
           {
            "error_x": {
             "color": "#2a3f5f"
            },
            "error_y": {
             "color": "#2a3f5f"
            },
            "marker": {
             "line": {
              "color": "#E5ECF6",
              "width": 0.5
             },
             "pattern": {
              "fillmode": "overlay",
              "size": 10,
              "solidity": 0.2
             }
            },
            "type": "bar"
           }
          ],
          "barpolar": [
           {
            "marker": {
             "line": {
              "color": "#E5ECF6",
              "width": 0.5
             },
             "pattern": {
              "fillmode": "overlay",
              "size": 10,
              "solidity": 0.2
             }
            },
            "type": "barpolar"
           }
          ],
          "carpet": [
           {
            "aaxis": {
             "endlinecolor": "#2a3f5f",
             "gridcolor": "white",
             "linecolor": "white",
             "minorgridcolor": "white",
             "startlinecolor": "#2a3f5f"
            },
            "baxis": {
             "endlinecolor": "#2a3f5f",
             "gridcolor": "white",
             "linecolor": "white",
             "minorgridcolor": "white",
             "startlinecolor": "#2a3f5f"
            },
            "type": "carpet"
           }
          ],
          "choropleth": [
           {
            "colorbar": {
             "outlinewidth": 0,
             "ticks": ""
            },
            "type": "choropleth"
           }
          ],
          "contour": [
           {
            "colorbar": {
             "outlinewidth": 0,
             "ticks": ""
            },
            "colorscale": [
             [
              0,
              "#0d0887"
             ],
             [
              0.1111111111111111,
              "#46039f"
             ],
             [
              0.2222222222222222,
              "#7201a8"
             ],
             [
              0.3333333333333333,
              "#9c179e"
             ],
             [
              0.4444444444444444,
              "#bd3786"
             ],
             [
              0.5555555555555556,
              "#d8576b"
             ],
             [
              0.6666666666666666,
              "#ed7953"
             ],
             [
              0.7777777777777778,
              "#fb9f3a"
             ],
             [
              0.8888888888888888,
              "#fdca26"
             ],
             [
              1,
              "#f0f921"
             ]
            ],
            "type": "contour"
           }
          ],
          "contourcarpet": [
           {
            "colorbar": {
             "outlinewidth": 0,
             "ticks": ""
            },
            "type": "contourcarpet"
           }
          ],
          "heatmap": [
           {
            "colorbar": {
             "outlinewidth": 0,
             "ticks": ""
            },
            "colorscale": [
             [
              0,
              "#0d0887"
             ],
             [
              0.1111111111111111,
              "#46039f"
             ],
             [
              0.2222222222222222,
              "#7201a8"
             ],
             [
              0.3333333333333333,
              "#9c179e"
             ],
             [
              0.4444444444444444,
              "#bd3786"
             ],
             [
              0.5555555555555556,
              "#d8576b"
             ],
             [
              0.6666666666666666,
              "#ed7953"
             ],
             [
              0.7777777777777778,
              "#fb9f3a"
             ],
             [
              0.8888888888888888,
              "#fdca26"
             ],
             [
              1,
              "#f0f921"
             ]
            ],
            "type": "heatmap"
           }
          ],
          "heatmapgl": [
           {
            "colorbar": {
             "outlinewidth": 0,
             "ticks": ""
            },
            "colorscale": [
             [
              0,
              "#0d0887"
             ],
             [
              0.1111111111111111,
              "#46039f"
             ],
             [
              0.2222222222222222,
              "#7201a8"
             ],
             [
              0.3333333333333333,
              "#9c179e"
             ],
             [
              0.4444444444444444,
              "#bd3786"
             ],
             [
              0.5555555555555556,
              "#d8576b"
             ],
             [
              0.6666666666666666,
              "#ed7953"
             ],
             [
              0.7777777777777778,
              "#fb9f3a"
             ],
             [
              0.8888888888888888,
              "#fdca26"
             ],
             [
              1,
              "#f0f921"
             ]
            ],
            "type": "heatmapgl"
           }
          ],
          "histogram": [
           {
            "marker": {
             "pattern": {
              "fillmode": "overlay",
              "size": 10,
              "solidity": 0.2
             }
            },
            "type": "histogram"
           }
          ],
          "histogram2d": [
           {
            "colorbar": {
             "outlinewidth": 0,
             "ticks": ""
            },
            "colorscale": [
             [
              0,
              "#0d0887"
             ],
             [
              0.1111111111111111,
              "#46039f"
             ],
             [
              0.2222222222222222,
              "#7201a8"
             ],
             [
              0.3333333333333333,
              "#9c179e"
             ],
             [
              0.4444444444444444,
              "#bd3786"
             ],
             [
              0.5555555555555556,
              "#d8576b"
             ],
             [
              0.6666666666666666,
              "#ed7953"
             ],
             [
              0.7777777777777778,
              "#fb9f3a"
             ],
             [
              0.8888888888888888,
              "#fdca26"
             ],
             [
              1,
              "#f0f921"
             ]
            ],
            "type": "histogram2d"
           }
          ],
          "histogram2dcontour": [
           {
            "colorbar": {
             "outlinewidth": 0,
             "ticks": ""
            },
            "colorscale": [
             [
              0,
              "#0d0887"
             ],
             [
              0.1111111111111111,
              "#46039f"
             ],
             [
              0.2222222222222222,
              "#7201a8"
             ],
             [
              0.3333333333333333,
              "#9c179e"
             ],
             [
              0.4444444444444444,
              "#bd3786"
             ],
             [
              0.5555555555555556,
              "#d8576b"
             ],
             [
              0.6666666666666666,
              "#ed7953"
             ],
             [
              0.7777777777777778,
              "#fb9f3a"
             ],
             [
              0.8888888888888888,
              "#fdca26"
             ],
             [
              1,
              "#f0f921"
             ]
            ],
            "type": "histogram2dcontour"
           }
          ],
          "mesh3d": [
           {
            "colorbar": {
             "outlinewidth": 0,
             "ticks": ""
            },
            "type": "mesh3d"
           }
          ],
          "parcoords": [
           {
            "line": {
             "colorbar": {
              "outlinewidth": 0,
              "ticks": ""
             }
            },
            "type": "parcoords"
           }
          ],
          "pie": [
           {
            "automargin": true,
            "type": "pie"
           }
          ],
          "scatter": [
           {
            "marker": {
             "colorbar": {
              "outlinewidth": 0,
              "ticks": ""
             }
            },
            "type": "scatter"
           }
          ],
          "scatter3d": [
           {
            "line": {
             "colorbar": {
              "outlinewidth": 0,
              "ticks": ""
             }
            },
            "marker": {
             "colorbar": {
              "outlinewidth": 0,
              "ticks": ""
             }
            },
            "type": "scatter3d"
           }
          ],
          "scattercarpet": [
           {
            "marker": {
             "colorbar": {
              "outlinewidth": 0,
              "ticks": ""
             }
            },
            "type": "scattercarpet"
           }
          ],
          "scattergeo": [
           {
            "marker": {
             "colorbar": {
              "outlinewidth": 0,
              "ticks": ""
             }
            },
            "type": "scattergeo"
           }
          ],
          "scattergl": [
           {
            "marker": {
             "colorbar": {
              "outlinewidth": 0,
              "ticks": ""
             }
            },
            "type": "scattergl"
           }
          ],
          "scattermapbox": [
           {
            "marker": {
             "colorbar": {
              "outlinewidth": 0,
              "ticks": ""
             }
            },
            "type": "scattermapbox"
           }
          ],
          "scatterpolar": [
           {
            "marker": {
             "colorbar": {
              "outlinewidth": 0,
              "ticks": ""
             }
            },
            "type": "scatterpolar"
           }
          ],
          "scatterpolargl": [
           {
            "marker": {
             "colorbar": {
              "outlinewidth": 0,
              "ticks": ""
             }
            },
            "type": "scatterpolargl"
           }
          ],
          "scatterternary": [
           {
            "marker": {
             "colorbar": {
              "outlinewidth": 0,
              "ticks": ""
             }
            },
            "type": "scatterternary"
           }
          ],
          "surface": [
           {
            "colorbar": {
             "outlinewidth": 0,
             "ticks": ""
            },
            "colorscale": [
             [
              0,
              "#0d0887"
             ],
             [
              0.1111111111111111,
              "#46039f"
             ],
             [
              0.2222222222222222,
              "#7201a8"
             ],
             [
              0.3333333333333333,
              "#9c179e"
             ],
             [
              0.4444444444444444,
              "#bd3786"
             ],
             [
              0.5555555555555556,
              "#d8576b"
             ],
             [
              0.6666666666666666,
              "#ed7953"
             ],
             [
              0.7777777777777778,
              "#fb9f3a"
             ],
             [
              0.8888888888888888,
              "#fdca26"
             ],
             [
              1,
              "#f0f921"
             ]
            ],
            "type": "surface"
           }
          ],
          "table": [
           {
            "cells": {
             "fill": {
              "color": "#EBF0F8"
             },
             "line": {
              "color": "white"
             }
            },
            "header": {
             "fill": {
              "color": "#C8D4E3"
             },
             "line": {
              "color": "white"
             }
            },
            "type": "table"
           }
          ]
         },
         "layout": {
          "annotationdefaults": {
           "arrowcolor": "#2a3f5f",
           "arrowhead": 0,
           "arrowwidth": 1
          },
          "autotypenumbers": "strict",
          "coloraxis": {
           "colorbar": {
            "outlinewidth": 0,
            "ticks": ""
           }
          },
          "colorscale": {
           "diverging": [
            [
             0,
             "#8e0152"
            ],
            [
             0.1,
             "#c51b7d"
            ],
            [
             0.2,
             "#de77ae"
            ],
            [
             0.3,
             "#f1b6da"
            ],
            [
             0.4,
             "#fde0ef"
            ],
            [
             0.5,
             "#f7f7f7"
            ],
            [
             0.6,
             "#e6f5d0"
            ],
            [
             0.7,
             "#b8e186"
            ],
            [
             0.8,
             "#7fbc41"
            ],
            [
             0.9,
             "#4d9221"
            ],
            [
             1,
             "#276419"
            ]
           ],
           "sequential": [
            [
             0,
             "#0d0887"
            ],
            [
             0.1111111111111111,
             "#46039f"
            ],
            [
             0.2222222222222222,
             "#7201a8"
            ],
            [
             0.3333333333333333,
             "#9c179e"
            ],
            [
             0.4444444444444444,
             "#bd3786"
            ],
            [
             0.5555555555555556,
             "#d8576b"
            ],
            [
             0.6666666666666666,
             "#ed7953"
            ],
            [
             0.7777777777777778,
             "#fb9f3a"
            ],
            [
             0.8888888888888888,
             "#fdca26"
            ],
            [
             1,
             "#f0f921"
            ]
           ],
           "sequentialminus": [
            [
             0,
             "#0d0887"
            ],
            [
             0.1111111111111111,
             "#46039f"
            ],
            [
             0.2222222222222222,
             "#7201a8"
            ],
            [
             0.3333333333333333,
             "#9c179e"
            ],
            [
             0.4444444444444444,
             "#bd3786"
            ],
            [
             0.5555555555555556,
             "#d8576b"
            ],
            [
             0.6666666666666666,
             "#ed7953"
            ],
            [
             0.7777777777777778,
             "#fb9f3a"
            ],
            [
             0.8888888888888888,
             "#fdca26"
            ],
            [
             1,
             "#f0f921"
            ]
           ]
          },
          "colorway": [
           "#636efa",
           "#EF553B",
           "#00cc96",
           "#ab63fa",
           "#FFA15A",
           "#19d3f3",
           "#FF6692",
           "#B6E880",
           "#FF97FF",
           "#FECB52"
          ],
          "font": {
           "color": "#2a3f5f"
          },
          "geo": {
           "bgcolor": "white",
           "lakecolor": "white",
           "landcolor": "#E5ECF6",
           "showlakes": true,
           "showland": true,
           "subunitcolor": "white"
          },
          "hoverlabel": {
           "align": "left"
          },
          "hovermode": "closest",
          "mapbox": {
           "style": "light"
          },
          "paper_bgcolor": "white",
          "plot_bgcolor": "#E5ECF6",
          "polar": {
           "angularaxis": {
            "gridcolor": "white",
            "linecolor": "white",
            "ticks": ""
           },
           "bgcolor": "#E5ECF6",
           "radialaxis": {
            "gridcolor": "white",
            "linecolor": "white",
            "ticks": ""
           }
          },
          "scene": {
           "xaxis": {
            "backgroundcolor": "#E5ECF6",
            "gridcolor": "white",
            "gridwidth": 2,
            "linecolor": "white",
            "showbackground": true,
            "ticks": "",
            "zerolinecolor": "white"
           },
           "yaxis": {
            "backgroundcolor": "#E5ECF6",
            "gridcolor": "white",
            "gridwidth": 2,
            "linecolor": "white",
            "showbackground": true,
            "ticks": "",
            "zerolinecolor": "white"
           },
           "zaxis": {
            "backgroundcolor": "#E5ECF6",
            "gridcolor": "white",
            "gridwidth": 2,
            "linecolor": "white",
            "showbackground": true,
            "ticks": "",
            "zerolinecolor": "white"
           }
          },
          "shapedefaults": {
           "line": {
            "color": "#2a3f5f"
           }
          },
          "ternary": {
           "aaxis": {
            "gridcolor": "white",
            "linecolor": "white",
            "ticks": ""
           },
           "baxis": {
            "gridcolor": "white",
            "linecolor": "white",
            "ticks": ""
           },
           "bgcolor": "#E5ECF6",
           "caxis": {
            "gridcolor": "white",
            "linecolor": "white",
            "ticks": ""
           }
          },
          "title": {
           "x": 0.05
          },
          "xaxis": {
           "automargin": true,
           "gridcolor": "white",
           "linecolor": "white",
           "ticks": "",
           "title": {
            "standoff": 15
           },
           "zerolinecolor": "white",
           "zerolinewidth": 2
          },
          "yaxis": {
           "automargin": true,
           "gridcolor": "white",
           "linecolor": "white",
           "ticks": "",
           "title": {
            "standoff": 15
           },
           "zerolinecolor": "white",
           "zerolinewidth": 2
          }
         }
        },
        "title": {
         "text": "Burend Area per Month"
        },
        "xaxis": {
         "anchor": "y",
         "domain": [
          0,
          1
         ],
         "title": {
          "text": "date"
         }
        },
        "yaxis": {
         "anchor": "x",
         "domain": [
          0,
          1
         ],
         "title": {
          "text": "burned_area"
         }
        }
       }
      }
     },
     "metadata": {},
     "output_type": "display_data"
    }
   ],
   "source": [
    "fig_1 = create_area_plot(df_test)\n",
    "fig_1.show()"
   ]
  },
  {
   "cell_type": "markdown",
   "metadata": {},
   "source": [
    "### Treemap: Summe der verprannten Fläche pro Vegetationsklasse"
   ]
  },
  {
   "cell_type": "code",
   "execution_count": 9,
   "metadata": {},
   "outputs": [],
   "source": [
    "def create_tree_map(df):\n",
    "    df = df.groupby(by= 'year').sum().reset_index()\n",
    "    df= df.drop(columns= ['burned_area', 'year', 'lon', 'lat', 'standard_error', 'fraction_of_burnable_area', 'fraction_of_observed_area', 'number_of_patches'] )\n",
    "    df = df.transpose().reset_index()\n",
    "    df = df[(df[0] != 0)]\n",
    "    fig = px.treemap(df, \n",
    "        path = [px.Constant('All'), 'index'], \n",
    "        color = 0, \n",
    "        color_continuous_scale='Emrld',\n",
    "        values = 0)\n",
    "    fig.update_layout(title = 'Burend Area per Vegetation Class')\n",
    "    return fig"
   ]
  },
  {
   "cell_type": "code",
   "execution_count": 10,
   "metadata": {},
   "outputs": [
    {
     "data": {
      "application/vnd.plotly.v1+json": {
       "config": {
        "plotlyServerURL": "https://plot.ly"
       },
       "data": [
        {
         "branchvalues": "total",
         "customdata": [
          [
           117954844.99999999
          ],
          [
           1770933
          ],
          [
           101855476
          ],
          [
           1364907037
          ],
          [
           164804129
          ],
          [
           31984116
          ],
          [
           7513045
          ],
          [
           1069641062.292339
          ]
         ],
         "domain": {
          "x": [
           0,
           1
          ],
          "y": [
           0,
           1
          ]
         },
         "hovertemplate": "labels=%{label}<br>0_sum=%{value}<br>parent=%{parent}<br>id=%{id}<br>0=%{color}<extra></extra>",
         "ids": [
          "All/cropland_burned_area",
          "All/flooded_area_burned_area",
          "All/mosaic_tree_grass_burned_area",
          "All/no_data_burned_area",
          "All/other_vegetation_burned_area",
          "All/tree_cover_broadleaved_deciduous_burned_area",
          "All/tree_cover_needleleaved_evergreen_burned_area",
          "All"
         ],
         "labels": [
          "cropland_burned_area",
          "flooded_area_burned_area",
          "mosaic_tree_grass_burned_area",
          "no_data_burned_area",
          "other_vegetation_burned_area",
          "tree_cover_broadleaved_deciduous_burned_area",
          "tree_cover_needleleaved_evergreen_burned_area",
          "All"
         ],
         "marker": {
          "coloraxis": "coloraxis",
          "colors": [
           117954844.99999999,
           1770933,
           101855476,
           1364907037,
           164804129,
           31984116,
           7513045,
           1069641062.292339
          ]
         },
         "name": "",
         "parents": [
          "All",
          "All",
          "All",
          "All",
          "All",
          "All",
          "All",
          ""
         ],
         "type": "treemap",
         "values": [
          117954845,
          1770933,
          101855476,
          1364907037,
          164804129,
          31984116,
          7513045,
          1790789581
         ]
        }
       ],
       "layout": {
        "coloraxis": {
         "colorbar": {
          "title": {
           "text": "0"
          }
         },
         "colorscale": [
          [
           0,
           "rgb(211, 242, 163)"
          ],
          [
           0.16666666666666666,
           "rgb(151, 225, 150)"
          ],
          [
           0.3333333333333333,
           "rgb(108, 192, 139)"
          ],
          [
           0.5,
           "rgb(76, 155, 130)"
          ],
          [
           0.6666666666666666,
           "rgb(33, 122, 121)"
          ],
          [
           0.8333333333333334,
           "rgb(16, 89, 101)"
          ],
          [
           1,
           "rgb(7, 64, 80)"
          ]
         ]
        },
        "legend": {
         "tracegroupgap": 0
        },
        "margin": {
         "t": 60
        },
        "template": {
         "data": {
          "bar": [
           {
            "error_x": {
             "color": "#2a3f5f"
            },
            "error_y": {
             "color": "#2a3f5f"
            },
            "marker": {
             "line": {
              "color": "#E5ECF6",
              "width": 0.5
             },
             "pattern": {
              "fillmode": "overlay",
              "size": 10,
              "solidity": 0.2
             }
            },
            "type": "bar"
           }
          ],
          "barpolar": [
           {
            "marker": {
             "line": {
              "color": "#E5ECF6",
              "width": 0.5
             },
             "pattern": {
              "fillmode": "overlay",
              "size": 10,
              "solidity": 0.2
             }
            },
            "type": "barpolar"
           }
          ],
          "carpet": [
           {
            "aaxis": {
             "endlinecolor": "#2a3f5f",
             "gridcolor": "white",
             "linecolor": "white",
             "minorgridcolor": "white",
             "startlinecolor": "#2a3f5f"
            },
            "baxis": {
             "endlinecolor": "#2a3f5f",
             "gridcolor": "white",
             "linecolor": "white",
             "minorgridcolor": "white",
             "startlinecolor": "#2a3f5f"
            },
            "type": "carpet"
           }
          ],
          "choropleth": [
           {
            "colorbar": {
             "outlinewidth": 0,
             "ticks": ""
            },
            "type": "choropleth"
           }
          ],
          "contour": [
           {
            "colorbar": {
             "outlinewidth": 0,
             "ticks": ""
            },
            "colorscale": [
             [
              0,
              "#0d0887"
             ],
             [
              0.1111111111111111,
              "#46039f"
             ],
             [
              0.2222222222222222,
              "#7201a8"
             ],
             [
              0.3333333333333333,
              "#9c179e"
             ],
             [
              0.4444444444444444,
              "#bd3786"
             ],
             [
              0.5555555555555556,
              "#d8576b"
             ],
             [
              0.6666666666666666,
              "#ed7953"
             ],
             [
              0.7777777777777778,
              "#fb9f3a"
             ],
             [
              0.8888888888888888,
              "#fdca26"
             ],
             [
              1,
              "#f0f921"
             ]
            ],
            "type": "contour"
           }
          ],
          "contourcarpet": [
           {
            "colorbar": {
             "outlinewidth": 0,
             "ticks": ""
            },
            "type": "contourcarpet"
           }
          ],
          "heatmap": [
           {
            "colorbar": {
             "outlinewidth": 0,
             "ticks": ""
            },
            "colorscale": [
             [
              0,
              "#0d0887"
             ],
             [
              0.1111111111111111,
              "#46039f"
             ],
             [
              0.2222222222222222,
              "#7201a8"
             ],
             [
              0.3333333333333333,
              "#9c179e"
             ],
             [
              0.4444444444444444,
              "#bd3786"
             ],
             [
              0.5555555555555556,
              "#d8576b"
             ],
             [
              0.6666666666666666,
              "#ed7953"
             ],
             [
              0.7777777777777778,
              "#fb9f3a"
             ],
             [
              0.8888888888888888,
              "#fdca26"
             ],
             [
              1,
              "#f0f921"
             ]
            ],
            "type": "heatmap"
           }
          ],
          "heatmapgl": [
           {
            "colorbar": {
             "outlinewidth": 0,
             "ticks": ""
            },
            "colorscale": [
             [
              0,
              "#0d0887"
             ],
             [
              0.1111111111111111,
              "#46039f"
             ],
             [
              0.2222222222222222,
              "#7201a8"
             ],
             [
              0.3333333333333333,
              "#9c179e"
             ],
             [
              0.4444444444444444,
              "#bd3786"
             ],
             [
              0.5555555555555556,
              "#d8576b"
             ],
             [
              0.6666666666666666,
              "#ed7953"
             ],
             [
              0.7777777777777778,
              "#fb9f3a"
             ],
             [
              0.8888888888888888,
              "#fdca26"
             ],
             [
              1,
              "#f0f921"
             ]
            ],
            "type": "heatmapgl"
           }
          ],
          "histogram": [
           {
            "marker": {
             "pattern": {
              "fillmode": "overlay",
              "size": 10,
              "solidity": 0.2
             }
            },
            "type": "histogram"
           }
          ],
          "histogram2d": [
           {
            "colorbar": {
             "outlinewidth": 0,
             "ticks": ""
            },
            "colorscale": [
             [
              0,
              "#0d0887"
             ],
             [
              0.1111111111111111,
              "#46039f"
             ],
             [
              0.2222222222222222,
              "#7201a8"
             ],
             [
              0.3333333333333333,
              "#9c179e"
             ],
             [
              0.4444444444444444,
              "#bd3786"
             ],
             [
              0.5555555555555556,
              "#d8576b"
             ],
             [
              0.6666666666666666,
              "#ed7953"
             ],
             [
              0.7777777777777778,
              "#fb9f3a"
             ],
             [
              0.8888888888888888,
              "#fdca26"
             ],
             [
              1,
              "#f0f921"
             ]
            ],
            "type": "histogram2d"
           }
          ],
          "histogram2dcontour": [
           {
            "colorbar": {
             "outlinewidth": 0,
             "ticks": ""
            },
            "colorscale": [
             [
              0,
              "#0d0887"
             ],
             [
              0.1111111111111111,
              "#46039f"
             ],
             [
              0.2222222222222222,
              "#7201a8"
             ],
             [
              0.3333333333333333,
              "#9c179e"
             ],
             [
              0.4444444444444444,
              "#bd3786"
             ],
             [
              0.5555555555555556,
              "#d8576b"
             ],
             [
              0.6666666666666666,
              "#ed7953"
             ],
             [
              0.7777777777777778,
              "#fb9f3a"
             ],
             [
              0.8888888888888888,
              "#fdca26"
             ],
             [
              1,
              "#f0f921"
             ]
            ],
            "type": "histogram2dcontour"
           }
          ],
          "mesh3d": [
           {
            "colorbar": {
             "outlinewidth": 0,
             "ticks": ""
            },
            "type": "mesh3d"
           }
          ],
          "parcoords": [
           {
            "line": {
             "colorbar": {
              "outlinewidth": 0,
              "ticks": ""
             }
            },
            "type": "parcoords"
           }
          ],
          "pie": [
           {
            "automargin": true,
            "type": "pie"
           }
          ],
          "scatter": [
           {
            "marker": {
             "colorbar": {
              "outlinewidth": 0,
              "ticks": ""
             }
            },
            "type": "scatter"
           }
          ],
          "scatter3d": [
           {
            "line": {
             "colorbar": {
              "outlinewidth": 0,
              "ticks": ""
             }
            },
            "marker": {
             "colorbar": {
              "outlinewidth": 0,
              "ticks": ""
             }
            },
            "type": "scatter3d"
           }
          ],
          "scattercarpet": [
           {
            "marker": {
             "colorbar": {
              "outlinewidth": 0,
              "ticks": ""
             }
            },
            "type": "scattercarpet"
           }
          ],
          "scattergeo": [
           {
            "marker": {
             "colorbar": {
              "outlinewidth": 0,
              "ticks": ""
             }
            },
            "type": "scattergeo"
           }
          ],
          "scattergl": [
           {
            "marker": {
             "colorbar": {
              "outlinewidth": 0,
              "ticks": ""
             }
            },
            "type": "scattergl"
           }
          ],
          "scattermapbox": [
           {
            "marker": {
             "colorbar": {
              "outlinewidth": 0,
              "ticks": ""
             }
            },
            "type": "scattermapbox"
           }
          ],
          "scatterpolar": [
           {
            "marker": {
             "colorbar": {
              "outlinewidth": 0,
              "ticks": ""
             }
            },
            "type": "scatterpolar"
           }
          ],
          "scatterpolargl": [
           {
            "marker": {
             "colorbar": {
              "outlinewidth": 0,
              "ticks": ""
             }
            },
            "type": "scatterpolargl"
           }
          ],
          "scatterternary": [
           {
            "marker": {
             "colorbar": {
              "outlinewidth": 0,
              "ticks": ""
             }
            },
            "type": "scatterternary"
           }
          ],
          "surface": [
           {
            "colorbar": {
             "outlinewidth": 0,
             "ticks": ""
            },
            "colorscale": [
             [
              0,
              "#0d0887"
             ],
             [
              0.1111111111111111,
              "#46039f"
             ],
             [
              0.2222222222222222,
              "#7201a8"
             ],
             [
              0.3333333333333333,
              "#9c179e"
             ],
             [
              0.4444444444444444,
              "#bd3786"
             ],
             [
              0.5555555555555556,
              "#d8576b"
             ],
             [
              0.6666666666666666,
              "#ed7953"
             ],
             [
              0.7777777777777778,
              "#fb9f3a"
             ],
             [
              0.8888888888888888,
              "#fdca26"
             ],
             [
              1,
              "#f0f921"
             ]
            ],
            "type": "surface"
           }
          ],
          "table": [
           {
            "cells": {
             "fill": {
              "color": "#EBF0F8"
             },
             "line": {
              "color": "white"
             }
            },
            "header": {
             "fill": {
              "color": "#C8D4E3"
             },
             "line": {
              "color": "white"
             }
            },
            "type": "table"
           }
          ]
         },
         "layout": {
          "annotationdefaults": {
           "arrowcolor": "#2a3f5f",
           "arrowhead": 0,
           "arrowwidth": 1
          },
          "autotypenumbers": "strict",
          "coloraxis": {
           "colorbar": {
            "outlinewidth": 0,
            "ticks": ""
           }
          },
          "colorscale": {
           "diverging": [
            [
             0,
             "#8e0152"
            ],
            [
             0.1,
             "#c51b7d"
            ],
            [
             0.2,
             "#de77ae"
            ],
            [
             0.3,
             "#f1b6da"
            ],
            [
             0.4,
             "#fde0ef"
            ],
            [
             0.5,
             "#f7f7f7"
            ],
            [
             0.6,
             "#e6f5d0"
            ],
            [
             0.7,
             "#b8e186"
            ],
            [
             0.8,
             "#7fbc41"
            ],
            [
             0.9,
             "#4d9221"
            ],
            [
             1,
             "#276419"
            ]
           ],
           "sequential": [
            [
             0,
             "#0d0887"
            ],
            [
             0.1111111111111111,
             "#46039f"
            ],
            [
             0.2222222222222222,
             "#7201a8"
            ],
            [
             0.3333333333333333,
             "#9c179e"
            ],
            [
             0.4444444444444444,
             "#bd3786"
            ],
            [
             0.5555555555555556,
             "#d8576b"
            ],
            [
             0.6666666666666666,
             "#ed7953"
            ],
            [
             0.7777777777777778,
             "#fb9f3a"
            ],
            [
             0.8888888888888888,
             "#fdca26"
            ],
            [
             1,
             "#f0f921"
            ]
           ],
           "sequentialminus": [
            [
             0,
             "#0d0887"
            ],
            [
             0.1111111111111111,
             "#46039f"
            ],
            [
             0.2222222222222222,
             "#7201a8"
            ],
            [
             0.3333333333333333,
             "#9c179e"
            ],
            [
             0.4444444444444444,
             "#bd3786"
            ],
            [
             0.5555555555555556,
             "#d8576b"
            ],
            [
             0.6666666666666666,
             "#ed7953"
            ],
            [
             0.7777777777777778,
             "#fb9f3a"
            ],
            [
             0.8888888888888888,
             "#fdca26"
            ],
            [
             1,
             "#f0f921"
            ]
           ]
          },
          "colorway": [
           "#636efa",
           "#EF553B",
           "#00cc96",
           "#ab63fa",
           "#FFA15A",
           "#19d3f3",
           "#FF6692",
           "#B6E880",
           "#FF97FF",
           "#FECB52"
          ],
          "font": {
           "color": "#2a3f5f"
          },
          "geo": {
           "bgcolor": "white",
           "lakecolor": "white",
           "landcolor": "#E5ECF6",
           "showlakes": true,
           "showland": true,
           "subunitcolor": "white"
          },
          "hoverlabel": {
           "align": "left"
          },
          "hovermode": "closest",
          "mapbox": {
           "style": "light"
          },
          "paper_bgcolor": "white",
          "plot_bgcolor": "#E5ECF6",
          "polar": {
           "angularaxis": {
            "gridcolor": "white",
            "linecolor": "white",
            "ticks": ""
           },
           "bgcolor": "#E5ECF6",
           "radialaxis": {
            "gridcolor": "white",
            "linecolor": "white",
            "ticks": ""
           }
          },
          "scene": {
           "xaxis": {
            "backgroundcolor": "#E5ECF6",
            "gridcolor": "white",
            "gridwidth": 2,
            "linecolor": "white",
            "showbackground": true,
            "ticks": "",
            "zerolinecolor": "white"
           },
           "yaxis": {
            "backgroundcolor": "#E5ECF6",
            "gridcolor": "white",
            "gridwidth": 2,
            "linecolor": "white",
            "showbackground": true,
            "ticks": "",
            "zerolinecolor": "white"
           },
           "zaxis": {
            "backgroundcolor": "#E5ECF6",
            "gridcolor": "white",
            "gridwidth": 2,
            "linecolor": "white",
            "showbackground": true,
            "ticks": "",
            "zerolinecolor": "white"
           }
          },
          "shapedefaults": {
           "line": {
            "color": "#2a3f5f"
           }
          },
          "ternary": {
           "aaxis": {
            "gridcolor": "white",
            "linecolor": "white",
            "ticks": ""
           },
           "baxis": {
            "gridcolor": "white",
            "linecolor": "white",
            "ticks": ""
           },
           "bgcolor": "#E5ECF6",
           "caxis": {
            "gridcolor": "white",
            "linecolor": "white",
            "ticks": ""
           }
          },
          "title": {
           "x": 0.05
          },
          "xaxis": {
           "automargin": true,
           "gridcolor": "white",
           "linecolor": "white",
           "ticks": "",
           "title": {
            "standoff": 15
           },
           "zerolinecolor": "white",
           "zerolinewidth": 2
          },
          "yaxis": {
           "automargin": true,
           "gridcolor": "white",
           "linecolor": "white",
           "ticks": "",
           "title": {
            "standoff": 15
           },
           "zerolinecolor": "white",
           "zerolinewidth": 2
          }
         }
        },
        "title": {
         "text": "Burend Area per Vegetation Class"
        }
       }
      }
     },
     "metadata": {},
     "output_type": "display_data"
    }
   ],
   "source": [
    "fig_2 = create_tree_map(df_test)\n",
    "fig_2.show()"
   ]
  },
  {
   "cell_type": "markdown",
   "metadata": {},
   "source": [
    "### Geo-Scatter-Plot: Lage der verbrannten Fläche "
   ]
  },
  {
   "cell_type": "code",
   "execution_count": 11,
   "metadata": {},
   "outputs": [],
   "source": [
    "def create_scatter_geo(df):\n",
    "    fig = go.Figure(data=go.Scattergeo(\n",
    "         lon=df[\"lon\"], lat= df[\"lat\"], \n",
    "         mode = 'markers',\n",
    "         marker = dict(\n",
    "            size = 6,\n",
    "            reversescale = True,\n",
    "            symbol = 'square',\n",
    "            line = dict(\n",
    "                width=0.5,\n",
    "                color='rgba(102, 102, 102)'\n",
    "            ),\n",
    "            colorscale = 'Hot',\n",
    "            cmin = 0,\n",
    "            color = df['burned_area'],\n",
    "            cmax = df['burned_area'].max(),\n",
    "            colorbar_title=\"Burend Area\"\n",
    "        ))\n",
    "    )\n",
    "    fig.update_layout(\n",
    "        title = 'Burned Area',\n",
    "        geo = dict(\n",
    "            scope='europe',\n",
    "            showland = True,\n",
    "            landcolor = \"rgb(250, 250, 250)\",\n",
    "            subunitcolor = \"rgb(217, 217, 217)\",\n",
    "            countrycolor = \"rgb(217, 217, 217)\",\n",
    "        ),)\n",
    "    return fig"
   ]
  },
  {
   "cell_type": "code",
   "execution_count": 12,
   "metadata": {},
   "outputs": [
    {
     "data": {
      "application/vnd.plotly.v1+json": {
       "config": {
        "plotlyServerURL": "https://plot.ly"
       },
       "data": [
        {
         "lat": [
          45.875,
          37.375,
          37.125,
          41.875,
          41.625,
          41.625,
          41.375,
          41.125,
          40.875,
          40.625,
          40.375,
          40.375,
          39.875,
          39.625,
          39.375,
          38.125,
          38.125,
          37.875,
          37.875,
          37.875,
          37.875,
          37.875,
          37.625,
          37.625,
          37.375,
          37.375,
          37.375,
          37.375,
          37.375,
          37.125,
          37.125,
          37.125,
          41.875,
          41.875,
          41.875,
          41.875,
          41.875,
          41.625,
          41.625,
          41.625,
          41.625,
          41.375,
          41.375,
          41.375,
          41.375,
          41.125,
          41.125,
          41.125,
          41.125,
          41.125,
          40.875,
          40.875,
          40.875,
          40.875,
          40.875,
          40.875,
          40.875,
          40.875,
          40.875,
          40.625,
          40.625,
          40.625,
          40.625,
          40.625,
          40.625,
          40.625,
          40.625,
          40.375,
          40.375,
          40.375,
          40.375,
          40.375,
          40.375,
          40.375,
          40.375,
          40.125,
          40.125,
          40.125,
          40.125,
          40.125,
          39.875,
          39.875,
          39.875,
          39.875,
          39.875,
          39.625,
          39.625,
          39.625,
          39.625,
          39.375,
          39.375,
          39.375,
          39.375,
          39.375,
          39.375,
          39.375,
          39.125,
          39.125,
          39.125,
          38.875,
          38.875,
          38.875,
          38.875,
          38.875,
          38.625,
          38.625,
          38.375,
          38.375,
          38.125,
          38.125,
          38.125,
          37.875,
          37.875,
          37.875,
          37.875,
          37.875,
          37.875,
          37.875,
          37.875,
          37.875,
          37.875,
          37.625,
          37.625,
          37.625,
          37.625,
          37.625,
          37.625,
          37.625,
          37.625,
          37.625,
          37.375,
          37.375,
          37.375,
          37.375,
          37.375,
          37.375,
          37.375,
          37.375,
          37.125,
          37.125,
          37.125,
          37.125,
          45.625,
          44.875,
          44.375,
          42.875,
          42.375,
          42.375,
          42.125,
          42.125,
          42.125,
          41.875,
          41.875,
          41.875,
          41.875,
          41.875,
          41.875,
          41.875,
          41.875,
          41.625,
          41.625,
          41.625,
          41.625,
          41.625,
          41.625,
          41.625,
          41.375,
          41.375,
          41.375,
          41.375,
          41.375,
          41.375,
          41.375,
          41.375,
          41.125,
          41.125,
          41.125,
          41.125,
          41.125,
          41.125,
          41.125,
          41.125,
          40.875,
          40.875,
          40.875,
          40.875,
          40.875,
          40.875,
          40.875,
          40.875,
          40.875,
          40.875,
          40.625,
          40.625,
          40.625,
          40.375,
          40.375,
          40.375,
          40.375,
          40.375,
          40.375,
          40.375,
          40.375,
          40.375,
          40.375,
          40.375,
          40.375,
          40.125,
          40.125,
          40.125,
          40.125,
          40.125,
          40.125,
          40.125,
          40.125,
          39.875,
          39.875,
          39.875,
          39.625,
          39.375,
          39.375,
          39.125,
          39.125,
          39.125,
          38.875,
          38.875,
          38.875,
          38.875,
          38.625,
          38.375,
          38.375,
          38.375,
          38.125,
          38.125,
          38.125,
          37.875,
          37.875,
          37.875,
          37.875,
          37.875,
          37.875,
          37.875,
          37.875,
          37.625,
          37.625,
          37.625,
          37.625,
          37.625,
          37.625,
          37.625,
          37.375,
          37.375,
          37.375,
          37.375,
          37.375,
          37.375,
          37.125,
          44.375,
          42.875,
          42.125,
          42.125,
          41.875,
          41.875,
          41.875,
          41.875,
          41.875,
          41.875,
          41.875,
          41.875,
          41.625,
          41.625,
          41.625,
          41.625,
          41.625,
          41.625,
          41.625,
          41.375,
          41.375,
          41.375,
          41.375,
          41.375,
          41.375,
          41.375,
          41.375,
          41.125,
          41.125,
          41.125,
          41.125,
          41.125,
          41.125,
          41.125,
          40.875,
          40.875,
          40.875,
          40.875,
          40.875,
          40.625,
          40.625,
          40.625,
          40.375,
          40.375,
          40.375,
          40.125,
          40.125,
          40.125,
          40.125,
          40.125,
          39.375,
          39.375,
          39.125,
          37.875,
          37.875,
          37.875,
          37.875,
          37.875,
          37.625,
          37.625,
          37.625,
          37.625,
          37.625,
          37.625,
          37.625,
          37.625,
          37.375,
          37.375,
          37.375,
          37.375,
          41.875,
          41.375,
          41.125,
          41.125,
          41.125,
          40.875,
          40.875,
          40.875,
          40.875,
          40.625,
          40.625,
          40.375,
          39.625,
          39.625,
          37.875,
          37.875,
          37.875,
          37.875,
          37.875,
          37.875,
          37.875,
          37.625,
          37.625,
          37.625,
          37.625,
          37.625,
          37.625,
          37.625,
          37.375,
          37.375,
          37.375,
          37.375,
          37.125,
          44.875,
          41.125,
          39.625,
          37.625,
          37.375
         ],
         "lon": [
          11.375,
          14.875,
          14.625,
          15.375,
          15.375,
          15.875,
          15.875,
          15.875,
          16.375,
          17.875,
          17.875,
          18.125,
          18.375,
          8.875,
          17.125,
          13.875,
          14.125,
          12.625,
          12.875,
          13.625,
          13.875,
          14.125,
          13.625,
          14.125,
          13.375,
          13.625,
          13.875,
          14.375,
          15.125,
          13.875,
          14.125,
          14.625,
          12.375,
          14.625,
          14.875,
          15.125,
          15.375,
          15.125,
          15.375,
          15.625,
          15.875,
          13.625,
          13.875,
          15.625,
          15.875,
          13.875,
          14.125,
          15.625,
          15.875,
          16.125,
          8.375,
          14.125,
          14.375,
          15.625,
          15.875,
          16.125,
          16.375,
          16.625,
          16.875,
          9.125,
          15.625,
          16.125,
          16.375,
          16.625,
          16.875,
          17.875,
          18.125,
          8.875,
          16.625,
          16.875,
          17.375,
          17.625,
          17.875,
          18.125,
          18.375,
          8.875,
          9.125,
          17.875,
          18.125,
          18.375,
          8.625,
          9.125,
          15.875,
          16.375,
          18.375,
          8.625,
          8.875,
          9.125,
          16.125,
          8.375,
          8.625,
          8.875,
          9.125,
          9.625,
          16.875,
          17.125,
          8.625,
          16.875,
          17.125,
          8.875,
          16.375,
          16.625,
          16.875,
          17.125,
          15.875,
          16.625,
          15.875,
          16.375,
          12.625,
          13.875,
          14.125,
          12.625,
          12.875,
          13.125,
          13.625,
          13.875,
          14.125,
          15.125,
          15.375,
          15.625,
          15.875,
          12.625,
          12.875,
          13.125,
          13.375,
          13.625,
          14.125,
          14.375,
          14.625,
          14.875,
          13.375,
          13.625,
          13.875,
          14.125,
          14.375,
          14.625,
          14.875,
          15.125,
          13.875,
          14.375,
          14.625,
          14.875,
          13.875,
          11.875,
          9.125,
          10.875,
          11.375,
          11.625,
          12.375,
          12.625,
          12.875,
          12.125,
          12.375,
          13.625,
          14.625,
          14.875,
          15.125,
          15.375,
          15.625,
          12.625,
          13.875,
          14.875,
          15.125,
          15.375,
          15.625,
          15.875,
          13.375,
          13.625,
          13.875,
          14.125,
          15.125,
          15.375,
          15.625,
          15.875,
          9.125,
          13.875,
          14.125,
          14.375,
          15.125,
          15.625,
          15.875,
          16.125,
          8.375,
          9.125,
          9.375,
          14.625,
          15.625,
          15.875,
          16.125,
          16.375,
          16.625,
          16.875,
          14.625,
          16.625,
          17.375,
          8.625,
          8.875,
          14.875,
          15.125,
          16.375,
          16.625,
          16.875,
          17.375,
          17.625,
          17.875,
          18.125,
          18.375,
          8.625,
          14.875,
          15.125,
          15.375,
          15.875,
          18.125,
          18.375,
          18.625,
          8.875,
          15.875,
          16.375,
          16.125,
          16.875,
          17.125,
          16.125,
          16.875,
          17.125,
          8.875,
          16.125,
          16.375,
          16.625,
          15.875,
          15.875,
          16.125,
          16.375,
          12.625,
          12.875,
          15.625,
          12.625,
          12.875,
          13.125,
          13.375,
          13.625,
          13.875,
          15.375,
          15.625,
          12.625,
          12.875,
          13.125,
          13.375,
          13.625,
          14.375,
          14.625,
          13.375,
          13.625,
          13.875,
          14.125,
          14.375,
          14.625,
          13.875,
          9.125,
          10.875,
          12.625,
          12.875,
          12.125,
          12.375,
          13.625,
          14.625,
          14.875,
          15.125,
          15.375,
          15.625,
          12.625,
          13.625,
          13.875,
          14.875,
          15.125,
          15.375,
          15.625,
          13.375,
          13.625,
          13.875,
          14.125,
          15.125,
          15.375,
          15.625,
          15.875,
          13.875,
          14.125,
          14.375,
          15.125,
          15.375,
          15.625,
          15.875,
          14.625,
          15.875,
          16.125,
          16.375,
          16.625,
          14.625,
          16.375,
          16.625,
          8.625,
          14.875,
          15.125,
          8.625,
          15.125,
          15.375,
          15.625,
          15.875,
          8.875,
          16.875,
          16.125,
          12.625,
          12.875,
          13.125,
          13.375,
          13.625,
          12.625,
          12.875,
          13.375,
          13.625,
          13.875,
          14.125,
          14.375,
          14.625,
          13.375,
          13.875,
          14.375,
          15.125,
          15.375,
          15.125,
          15.375,
          15.625,
          15.875,
          15.875,
          16.125,
          16.375,
          16.625,
          16.375,
          16.625,
          16.875,
          8.625,
          15.875,
          12.625,
          12.875,
          13.125,
          13.375,
          13.625,
          13.875,
          14.125,
          12.625,
          12.875,
          13.125,
          13.375,
          13.625,
          13.875,
          14.125,
          13.375,
          13.625,
          13.875,
          15.125,
          14.125,
          11.625,
          15.875,
          15.875,
          13.875,
          13.375
         ],
         "marker": {
          "cmax": 84736512,
          "cmin": 0,
          "color": [
           375652,
           858634,
           160994,
           160994,
           53664,
           590311,
           643976,
           107329,
           1287952,
           2844227,
           1931928,
           1180622,
           5151808,
           53664,
           53664,
           12611197,
           2790562,
           268323,
           53664,
           3649197,
           19963256,
           5259137,
           5903113,
           590311,
           1824598,
           53664,
           1395281,
           912299,
           53664,
           1663604,
           429317,
           7191065,
           53664,
           53664,
           268323,
           1234287,
           13416167,
           3112550,
           8640011,
           6010442,
           2575904,
           53664,
           3917520,
           1770934,
           15348095,
           268323,
           2253916,
           11323245,
           25705376,
           268323,
           375652,
           965964,
           3971185,
           2253916,
           10786598,
           1180622,
           2575904,
           8264358,
           53664,
           1073293,
           429317,
           214658,
           2844227,
           858634,
           429317,
           1502610,
           214658,
           536646,
           697640,
           214658,
           3917520,
           107329,
           6064107,
           697640,
           4668826,
           50283792,
           8210694,
           429317,
           321988,
           5795784,
           643976,
           2897892,
           4990814,
           5634790,
           1448946,
           1126958,
           858634,
           19050956,
           4185844,
           3380874,
           4615161,
           214658,
           590311,
           268323,
           1878263,
           5795784,
           643976,
           9230322,
           17655676,
           107329,
           429317,
           1878263,
           17977664,
           4132179,
           11537903,
           965964,
           1985592,
           697640,
           1180622,
           107329,
           214658,
           18031328,
           14435795,
           3863856,
           429317,
           429317,
           53664,
           8157029,
           536646,
           53664,
           5205472,
           4668826,
           4990814,
           7459388,
           7566718,
           6708083,
           429317,
           1717269,
           3434538,
           1824598,
           23880776,
           12557532,
           4883484,
           1287952,
           13899149,
           15562753,
           1985592,
           5903113,
           10464610,
           4507832,
           4776155,
           268323,
           5849448,
           2683233,
           3219880,
           214658,
           1824598,
           1448946,
           1073293,
           1878263,
           268323,
           3166215,
           4829820,
           321988,
           697640,
           965964,
           35955328,
           4454167,
           160994,
           751305,
           1126958,
           2629568,
           39443532,
           24793076,
           16045735,
           2522239,
           1663604,
           268323,
           8264358,
           1556275,
           160994,
           1395281,
           4883484,
           1770934,
           107329,
           7566718,
           2897892,
           3971185,
           53664,
           9605975,
           4937149,
           107329,
           2736898,
           8640011,
           2253916,
           3380874,
           2414910,
           15831077,
           20875556,
           160994,
           321988,
           858634,
           643976,
           7888706,
           1878263,
           5312802,
           482982,
           4078514,
           6547089,
           1180622,
           107329,
           2683233,
           697640,
           6278766,
           1395281,
           1341616,
           321988,
           11913556,
           1878263,
           965964,
           3166215,
           7727712,
           858634,
           9069328,
           2951556,
           375652,
           6439760,
           375652,
           5795784,
           8801005,
           1931928,
           1609940,
           6922742,
           2522239,
           5366466,
           107329,
           590311,
           2200251,
           2307580,
           536646,
           697640,
           3810191,
           2897892,
           590311,
           3327209,
           18567976,
           19963256,
           23129472,
           10947592,
           590311,
           1126958,
           697640,
           1878263,
           858634,
           4615161,
           2414910,
           10786598,
           6171436,
           21841520,
           804970,
           9820634,
           7298394,
           3112550,
           751305,
           2039257,
           590311,
           1073293,
           536646,
           53664,
           2146586,
           53664,
           1341616,
           1126958,
           375652,
           214658,
           53664,
           17011700,
           1770934,
           53664,
           268323,
           375652,
           214658,
           3327209,
           16475053,
           5473796,
           2200251,
           912299,
           107329,
           1287952,
           643976,
           4615161,
           160994,
           2844227,
           1341616,
           375652,
           268323,
           1126958,
           375652,
           1609940,
           13684490,
           1287952,
           3166215,
           5688454,
           7137400,
           536646,
           429317,
           1395281,
           1609940,
           3434538,
           1073293,
           53664,
           1341616,
           2092922,
           1931928,
           965964,
           268323,
           3971185,
           536646,
           2575904,
           268323,
           2146586,
           10464610,
           11913556,
           44970992,
           18567976,
           804970,
           3971185,
           1931928,
           2253916,
           4722490,
           4883484,
           1287952,
           965964,
           643976,
           1341616,
           160994,
           107329,
           107329,
           1126958,
           858634,
           804970,
           160994,
           8908334,
           4346838,
           107329,
           965964,
           2146586,
           11108586,
           3005221,
           536646,
           53664,
           3058886,
           8586346,
           23129472,
           35687004,
           7835041,
           12718526,
           536646,
           23129472,
           5742119,
           375652,
           15240765,
           22592824,
           84736512,
           24578418,
           10625604,
           9605975,
           18567976,
           1341616,
           912299,
           1019628,
           268323,
           643976,
           107329,
           53664
          ],
          "colorbar": {
           "title": {
            "text": "Burend Area"
           }
          },
          "colorscale": [
           [
            0,
            "rgb(0,0,0)"
           ],
           [
            0.3333333333333333,
            "rgb(230,0,0)"
           ],
           [
            0.6666666666666666,
            "rgb(255,210,0)"
           ],
           [
            1,
            "rgb(255,255,255)"
           ]
          ],
          "line": {
           "color": "rgba(102, 102, 102)",
           "width": 0.5
          },
          "reversescale": true,
          "size": 6,
          "symbol": "square"
         },
         "mode": "markers",
         "type": "scattergeo"
        }
       ],
       "layout": {
        "geo": {
         "countrycolor": "rgb(217, 217, 217)",
         "landcolor": "rgb(250, 250, 250)",
         "scope": "europe",
         "showland": true,
         "subunitcolor": "rgb(217, 217, 217)"
        },
        "template": {
         "data": {
          "bar": [
           {
            "error_x": {
             "color": "#2a3f5f"
            },
            "error_y": {
             "color": "#2a3f5f"
            },
            "marker": {
             "line": {
              "color": "#E5ECF6",
              "width": 0.5
             },
             "pattern": {
              "fillmode": "overlay",
              "size": 10,
              "solidity": 0.2
             }
            },
            "type": "bar"
           }
          ],
          "barpolar": [
           {
            "marker": {
             "line": {
              "color": "#E5ECF6",
              "width": 0.5
             },
             "pattern": {
              "fillmode": "overlay",
              "size": 10,
              "solidity": 0.2
             }
            },
            "type": "barpolar"
           }
          ],
          "carpet": [
           {
            "aaxis": {
             "endlinecolor": "#2a3f5f",
             "gridcolor": "white",
             "linecolor": "white",
             "minorgridcolor": "white",
             "startlinecolor": "#2a3f5f"
            },
            "baxis": {
             "endlinecolor": "#2a3f5f",
             "gridcolor": "white",
             "linecolor": "white",
             "minorgridcolor": "white",
             "startlinecolor": "#2a3f5f"
            },
            "type": "carpet"
           }
          ],
          "choropleth": [
           {
            "colorbar": {
             "outlinewidth": 0,
             "ticks": ""
            },
            "type": "choropleth"
           }
          ],
          "contour": [
           {
            "colorbar": {
             "outlinewidth": 0,
             "ticks": ""
            },
            "colorscale": [
             [
              0,
              "#0d0887"
             ],
             [
              0.1111111111111111,
              "#46039f"
             ],
             [
              0.2222222222222222,
              "#7201a8"
             ],
             [
              0.3333333333333333,
              "#9c179e"
             ],
             [
              0.4444444444444444,
              "#bd3786"
             ],
             [
              0.5555555555555556,
              "#d8576b"
             ],
             [
              0.6666666666666666,
              "#ed7953"
             ],
             [
              0.7777777777777778,
              "#fb9f3a"
             ],
             [
              0.8888888888888888,
              "#fdca26"
             ],
             [
              1,
              "#f0f921"
             ]
            ],
            "type": "contour"
           }
          ],
          "contourcarpet": [
           {
            "colorbar": {
             "outlinewidth": 0,
             "ticks": ""
            },
            "type": "contourcarpet"
           }
          ],
          "heatmap": [
           {
            "colorbar": {
             "outlinewidth": 0,
             "ticks": ""
            },
            "colorscale": [
             [
              0,
              "#0d0887"
             ],
             [
              0.1111111111111111,
              "#46039f"
             ],
             [
              0.2222222222222222,
              "#7201a8"
             ],
             [
              0.3333333333333333,
              "#9c179e"
             ],
             [
              0.4444444444444444,
              "#bd3786"
             ],
             [
              0.5555555555555556,
              "#d8576b"
             ],
             [
              0.6666666666666666,
              "#ed7953"
             ],
             [
              0.7777777777777778,
              "#fb9f3a"
             ],
             [
              0.8888888888888888,
              "#fdca26"
             ],
             [
              1,
              "#f0f921"
             ]
            ],
            "type": "heatmap"
           }
          ],
          "heatmapgl": [
           {
            "colorbar": {
             "outlinewidth": 0,
             "ticks": ""
            },
            "colorscale": [
             [
              0,
              "#0d0887"
             ],
             [
              0.1111111111111111,
              "#46039f"
             ],
             [
              0.2222222222222222,
              "#7201a8"
             ],
             [
              0.3333333333333333,
              "#9c179e"
             ],
             [
              0.4444444444444444,
              "#bd3786"
             ],
             [
              0.5555555555555556,
              "#d8576b"
             ],
             [
              0.6666666666666666,
              "#ed7953"
             ],
             [
              0.7777777777777778,
              "#fb9f3a"
             ],
             [
              0.8888888888888888,
              "#fdca26"
             ],
             [
              1,
              "#f0f921"
             ]
            ],
            "type": "heatmapgl"
           }
          ],
          "histogram": [
           {
            "marker": {
             "pattern": {
              "fillmode": "overlay",
              "size": 10,
              "solidity": 0.2
             }
            },
            "type": "histogram"
           }
          ],
          "histogram2d": [
           {
            "colorbar": {
             "outlinewidth": 0,
             "ticks": ""
            },
            "colorscale": [
             [
              0,
              "#0d0887"
             ],
             [
              0.1111111111111111,
              "#46039f"
             ],
             [
              0.2222222222222222,
              "#7201a8"
             ],
             [
              0.3333333333333333,
              "#9c179e"
             ],
             [
              0.4444444444444444,
              "#bd3786"
             ],
             [
              0.5555555555555556,
              "#d8576b"
             ],
             [
              0.6666666666666666,
              "#ed7953"
             ],
             [
              0.7777777777777778,
              "#fb9f3a"
             ],
             [
              0.8888888888888888,
              "#fdca26"
             ],
             [
              1,
              "#f0f921"
             ]
            ],
            "type": "histogram2d"
           }
          ],
          "histogram2dcontour": [
           {
            "colorbar": {
             "outlinewidth": 0,
             "ticks": ""
            },
            "colorscale": [
             [
              0,
              "#0d0887"
             ],
             [
              0.1111111111111111,
              "#46039f"
             ],
             [
              0.2222222222222222,
              "#7201a8"
             ],
             [
              0.3333333333333333,
              "#9c179e"
             ],
             [
              0.4444444444444444,
              "#bd3786"
             ],
             [
              0.5555555555555556,
              "#d8576b"
             ],
             [
              0.6666666666666666,
              "#ed7953"
             ],
             [
              0.7777777777777778,
              "#fb9f3a"
             ],
             [
              0.8888888888888888,
              "#fdca26"
             ],
             [
              1,
              "#f0f921"
             ]
            ],
            "type": "histogram2dcontour"
           }
          ],
          "mesh3d": [
           {
            "colorbar": {
             "outlinewidth": 0,
             "ticks": ""
            },
            "type": "mesh3d"
           }
          ],
          "parcoords": [
           {
            "line": {
             "colorbar": {
              "outlinewidth": 0,
              "ticks": ""
             }
            },
            "type": "parcoords"
           }
          ],
          "pie": [
           {
            "automargin": true,
            "type": "pie"
           }
          ],
          "scatter": [
           {
            "marker": {
             "colorbar": {
              "outlinewidth": 0,
              "ticks": ""
             }
            },
            "type": "scatter"
           }
          ],
          "scatter3d": [
           {
            "line": {
             "colorbar": {
              "outlinewidth": 0,
              "ticks": ""
             }
            },
            "marker": {
             "colorbar": {
              "outlinewidth": 0,
              "ticks": ""
             }
            },
            "type": "scatter3d"
           }
          ],
          "scattercarpet": [
           {
            "marker": {
             "colorbar": {
              "outlinewidth": 0,
              "ticks": ""
             }
            },
            "type": "scattercarpet"
           }
          ],
          "scattergeo": [
           {
            "marker": {
             "colorbar": {
              "outlinewidth": 0,
              "ticks": ""
             }
            },
            "type": "scattergeo"
           }
          ],
          "scattergl": [
           {
            "marker": {
             "colorbar": {
              "outlinewidth": 0,
              "ticks": ""
             }
            },
            "type": "scattergl"
           }
          ],
          "scattermapbox": [
           {
            "marker": {
             "colorbar": {
              "outlinewidth": 0,
              "ticks": ""
             }
            },
            "type": "scattermapbox"
           }
          ],
          "scatterpolar": [
           {
            "marker": {
             "colorbar": {
              "outlinewidth": 0,
              "ticks": ""
             }
            },
            "type": "scatterpolar"
           }
          ],
          "scatterpolargl": [
           {
            "marker": {
             "colorbar": {
              "outlinewidth": 0,
              "ticks": ""
             }
            },
            "type": "scatterpolargl"
           }
          ],
          "scatterternary": [
           {
            "marker": {
             "colorbar": {
              "outlinewidth": 0,
              "ticks": ""
             }
            },
            "type": "scatterternary"
           }
          ],
          "surface": [
           {
            "colorbar": {
             "outlinewidth": 0,
             "ticks": ""
            },
            "colorscale": [
             [
              0,
              "#0d0887"
             ],
             [
              0.1111111111111111,
              "#46039f"
             ],
             [
              0.2222222222222222,
              "#7201a8"
             ],
             [
              0.3333333333333333,
              "#9c179e"
             ],
             [
              0.4444444444444444,
              "#bd3786"
             ],
             [
              0.5555555555555556,
              "#d8576b"
             ],
             [
              0.6666666666666666,
              "#ed7953"
             ],
             [
              0.7777777777777778,
              "#fb9f3a"
             ],
             [
              0.8888888888888888,
              "#fdca26"
             ],
             [
              1,
              "#f0f921"
             ]
            ],
            "type": "surface"
           }
          ],
          "table": [
           {
            "cells": {
             "fill": {
              "color": "#EBF0F8"
             },
             "line": {
              "color": "white"
             }
            },
            "header": {
             "fill": {
              "color": "#C8D4E3"
             },
             "line": {
              "color": "white"
             }
            },
            "type": "table"
           }
          ]
         },
         "layout": {
          "annotationdefaults": {
           "arrowcolor": "#2a3f5f",
           "arrowhead": 0,
           "arrowwidth": 1
          },
          "autotypenumbers": "strict",
          "coloraxis": {
           "colorbar": {
            "outlinewidth": 0,
            "ticks": ""
           }
          },
          "colorscale": {
           "diverging": [
            [
             0,
             "#8e0152"
            ],
            [
             0.1,
             "#c51b7d"
            ],
            [
             0.2,
             "#de77ae"
            ],
            [
             0.3,
             "#f1b6da"
            ],
            [
             0.4,
             "#fde0ef"
            ],
            [
             0.5,
             "#f7f7f7"
            ],
            [
             0.6,
             "#e6f5d0"
            ],
            [
             0.7,
             "#b8e186"
            ],
            [
             0.8,
             "#7fbc41"
            ],
            [
             0.9,
             "#4d9221"
            ],
            [
             1,
             "#276419"
            ]
           ],
           "sequential": [
            [
             0,
             "#0d0887"
            ],
            [
             0.1111111111111111,
             "#46039f"
            ],
            [
             0.2222222222222222,
             "#7201a8"
            ],
            [
             0.3333333333333333,
             "#9c179e"
            ],
            [
             0.4444444444444444,
             "#bd3786"
            ],
            [
             0.5555555555555556,
             "#d8576b"
            ],
            [
             0.6666666666666666,
             "#ed7953"
            ],
            [
             0.7777777777777778,
             "#fb9f3a"
            ],
            [
             0.8888888888888888,
             "#fdca26"
            ],
            [
             1,
             "#f0f921"
            ]
           ],
           "sequentialminus": [
            [
             0,
             "#0d0887"
            ],
            [
             0.1111111111111111,
             "#46039f"
            ],
            [
             0.2222222222222222,
             "#7201a8"
            ],
            [
             0.3333333333333333,
             "#9c179e"
            ],
            [
             0.4444444444444444,
             "#bd3786"
            ],
            [
             0.5555555555555556,
             "#d8576b"
            ],
            [
             0.6666666666666666,
             "#ed7953"
            ],
            [
             0.7777777777777778,
             "#fb9f3a"
            ],
            [
             0.8888888888888888,
             "#fdca26"
            ],
            [
             1,
             "#f0f921"
            ]
           ]
          },
          "colorway": [
           "#636efa",
           "#EF553B",
           "#00cc96",
           "#ab63fa",
           "#FFA15A",
           "#19d3f3",
           "#FF6692",
           "#B6E880",
           "#FF97FF",
           "#FECB52"
          ],
          "font": {
           "color": "#2a3f5f"
          },
          "geo": {
           "bgcolor": "white",
           "lakecolor": "white",
           "landcolor": "#E5ECF6",
           "showlakes": true,
           "showland": true,
           "subunitcolor": "white"
          },
          "hoverlabel": {
           "align": "left"
          },
          "hovermode": "closest",
          "mapbox": {
           "style": "light"
          },
          "paper_bgcolor": "white",
          "plot_bgcolor": "#E5ECF6",
          "polar": {
           "angularaxis": {
            "gridcolor": "white",
            "linecolor": "white",
            "ticks": ""
           },
           "bgcolor": "#E5ECF6",
           "radialaxis": {
            "gridcolor": "white",
            "linecolor": "white",
            "ticks": ""
           }
          },
          "scene": {
           "xaxis": {
            "backgroundcolor": "#E5ECF6",
            "gridcolor": "white",
            "gridwidth": 2,
            "linecolor": "white",
            "showbackground": true,
            "ticks": "",
            "zerolinecolor": "white"
           },
           "yaxis": {
            "backgroundcolor": "#E5ECF6",
            "gridcolor": "white",
            "gridwidth": 2,
            "linecolor": "white",
            "showbackground": true,
            "ticks": "",
            "zerolinecolor": "white"
           },
           "zaxis": {
            "backgroundcolor": "#E5ECF6",
            "gridcolor": "white",
            "gridwidth": 2,
            "linecolor": "white",
            "showbackground": true,
            "ticks": "",
            "zerolinecolor": "white"
           }
          },
          "shapedefaults": {
           "line": {
            "color": "#2a3f5f"
           }
          },
          "ternary": {
           "aaxis": {
            "gridcolor": "white",
            "linecolor": "white",
            "ticks": ""
           },
           "baxis": {
            "gridcolor": "white",
            "linecolor": "white",
            "ticks": ""
           },
           "bgcolor": "#E5ECF6",
           "caxis": {
            "gridcolor": "white",
            "linecolor": "white",
            "ticks": ""
           }
          },
          "title": {
           "x": 0.05
          },
          "xaxis": {
           "automargin": true,
           "gridcolor": "white",
           "linecolor": "white",
           "ticks": "",
           "title": {
            "standoff": 15
           },
           "zerolinecolor": "white",
           "zerolinewidth": 2
          },
          "yaxis": {
           "automargin": true,
           "gridcolor": "white",
           "linecolor": "white",
           "ticks": "",
           "title": {
            "standoff": 15
           },
           "zerolinecolor": "white",
           "zerolinewidth": 2
          }
         }
        },
        "title": {
         "text": "Burned Area"
        }
       }
      }
     },
     "metadata": {},
     "output_type": "display_data"
    }
   ],
   "source": [
    "fig_3 = create_scatter_geo(df_test)\n",
    "fig_3.show()"
   ]
  },
  {
   "cell_type": "markdown",
   "metadata": {},
   "source": [
    "## Dashboard"
   ]
  },
  {
   "cell_type": "markdown",
   "metadata": {},
   "source": [
    "Im Dashboard sollen die oben erstellten Grafiken dargestellt werden. Über zwei Drop-Down-Menüs sollen die Grafiken an Länder und Jahreszahlen angepasst werden. Im ersten Schritt müssen für die Menüs die Werte und Labels gerneriert werden. "
   ]
  },
  {
   "cell_type": "code",
   "execution_count": 13,
   "metadata": {},
   "outputs": [],
   "source": [
    "df_labels = df_countries[df_countries['region'] == 'Europe'][['name', 'alpha-2']]\n",
    "df_labels.rename(columns={'name': 'label', 'alpha-2': 'value'}, inplace = True)\n",
    "option_countries= df_labels.to_dict('records')"
   ]
  },
  {
   "cell_type": "markdown",
   "metadata": {},
   "source": [
    "Das Drop-Down-Menü der Länder wird über den oben eingelesen Länder-Dataframe erzeugt, wobei die Labels die vollständigen Länderbezeichnungen sind und die Values, die im Datensatz verwendet Kurzbezeichnungen. "
   ]
  },
  {
   "cell_type": "code",
   "execution_count": 14,
   "metadata": {},
   "outputs": [],
   "source": [
    "unique_dates  = df_eu['year'].unique()\n",
    "option_dates =  list()\n",
    "for data in unique_dates: \n",
    "    date_dict = {'label': data, 'value': data}\n",
    "    option_dates.append(date_dict)"
   ]
  },
  {
   "cell_type": "markdown",
   "metadata": {},
   "source": [
    "*Values* und *Lables* des zweiten Drop-Down-Menüs sind die Jahresbezeichnungen aus dem Datensatz. "
   ]
  },
  {
   "cell_type": "code",
   "execution_count": 15,
   "metadata": {},
   "outputs": [
    {
     "data": {
      "text/html": [
       "\n",
       "        <iframe\n",
       "            width=\"100%\"\n",
       "            height=\"650\"\n",
       "            src=\"http://127.0.0.1:8050/\"\n",
       "            frameborder=\"0\"\n",
       "            allowfullscreen\n",
       "            \n",
       "        ></iframe>\n",
       "        "
      ],
      "text/plain": [
       "<IPython.lib.display.IFrame at 0x14303e3ef88>"
      ]
     },
     "metadata": {},
     "output_type": "display_data"
    }
   ],
   "source": [
    "app = JupyterDash(__name__)\n",
    "app.layout = html.Div([\n",
    "    html.H1(\"Wild Fires Europe\", style = {\n",
    "                    'color': '#3C5C79',\n",
    "                    'font-family': '\"Open Sans\", verdana, arial, sans-serif'\n",
    "                }),\n",
    "    html.Label([\n",
    "        \"Country\",\n",
    "    dcc.Dropdown(id=\"selected_country\",\n",
    "                 options= option_countries,\n",
    "                 multi=False,\n",
    "                 style={'width': \"40%\"}\n",
    "                 )],style = {\n",
    "                    'color': '#3C5C79',\n",
    "                    'font-family': '\"Open Sans\", verdana, arial, sans-serif'\n",
    "                }),\n",
    "    html.Label([ \"Years\",\n",
    "    dcc.Dropdown(id= \"selected_year\",\n",
    "                 options= option_dates,\n",
    "                 multi=False,\n",
    "                 style={'width': \"40%\"}\n",
    "                 ), ], style = {\n",
    "                    'color': '#3C5C79',\n",
    "                    'font-family': '\"Open Sans\", verdana, arial, sans-serif'\n",
    "                }), \n",
    "    html.Div([ \n",
    "            html.Div([\n",
    "                dcc.Graph(id = 'fig_1'),\n",
    "            ], className='three columns'),\n",
    "            html.Div([\n",
    "                dcc.Graph(id = 'fig_2' ),\n",
    "            ], className='three columns'),\n",
    "            html.Div([\n",
    "                dcc.Graph(id = 'fig_3' ),\n",
    "            ], className='three columns'),\n",
    "        ], className = 'row'),\n",
    "    ])\n",
    "\n",
    "\n",
    "@app.callback(\n",
    "    [Output('fig_1' , 'figure'),\n",
    "     Output('fig_2' , 'figure'), \n",
    "     Output('fig_3' , 'figure')],\n",
    "    Input(\"selected_country\", \"value\"), \n",
    "    Input(\"selected_year\", \"value\")\n",
    ")\n",
    "\n",
    "def update_figure(selected_country, selected_year):\n",
    "\n",
    "    if not selected_country:\n",
    "        selected_country = 'IT'\n",
    "        selected_year = '2016'\n",
    "    dff = df_eu.copy()\n",
    "    dff = dff[dff[\"country\"] == selected_country]\n",
    "    dff = dff[dff[\"year\"] == selected_year]\n",
    "\n",
    "    fig_1 = create_scatter_geo(dff)\n",
    "    fig_2 = create_area_plot(dff)\n",
    "    fig_3 = create_tree_map(dff)\n",
    "    return [fig_1, fig_2, fig_3]\n",
    "app.run_server(mode='inline')"
   ]
  },
  {
   "cell_type": "markdown",
   "metadata": {},
   "source": [
    "Verherende Waldbrandjahr von 2010-2020 in Deutschland waren vor allem 2015 und 2018 (Quelle). Filter man nach Deutschland und 2018 ermöglicht das Dashboard einen Überlick über die Situation. Interessant in dem Jahr ist die Aufteilung der Brände nach Vegetationsklassen. Auffällig ist die große Zahl an verbrannter Fläche bei *flooded_area*. Ein Ursache dafür kann der verheerend [Moorbrand in Meppen 2018](https://www.ndr.de/nachrichten/niedersachsen/osnabrueck_emsland/Moorbrand-Landkreis-Emsland-uebt-Kritik-an-Bundeswehr,moorbrand1172.html) gewesen sein, welcher sich im September ereignet hat. Meppen lässt sich als Waldbrandgebiet auf der Karte wiederfinden. Im  Flächendiagram ist ebenfalls im September ein Pike. "
   ]
  }
 ],
 "metadata": {
  "kernelspec": {
   "display_name": "Python 3.7.11 ('base')",
   "language": "python",
   "name": "python3"
  },
  "language_info": {
   "codemirror_mode": {
    "name": "ipython",
    "version": 3
   },
   "file_extension": ".py",
   "mimetype": "text/x-python",
   "name": "python",
   "nbconvert_exporter": "python",
   "pygments_lexer": "ipython3",
   "version": "3.7.11"
  },
  "orig_nbformat": 4,
  "vscode": {
   "interpreter": {
    "hash": "df5c7b8ffaedf80dec2b70b09605990d7e0e1b6bc745b497330e86cbe58a738e"
   }
  }
 },
 "nbformat": 4,
 "nbformat_minor": 2
}
